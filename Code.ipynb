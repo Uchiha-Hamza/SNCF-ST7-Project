{
 "cells": [
  {
   "cell_type": "markdown",
   "metadata": {},
   "source": [
    "\n",
    "# <font color=blue><div align=\"center\">ST7 SNCF : Jalon 1</div></font>\n",
    "\n",
    "## <font color=blue><div align=\"center\">\"<em>Indian Railways</em>\"</div></font>"
   ]
  },
  {
   "cell_type": "markdown",
   "metadata": {},
   "source": [
    "## Modules"
   ]
  },
  {
   "cell_type": "code",
   "execution_count": null,
   "metadata": {},
   "outputs": [],
   "source": [
    "# Modules de base\n",
    "import numpy as np\n",
    "import matplotlib.pyplot as plt\n",
    "import pandas as pd\n",
    "import datetime\n",
    "%matplotlib inline\n",
    "\n",
    "# Module relatif à Gurobi\n",
    "from gurobipy import *\n",
    "\n",
    "# Module csv\n",
    "import csv"
   ]
  },
  {
   "cell_type": "code",
   "execution_count": null,
   "metadata": {},
   "outputs": [],
   "source": [
    "mini_instance=\"mini_instance.xlsx\"\n",
    "instance_simple=\"instance_WPY_simple.xlsx\"\n",
    "instance_realiste=\"instance_WPY_realiste_jalon1.xlsx\"\n",
    "\n",
    "# CHOIX DE L'INTSANCE \n",
    "instance=mini_instance"
   ]
  },
  {
   "cell_type": "markdown",
   "metadata": {},
   "source": [
    "## Traitement de données"
   ]
  },
  {
   "cell_type": "code",
   "execution_count": null,
   "metadata": {},
   "outputs": [],
   "source": [
    "def excel_to_dict(file :str)-> dict[str]:\n",
    "    '''\n",
    "    Takes excel file name in the repo\n",
    "    and returns a dictionary[sheet_name]=Dataframe\n",
    "    '''\n",
    "    # Load the Excel file\n",
    "    xl = pd.ExcelFile(file)\n",
    "    \n",
    "    # Get the names of the sheets\n",
    "    sheet_names = xl.sheet_names\n",
    "    \n",
    "    # Initialize a dictionary to store the data\n",
    "    data_dict = {}\n",
    "    \n",
    "    # Iterate over each sheet\n",
    "    for sheet_name in sheet_names:\n",
    "        # Read the sheet into a pandas DataFrame\n",
    "        data_dict[sheet_name] = pd.read_excel(file, sheet_name=sheet_name)\n",
    "    return data_dict\n",
    "\n",
    "def date_to_creneau(date0: datetime.datetime, hour: pd.DataFrame, date: pd.DataFrame):\n",
    "    '''\n",
    "    Takes hour and date's 1-column dataframes\n",
    "    and returns a dataframe of 1-column of 'créneaux'\n",
    "    starting from date0\n",
    "    '''\n",
    "    # Excel is sometimes stoopid and has inconsistent types\n",
    "    if type(date[0])==str:\n",
    "        datetime_df=pd.to_datetime(date.apply(lambda x: str(x)+' ')+hour.apply(lambda x:str(x)), dayfirst=True)\n",
    "    if type(date[0])==pd._libs.tslibs.timestamps.Timestamp:\n",
    "        datetime_df=pd.to_datetime(date.apply(lambda x: str(x)+' ')+hour.apply(lambda x:str(x)))\n",
    "    return (datetime_df-date0).dt.total_seconds().div(60*15).astype(int)+1\n",
    "\n",
    "def creneau_to_date(date0: datetime.datetime, creneau : int):\n",
    "    return date0+ datetime.timedelta(minutes=(creneau-1)*15)\n",
    "\n",
    "def convToStr(date)-> str:\n",
    "    '''\n",
    "    Takes a date in any form in the instance\n",
    "    and returns a string dd/mm/yyyy\n",
    "    '''\n",
    "    if type(date)==str:\n",
    "        return date\n",
    "    else:\n",
    "        return \"/\".join(str(date.date()).split(\"-\")[::-1])\n",
    "    \n",
    "\n",
    "INSTANCE= excel_to_dict(instance)"
   ]
  },
  {
   "cell_type": "markdown",
   "metadata": {},
   "source": [
    "### Dictionnaires utiles "
   ]
  },
  {
   "cell_type": "markdown",
   "metadata": {},
   "source": [
    "Trains de l'arrivée et trains du départ"
   ]
  },
  {
   "cell_type": "code",
   "execution_count": null,
   "metadata": {},
   "outputs": [],
   "source": [
    "trains_arrivee=[]\n",
    "for index, row in INSTANCE[\"Sillons arrivee\"].iterrows():\n",
    "    id_train = row['n°TRAIN'], convToStr(row[\"JARR\"])\n",
    "    trains_arrivee.append(id_train)\n",
    "\n",
    "trains_depart=[]\n",
    "for index, row in INSTANCE[\"Sillons depart\"].iterrows():\n",
    "    id_train = row['n°TRAIN'], convToStr(row[\"JDEP\"])\n",
    "    trains_depart.append(id_train)"
   ]
  },
  {
   "cell_type": "markdown",
   "metadata": {},
   "source": [
    "Créneaux de l'arrivée et du départ"
   ]
  },
  {
   "cell_type": "code",
   "execution_count": null,
   "metadata": {},
   "outputs": [],
   "source": [
    "# Date de référence est celle du lundi de la première semaine\n",
    "# Ce choix rend facile la traduction des indisponibilités de type (weekday,hh:mm)\n",
    "date0=str(INSTANCE[\"Sillons arrivee\"][\"JARR\"][0])+' 00:00:00'\n",
    "date0=pd.to_datetime(date0, dayfirst=True)\n",
    "date0=date0-datetime.timedelta(days=float(date0.dayofweek))\n",
    "datef=pd.to_datetime(INSTANCE[\"Sillons depart\"][\"JDEP\"].iloc[-1], dayfirst=True)+datetime.timedelta(hours=24)\n",
    "nombre_creneaux=int((datef-date0).total_seconds()/(60*15))\n",
    "\n",
    "# Créneaux du départ et de l'arrivée\n",
    "INSTANCE[\"Sillons arrivee\"][\"creneau\"]=date_to_creneau(date0, INSTANCE[\"Sillons arrivee\"][\"HARR\"], INSTANCE[\"Sillons arrivee\"][\"JARR\"])\n",
    "INSTANCE[\"Sillons depart\"][\"creneau\"]=date_to_creneau(date0, INSTANCE[\"Sillons depart\"][\"HDEP\"], INSTANCE[\"Sillons depart\"][\"JDEP\"])\n",
    "\n",
    "# Dictionnaires des créneaux \n",
    "# { (n°train, jour) : créneau }\n",
    "creneau_arrivee={} \n",
    "for index, row in INSTANCE[\"Sillons arrivee\"].iterrows():\n",
    "    creneau_arrivee[row[\"n°TRAIN\"],convToStr(row[\"JARR\"])]=row[\"creneau\"]\n",
    "\n",
    "creneau_depart={}\n",
    "for index, row in INSTANCE[\"Sillons depart\"].iterrows():\n",
    "    creneau_depart[row[\"n°TRAIN\"],convToStr(row[\"JDEP\"])]=row[\"creneau\"]"
   ]
  },
  {
   "cell_type": "markdown",
   "metadata": {},
   "source": [
    "Correspondances"
   ]
  },
  {
   "cell_type": "code",
   "execution_count": null,
   "metadata": {},
   "outputs": [],
   "source": [
    "def correspondances():\n",
    "    '''\n",
    "    Construit un dictionnaire global\n",
    "    associant chaque train du départ à un set \n",
    "    des trains d'arrivée qui le constituent\n",
    "    et à un train d'arrivée un set de trains \n",
    "    de départs qui lui y sont liés\n",
    "    '''\n",
    "    At={}\n",
    "    Dt={}\n",
    "    for train in trains_depart:\n",
    "        At[train]=set()\n",
    "    for train in trains_arrivee:\n",
    "         Dt[train]=set()\n",
    "    for index, row in INSTANCE[\"Correspondances\"].iterrows():\n",
    "            At[(row[\"n°Train depart\"], convToStr(row[\"Jour depart\"]))].add((row['n°Train arrivee'],convToStr(row['Jour arrivee'])))\n",
    "            Dt[(row[\"n°Train arrivee\"], convToStr(row[\"Jour arrivee\"]))].add((row['n°Train depart'],convToStr(row['Jour depart'])))\n",
    "            \n",
    "    return At,Dt\n",
    "\n",
    "At=correspondances()[0]\n",
    "Dt=correspondances()[1]\n"
   ]
  },
  {
   "cell_type": "markdown",
   "metadata": {},
   "source": [
    "Indisponibilité des machines et des chantiers"
   ]
  },
  {
   "cell_type": "code",
   "execution_count": null,
   "metadata": {},
   "outputs": [],
   "source": [
    "def creneaux_de_periode(indispo_str : str)-> list[int]: \n",
    "    plage_jours=nombre_creneaux//96\n",
    "    creneaux = []\n",
    "    if indispo_str!='0':\n",
    "        periodes = indispo_str.split(';')\n",
    "        for periode in periodes:\n",
    "            jour, plage_horaire = periode.strip('()').split(',')\n",
    "            jour = int(jour)\n",
    "            jours=[jour+7*k for k in range(0,plage_jours//7+1)]\n",
    "            plage_horaire = plage_horaire.strip('()').split('-')\n",
    "            heure_debut, minute_debut = map(int, plage_horaire[0].split(':'))\n",
    "            creneau_debut=minute_debut//15+1\n",
    "            heure_fin, minute_fin = map(int, plage_horaire[1].split(':'))\n",
    "            creneau_fin=minute_fin//15+1\n",
    "\n",
    "\n",
    "            if (heure_debut,minute_debut)>=(heure_fin,minute_fin):\n",
    "                for jour1 in jours:\n",
    "                    for c in range((jour1-1)*96+heure_debut*4+creneau_debut,jour1*96):\n",
    "                        if c<=nombre_creneaux:\n",
    "                            creneaux.append(c)\n",
    "                    for c in range(jour1*96,jour1*96+heure_fin*4+creneau_fin):\n",
    "                        if c<=nombre_creneaux: creneaux.append(c)\n",
    "            else:\n",
    "                for jour1 in jours:\n",
    "                    for c in range((jour1-1)*96+heure_debut*4+creneau_debut,(jour1-1)*96+heure_fin*4+creneau_fin):\n",
    "                        if c<=nombre_creneaux: creneaux.append(c) \n",
    "    return creneaux\n",
    "\n",
    "# data1 = INSTANCE1['Machines']\n",
    "df = INSTANCE['Machines']\n",
    "\n",
    "df['Indisponibilites']=df['Indisponibilites'].astype(str)\n",
    "# Apply the function to each row\n",
    "df['Indisponibilites_TimeSlots'] = df['Indisponibilites'].apply(creneaux_de_periode)\n",
    "\n",
    "DEB_INDIS = df.loc[df['Machine'] == 'DEB', 'Indisponibilites_TimeSlots'].values[0]\n",
    "FOR_INDIS = df.loc[df['Machine'] == 'FOR', 'Indisponibilites_TimeSlots'].values[0]\n",
    "DEG_INDIS = df.loc[df['Machine'] == 'DEG', 'Indisponibilites_TimeSlots'].values[0]"
   ]
  },
  {
   "cell_type": "code",
   "execution_count": null,
   "metadata": {},
   "outputs": [],
   "source": [
    "df=INSTANCE[\"Chantiers\"]\n",
    "df['Indisponibilites']=df['Indisponibilites'].astype(str)\n",
    "df['Indisponibilites_TimeSlots'] = df['Indisponibilites'].apply(creneaux_de_periode)\n",
    "\n",
    "REC_INDIS = df.loc[df['Chantier'] == 'WPY_REC', 'Indisponibilites_TimeSlots'].values[0]\n",
    "OFORM_INDIS = df.loc[df['Chantier'] == 'WPY_FOR', 'Indisponibilites_TimeSlots'].values[0]\n",
    "DEP_INDIS = df.loc[df['Chantier'] == 'WPY_DEP', 'Indisponibilites_TimeSlots'].values[0]\n",
    "\n",
    "NVREC=df.loc[df['Chantier'] == 'WPY_REC', \"Nombre de voies\"].values[0]\n",
    "NVFOR=df.loc[df['Chantier'] == 'WPY_FOR', \"Nombre de voies\"].values[0]\n",
    "NVDEP=df.loc[df['Chantier'] == 'WPY_DEP', \"Nombre de voies\"].values[0]"
   ]
  },
  {
   "cell_type": "code",
   "execution_count": null,
   "metadata": {},
   "outputs": [],
   "source": [
    "epsilon=0.00001\n",
    "M=100000"
   ]
  },
  {
   "cell_type": "markdown",
   "metadata": {},
   "source": [
    "## Modèle mathématique \n",
    "On a modélisé notre problème en partant du fait que les machines ne sont disponibles que pour un seul train et dans un seul créneau. \\\n",
    "De ce fait, on introduit les variables *binaires* suivantes : \\\n",
    "\\\n",
    "    - $(deb_{ic})$ : variable binaire indiquant si la machine de débranchement est utilisée \\\n",
    "    pour le sillion d'arrivée d'identifiant $i$ au créneau $c$ \\\n",
    "    - $(for_{ic})$ : variable binaire indiquant si la machine de formation est utilisée \\\n",
    "    pour le sillion du départ d'identifiant $i$ au créneau $c$ \\\n",
    "    - $(deg_{ic})$ : variable binaire indiquant si la machine de dégarage est utilisée \\\n",
    "    pour le sillion du départ d'identifiant $i$ au créneau $c$\n",
    "\n",
    "Les créneaux ont une durée de $15 min$ correspondant à la durée d'une tâche machine. Les valeurs possibles des créneaux dépendent de l'instance, \\\n",
    "soit alors $c \\in \\{1,2,..., c_{max}\\} $ où $c=1$ correspond au premier créneau du lundi de la première semaine du travail : $[0:00 , 0:15[$ et \\\n",
    "$c_{max}$ le dernier créneau du dernier jour du travail : $[23:45, 0:00[$.\n",
    "\n",
    "On note ainsi : \n",
    "$$A = \\{\\text{Les identifiants des trains d'arrivée}\\}$$\n",
    "$$D = \\{\\text{Les identifiants des trains du départ}\\}$$\n",
    "$$C= \\{1,2,..., c_{max}\\}$$"
   ]
  },
  {
   "cell_type": "code",
   "execution_count": null,
   "metadata": {},
   "outputs": [],
   "source": [
    "# IMPLEMNTATION DES VARIABLES \n",
    "# Implémentation Python\n",
    "m= Model('Modèle')\n",
    "deb = {(i, c) : m.addVar(vtype = GRB.BINARY, name=f'deb_{i}_{c}') for i in trains_arrivee for c in range(1,nombre_creneaux+1)}\n",
    "form = {(i, c) : m.addVar(vtype = GRB.BINARY, name=f'deb_{i}_{c}') for i in trains_depart for c in range(1,nombre_creneaux+1)}\n",
    "deg = {(i, c) : m.addVar(vtype = GRB.BINARY, name=f'deg_{i}_{c}') for i in trains_depart for c in range(1,nombre_creneaux+1)}"
   ]
  },
  {
   "cell_type": "markdown",
   "metadata": {},
   "source": [
    "Pour inclure les informations sur les voies, nous avons défini les variables binaires suivantes:\\\n",
    "\\\n",
    "    - $orec_{ic}$ : variable binaire indiquant si le train d'arrivée $i \\in A$ occupe une voie dans le chantier de débranchement au créneau $c \\in C$.\\\n",
    "    - $ofor_{ic}$ : variable binaire indiquant si le train de départ $i \\in D$ occupe une voie dans le chantier de formation au créneau $c \\in C$.\\\n",
    "    - $odep_{ic}$ : variable binaire indiquant si le train de départ $i \\in D$ occupe une voie dans le chantier de départ au créneau $c \\in C$.\n",
    "Les créneaux de $C$, et les ensembles $A$ et $D$ sont définis comme dans le jalon précédent."
   ]
  },
  {
   "cell_type": "code",
   "execution_count": null,
   "metadata": {},
   "outputs": [],
   "source": [
    "orec = {(i, c) : m.addVar(vtype = GRB.BINARY, name=f'orec_{i}_{c}') for i in trains_arrivee for c in range(1,nombre_creneaux+1)}\n",
    "oform = {(i, c) : m.addVar(vtype = GRB.BINARY, name=f'oform_{i}_{c}') for i in trains_depart for c in range(1,nombre_creneaux+1)}\n",
    "odep = {(i, c) : m.addVar(vtype = GRB.BINARY, name=f'odep_{i}_{c}') for i in trains_depart for c in range(1,nombre_creneaux+1)}"
   ]
  },
  {
   "cell_type": "markdown",
   "metadata": {},
   "source": [
    "## Contraintes\n",
    "### 1. Unique débranchement, formation et dégarage\n",
    "Chaque train d'arrivé subit un seul et unique débranchement, chaque train du départ subit un seul et unique débranchement et dégarage. \n",
    "$$ \\forall i \\in A \\quad \\sum_{c} deb_{i,c} = 1 $$\n",
    "$$ \\forall i \\in D \\quad \\sum_{c} for_{i,c} = 1 $$\n",
    "$$ \\forall i \\in D \\quad \\sum_{c} deg_{i,c} = 1 $$"
   ]
  },
  {
   "cell_type": "code",
   "execution_count": null,
   "metadata": {},
   "outputs": [],
   "source": [
    "uniqueDeb_train = {i : m.addConstr(quicksum([deb[(i, c)] for c in range(1, nombre_creneaux + 1)]) ==1, name = f'UniqueDeb_train{i}') for i in trains_arrivee}\n",
    "uniqueform_train = {i : m.addConstr(quicksum([form[(i, c)] for c in range(1, nombre_creneaux + 1)]) ==1, name = f'UniqueFor_train{i}') for i in trains_depart}\n",
    "uniqueDeg_train = {i : m.addConstr(quicksum([deg[(i, c)] for c in range(1, nombre_creneaux + 1)]) ==1, name = f'UniqueDeg_train{i}') for i in trains_depart}"
   ]
  },
  {
   "cell_type": "markdown",
   "metadata": {},
   "source": [
    "### 2. Une seule tâche machine par créneau  \n",
    "Chaque machine est exploitée par au plus un seul train sur chaque créneau.\n",
    "$$ \\forall c \\in C \\quad \\sum_{i \\in A} deb_{i,c} \\leq 1 $$\n",
    "$$ \\forall c \\in C \\quad \\sum_{i \\in D} for_{i,c} \\leq 1 $$\n",
    "$$ \\forall c \\in C \\quad \\sum_{i \\in D} deg_{i,c} \\leq 1 $$"
   ]
  },
  {
   "cell_type": "code",
   "execution_count": null,
   "metadata": {},
   "outputs": [],
   "source": [
    "uniqueDeb_creneau = {c : m.addConstr(quicksum([deb[(i, c)] for i in trains_arrivee]) <=1, name = f'UniqueDeb_creneau{c}') for c in range(1, nombre_creneaux + 1)}\n",
    "uniqueFor_creneau = {c : m.addConstr(quicksum([form[(i, c)] for i in trains_depart]) <=1, name = f'UniqueFor_creneau{c}') for c in range(1, nombre_creneaux + 1)}\n",
    "uniqueDeg_creneau = {c : m.addConstr(quicksum([deg[(i, c)] for i in trains_depart ]) <=1, name = f'UniqueDeg_creneau{c}') for c in range(1, nombre_creneaux + 1)}"
   ]
  },
  {
   "cell_type": "markdown",
   "metadata": {},
   "source": [
    "### 3. Débranchement se fait après l'arrivée du train\n",
    "Pour chaque train d'arrivée $i$, le débranchement ne peut pas avoir lieu dans les créneaux précedent celui d'arrivée $c^{a}_{i}$ après une heure de tâches humaines.\n",
    "$$ \\forall i \\in A \\quad \\sum_{c \\space \\leq \\space c^{a}_{i}+4} deb_{i,c} = 0$$ "
   ]
  },
  {
   "cell_type": "code",
   "execution_count": null,
   "metadata": {},
   "outputs": [],
   "source": [
    "deb_apres_arrivee = {i : m.addConstr(quicksum([deb[(i, c)] for c in range(1, creneau_arrivee[i] + 5)]) ==0, name = f'deb_apres_arrivee{i}') for i in trains_arrivee}\n"
   ]
  },
  {
   "cell_type": "markdown",
   "metadata": {},
   "source": [
    "### 4. Formation d'un train de départ \n",
    "Pour chaque train du départ $t$, la formation ne peut avoir lieu qu'après débranchement de tous les trains ayant les wagons qui le constituent. \\\n",
    "On note : $$ \\forall t \\in D \\quad A_t = \\{\\text{Les identifiants des trains d'arrivée ayant au moins un wagon du train t}\\}$$\n",
    "On peut exprimer la contrainte comme suit : \n",
    "$$ \\forall t \\in D, \\space\\forall c \\in C, \\space\\forall i \\in A_t \\quad for_{t,c} \\leq \\sum_{c' \\space \\lt \\space c} deb_{i,c'}$$ "
   ]
  },
  {
   "cell_type": "code",
   "execution_count": null,
   "metadata": {},
   "outputs": [],
   "source": [
    "for_apres_deb = {(t,c,i) : m.addConstr(form[(t,c)]<=quicksum([deb[(i, c_p)] for c_p in range(1, c)]), name = f'for_apres_deb{t}{c}{i}') for t in trains_depart for c in range(1,nombre_creneaux+1) for i in At[t]}"
   ]
  },
  {
   "cell_type": "markdown",
   "metadata": {},
   "source": [
    "### 5. Dégarage après formation\n",
    "Pour chaque train du départ, le dégarage ne peut avoir lieu qu'après la formation du train et $150$ minutes soit $10$ créneaux de tâches humaines.\n",
    "$$ \\forall t \\in D, \\space\\forall c \\in C \\quad deg_{t,c} \\leq \\sum_{c' \\space \\lt \\space c-10} for_{t,c'}$$ "
   ]
  },
  {
   "cell_type": "code",
   "execution_count": null,
   "metadata": {},
   "outputs": [],
   "source": [
    "deg_apres_for = {(t,c) : m.addConstr(deg[(t,c)]<=quicksum([form[(t, c_p)] for c_p in range(1, c-9)]), name = f'deg_apres_for{t},{c}') for t in trains_depart for c in range(1,nombre_creneaux+1)}"
   ]
  },
  {
   "cell_type": "markdown",
   "metadata": {},
   "source": [
    "### 6. Dégarage avant départ\n",
    "Pour chaque train du départ $t$, le dégarage ne peut pas avoir lieu dans les créneaux suivants \\\n",
    "celui de $20$ minutes (de tâches humaines) avant le créneau du départ $c^{d}_{t}$.\n",
    "$$ \\forall t \\in D \\quad \\sum_{c \\space \\geq \\space c^{d}_{t}-2} deg_{t,c} = 0$$ "
   ]
  },
  {
   "cell_type": "code",
   "execution_count": null,
   "metadata": {},
   "outputs": [],
   "source": [
    "deg_avant_depart = {t : m.addConstr(quicksum([deg[(t, c)] for c in range(creneau_depart[t]-2, nombre_creneaux+1)])==0, name = f'depart_apres_deg{t}') for t in trains_depart}"
   ]
  },
  {
   "cell_type": "markdown",
   "metadata": {},
   "source": [
    "### 7. Disponibilités des machines\n",
    "Il y a des créneaux où les machines sont indisponible, soient alors  $ \\space C_{deb}, C_{for}, C_{deg} \\space$  ces crénaux d'indisponibilités.\n",
    "$$ \\forall i \\in A \\quad \\sum_{c \\space \\in \\space C_{deb}} deb_{i,c} = 0 $$\n",
    "$$ \\forall i \\in D \\quad \\sum_{c \\space \\in \\space C_{for}} for_{i,c} = 0 $$\n",
    "$$ \\forall i \\in D \\quad \\sum_{c \\space \\in \\space C_{deg}} deg_{i,c} = 0 $$"
   ]
  },
  {
   "cell_type": "code",
   "execution_count": null,
   "metadata": {},
   "outputs": [],
   "source": [
    "indisponibilite_deb = {i : m.addConstr(quicksum([deb[(i, c)] for c in DEB_INDIS]) ==0, name = f'indisponibilité_deb{i}') for i in trains_arrivee }\n",
    "indisponibilite_for = {i : m.addConstr(quicksum([form[(i, c)] for c in FOR_INDIS]) ==0, name = f'indisponibilité_for{i}') for i in trains_depart}\n",
    "indisponibilite_deb = {i : m.addConstr(quicksum([deg[(i, c)] for c in DEG_INDIS]) ==0, name = f'indisponibilité_deg{i}') for i in trains_depart}"
   ]
  },
  {
   "cell_type": "markdown",
   "metadata": {},
   "source": [
    "### Contraintes Jalon 2"
   ]
  },
  {
   "cell_type": "markdown",
   "metadata": {},
   "source": [
    "#### Nombre des voies disponibles\n",
    "Pour chaque créneau $c \\in C$, un chantier ne peut pas accueillir plus de trains que le nombre de voies disponibles: \n",
    "$$ \\forall c \\in C \\quad \\sum_{i \\in A} orec_{i,c} \\leq \\text{NVREC} $$\n",
    "$$ \\forall c \\in C \\quad \\sum_{i \\in D} ofor_{i,c} \\leq \\text{NVFOR} $$\n",
    "$$ \\forall c \\in C \\quad \\sum_{i \\in D} odep_{i,c} \\leq \\text{NVDEP} $$\n",
    "\n",
    "Où NVDEB, NVFOR, NVDEG correspondent aux nombres de voies disponibles pour chaque chantiers REC, FOR,\n",
    "DEP respectivement. \\"
   ]
  },
  {
   "cell_type": "code",
   "execution_count": null,
   "metadata": {},
   "outputs": [],
   "source": [
    "Nb_voies_rec = {c : m.addConstr(quicksum([orec[(i, c)] for i in trains_arrivee]) <= NVREC, name = f'nb_voies_rec{c}') for c in range(1,nombre_creneaux+1) }\n",
    "Nb_voies_for = {c : m.addConstr(quicksum([oform[(i, c)] for i in trains_depart]) <= NVFOR, name = f'nb_voies_form{c}') for c in range(1,nombre_creneaux+1) }\n",
    "Nb_voies_dep = {c : m.addConstr(quicksum([odep[(i, c)] for i in trains_depart]) <= NVDEP, name = f'nb_voies_dep{c}') for c in range(1,nombre_creneaux+1) }"
   ]
  },
  {
   "cell_type": "markdown",
   "metadata": {},
   "source": [
    "Ainsi, il y a des créneaux dans lesquels les chantiers sont indisponibles qu'on note $C_{rec}, C_{for}, C_{dep}$. \n",
    "On interdit alors l'occupation lors de ces créneaux : \n",
    "\n",
    "$$ \\forall i \\in A \\quad \\sum_{c \\space \\in \\space C_{rec}} orec_{i,c} = 0 $$\n",
    "$$ \\forall i \\in D \\quad \\sum_{c \\space \\in \\space C_{for}} ofor_{i,c} = 0 $$\n",
    "$$ \\forall i \\in D \\quad \\sum_{c \\space \\in \\space C_{dep}} odep_{i,c} = 0 $$"
   ]
  },
  {
   "cell_type": "code",
   "execution_count": null,
   "metadata": {},
   "outputs": [],
   "source": [
    "indisponibilite_orec = {i : m.addConstr(quicksum([orec[(i, c)] for c in REC_INDIS]) ==0, name = f'indisponibilité_rec{i}') for i in trains_arrivee }\n",
    "indisponibilite_oform = {i : m.addConstr(quicksum([oform[(i, c)] for c in OFORM_INDIS]) ==0, name = f'indisponibilité_oform{i}') for i in trains_depart}\n",
    "indisponibilite_dep = {i : m.addConstr(quicksum([odep[(i, c)] for c in DEP_INDIS]) ==0, name = f'indisponibilité_dep{i}') for i in trains_depart}"
   ]
  },
  {
   "cell_type": "markdown",
   "metadata": {},
   "source": [
    "#### Occupation du chantier de la réception pour un train d'arrivée\n",
    "Un train d'arrivée $i \\in A$ occupe le chantier de débranchement à partir de son créneau d'arrivée et jusqu'au créneau de son débranchement.\n",
    "$$\n",
    "    \\forall c \\in C, \\forall i \\in A : \n",
    "    (c\\geq c_a^{i}) \\land (\\sum\\limits_{c_1 \\leq c} deb_{i,c_1}=0 ) \\Leftrightarrow orec_{i,c}=1\n",
    "$$\n",
    "Qu'on linéarise comme suit:\n",
    "$$\n",
    "    \\epsilon + M (-1+ orec_{i,c}) \\leq (1- \\sum\\limits_{c_1 \\leq c} deb_{i,c_1}) (c- c_a^{i}) \\leq M . orec_{i,c}\n",
    "$$\n",
    "et \n",
    "$$orec_{i,c^i_{a}}=1$$\n",
    "Où $M$ est un majorant suffisament grand et $\\epsilon$ un minorant assez petit."
   ]
  },
  {
   "cell_type": "code",
   "execution_count": null,
   "metadata": {},
   "outputs": [],
   "source": [
    "occupation_rec_ub = {(i,c) : m.addConstr(epsilon+M*(-1+orec[(i,c)])<=(1-quicksum([deb[(i, c_1)] for c_1 in range(1, c+1)]))*(c-creneau_arrivee[i]), name = f'occupation_rec_ub{i,c}') for i in trains_arrivee for c in range(1,nombre_creneaux+1)}\n",
    "occupation_rec_lb = {(i,c) : m.addConstr((1-quicksum([deb[(i, c_1)] for c_1 in range(1, c+1)]))*(c-creneau_arrivee[i])<=M*orec[(i,c)], name = f'occupation_rec_lb{i,c}') for i in trains_arrivee for c in range(1,nombre_creneaux+1)}\n",
    "occupation_rec_creneau_arrivee={i: m.addConstr(orec[(i,creneau_arrivee[i])]==1,name='occupation_rec_creneau_arrivee{i}') for i in trains_arrivee}\n"
   ]
  },
  {
   "cell_type": "markdown",
   "metadata": {},
   "source": [
    "#### Liens entre chantiers de débranchement et de formation\n",
    "Pour un train d'arrivée $t \\in A$, la machine de débranchement le débranche et renvoie ses wagones vers le chantier de formation dans le même créneau. \n",
    "On définit pour un train d'arrivée $t \\in A$, l'ensemble $D_t$ des trains de départ associés aux wagons de $t$. \n",
    "$$ \\forall t \\in A \\quad D_t = \\{\\text{Les identifiants des trains du départ ayant au moins un wagon du train t}\\}$$\n",
    "Il faut alors garantir: \n",
    "$$\n",
    "    \\forall t \\in A, \\forall c \\in C \\quad deb_{t,c}=1 \\Rightarrow \\prod\\limits_{i \\in D_t} ofor_{i,c} =1\n",
    "$$\n",
    "qu'on linéarise comme suit:\n",
    "$$\n",
    "    \\forall t \\in A, \\forall i \\in D_t, \\forall c \\in C \\quad deb_{t,c} \\leq ofor_{i,c}\n",
    "$$"
   ]
  },
  {
   "cell_type": "code",
   "execution_count": null,
   "metadata": {},
   "outputs": [],
   "source": [
    "lien_rec_for = {(t,c,i) : m.addConstr(deb[(t,c)]<=oform[(i,c)], name = f'lien_rec_for{t}{c}{i}') for t in trains_arrivee for c in range(1,nombre_creneaux+1) for i in Dt[t]}"
   ]
  },
  {
   "cell_type": "markdown",
   "metadata": {},
   "source": [
    "Il faut aussi garantir que pendant le créneau de débranchement, le train d'arrivée $t$ occupe le chantier de la réception: \n",
    "$$\n",
    "    \\forall t \\in A, \\forall c \\in C \\quad deb_{t,c} \\leq orec_{t,c}\n",
    "$$"
   ]
  },
  {
   "cell_type": "code",
   "execution_count": null,
   "metadata": {},
   "outputs": [],
   "source": [
    "occupe_rec_for = {(t,c) : m.addConstr(deb[(t,c)]<=orec[(t,c)], name = f'occupe_rec_for{t}{c}') for t in trains_arrivee for c in range(1,nombre_creneaux+1)}"
   ]
  },
  {
   "cell_type": "markdown",
   "metadata": {},
   "source": [
    "#### Débranchement et Disponibilités des voies\n",
    "Lorsqu'un train d'arrivée est débranché, il occupe immédiatement les voies réservées aux trains du départs qu'il constitue. Il en découle qu'on ne peut pas débrancher un train $t \\in A$ au créneau $c \\in C$ si au créneau $c-1$ les voies supplémentaires \n",
    "nécessaires n'étaient pas disponibles : \n",
    "$$\\text{Card}\\{i \\in D_t \\text{\\space t.q \\space} ofor_{i,c-1}=0\\} > \\text{Card}\\{\\text{voies dispo. à $c-1$}\\} \\Longrightarrow deb_{t,c}=0$$ \n",
    "Notant pour simplicité :\n",
    "$$\\forall t \\in A, \\forall c \\ge 2 \\quad \\text{for\\_libres}_{c-1}=\\text{NVFOR}-\\sum_{u \\in D}ofor_{u,c-1}$$\n",
    "Ce qu'on traduit par la contrainte linéaire suivante :\n",
    "$$ \\forall t \\in A, \\space \\forall c \\geq 2 \\quad \\text{for\\_libres}_{c-1}-\\sum_{i \\in D_t} \\left(1-ofor_{i,c-1}\\right)\n",
    "\\le \\text{M} \\left(1-deb_{t,c}\\right)$$\n",
    "Où on peut prendre M $=$ NVFOR $+1$."
   ]
  },
  {
   "cell_type": "code",
   "execution_count": null,
   "metadata": {},
   "outputs": [],
   "source": [
    "deb_dispos_voies = {(t,c) : m.addConstr(NVFOR-quicksum([oform[(u, c-1)] for u in trains_depart])-quicksum([1-oform[(i, c-1)] for i in Dt[t]])<=M*(1-deb[(t,c)]), name = f'deb_dispos_voies{t,c}') for t in trains_arrivee for c in range(2,nombre_creneaux+1)}\n"
   ]
  },
  {
   "cell_type": "markdown",
   "metadata": {},
   "source": [
    "#### Occupation du chantier de formation\n",
    "Un train du départ $t \\in D$ occupe le chantier de formation dès le débranchement d'un train $i \\in D_t$ et jusqu'à son dégarage. \n",
    "Vu qu'on a déja imposé une occupation d'une voie pour $t$ durant le créneau de déformation de tout train $i \\in D_t$, nous avons pensé à la formulation suivante:\\\n",
    "\n",
    "$$\\forall t \\in D, \\forall c \\in C \\quad ofor_{tc}=1 \\Rightarrow  \\prod\\limits_{c \\leq c_1\\leq c^*}  ofor_{tc_1}=1,$$ \n",
    "t.q $$deg_{tc^*}=1$$\n",
    "\n",
    "Nous avons linéarisé cette contrainte comme suit:\n",
    "$$\\forall c \\in C, \\forall c_1 \\geq c \\quad ofor_{tc}. \\sum \\limits_{c_2 \\geq c_1} deg_{tc_2} \\leq ofor_{tc_1}$$"
   ]
  },
  {
   "cell_type": "code",
   "execution_count": null,
   "metadata": {},
   "outputs": [],
   "source": [
    "occupe_form = {(t,c,c1) : m.addConstr(oform[(t,c)]*quicksum([deg[(t,c2)] for c2 in range(c1,nombre_creneaux+1)])<=oform[(t,c1)], name = f'occupe_form{t,c,c1}') for t in trains_depart for c in range(1,nombre_creneaux+1) for c1 in range(c,nombre_creneaux+1)}\n"
   ]
  },
  {
   "cell_type": "markdown",
   "metadata": {},
   "source": [
    "#### Gestion des voies entre les chantiers formation et départ\n",
    "Déja, comme auparavant, quand on dégare un train de départ $t \\in D$, on lui donne une voie dans le chantier de départ:\n",
    "$$ \\forall t \\in D, \\forall c \\in C \\quad deg_{tc} = 1 \\Rightarrow odep_{tc}=1 $$\n",
    "Qui est linéarisée comme suit:\n",
    "$$ \\forall t \\in D, \\forall c \\in C \\quad deg_{tc} \\leq odep_{tc}$$"
   ]
  },
  {
   "cell_type": "code",
   "execution_count": null,
   "metadata": {},
   "outputs": [],
   "source": [
    "occupe_dep_qd_deg = {(t,c) : m.addConstr(deg[(t,c)]<=odep[(t,c)], name = f'occupe_dep_qd_deg{t}{c}') for t in trains_depart for c in range(1,nombre_creneaux+1)}"
   ]
  },
  {
   "cell_type": "markdown",
   "metadata": {},
   "source": [
    "La deuxième contrainte dans cette section est, pour dégarer un train de départ $t \\in D$ dans un créneau $c$, il faut vérifier qu'il existe une voie disponible dans laquelle on peut le dégarer pendant le créneau $c-1$.\n",
    "Il faut donc:\n",
    "Pour $$\\forall t \\in D, \\forall c \\ge 2 \\quad \\text{deg\\_libres}_{c-1}=\\text{NVDEP}-\\sum_{u \\in D}ofor_{u,c-1}$$\n",
    "Il faut:\n",
    "$$\\text{deg\\_libres}_{c-1}=0 \\Rightarrow deg_{t,c} =0$$\n",
    "Qu'on linéarise par:\n",
    "$$deg_{t,c} \\leq \\text{deg\\_libres}_{c-1}$$"
   ]
  },
  {
   "cell_type": "code",
   "execution_count": null,
   "metadata": {},
   "outputs": [],
   "source": [
    "verif_avant_deg = {(t,c) : m.addConstr(deg[(t,c)]<=NVDEP-quicksum([oform[(u,c-1)] for u in trains_depart]), name = f'verif_avant_deg{t,c}') for t in trains_depart for c in range(2,nombre_creneaux+1)}\n"
   ]
  },
  {
   "cell_type": "markdown",
   "metadata": {},
   "source": [
    "Ainsi, un train du départ occupe le chantier après dégarage et avant le départ : \n",
    "$$\n",
    "    \\forall c \\in C, \\forall i \\in D : \n",
    "    (c\\leq c_d^{i}) \\land (\\sum\\limits_{c_1 \\leq c} deg_{i,c_1}=1 ) \\Leftrightarrow odep_{i,c}=1\n",
    "$$\n",
    "Qu'on linéarise comme suit:\n",
    "$$\n",
    "    \\epsilon + M (-1+ odep_{i,c}) \\leq  (\\sum\\limits_{c_1 \\leq c} deg_{i,c_1}) ( c_d^{i}-c) \\leq M . odep_{i,c}\n",
    "$$\n",
    "et \n",
    "$$odep_{i,c^i_{d}}=1$$"
   ]
  },
  {
   "cell_type": "code",
   "execution_count": null,
   "metadata": {},
   "outputs": [],
   "source": [
    "occupation_dep_ub = {(i,c) : m.addConstr(epsilon+M*(-1+odep[(i,c)])<=(quicksum([deg[(i, c_1)] for c_1 in range(1, c+1)]))*(creneau_depart[i]-c), name = f'occupation_dep_ub{i,c}') for i in trains_depart for c in range(1,nombre_creneaux+1)}\n",
    "occupation_dep_lb = {(i,c) : m.addConstr((quicksum([deg[(i, c_1)] for c_1 in range(1, c+1)]))*(creneau_depart[i]-c)<=M*orec[(i,c)], name = f'occupation_dep_lb{i,c}') for i in trains_depart for c in range(1,nombre_creneaux+1)}\n",
    "occupation_rec_creneau_arrivee={i: m.addConstr(odep[(i,creneau_depart[i])]==1, name=f'occupation_rec_creneau_arrivee{i}') for i in trains_depart}\n"
   ]
  },
  {
   "cell_type": "markdown",
   "metadata": {},
   "source": [
    "## Résolution"
   ]
  },
  {
   "cell_type": "code",
   "execution_count": null,
   "metadata": {},
   "outputs": [],
   "source": [
    "objfunction = quicksum([oform[(t,c)] for t in trains_depart for c in range(1,nombre_creneaux+1)])\n",
    "m.setObjective(objfunction , GRB.MINIMIZE)\n",
    "m.params.outputflag = 0\n",
    "m.update()"
   ]
  },
  {
   "cell_type": "code",
   "execution_count": null,
   "metadata": {},
   "outputs": [],
   "source": [
    "m.optimize()\n",
    "if m.status == GRB.INF_OR_UNBD:\n",
    "    m.setParam(GRB.Param.Presolve, 0)\n",
    "    m.optimize()\n",
    "\n",
    "if m.status == GRB.INFEASIBLE:\n",
    "    print(m.display(), \"\\n\\tN'A PAS DE SOLUTION!!!\")\n",
    "elif m.status == GRB.UNBOUNDED:\n",
    "    print(m.display(), \"\\n\\tEST NON BORNÉ!!!\")"
   ]
  },
  {
   "cell_type": "code",
   "execution_count": null,
   "metadata": {},
   "outputs": [],
   "source": [
    "# outputxlsx = \"output.xlsx\"\n",
    "# output = {'Id tâche': [], 'Type de tâche' : [], 'Jour' : [], 'Heure début' : [], 'Durée' : [], 'Sillon' : []}\n",
    "# for train in trains_arrivee:\n",
    "#     print(train)\n",
    "#     print('--------------------------------------------')\n",
    "#     for c in range(1,nombre_creneaux+1):\n",
    "#         if deb[(train,c)].x==1:\n",
    "#             output['Id tâche'].append(f'DEB_{train[0]}_'+ creneau_to_date(date0, c).strftime('%d/%m/%Y'))\n",
    "#             output['Type de tâche'].append('DEB')\n",
    "#             output['Jour'].append(creneau_to_date(date0, c).strftime('%d/%m/%Y'))\n",
    "#             output['Heure début'].append(creneau_to_date(date0, c).strftime('%H:%M'))\n",
    "#             output['Durée'].append(15)\n",
    "#             output['Sillon'].append(train[0])\n",
    "#             print('deb de {} se fait au créneau :'.format(train))\n",
    "#             print(creneau_to_date(date0,c),' - ',creneau_to_date(date0,c+1))\n",
    "#             print('-------------------------------------------------------')\n",
    "\n",
    "\n",
    "# for train in trains_depart:\n",
    "#     print(train)\n",
    "#     print('--------------------------------------------')\n",
    "#     for c in range(1,nombre_creneaux+1):\n",
    "#         if form[(train,c)].x==1:\n",
    "#             print('For de {} se fait au créneau :'.format(train))\n",
    "#             output['Id tâche'].append(f'FOR_{train[0]}_'+ creneau_to_date(date0, c).strftime('%d/%m/%Y'))\n",
    "#             output['Type de tâche'].append('FOR')\n",
    "#             output['Jour'].append(creneau_to_date(date0, c).strftime('%d/%m/%Y'))\n",
    "#             output['Heure début'].append(creneau_to_date(date0, c).strftime('%H:%M'))\n",
    "#             output['Durée'].append(15)\n",
    "#             output['Sillon'].append(train[0])\n",
    "#             print(creneau_to_date(date0,c),' - ',creneau_to_date(date0,c+1))\n",
    "#             print('-------------------------------------------------------')\n",
    "#         if deg[(train,c)].x==1:\n",
    "#             print('deg de {} se fait au créneau :'.format(train))\n",
    "#             output['Id tâche'].append(f'DEG_{train[0]}_' + creneau_to_date(date0, c).strftime('%d/%m/%Y'))\n",
    "#             output['Type de tâche'].append('DEG')\n",
    "#             output['Jour'].append(creneau_to_date(date0, c).strftime('%d/%m/%Y'))\n",
    "#             output['Heure début'].append(creneau_to_date(date0, c).strftime('%H:%M'))\n",
    "#             output['Durée'].append(15)\n",
    "#             output['Sillon'].append(train[0])\n",
    "#             print(creneau_to_date(date0,c),' - ',creneau_to_date(date0,c+1))\n",
    "#             print('-------------------------------------------------------')\n",
    "\n",
    "# # Piping output into an excel sheet\n",
    "# outputdf=pd.DataFrame(output)\n",
    "# outputdf.to_excel(outputxlsx, index=False)"
   ]
  },
  {
   "cell_type": "code",
   "execution_count": null,
   "metadata": {},
   "outputs": [],
   "source": [
    "print('test')"
   ]
  }
 ],
 "metadata": {
  "kernelspec": {
   "display_name": "base",
   "language": "python",
   "name": "python3"
  },
  "language_info": {
   "codemirror_mode": {
    "name": "ipython",
    "version": 3
   },
   "file_extension": ".py",
   "mimetype": "text/x-python",
   "name": "python",
   "nbconvert_exporter": "python",
   "pygments_lexer": "ipython3",
   "version": "3.11.7"
  }
 },
 "nbformat": 4,
 "nbformat_minor": 2
}
