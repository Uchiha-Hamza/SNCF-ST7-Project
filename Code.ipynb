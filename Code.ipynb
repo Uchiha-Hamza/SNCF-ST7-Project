{
 "cells": [
  {
   "cell_type": "markdown",
   "metadata": {},
   "source": [
    "\n",
    "# <font color=blue><div align=\"center\">ST7 SNCF : Jalon 1</div></font>\n",
    "\n",
    "## <font color=blue><div align=\"center\">\"<em>Indian Railways</em>\"</div></font>"
   ]
  },
  {
   "cell_type": "markdown",
   "metadata": {},
   "source": [
    "## Modules"
   ]
  },
  {
   "cell_type": "code",
   "execution_count": 44,
   "metadata": {},
   "outputs": [],
   "source": [
    "# Modules de base\n",
    "import numpy as np\n",
    "import matplotlib.pyplot as plt\n",
    "import pandas as pd\n",
    "import datetime\n",
    "%matplotlib inline\n",
    "\n",
    "# Module relatif à Gurobi\n",
    "from gurobipy import *\n",
    "\n",
    "# Module csv\n",
    "import csv"
   ]
  },
  {
   "cell_type": "code",
   "execution_count": 45,
   "metadata": {},
   "outputs": [],
   "source": [
    "mini_instance=\"mini_instance.xlsx\"\n",
    "instance_simple=\"instance_WPY_simple.xlsx\"\n",
    "instance_realiste=\"instance_WPY_realiste_jalon1.xlsx\"\n",
    "test=\"mini_instance_test.xlsx\""
   ]
  },
  {
   "cell_type": "markdown",
   "metadata": {},
   "source": [
    "## Traitement de données"
   ]
  },
  {
   "cell_type": "code",
   "execution_count": 46,
   "metadata": {},
   "outputs": [],
   "source": [
    "def excel_to_dict(file :str)-> dict[str]:\n",
    "    '''\n",
    "    Takes excel file name in the repo\n",
    "    and returns a dictionary[sheet_name]=Dataframe\n",
    "    '''\n",
    "    # Load the Excel file\n",
    "    xl = pd.ExcelFile(file)\n",
    "    \n",
    "    # Get the names of the sheets\n",
    "    sheet_names = xl.sheet_names\n",
    "    \n",
    "    # Initialize a dictionary to store the data\n",
    "    data_dict = {}\n",
    "    \n",
    "    # Iterate over each sheet\n",
    "    for sheet_name in sheet_names:\n",
    "        # Read the sheet into a pandas DataFrame\n",
    "        data_dict[sheet_name] = pd.read_excel(file, sheet_name=sheet_name)\n",
    "    return data_dict\n",
    "\n",
    "def date_to_creneau(date0: datetime.datetime, hour: pd.DataFrame, date: pd.DataFrame):\n",
    "    '''\n",
    "    Takes hour and date's 1-column dataframes\n",
    "    and returns a dataframe of 1-column of 'créneaux'\n",
    "    starting from date0\n",
    "    '''\n",
    "    datetime_df=pd.to_datetime(date.apply(lambda x: str(x)+' ')+hour.apply(lambda x:str(x)))\n",
    "    return (datetime_df-date0).dt.total_seconds().div(60*15).astype(int)+1\n",
    "\n",
    "def creneau_to_date(date0: datetime.datetime, creneau : int):\n",
    "    return date0+ datetime.timedelta(minutes=creneau*15)\n",
    "\n",
    "# Instance sur laquelle on travaillera par la suite\n",
    "INSTANCE= excel_to_dict(mini_instance)"
   ]
  },
  {
   "cell_type": "markdown",
   "metadata": {},
   "source": [
    "### Dictionnaires utiles "
   ]
  },
  {
   "cell_type": "markdown",
   "metadata": {},
   "source": [
    "Trains de l'arrivée et du départs"
   ]
  },
  {
   "cell_type": "code",
   "execution_count": 47,
   "metadata": {},
   "outputs": [],
   "source": [
    "trains_arrivee=[]\n",
    "\n",
    "for index, row in INSTANCE[\"Sillons arrivee\"].iterrows():\n",
    "    numero_train = row['n°TRAIN']\n",
    "    trains_arrivee.append(numero_train)\n",
    "\n",
    "trains_depart=[]\n",
    "\n",
    "for index, row in INSTANCE[\"Sillons depart\"].iterrows():\n",
    "    numero_train = row['n°TRAIN']\n",
    "    trains_depart.append(numero_train)\n",
    "\n",
    "nombre_trains=len(trains_arrivee)+len(trains_depart)\n",
    "nombre_trains_arrivee=len(trains_arrivee)\n",
    "nombre_trains_depart=len(trains_arrivee)"
   ]
  },
  {
   "cell_type": "markdown",
   "metadata": {},
   "source": [
    "Correspondance"
   ]
  },
  {
   "cell_type": "code",
   "execution_count": 48,
   "metadata": {},
   "outputs": [],
   "source": [
    "def trains_depart_relatifs_a(train_depart)->list:\n",
    "    '''\n",
    "    Prend l'id d'un train du départ \n",
    "    et retourne une liste des id des trains\n",
    "    d'arrivée qui le constituent\n",
    "    '''\n",
    "    trains_arrivee_associes = []\n",
    "    for index, row in INSTANCE[\"Correspondances\"].iterrows():\n",
    "        if row['n°Train depart']==train_depart:\n",
    "            trains_arrivee_associes.append(row['n°Train arrivee'])\n",
    "        \n",
    "    return trains_arrivee_associes"
   ]
  },
  {
   "cell_type": "markdown",
   "metadata": {},
   "source": [
    "création des créneaux"
   ]
  },
  {
   "cell_type": "code",
   "execution_count": 89,
   "metadata": {},
   "outputs": [],
   "source": [
    "def numero_jour_semaine(date_str):\n",
    "    # Convertir la chaîne de caractères de date en objet datetime en spécifiant le format\n",
    "    date = pd.to_datetime(date_str, format='%d/%m/%Y')\n",
    "    # Obtenir le numéro du jour de la semaine en utilisant la méthode dayofweek, ajouté de 1 pour avoir Lundi=1, Dimanche=7\n",
    "    numero_jour = date.dayofweek\n",
    "    \n",
    "    return numero_jour\n",
    "\n",
    "def HARR_to_creneau_in_h(heure):\n",
    "    heure_str = heure.strftime(\"%H:%M\")\n",
    "    heure,minute= int(heure_str.split(':')[0]), int(heure_str.split(':')[1])\n",
    "    \n",
    "    return heure*4 + minute//15"
   ]
  },
  {
   "cell_type": "code",
   "execution_count": 95,
   "metadata": {},
   "outputs": [
    {
     "name": "stdout",
     "output_type": "stream",
     "text": [
      "Collecting datetime\n",
      "  Downloading DateTime-5.4-py3-none-any.whl.metadata (33 kB)\n",
      "Collecting zope.interface (from datetime)\n",
      "  Downloading zope.interface-6.2-cp310-cp310-win_amd64.whl.metadata (43 kB)\n",
      "     -------------------------------------- 43.1/43.1 kB 420.8 kB/s eta 0:00:00\n",
      "Requirement already satisfied: pytz in c:\\users\\farouk\\appdata\\local\\programs\\python\\python310\\lib\\site-packages (from datetime) (2022.4)\n",
      "Requirement already satisfied: setuptools in c:\\users\\farouk\\appdata\\local\\programs\\python\\python310\\lib\\site-packages (from zope.interface->datetime) (63.2.0)\n",
      "Downloading DateTime-5.4-py3-none-any.whl (52 kB)\n",
      "   ---------------------------------------- 52.5/52.5 kB 299.8 kB/s eta 0:00:00\n",
      "Downloading zope.interface-6.2-cp310-cp310-win_amd64.whl (204 kB)\n",
      "   -------------------------------------- 204.3/204.3 kB 496.4 kB/s eta 0:00:00\n",
      "Installing collected packages: zope.interface, datetime\n",
      "Successfully installed datetime-5.4 zope.interface-6.2\n"
     ]
    }
   ],
   "source": [
    "!pip install datetime"
   ]
  },
  {
   "cell_type": "code",
   "execution_count": 97,
   "metadata": {},
   "outputs": [],
   "source": [
    "from datetime import datetime"
   ]
  },
  {
   "cell_type": "code",
   "execution_count": 98,
   "metadata": {},
   "outputs": [
    {
     "data": {
      "text/plain": [
       "datetime.datetime(2005, 6, 1, 13, 33)"
      ]
     },
     "execution_count": 98,
     "metadata": {},
     "output_type": "execute_result"
    }
   ],
   "source": [
    "datetime.strptime('Jun 1 2005  1:33PM', '%b %d %Y %I:%M%p')"
   ]
  },
  {
   "cell_type": "code",
   "execution_count": 118,
   "metadata": {},
   "outputs": [
    {
     "name": "stdout",
     "output_type": "stream",
     "text": [
      "-1\n"
     ]
    }
   ],
   "source": [
    "a=datetime.strptime('25-02-2002', '%d-%m-%Y').date()\n",
    "b=datetime.strptime('26-02-2002', '%d-%m-%Y').date()\n",
    "print(int((a-b).days))\n"
   ]
  },
  {
   "cell_type": "code",
   "execution_count": 134,
   "metadata": {},
   "outputs": [
    {
     "name": "stdout",
     "output_type": "stream",
     "text": [
      "{'sillon4': 180, 'sillon5': 180, 'sillon6': 182}\n"
     ]
    }
   ],
   "source": [
    "jour0=str(INSTANCE[\"Sillons arrivee\"][\"JARR\"][0])\n",
    "# print(jour0)\n",
    "indice_jour0=numero_jour_semaine(jour0)\n",
    "# print(indice_jour0)\n",
    "\n",
    "def creneaux_arrivee(jour0,INSTANCE):\n",
    "    creneaux_arrivee={}\n",
    "    for index, row in INSTANCE[\"Sillons arrivee\"].iterrows():\n",
    "        delta=(datetime.strptime(row['JARR'],'%d/%m/%Y')-datetime.strptime(jour0,'%d/%m/%Y')).days\n",
    "        creneaux_arrivee[row['n°TRAIN']]=(delta//7)*96+numero_jour_semaine(row['JARR'])*96 + HARR_to_creneau_in_h(row['HARR'])\n",
    "    \n",
    "    return creneaux_arrivee\n",
    "    \n",
    "def creneaux_depart(jour0,INSTANCE):\n",
    "    creneaux_depart={}\n",
    "    for index, row in INSTANCE[\"Sillons depart\"].iterrows():\n",
    "        # ti=datetime.fromtimestamp(row['JDEP']))\n",
    "        # print(row['JDEP'].to_pydatetime())\n",
    "        time_str=row['JDEP'].strftime('%Y-%m-%d')\n",
    "        delta=(datetime.strptime(time_str,'%Y-%m-%d')-datetime.strptime(jour0,'%d/%m/%Y')).days\n",
    "        creneaux_depart[row['n°TRAIN']]=(delta//7)*96*7+numero_jour_semaine(row['JDEP'])*96 + HARR_to_creneau_in_h(row['HDEP'])\n",
    "    return creneaux_depart\n",
    "\n",
    "print(creneaux_depart(jour0,INSTANCE))\n"
   ]
  },
  {
   "cell_type": "markdown",
   "metadata": {},
   "source": [
    "Créneaux de l'arrivée et du départ"
   ]
  },
  {
   "cell_type": "code",
   "execution_count": 49,
   "metadata": {},
   "outputs": [],
   "source": [
    "# Date de référence et date finale \n",
    "date0=str(INSTANCE[\"Sillons arrivee\"][\"JARR\"][0])+' 00:00:00'\n",
    "date0=pd.to_datetime(date0)\n",
    "#datef=pd.to_datetime(INSTANCE[\"Sillons depart\"][\"JDEP\"][nombre_trains_depart-1])+datetime.timedelta(hours=24)\n",
    "datef=datetime.datetime(2023,5,3,0,0,0)\n",
    "nombre_creneaux=96*8\n",
    "\n",
    "\n",
    "# Crenau du départ et d'arrivée\n",
    "INSTANCE[\"Sillons arrivee\"][\"creneau\"]=date_to_creneau(date0, INSTANCE[\"Sillons arrivee\"][\"HARR\"], INSTANCE[\"Sillons arrivee\"][\"JARR\"])\n",
    "INSTANCE[\"Sillons depart\"][\"creneau\"]=date_to_creneau(date0, INSTANCE[\"Sillons depart\"][\"HDEP\"], INSTANCE[\"Sillons depart\"][\"JDEP\"])\n",
    "\n",
    "creneau_arrivee={} \n",
    "for index, row in INSTANCE[\"Sillons arrivee\"].iterrows():\n",
    "    numero_train = row['n°TRAIN']\n",
    "    creneau_arrivee[numero_train]=row[\"creneau\"]\n",
    "\n",
    "creneau_depart={}\n",
    "for index, row in INSTANCE[\"Sillons depart\"].iterrows():\n",
    "    numero_train = row['n°TRAIN']\n",
    "    creneau_depart[numero_train]=row[\"creneau\"]"
   ]
  },
  {
   "cell_type": "code",
   "execution_count": 50,
   "metadata": {},
   "outputs": [
    {
     "name": "stdout",
     "output_type": "stream",
     "text": [
      "{'sillon1': 37, 'sillon2': 53, 'sillon3': 65}\n"
     ]
    }
   ],
   "source": [
    "print(creneau_arrivee)"
   ]
  },
  {
   "cell_type": "code",
   "execution_count": 72,
   "metadata": {},
   "outputs": [
    {
     "name": "stdout",
     "output_type": "stream",
     "text": [
      "{'sillon4': 8341, 'sillon5': 8341, 'sillon6': 8343}\n"
     ]
    }
   ],
   "source": [
    "print(creneau_depart)"
   ]
  },
  {
   "cell_type": "code",
   "execution_count": 135,
   "metadata": {},
   "outputs": [],
   "source": [
    "creneau_arrivee=creneaux_arrivee(jour0,INSTANCE)\n",
    "creneau_depart=creneaux_depart(jour0,INSTANCE)\n",
    "nombre_creneaux=96*8"
   ]
  },
  {
   "cell_type": "markdown",
   "metadata": {},
   "source": [
    "## Modèle mathématique \n",
    "On a modélisé notre problème en partant du fait que les machines ne sont disponibles que pour un seul train et dans un seul créneau. \\\n",
    "De ce fait, on introduit les variables *binaires* suivantes : \\\n",
    "\\\n",
    "    - $(deb_{ijc})$ : variable binaire indiquant si la machine de débranchement est utilisée \\\n",
    "    pour le sillion d'arrivée d'identifiant $i$ dans le jour $j$ au créneau $c$ \\\n",
    "    - $(for_{ijc})$ : variable binaire indiquant si la machine de formation est utilisée \\\n",
    "    pour le sillion du départ d'identifiant $i$ dans le jour $j$ au créneau $c$ \\\n",
    "    - $(deg_{ijc})$ : variable binaire indiquant si la machine de dégarage est utilisée \\\n",
    "    pour le sillion du départ d'identifiant $i$ dans le jour $j$ au créneau $c$\n",
    "\n",
    "Les créneaux ont une durée de $15 min$ correspondant à la durée d'une tâche machine. Les valeurs possibles des créneaux dépendent de l'instance, \\\n",
    "soit alors $c \\in \\{1,2,..., c_{max}\\} $ où $c=1$ correspond au premier créneau de 15 min à parfir du premier jour de travail à $0:00$ et \\\n",
    "$c_{max}$ le dernier créneau du dernier jours de travail à partir de $23:45$.\n",
    "\n",
    "On note ainsi : \n",
    "$$A = \\{\\text{Les identifiants des trains d'arrivée}\\}$$\n",
    "$$D = \\{\\text{Les identifiants des trains du départ}\\}$$\n",
    "$$C= \\{1,2,..., c_{max}\\}$$"
   ]
  },
  {
   "cell_type": "code",
   "execution_count": 136,
   "metadata": {},
   "outputs": [],
   "source": [
    "# IMPLEMNTATION DES VARIABLES \n",
    "# Implémentation Python\n",
    "m= Model('Modèle')\n",
    "deb = {(i, c) : m.addVar(vtype = GRB.BINARY, name=f'deb_{i}_{c}') for i in trains_arrivee for c in range(1,nombre_creneaux+1)}\n",
    "form = {(i, c) : m.addVar(vtype = GRB.BINARY, name=f'deb_{i}_{c}') for i in trains_depart for c in range(1,nombre_creneaux+1)}\n",
    "deg = {(i, c) : m.addVar(vtype = GRB.BINARY, name=f'deg_{i}_{c}') for i in trains_depart for c in range(1,nombre_creneaux+1)}"
   ]
  },
  {
   "cell_type": "markdown",
   "metadata": {},
   "source": [
    "## Contraintes\n",
    "### 1. Unique débranchement, formation et dégarage\n",
    "Chaque train d'arrivé subit un seul et unique débranchement, chaque train du départ subit un seul et unique débranchement et dégarage. \n",
    "$$ \\forall i \\in A \\quad \\sum_{c} deb_{i,c} = 1 $$\n",
    "$$ \\forall i \\in D \\quad \\sum_{c} for_{i,c} = 1 $$\n",
    "$$ \\forall i \\in D \\quad \\sum_{c} deg_{i,c} = 1 $$"
   ]
  },
  {
   "cell_type": "code",
   "execution_count": 137,
   "metadata": {},
   "outputs": [],
   "source": [
    "uniqueDeb_train = {i : m.addConstr(quicksum([deb[(i, c)] for c in range(1, nombre_creneaux + 1)]) ==1, name = f'UniqueDeb_train{i}') for i in trains_arrivee}\n",
    "uniqueform_train = {i : m.addConstr(quicksum([form[(i, c)] for c in range(1, nombre_creneaux + 1)]) ==1, name = f'UniqueFor_train{i}') for i in trains_depart}\n",
    "uniqueDeg_train = {i : m.addConstr(quicksum([deg[(i, c)] for c in range(1, nombre_creneaux + 1)]) ==1, name = f'UniqueDeg_train{i}') for i in trains_depart}"
   ]
  },
  {
   "cell_type": "markdown",
   "metadata": {},
   "source": [
    "### 2. Une seule tâche machine par créneau  \n",
    "Chaque machine est exploitée par au plus un seul train sur chaque créneau.\n",
    "$$ \\forall c \\in C \\quad \\sum_{i \\in A} deb_{i,c} \\leq 1 $$\n",
    "$$ \\forall c \\in C \\quad \\sum_{i \\in D} for_{i,c} \\leq 1 $$\n",
    "$$ \\forall c \\in C \\quad \\sum_{i \\in D} deg_{i,c} \\leq 1 $$"
   ]
  },
  {
   "cell_type": "code",
   "execution_count": 138,
   "metadata": {},
   "outputs": [],
   "source": [
    "uniqueDeb_creneau = {c : m.addConstr(quicksum([deb[(i, c)] for i in trains_arrivee]) <=1, name = f'UniqueDeb_creneau{c}') for c in range(1, nombre_creneaux + 1)}\n",
    "uniqueFor_creneau = {c : m.addConstr(quicksum([form[(i, c)] for i in trains_depart]) <=1, name = f'UniqueFor_creneau{c}') for c in range(1, nombre_creneaux + 1)}\n",
    "uniqueDeg_creneau = {c : m.addConstr(quicksum([deg[(i, c)] for i in trains_depart ]) <=1, name = f'UniqueDeg_creneau{c}') for c in range(1, nombre_creneaux + 1)}\n"
   ]
  },
  {
   "cell_type": "markdown",
   "metadata": {},
   "source": [
    "### 3. Débranchement se fait après l'arrivée du train\n",
    "Pour chaque train d'arrivée $i$, le débranchement ne peut pas avoir lieu dans les créneaux précedent celui d'arrivée $c^{a}_{i}$ après une heure de tâches humaines.\n",
    "$$ \\forall i \\in A \\quad \\sum_{c \\space \\leq \\space c^{a}_{i}+4} deb_{i,c} = 0$$ "
   ]
  },
  {
   "cell_type": "code",
   "execution_count": 139,
   "metadata": {},
   "outputs": [],
   "source": [
    "deb_apres_arrivee = {i : m.addConstr(quicksum([deb[(i, c)] for c in range(1, creneau_arrivee[i] + 5)]) ==0, name = f'deb_apres_arrivee{i}') for i in trains_arrivee}\n"
   ]
  },
  {
   "cell_type": "markdown",
   "metadata": {},
   "source": [
    "### 4. Formation d'un train de départ \n",
    "Pour chaque train du départ $t$, la formation ne peut avoir lieu qu'après débranchement de tous les trains ayant les wagons qui le constituent. \\\n",
    "On note : $$ \\forall t \\in D \\quad A_t = \\{\\text{Les identifiants des trains d'arrivée ayant au moins un wagon du train t}\\}$$\n",
    "On peut exprimer la contrainte comme suit : \n",
    "$$ \\forall t \\in D, \\space\\forall c \\in C, \\space\\forall i \\in A_t \\quad for_{t,c} \\leq \\sum_{c' \\space \\lt \\space c} deb_{i,c'}$$ "
   ]
  },
  {
   "cell_type": "code",
   "execution_count": 140,
   "metadata": {},
   "outputs": [],
   "source": [
    "for_apres_deb = {(t,c,i) : m.addConstr(form[(t,c)]<=quicksum([deb[(i, c_p)] for c_p in range(1, c)]), name = f'for_apres_deb{t}{c}{i}') for t in trains_depart for c in range(1,nombre_creneaux+1) for i in trains_depart_relatifs_a(t)}\n"
   ]
  },
  {
   "cell_type": "markdown",
   "metadata": {},
   "source": [
    "### 5. Dégarage après formation\n",
    "Pour chaque train du départ, le dégarage ne peut avoir lieu qu'après la formation du train et $150$ minutes soit $10$ créneaux de tâches humaines.\n",
    "$$ \\forall t \\in D, \\space\\forall c \\in C \\quad deg_{t,c} \\leq \\sum_{c' \\space \\lt \\space c-10} for_{t,c'}$$ "
   ]
  },
  {
   "cell_type": "code",
   "execution_count": 141,
   "metadata": {},
   "outputs": [],
   "source": [
    "deg_apres_for = {(t,c) : m.addConstr(deg[(t,c)]<=quicksum([form[(t, c_p)] for c_p in range(1, c-9)]), name = f'deg_apres_for{t},{c}') for t in trains_depart for c in range(1,nombre_creneaux+1)}\n"
   ]
  },
  {
   "cell_type": "markdown",
   "metadata": {},
   "source": [
    "### 6. Dégarage avant départ\n",
    "Pour chaque train du départ $t$, le dégarage ne peut pas avoir lieu dans les créneaux suivants \\\n",
    "celui de $20$ minutes (de tâches humaines) avant le créneau du départ $c^{d}_{t}$.\n",
    "$$ \\forall t \\in D \\quad \\sum_{c \\space \\geq \\space c^{d}_{t}-2} deg_{t,c} = 0$$ "
   ]
  },
  {
   "cell_type": "code",
   "execution_count": 142,
   "metadata": {},
   "outputs": [],
   "source": [
    "deg_avant_depart = {t : m.addConstr(quicksum([deg[(t, c)] for c in range(creneau_depart[t]-2, nombre_creneaux+1)])==0, name = f'depart_apres_deg{t}') for t in trains_depart}\n"
   ]
  },
  {
   "cell_type": "markdown",
   "metadata": {},
   "source": [
    "### 7. Disponibilités des machines\n",
    "Il y a des créneaux où les machines sont indisponible, soient alors  $ \\space C_{deb}, C_{for}, C_{deg} \\space$  ces crénaux d'indisponibilités.\n",
    "$$ \\forall i \\in A \\quad \\sum_{c \\space \\in \\space C_{deb}} deb_{i,c} = 0 $$\n",
    "$$ \\forall i \\in D \\quad \\sum_{c \\space \\in \\space C_{for}} for_{i,c} = 0 $$\n",
    "$$ \\forall i \\in D \\quad \\sum_{c \\space \\in \\space C_{deg}} deg_{i,c} = 0 $$"
   ]
  },
  {
   "cell_type": "code",
   "execution_count": 58,
   "metadata": {},
   "outputs": [],
   "source": [
    "\n",
    "def parse_unavailabilities(unavailability_str):\n",
    "    slots=[]\n",
    "    if unavailability_str != '0':\n",
    "            periods = unavailability_str.split(';')\n",
    "            for period in periods:\n",
    "                day, time_range = period.strip('()').split(',')\n",
    "                day = int(day)\n",
    "                start_hour, end_hour = time_range.split('-')\n",
    "                start_hour = int(start_hour.split(':')[0])\n",
    "                end_hour = int(end_hour.split(':')[0])\n",
    "                if end_hour<=start_hour:\n",
    "                    delta=96-(start_hour-end_hour)*4\n",
    "\n",
    "            \n",
    "                    slots.extend([(day-1)*24*4 + start_hour*4+ i+1 for i in range(delta)])\n",
    "                else:\n",
    "                    # slots.append([(day-1)*96+start_hour*4+creneau for creneau in range(0,)])\n",
    "                    for hour in range(start_hour, end_hour):\n",
    "                        slots.extend([(day-1)*24*4 + i+1 for i in range(hour*4, (hour+1)*4)])\n",
    "    return slots\n",
    "\n",
    "def creneaux_de_periode(indispo_str): #jour, plage_horaire\n",
    "    creneaux = []\n",
    "    if indispo_str!='0':\n",
    "        periodes = indispo_str.split(';')\n",
    "        for periode in periodes:\n",
    "            jour, plage_horaire = periode.strip('()').split(',')\n",
    "            jour = int(jour)\n",
    "            plage_horaire = plage_horaire.strip('()').split('-')\n",
    "            heure_debut, minute_debut = map(int, plage_horaire[0].split(':'))\n",
    "            creneau_debut=minute_debut//15+1\n",
    "            heure_fin, minute_fin = map(int, plage_horaire[1].split(':'))\n",
    "            creneau_fin=minute_fin//15+1\n",
    "            if (heure_debut,minute_debut)>=(heure_fin,minute_fin):\n",
    "                for c in range((jour-1)*96+heure_debut*4+creneau_debut,jour*96):\n",
    "                    creneaux.append(c)\n",
    "                for c in range(jour*96,jour*96+heure_fin*4+creneau_fin):\n",
    "                    creneaux.append(c)\n",
    "            else:\n",
    "                for c in range((jour-1)*96+heure_debut*4+creneau_debut,(jour-1)*96+heure_fin*4+creneau_fin):\n",
    "                    creneaux.append(c) \n",
    "    return creneaux\n",
    "\n",
    "# data1 = INSTANCE1['Machines']\n",
    "data = INSTANCE['Machines']\n",
    "\n",
    "df = pd.DataFrame(data)\n",
    "\n",
    "df['Indisponibilites']=df['Indisponibilites'].astype(str)\n",
    "# Apply the function to each row\n",
    "df['Indisponibilites_TimeSlots'] = df['Indisponibilites'].apply(creneaux_de_periode)\n",
    "\n",
    "\n",
    "DEB_INDIS = df.loc[df['Machine'] == 'DEB', 'Indisponibilites_TimeSlots'].values[0]\n",
    "FOR_INDIS = df.loc[df['Machine'] == 'FOR', 'Indisponibilites_TimeSlots'].values[0]\n",
    "DEG_INDIS = df.loc[df['Machine'] == 'DEG', 'Indisponibilites_TimeSlots'].values[0]\n",
    "\n"
   ]
  },
  {
   "cell_type": "code",
   "execution_count": 59,
   "metadata": {},
   "outputs": [
    {
     "name": "stdout",
     "output_type": "stream",
     "text": [
      "[149, 150, 151, 152, 53, 54, 55, 56, 57, 58, 59, 60, 61, 62, 63, 64, 65, 66, 67, 68, 69, 70, 71, 72, 73, 74, 75, 76, 77, 78, 79, 80, 81, 82, 83, 84, 85, 86, 87, 88, 89, 90, 91, 92, 93, 94, 95, 96, 97, 98, 99, 100, 101, 102, 103, 104, 105, 106, 107, 108, 109, 110, 111, 112, 113, 114, 115, 116, 117, 118, 119, 120, 121, 122, 123, 124, 125, 126, 127, 128, 129, 130, 131, 132, 133, 134, 135, 136, 137, 138, 139, 140, 141, 142, 143, 144, 145, 146, 147, 148]\n",
      "[53, 54, 55, 56, 57, 58, 59, 60, 61, 62, 63, 64, 65, 66, 67, 68, 69, 70, 71, 72, 73, 74, 75, 76, 77, 78, 79, 80, 81, 82, 83, 84, 85, 86, 87, 88, 89, 90, 91, 92, 93, 94, 95, 96, 97, 98, 99, 100, 101, 102, 103, 104, 105, 106, 107, 108, 109, 110, 111, 112, 113, 114, 115, 116, 117, 118, 119, 120, 121, 122, 123, 124, 125, 126, 127, 128, 129, 130, 131, 132, 133, 134, 135, 136, 137, 138, 139, 140, 141, 142, 143, 144, 145, 146, 147, 148, 149, 150, 151, 152]\n"
     ]
    }
   ],
   "source": [
    "print(creneaux_de_periode('(2,13:00-14:00);(1, 13:00-13:00))'))\n",
    "print(creneaux_de_periode('(1, 13:00-13:00);(2,13:00-14:00))'))"
   ]
  },
  {
   "cell_type": "code",
   "execution_count": 60,
   "metadata": {},
   "outputs": [
    {
     "name": "stdout",
     "output_type": "stream",
     "text": [
      "[533, 534, 535, 536, 537, 538, 539, 540, 541, 542, 543, 544, 545, 546, 547, 548, 549, 550, 551, 552, 553, 554, 555, 556, 557, 558, 559, 560, 561, 562, 563, 564, 565, 566, 567, 568, 569, 570, 571, 572, 573, 574, 575, 576, 577, 578, 579, 580, 581, 582, 583, 584, 585, 586, 587, 588, 589, 590, 591, 592, 593, 594, 595, 596, 597, 598, 599, 600, 601, 602, 603, 604, 605, 606, 607, 608, 609, 610, 611, 612, 613, 614, 615, 616, 617, 618, 619, 620, 621, 622, 623, 624, 625, 626, 627, 628, 629, 630, 631, 632, 633, 634, 635, 636, 637, 638, 639, 640, 641, 642, 643, 644, 645, 646, 647, 648, 649, 650, 651, 652, 653, 654, 655, 656, 657, 658, 659, 660, 661, 662, 663, 664, 665, 666, 667, 668, 669, 670, 671, 672, 673, 674, 675, 676, 677, 678, 679, 680, 681, 682, 683, 684, 685, 686, 687, 688, 689, 690, 691, 692, 693, 694, 695, 696, 697, 698, 699, 700, 701, 702, 703, 704, 705, 706, 707, 708, 709, 710, 711, 712, 713, 714, 715, 716, 717, 718, 719, 720, 721, 722, 723, 724]\n",
      "768\n",
      "[577, 578, 579, 580, 581, 582, 583, 584, 585, 586, 587, 588, 589, 590, 591, 592, 593, 594, 595, 596, 597, 598, 599, 600, 601, 602, 603, 604, 605, 606, 607, 608, 609, 610, 611, 612, 613, 614, 615, 616, 617, 618, 619, 620, 621, 622, 623, 624, 625, 626, 627, 628, 629, 630, 631, 632, 633, 634, 635, 636, 637, 638, 639, 640, 641, 642, 643, 644, 645, 646, 647, 648, 649, 650, 651, 652, 653, 654, 655, 656, 657, 658, 659, 660, 661, 662, 663, 664, 665, 666, 667, 668, 669, 670, 671, 672]\n",
      "[577, 578, 579, 580, 581, 582, 583, 584, 585, 586, 587, 588, 589, 590, 591, 592, 593, 594, 595, 596, 597, 598, 599, 600, 601, 602, 603, 604, 605, 606, 607, 608, 609, 610, 611, 612, 613, 614, 615, 616, 617, 618, 619, 620, 621, 622, 623, 624, 625, 626, 627, 628, 629, 630, 631, 632, 633, 634, 635, 636, 637, 638, 639, 640, 641, 642, 643, 644, 645, 646, 647, 648, 649, 650, 651, 652, 653, 654, 655, 656, 657, 658, 659, 660, 661, 662, 663, 664, 665, 666, 667, 668, 669, 670, 671, 672]\n"
     ]
    }
   ],
   "source": [
    "print(creneaux_de_periode('(6,13:00-13:00);(7, 13:00-13:00))'))\n",
    "print(nombre_creneaux)\n",
    "print(creneaux_de_periode('(7,00:00-00:00)'))\n",
    "print(creneaux_de_periode('(7,00:00-00:00)'))"
   ]
  },
  {
   "cell_type": "code",
   "execution_count": 61,
   "metadata": {},
   "outputs": [
    {
     "data": {
      "text/html": [
       "<div>\n",
       "<style scoped>\n",
       "    .dataframe tbody tr th:only-of-type {\n",
       "        vertical-align: middle;\n",
       "    }\n",
       "\n",
       "    .dataframe tbody tr th {\n",
       "        vertical-align: top;\n",
       "    }\n",
       "\n",
       "    .dataframe thead th {\n",
       "        text-align: right;\n",
       "    }\n",
       "</style>\n",
       "<table border=\"1\" class=\"dataframe\">\n",
       "  <thead>\n",
       "    <tr style=\"text-align: right;\">\n",
       "      <th></th>\n",
       "      <th>Machine</th>\n",
       "      <th>Type de tache</th>\n",
       "      <th>Duree</th>\n",
       "      <th>Indisponibilites</th>\n",
       "      <th>Indisponibilites_TimeSlots</th>\n",
       "    </tr>\n",
       "  </thead>\n",
       "  <tbody>\n",
       "    <tr>\n",
       "      <th>0</th>\n",
       "      <td>DEB</td>\n",
       "      <td>Débranchement</td>\n",
       "      <td>15</td>\n",
       "      <td>0</td>\n",
       "      <td>[]</td>\n",
       "    </tr>\n",
       "    <tr>\n",
       "      <th>1</th>\n",
       "      <td>FOR</td>\n",
       "      <td>Formation</td>\n",
       "      <td>15</td>\n",
       "      <td>(6,13:00-13:00);(7, 13:00-13:00)</td>\n",
       "      <td>[533, 534, 535, 536, 537, 538, 539, 540, 541, ...</td>\n",
       "    </tr>\n",
       "    <tr>\n",
       "      <th>2</th>\n",
       "      <td>DEG</td>\n",
       "      <td>Dégarage</td>\n",
       "      <td>15</td>\n",
       "      <td>0</td>\n",
       "      <td>[]</td>\n",
       "    </tr>\n",
       "  </tbody>\n",
       "</table>\n",
       "</div>"
      ],
      "text/plain": [
       "  Machine  Type de tache  Duree                   Indisponibilites  \\\n",
       "0     DEB  Débranchement      15                                 0   \n",
       "1     FOR      Formation      15  (6,13:00-13:00);(7, 13:00-13:00)   \n",
       "2     DEG       Dégarage      15                                 0   \n",
       "\n",
       "                          Indisponibilites_TimeSlots  \n",
       "0                                                 []  \n",
       "1  [533, 534, 535, 536, 537, 538, 539, 540, 541, ...  \n",
       "2                                                 []  "
      ]
     },
     "execution_count": 61,
     "metadata": {},
     "output_type": "execute_result"
    }
   ],
   "source": [
    "df.head(3)"
   ]
  },
  {
   "cell_type": "code",
   "execution_count": 62,
   "metadata": {},
   "outputs": [
    {
     "name": "stdout",
     "output_type": "stream",
     "text": [
      "[533, 534, 535, 536, 537, 538, 539, 540, 541, 542, 543, 544, 545, 546, 547, 548, 549, 550, 551, 552, 553, 554, 555, 556, 557, 558, 559, 560, 561, 562, 563, 564, 565, 566, 567, 568, 569, 570, 571, 572, 573, 574, 575, 576, 577, 578, 579, 580, 581, 582, 583, 584, 585, 586, 587, 588, 589, 590, 591, 592, 593, 594, 595, 596, 597, 598, 599, 600, 601, 602, 603, 604, 605, 606, 607, 608, 609, 610, 611, 612, 613, 614, 615, 616, 617, 618, 619, 620, 621, 622, 623, 624, 625, 626, 627, 628, 629, 630, 631, 632, 633, 634, 635, 636, 637, 638, 639, 640, 641, 642, 643, 644, 645, 646, 647, 648, 649, 650, 651, 652, 653, 654, 655, 656, 657, 658, 659, 660, 661, 662, 663, 664, 665, 666, 667, 668, 669, 670, 671, 672, 673, 674, 675, 676, 677, 678, 679, 680, 681, 682, 683, 684, 685, 686, 687, 688, 689, 690, 691, 692, 693, 694, 695, 696, 697, 698, 699, 700, 701, 702, 703, 704, 705, 706, 707, 708, 709, 710, 711, 712, 713, 714, 715, 716, 717, 718, 719, 720, 721, 722, 723, 724]\n"
     ]
    }
   ],
   "source": [
    "print(FOR_INDIS)"
   ]
  },
  {
   "cell_type": "code",
   "execution_count": 63,
   "metadata": {},
   "outputs": [
    {
     "name": "stdout",
     "output_type": "stream",
     "text": [
      "['sillon1', 'sillon2', 'sillon3']\n",
      "['sillon4', 'sillon5', 'sillon6']\n"
     ]
    }
   ],
   "source": [
    "print(trains_arrivee)\n",
    "print(trains_depart)"
   ]
  },
  {
   "cell_type": "code",
   "execution_count": 64,
   "metadata": {},
   "outputs": [
    {
     "name": "stdout",
     "output_type": "stream",
     "text": [
      "[533, 534, 535, 536, 537, 538, 539, 540, 541, 542, 543, 544, 545, 546, 547, 548, 549, 550, 551, 552, 553, 554, 555, 556, 557, 558, 559, 560, 561, 562, 563, 564, 565, 566, 567, 568, 569, 570, 571, 572, 573, 574, 575, 576, 577, 578, 579, 580, 581, 582, 583, 584, 585, 586, 587, 588, 589, 590, 591, 592, 593, 594, 595, 596, 597, 598, 599, 600, 601, 602, 603, 604, 605, 606, 607, 608, 609, 610, 611, 612, 613, 614, 615, 616, 617, 618, 619, 620, 621, 622, 623, 624, 625, 626, 627, 628, 629, 630, 631, 632, 633, 634, 635, 636, 637, 638, 639, 640, 641, 642, 643, 644, 645, 646, 647, 648, 649, 650, 651, 652, 653, 654, 655, 656, 657, 658, 659, 660, 661, 662, 663, 664, 665, 666, 667, 668, 669, 670, 671, 672, 673, 674, 675, 676, 677, 678, 679, 680, 681, 682, 683, 684, 685, 686, 687, 688, 689, 690, 691, 692, 693, 694, 695, 696, 697, 698, 699, 700, 701, 702, 703, 704, 705, 706, 707, 708, 709, 710, 711, 712, 713, 714, 715, 716, 717, 718, 719, 720, 721, 722, 723, 724]\n",
      "768\n"
     ]
    }
   ],
   "source": [
    "print(FOR_INDIS)\n",
    "print(nombre_creneaux)"
   ]
  },
  {
   "cell_type": "code",
   "execution_count": 143,
   "metadata": {},
   "outputs": [],
   "source": [
    "indisponibilite_deb = {i : m.addConstr(quicksum([deb[(i, c)] for c in DEB_INDIS]) ==0, name = f'indisponibilité_deb{i}') for i in trains_arrivee }\n",
    "indisponibilite_for = {i : m.addConstr(quicksum([form[(i, c)] for c in FOR_INDIS]) ==0, name = f'indisponibilité_for{i}') for i in trains_depart}\n",
    "indisponibilite_deg = {i : m.addConstr(quicksum([deg[(i, c)] for c in DEG_INDIS]) ==0, name = f'indisponibilité_deg{i}') for i in trains_depart}\n"
   ]
  },
  {
   "cell_type": "markdown",
   "metadata": {},
   "source": [
    "## Résolution"
   ]
  },
  {
   "cell_type": "code",
   "execution_count": 144,
   "metadata": {},
   "outputs": [],
   "source": [
    "objfunction = 1\n",
    "m.setObjective(objfunction , GRB.MINIMIZE)\n",
    "m.params.outputflag = 1\n",
    "m.update()"
   ]
  },
  {
   "cell_type": "code",
   "execution_count": 67,
   "metadata": {},
   "outputs": [],
   "source": [
    "m.params.outputflag = 0"
   ]
  },
  {
   "cell_type": "code",
   "execution_count": 145,
   "metadata": {},
   "outputs": [
    {
     "name": "stdout",
     "output_type": "stream",
     "text": [
      "Gurobi Optimizer version 11.0.0 build v11.0.0rc2 (win64 - Windows 10.0 (19045.2))\n",
      "\n",
      "CPU model: Intel(R) Core(TM) i5-6300U CPU @ 2.40GHz, instruction set [SSE2|AVX|AVX2]\n",
      "Thread count: 2 physical cores, 4 logical processors, using up to 4 threads\n",
      "\n",
      "Optimize a model with 10008 rows, 6912 columns and 2948982 nonzeros\n",
      "Model fingerprint: 0xdb289465\n",
      "Variable types: 0 continuous, 6912 integer (6912 binary)\n",
      "Coefficient statistics:\n",
      "  Matrix range     [1e+00, 1e+00]\n",
      "  Objective range  [0e+00, 0e+00]\n",
      "  Bounds range     [1e+00, 1e+00]\n",
      "  RHS range        [1e+00, 1e+00]\n",
      "Presolve removed 10008 rows and 6912 columns\n",
      "Presolve time: 2.65s\n",
      "Presolve: All rows and columns removed\n",
      "\n",
      "Explored 0 nodes (0 simplex iterations) in 3.48 seconds (1.30 work units)\n",
      "Thread count was 1 (of 4 available processors)\n",
      "\n",
      "Solution count 1: 1 \n",
      "\n",
      "Optimal solution found (tolerance 1.00e-04)\n",
      "Best objective 1.000000000000e+00, best bound 1.000000000000e+00, gap 0.0000%\n"
     ]
    }
   ],
   "source": [
    "m.optimize()\n",
    "if m.status == GRB.INF_OR_UNBD:\n",
    "    m.setParam(GRB.Param.Presolve, 0)\n",
    "    m.optimize()\n",
    "\n",
    "if m.status == GRB.INFEASIBLE:\n",
    "    print(m.display(), \"\\n\\tN'A PAS DE SOLUTION!!!\")\n",
    "elif m.status == GRB.UNBOUNDED:\n",
    "    print(m.display(), \"\\n\\tEST NON BORNÉ!!!\")"
   ]
  },
  {
   "cell_type": "code",
   "execution_count": 146,
   "metadata": {},
   "outputs": [
    {
     "name": "stdout",
     "output_type": "stream",
     "text": [
      "sillon1\n",
      "--------------------------------------------\n",
      "deb de sillon1 se fait au créneau : 150, l arrivee de ce train est au creneau 132 \n",
      "-------------------------------------------------------\n",
      "sillon2\n",
      "--------------------------------------------\n",
      "deb de sillon2 se fait au créneau : 153, l arrivee de ce train est au creneau 148 \n",
      "-------------------------------------------------------\n",
      "sillon3\n",
      "--------------------------------------------\n",
      "deb de sillon3 se fait au créneau : 165, l arrivee de ce train est au creneau 160 \n",
      "-------------------------------------------------------\n",
      "sillon4\n",
      "--------------------------------------------\n",
      "For de sillon4 se fait au créneau: 167, le depart de ce train se fait à 180\n",
      "-------------------------------------------------------\n",
      "deg de sillon4 se fait au créneau: 177, le depart de ce train se fait à 180 \n",
      "-------------------------------------------------------\n",
      "sillon5\n",
      "--------------------------------------------\n",
      "For de sillon5 se fait au créneau: 154, le depart de ce train se fait à 180\n",
      "-------------------------------------------------------\n",
      "deg de sillon5 se fait au créneau: 165, le depart de ce train se fait à 180 \n",
      "-------------------------------------------------------\n",
      "sillon6\n",
      "--------------------------------------------\n",
      "For de sillon6 se fait au créneau: 166, le depart de ce train se fait à 182\n",
      "-------------------------------------------------------\n",
      "deg de sillon6 se fait au créneau: 179, le depart de ce train se fait à 182 \n",
      "-------------------------------------------------------\n"
     ]
    }
   ],
   "source": [
    "for train in trains_arrivee:\n",
    "    print(train)\n",
    "    print('--------------------------------------------')\n",
    "    for c in range(1,nombre_creneaux+1):\n",
    "        if deb[(train,c)].x==1:\n",
    "            print('deb de {} se fait au créneau : {}, l arrivee de ce train est au creneau {} '.format(train,c,creneau_arrivee[train]))\n",
    "            print('-------------------------------------------------------')\n",
    "\n",
    "\n",
    "for train in trains_depart:\n",
    "    print(train)\n",
    "    print('--------------------------------------------')\n",
    "    for c in range(1,nombre_creneaux+1):\n",
    "        if form[(train,c)].x==1:\n",
    "            print('For de {} se fait au créneau: {}, le depart de ce train se fait à {}'.format(train,c,creneau_depart[train]))\n",
    "            print('-------------------------------------------------------')\n",
    "        if deg[(train,c)].x==1:\n",
    "            print('deg de {} se fait au créneau: {}, le depart de ce train se fait à {} '.format(train,c,creneau_depart[train]))\n",
    "            print('-------------------------------------------------------')\n",
    "        \n"
   ]
  },
  {
   "cell_type": "code",
   "execution_count": 70,
   "metadata": {},
   "outputs": [
    {
     "name": "stdout",
     "output_type": "stream",
     "text": [
      "deb de 2 se fait au créneau : 7\n"
     ]
    }
   ],
   "source": [
    "print('deb de {} se fait au créneau : {}'.format(2,7))"
   ]
  },
  {
   "cell_type": "markdown",
   "metadata": {},
   "source": [
    "# Questions \n",
    "- Horraires du départ non conforme avec les créneaux machines\n",
    "- Créneaux et jours ? indices dépendants \n",
    "- Il ya un choix à faire lors de la correspondance entre tâche humaine et créneaux où \\\n",
    "entre tâche machine et créneaux."
   ]
  }
 ],
 "metadata": {
  "kernelspec": {
   "display_name": "base",
   "language": "python",
   "name": "python3"
  },
  "language_info": {
   "codemirror_mode": {
    "name": "ipython",
    "version": 3
   },
   "file_extension": ".py",
   "mimetype": "text/x-python",
   "name": "python",
   "nbconvert_exporter": "python",
   "pygments_lexer": "ipython3",
   "version": "3.11.5"
  }
 },
 "nbformat": 4,
 "nbformat_minor": 2
}
