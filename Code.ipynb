{
 "cells": [
  {
   "cell_type": "markdown",
   "metadata": {},
   "source": [
    "\n",
    "# <font color=blue><div align=\"center\">ST7 SNCF : Jalon 1</div></font>\n",
    "\n",
    "## <font color=blue><div align=\"center\">\"<em>Indian Railways</em>\"</div></font>"
   ]
  },
  {
   "cell_type": "markdown",
   "metadata": {},
   "source": [
    "## Modules"
   ]
  },
  {
   "cell_type": "code",
   "execution_count": 1,
   "metadata": {},
   "outputs": [],
   "source": [
    "# Modules de base\n",
    "import numpy as np\n",
    "import matplotlib.pyplot as plt\n",
    "import pandas as pd\n",
    "%matplotlib inline\n",
    "\n",
    "# Module relatif à Gurobi\n",
    "from gurobipy import *\n",
    "\n",
    "# Module csv\n",
    "import csv"
   ]
  },
  {
   "cell_type": "code",
   "execution_count": 2,
   "metadata": {},
   "outputs": [],
   "source": [
    "mini_instance=\"mini_instance.xlsx\"\n",
    "instance_simple=\"instance_WPY_simple.xlsx\"\n",
    "instance_realiste=\"instance_WPY_realiste_jalon1.xlsx\""
   ]
  },
  {
   "cell_type": "markdown",
   "metadata": {},
   "source": [
    "## Mini insatnce:"
   ]
  },
  {
   "cell_type": "code",
   "execution_count": 3,
   "metadata": {},
   "outputs": [],
   "source": [
    "def excel_to_dict(file :str)-> dict[str]:\n",
    "    '''\n",
    "    Takes excel file name in the repo\n",
    "    and returns a dictionary[sheet_name]=Dataframe\n",
    "    '''\n",
    "    # Load the Excel file\n",
    "    xl = pd.ExcelFile(file)\n",
    "    \n",
    "    # Get the names of the sheets\n",
    "    sheet_names = xl.sheet_names\n",
    "    \n",
    "    # Initialize a dictionary to store the data\n",
    "    data_dict = {}\n",
    "    \n",
    "    # Iterate over each sheet\n",
    "    for sheet_name in sheet_names:\n",
    "        # Read the sheet into a pandas DataFrame\n",
    "        data_dict[sheet_name] = pd.read_excel(file, sheet_name=sheet_name)\n",
    "    return data_dict\n",
    "\n",
    "\n",
    "# Convert the Excel file to a dictionary\n",
    "MINI_INSTANCE= excel_to_dict(mini_instance)"
   ]
  },
  {
   "cell_type": "code",
   "execution_count": 4,
   "metadata": {},
   "outputs": [
    {
     "data": {
      "text/html": [
       "<div>\n",
       "<style scoped>\n",
       "    .dataframe tbody tr th:only-of-type {\n",
       "        vertical-align: middle;\n",
       "    }\n",
       "\n",
       "    .dataframe tbody tr th {\n",
       "        vertical-align: top;\n",
       "    }\n",
       "\n",
       "    .dataframe thead th {\n",
       "        text-align: right;\n",
       "    }\n",
       "</style>\n",
       "<table border=\"1\" class=\"dataframe\">\n",
       "  <thead>\n",
       "    <tr style=\"text-align: right;\">\n",
       "      <th></th>\n",
       "      <th>n°TRAIN</th>\n",
       "      <th>HARR</th>\n",
       "      <th>JARR</th>\n",
       "    </tr>\n",
       "  </thead>\n",
       "  <tbody>\n",
       "    <tr>\n",
       "      <th>0</th>\n",
       "      <td>sillon1</td>\n",
       "      <td>09:00:00</td>\n",
       "      <td>02/05/2023</td>\n",
       "    </tr>\n",
       "    <tr>\n",
       "      <th>1</th>\n",
       "      <td>sillon2</td>\n",
       "      <td>13:00:00</td>\n",
       "      <td>02/05/2023</td>\n",
       "    </tr>\n",
       "    <tr>\n",
       "      <th>2</th>\n",
       "      <td>sillon3</td>\n",
       "      <td>16:00:00</td>\n",
       "      <td>02/05/2023</td>\n",
       "    </tr>\n",
       "  </tbody>\n",
       "</table>\n",
       "</div>"
      ],
      "text/plain": [
       "   n°TRAIN      HARR        JARR\n",
       "0  sillon1  09:00:00  02/05/2023\n",
       "1  sillon2  13:00:00  02/05/2023\n",
       "2  sillon3  16:00:00  02/05/2023"
      ]
     },
     "execution_count": 4,
     "metadata": {},
     "output_type": "execute_result"
    }
   ],
   "source": [
    "MINI_INSTANCE[\"Sillons arrivee\"]"
   ]
  },
  {
   "cell_type": "code",
   "execution_count": 5,
   "metadata": {},
   "outputs": [
    {
     "name": "stdout",
     "output_type": "stream",
     "text": [
      "['sillon1', 'sillon2', 'sillon3']\n"
     ]
    }
   ],
   "source": [
    "trains_arrivee=[]\n",
    "\n",
    "for index, row in MINI_INSTANCE[\"Sillons arrivee\"].iterrows():\n",
    "    numero_train = row['n°TRAIN']\n",
    "\n",
    "    trains_arrivee.append(numero_train)\n",
    "\n",
    "print(trains_arrivee)\n"
   ]
  },
  {
   "cell_type": "code",
   "execution_count": 6,
   "metadata": {},
   "outputs": [
    {
     "name": "stdout",
     "output_type": "stream",
     "text": [
      "['sillon4', 'sillon5', 'sillon6']\n"
     ]
    }
   ],
   "source": [
    "trains_depart=[]\n",
    "\n",
    "for index, row in MINI_INSTANCE[\"Sillons depart\"].iterrows():\n",
    "    numero_train = row['n°TRAIN']\n",
    "\n",
    "    trains_depart.append(numero_train)\n",
    "\n",
    "print(trains_depart)"
   ]
  },
  {
   "cell_type": "code",
   "execution_count": 7,
   "metadata": {},
   "outputs": [],
   "source": [
    "nombre_trains=len(trains_arrivee)+len(trains_depart)\n",
    "nombre_trains_arrivee=len(trains_arrivee)\n",
    "nombre_trains_depart=len(trains_arrivee)"
   ]
  },
  {
   "cell_type": "code",
   "execution_count": 8,
   "metadata": {},
   "outputs": [
    {
     "data": {
      "text/html": [
       "<div>\n",
       "<style scoped>\n",
       "    .dataframe tbody tr th:only-of-type {\n",
       "        vertical-align: middle;\n",
       "    }\n",
       "\n",
       "    .dataframe tbody tr th {\n",
       "        vertical-align: top;\n",
       "    }\n",
       "\n",
       "    .dataframe thead th {\n",
       "        text-align: right;\n",
       "    }\n",
       "</style>\n",
       "<table border=\"1\" class=\"dataframe\">\n",
       "  <thead>\n",
       "    <tr style=\"text-align: right;\">\n",
       "      <th></th>\n",
       "      <th>Id wagon</th>\n",
       "      <th>Jour arrivee</th>\n",
       "      <th>n°Train arrivee</th>\n",
       "      <th>Jour depart</th>\n",
       "      <th>n°Train depart</th>\n",
       "    </tr>\n",
       "  </thead>\n",
       "  <tbody>\n",
       "    <tr>\n",
       "      <th>0</th>\n",
       "      <td>1</td>\n",
       "      <td>2023-05-02 00:00:00</td>\n",
       "      <td>sillon1</td>\n",
       "      <td>02/05/2023</td>\n",
       "      <td>sillon5</td>\n",
       "    </tr>\n",
       "    <tr>\n",
       "      <th>1</th>\n",
       "      <td>2</td>\n",
       "      <td>2023-05-02 00:00:00</td>\n",
       "      <td>sillon1</td>\n",
       "      <td>02/05/2023</td>\n",
       "      <td>sillon6</td>\n",
       "    </tr>\n",
       "    <tr>\n",
       "      <th>2</th>\n",
       "      <td>3</td>\n",
       "      <td>02/05/2023</td>\n",
       "      <td>sillon2</td>\n",
       "      <td>02/05/2023</td>\n",
       "      <td>sillon4</td>\n",
       "    </tr>\n",
       "    <tr>\n",
       "      <th>3</th>\n",
       "      <td>4</td>\n",
       "      <td>02/05/2023</td>\n",
       "      <td>sillon2</td>\n",
       "      <td>02/05/2023</td>\n",
       "      <td>sillon5</td>\n",
       "    </tr>\n",
       "    <tr>\n",
       "      <th>4</th>\n",
       "      <td>5</td>\n",
       "      <td>02/05/2023</td>\n",
       "      <td>sillon2</td>\n",
       "      <td>02/05/2023</td>\n",
       "      <td>sillon6</td>\n",
       "    </tr>\n",
       "    <tr>\n",
       "      <th>5</th>\n",
       "      <td>6</td>\n",
       "      <td>02/05/2023</td>\n",
       "      <td>sillon3</td>\n",
       "      <td>02/05/2023</td>\n",
       "      <td>sillon4</td>\n",
       "    </tr>\n",
       "    <tr>\n",
       "      <th>6</th>\n",
       "      <td>7</td>\n",
       "      <td>02/05/2023</td>\n",
       "      <td>sillon3</td>\n",
       "      <td>02/05/2023</td>\n",
       "      <td>sillon6</td>\n",
       "    </tr>\n",
       "  </tbody>\n",
       "</table>\n",
       "</div>"
      ],
      "text/plain": [
       "   Id wagon         Jour arrivee n°Train arrivee Jour depart n°Train depart\n",
       "0         1  2023-05-02 00:00:00         sillon1  02/05/2023        sillon5\n",
       "1         2  2023-05-02 00:00:00         sillon1  02/05/2023        sillon6\n",
       "2         3           02/05/2023         sillon2  02/05/2023        sillon4\n",
       "3         4           02/05/2023         sillon2  02/05/2023        sillon5\n",
       "4         5           02/05/2023         sillon2  02/05/2023        sillon6\n",
       "5         6           02/05/2023         sillon3  02/05/2023        sillon4\n",
       "6         7           02/05/2023         sillon3  02/05/2023        sillon6"
      ]
     },
     "execution_count": 8,
     "metadata": {},
     "output_type": "execute_result"
    }
   ],
   "source": [
    "MINI_INSTANCE[\"Correspondances\"]"
   ]
  },
  {
   "cell_type": "code",
   "execution_count": 17,
   "metadata": {},
   "outputs": [],
   "source": [
    "def trains_depart_relatifs_a(train_depart):\n",
    "    trains_arrivee_associes = []\n",
    "    for index, row in MINI_INSTANCE[\"Correspondances\"].iterrows():\n",
    "        if row['n°Train depart']==train_depart:\n",
    "            trains_arrivee_associes.append(row['n°Train arrivee'])\n",
    "        \n",
    "    return trains_arrivee_associes"
   ]
  },
  {
   "cell_type": "code",
   "execution_count": 18,
   "metadata": {},
   "outputs": [
    {
     "name": "stdout",
     "output_type": "stream",
     "text": [
      "['sillon1', 'sillon2']\n"
     ]
    }
   ],
   "source": [
    "print(trains_depart_relatifs_a('sillon5'))"
   ]
  },
  {
   "cell_type": "code",
   "execution_count": null,
   "metadata": {},
   "outputs": [],
   "source": []
  },
  {
   "cell_type": "markdown",
   "metadata": {},
   "source": [
    "## Modèle mathématique \n",
    "On a modélisé notre problème en partant du fait que les machines ne sont disponibles que pour un seul train et dans un seul créneau. \\\n",
    "De ce fait, on introduit les variables *binaires* suivantes : \\\n",
    "\\\n",
    "    - $(deb_{ijc})$ : variable binaire indiquant si la machine de débranchement est utilisée \\\n",
    "    pour le sillion d'arrivée d'identifiant $i$ dans le jour $j$ au créneau $c$ \\\n",
    "    - $(for_{ijc})$ : variable binaire indiquant si la machine de formation est utilisée \\\n",
    "    pour le sillion du départ d'identifiant $i$ dans le jour $j$ au créneau $c$ \\\n",
    "    - $(deg_{ijc})$ : variable binaire indiquant si la machine de dégarage est utilisée \\\n",
    "    pour le sillion du départ d'identifiant $i$ dans le jour $j$ au créneau $c$\n",
    "\n",
    "Les créneaux ont une durée de $15 min$ correspondant à la durée d'une tâche machine. Les valeurs possibles des créneaux dépendent de l'instance, \\\n",
    "soit alors $c \\in \\{1,2,..., c_{max}\\} $ où $c=1$ correspond au premier créneau de 15 min à parfir du premier jour de travail à $0:00$ et \\\n",
    "$c_{max}$ le dernier créneau du dernier jours de travail à partir de $23:45$.\n",
    "\n",
    "On note ainsi : \n",
    "$$A = \\{\\text{Les identifiants des trains d'arrivée}\\}$$\n",
    "$$D = \\{\\text{Les identifiants des trains du départ}\\}$$\n",
    "$$C= \\{1,2,..., c_{max}\\}$$"
   ]
  },
  {
   "cell_type": "code",
   "execution_count": 9,
   "metadata": {},
   "outputs": [
    {
     "name": "stdout",
     "output_type": "stream",
     "text": [
      "Set parameter Username\n",
      "Academic license - for non-commercial use only - expires 2025-02-04\n"
     ]
    }
   ],
   "source": [
    "# IMPLEMNTATION DES VARIABLES \n",
    "# Implémentation Python\n",
    "m= Model('TP2')\n",
    "deb = {(i, c) : m.addVar(vtype = GRB.BINARY, name=f'deb_{i}_{c}') for i in range(1, nombre_trains_arrivee + 1) for c in range(1,nombre_creneaux+1)}\n",
    "form = {(i, c) : m.addVar(vtype = GRB.BINARY, name=f'deb_{i}_{c}') for i in range(1, nombre_trains_depart + 1) for c in range(1,nombre_creneaux+1)}\n",
    "deg = {(i, c) : m.addVar(vtype = GRB.BINARY, name=f'deb_{i}_{c}') for i in range(1, nombre_trains_depart + 1) for c in range(1,nombre_creneaux+1)}"
   ]
  },
  {
   "cell_type": "markdown",
   "metadata": {},
   "source": [
    "## Contraintes\n",
    "### 1. Unique débranchement, formation et dégarage\n",
    "Chaque train d'arrivé subit un seul et unique débranchement, chaque train du départ subit un seul et unique débranchement et dégarage. \n",
    "$$ \\forall i \\in A \\quad \\sum_{c} deb_{i,c} = 1 $$\n",
    "$$ \\forall i \\in D \\quad \\sum_{c} for_{i,c} = 1 $$\n",
    "$$ \\forall i \\in D \\quad \\sum_{c} deg_{i,c} = 1 $$"
   ]
  },
  {
   "cell_type": "code",
   "execution_count": 10,
   "metadata": {},
   "outputs": [],
   "source": [
    "uniqueDeb = {i : m.addConstr(quicksum([X[(i, j)] for j in range(1, nombre_trains_arrivee + 1)]) ==1, name = f'UniqueDeb{i}') for i in range(1, number_of_bricks + 1)}"
   ]
  },
  {
   "cell_type": "markdown",
   "metadata": {},
   "source": [
    "### 2. Une seule tâche machine par créneau  \n",
    "Chaque machine est exploitée par au plus un seul train sur chaque créneau.\n",
    "$$ \\forall c \\in C \\quad \\sum_{i \\in A} deb_{i,c} \\leq 1 $$\n",
    "$$ \\forall c \\in C \\quad \\sum_{i \\in D} for_{i,c} \\leq 1 $$\n",
    "$$ \\forall c \\in C \\quad \\sum_{i \\in D} deg_{i,c} \\leq 1 $$"
   ]
  },
  {
   "cell_type": "code",
   "execution_count": 11,
   "metadata": {},
   "outputs": [],
   "source": [
    "# CONT 2"
   ]
  },
  {
   "cell_type": "markdown",
   "metadata": {},
   "source": [
    "### 3. Débranchement se fait après l'arrivée du train\n",
    "Pour chaque train d'arrivée $i$, le débranchement ne peut pas avoir lieu dans les créneaux précedent celui d'arrivée $c^{a}_{i}$ après une heure de tâches humaines.\n",
    "$$ \\forall i \\in A \\quad \\sum_{c \\space \\leq \\space c^{a}_{i}+4} deb_{i,c} = 0$$ "
   ]
  },
  {
   "cell_type": "code",
   "execution_count": 12,
   "metadata": {},
   "outputs": [],
   "source": [
    "# CONT 3"
   ]
  },
  {
   "cell_type": "markdown",
   "metadata": {},
   "source": [
    "### 4. Formation d'un train de départ \n",
    "Pour chaque train du départ $t$, la formation ne peut avoir lieu qu'après débranchement de tous les trains ayant les wagons qui le constituent. \\\n",
    "On note : $$ \\forall t \\in D \\quad A_t = \\{\\text{Les identifiants des trains d'arrivée ayant au moins un wagon du train t}\\}$$\n",
    "On peut exprimer la contrainte comme suit : \n",
    "$$ \\forall t \\in D, \\space\\forall c \\in C, \\space\\forall i \\in A_t \\quad for_{t,c} \\leq \\sum_{c' \\space \\lt \\space c} deb_{i,c'}$$ "
   ]
  },
  {
   "cell_type": "code",
   "execution_count": 13,
   "metadata": {},
   "outputs": [],
   "source": [
    "# CONT 4"
   ]
  },
  {
   "cell_type": "markdown",
   "metadata": {},
   "source": [
    "### 5. Dégarage après formation\n",
    "Pour chaque train du départ, le dégarage ne peut avoir lieu qu'après la formation du train et $150$ minutes soit $10$ créneaux de tâches humaines.\n",
    "$$ \\forall t \\in D, \\space\\forall c \\in C \\quad deg_{t,c} \\leq \\sum_{c' \\space \\lt \\space c-10} for_{t,c'}$$ "
   ]
  },
  {
   "cell_type": "code",
   "execution_count": 14,
   "metadata": {},
   "outputs": [],
   "source": [
    "# CONT 5 "
   ]
  },
  {
   "cell_type": "markdown",
   "metadata": {},
   "source": [
    "### 6. Dégarage avant départ\n",
    "Pour chaque train du départ $t$, le dégarage ne peut pas avoir lieu dans les créneaux suivants \\\n",
    "celui de $20$ minutes (de tâches humaines) avant le créneau du départ $c^{d}_{t}$.\n",
    "$$ \\forall t \\in D \\quad \\sum_{c \\space \\geq \\space c^{d}_{i}-2} deg_{i,c} = 0$$ "
   ]
  },
  {
   "cell_type": "code",
   "execution_count": 15,
   "metadata": {},
   "outputs": [],
   "source": [
    "# CONT 6"
   ]
  },
  {
   "cell_type": "markdown",
   "metadata": {},
   "source": [
    "### 7. Disponibilités des machines\n",
    "Il y a des créneaux où les machines sont indisponible, soient alors  $ \\space C_{deb}, C_{for}, C_{deg} \\space$  ces crénaux d'indisponibilités.\n",
    "$$ \\forall i \\in A \\quad \\sum_{c \\space \\in \\space C_{deb}} deb_{i,c} = 0 $$\n",
    "$$ \\forall i \\in D \\quad \\sum_{c \\space \\in \\space C_{for}} for_{i,c} = 0 $$\n",
    "$$ \\forall i \\in D \\quad \\sum_{c \\space \\in \\space C_{deg}} deg_{i,c} = 0 $$"
   ]
  },
  {
   "cell_type": "code",
   "execution_count": 16,
   "metadata": {},
   "outputs": [],
   "source": [
    "# CONT 7"
   ]
  },
  {
   "cell_type": "markdown",
   "metadata": {},
   "source": [
    "# Questions \n",
    "- Horraires du départ non conforme avec les créneaux machines\n",
    "- Créneaux et jours ? indices dépendants \n",
    "- Il ya un choix à faire lors de la correspondance entre tâche humaine et créneaux où \\\n",
    "entre tâche machine et créneaux."
   ]
  }
 ],
 "metadata": {
  "kernelspec": {
   "display_name": "base",
   "language": "python",
   "name": "python3"
  },
  "language_info": {
   "codemirror_mode": {
    "name": "ipython",
    "version": 3
   },
   "file_extension": ".py",
   "mimetype": "text/x-python",
   "name": "python",
   "nbconvert_exporter": "python",
   "pygments_lexer": "ipython3",
   "version": "3.10.7"
  }
 },
 "nbformat": 4,
 "nbformat_minor": 2
}
