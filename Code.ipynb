{
 "cells": [
  {
   "cell_type": "markdown",
   "metadata": {},
   "source": [
    "\n",
    "# <font color=blue><div align=\"center\">ST7 SNCF : Jalon 1</div></font>\n",
    "\n",
    "## <font color=blue><div align=\"center\">\"<em>Indian Railways</em>\"</div></font>"
   ]
  },
  {
   "cell_type": "markdown",
   "metadata": {},
   "source": [
    "## Modules"
   ]
  },
  {
   "cell_type": "code",
   "execution_count": 45,
   "metadata": {},
   "outputs": [],
   "source": [
    "# Modules de base\n",
    "import numpy as np\n",
    "import matplotlib.pyplot as plt\n",
    "import pandas as pd\n",
    "import datetime\n",
    "%matplotlib inline\n",
    "\n",
    "# Module relatif à Gurobi\n",
    "from gurobipy import *\n",
    "\n",
    "# Module csv\n",
    "import csv"
   ]
  },
  {
   "cell_type": "code",
   "execution_count": 46,
   "metadata": {},
   "outputs": [],
   "source": [
    "mini_instance=\"mini_instance.xlsx\"\n",
    "instance_simple=\"instance_WPY_simple.xlsx\"\n",
    "instance_realiste=\"instance_WPY_realiste_jalon1.xlsx\"\n",
    "test=\"mini_instance_test.xlsx\""
   ]
  },
  {
   "cell_type": "markdown",
   "metadata": {},
   "source": [
    "## Traitement de données"
   ]
  },
  {
   "cell_type": "code",
   "execution_count": 47,
   "metadata": {},
   "outputs": [],
   "source": [
    "def excel_to_dict(file :str)-> dict[str]:\n",
    "    '''\n",
    "    Takes excel file name in the repo\n",
    "    and returns a dictionary[sheet_name]=Dataframe\n",
    "    '''\n",
    "    # Load the Excel file\n",
    "    xl = pd.ExcelFile(file)\n",
    "    \n",
    "    # Get the names of the sheets\n",
    "    sheet_names = xl.sheet_names\n",
    "    \n",
    "    # Initialize a dictionary to store the data\n",
    "    data_dict = {}\n",
    "    \n",
    "    # Iterate over each sheet\n",
    "    for sheet_name in sheet_names:\n",
    "        # Read the sheet into a pandas DataFrame\n",
    "        data_dict[sheet_name] = pd.read_excel(file, sheet_name=sheet_name)\n",
    "    return data_dict\n",
    "\n",
    "def date_to_creneau(date0: datetime.datetime, hour: pd.DataFrame, date: pd.DataFrame):\n",
    "    '''\n",
    "    Takes hour and date's 1-column dataframes\n",
    "    and returns a dataframe of 1-column of 'créneaux'\n",
    "    starting from date0\n",
    "    '''\n",
    "    datetime_df=pd.to_datetime(date.apply(lambda x: str(x)+' ')+hour.apply(lambda x:str(x)))\n",
    "    return (datetime_df-date0).dt.total_seconds().div(60*15).astype(int)+1\n",
    "\n",
    "def creneau_to_date(date0: datetime.datetime, creneau : int):\n",
    "    return date0+ datetime.timedelta(minutes=creneau*15)\n",
    "\n",
    "# Instance sur laquelle on travaillera par la suite\n",
    "INSTANCE= excel_to_dict(mini_instance)"
   ]
  },
  {
   "cell_type": "markdown",
   "metadata": {},
   "source": [
    "### Dictionnaires utiles "
   ]
  },
  {
   "cell_type": "markdown",
   "metadata": {},
   "source": [
    "Trains de l'arrivée et du départs"
   ]
  },
  {
   "cell_type": "code",
   "execution_count": 48,
   "metadata": {},
   "outputs": [],
   "source": [
    "trains_arrivee=[]\n",
    "\n",
    "for index, row in INSTANCE[\"Sillons arrivee\"].iterrows():\n",
    "    numero_train = row['n°TRAIN']\n",
    "    trains_arrivee.append(numero_train)\n",
    "\n",
    "trains_depart=[]\n",
    "\n",
    "for index, row in INSTANCE[\"Sillons depart\"].iterrows():\n",
    "    numero_train = row['n°TRAIN']\n",
    "    trains_depart.append(numero_train)\n",
    "\n",
    "nombre_trains=len(trains_arrivee)+len(trains_depart)\n",
    "nombre_trains_arrivee=len(trains_arrivee)\n",
    "nombre_trains_depart=len(trains_arrivee)"
   ]
  },
  {
   "cell_type": "markdown",
   "metadata": {},
   "source": [
    "Correspondance"
   ]
  },
  {
   "cell_type": "code",
   "execution_count": 49,
   "metadata": {},
   "outputs": [],
   "source": [
    "def trains_depart_relatifs_a(train_depart)->list:\n",
    "    '''\n",
    "    Prend l'id d'un train du départ \n",
    "    et retourne une liste des id des trains\n",
    "    d'arrivée qui le constituent\n",
    "    '''\n",
    "    trains_arrivee_associes = []\n",
    "    for index, row in INSTANCE[\"Correspondances\"].iterrows():\n",
    "        if row['n°Train depart']==train_depart:\n",
    "            trains_arrivee_associes.append(row['n°Train arrivee'])\n",
    "        \n",
    "    return trains_arrivee_associes"
   ]
  },
  {
   "cell_type": "markdown",
   "metadata": {},
   "source": [
    "Créneaux de l'arrivée et du départ"
   ]
  },
  {
   "cell_type": "code",
   "execution_count": 83,
   "metadata": {},
   "outputs": [
    {
     "name": "stdout",
     "output_type": "stream",
     "text": [
      "192\n",
      "{'sillon4': 8341, 'sillon5': 8341, 'sillon6': 8343}\n",
      "{'sillon1': 37, 'sillon2': 53, 'sillon3': 65}\n"
     ]
    },
    {
     "name": "stderr",
     "output_type": "stream",
     "text": [
      "C:\\Users\\admin\\AppData\\Local\\Temp\\ipykernel_18768\\2879386442.py:27: UserWarning: Could not infer format, so each element will be parsed individually, falling back to `dateutil`. To ensure parsing is consistent and as-expected, please specify a format.\n",
      "  datetime_df=pd.to_datetime(date.apply(lambda x: str(x)+' ')+hour.apply(lambda x:str(x)))\n"
     ]
    }
   ],
   "source": [
    "# Date de référence et date finale \n",
    "date0=str(INSTANCE[\"Sillons arrivee\"][\"JARR\"][0])+' 00:00:00'\n",
    "date0=pd.to_datetime(date0)\n",
    "#datef=pd.to_datetime(INSTANCE[\"Sillons depart\"][\"JDEP\"][nombre_trains_depart-1])+datetime.timedelta(hours=24)\n",
    "datef=datetime.datetime(2023,5,3,0,0,0)\n",
    "nombre_creneaux=48*4\n",
    "\n",
    "\n",
    "# Crenau du départ et d'arrivée\n",
    "INSTANCE[\"Sillons arrivee\"][\"creneau\"]=date_to_creneau(date0, INSTANCE[\"Sillons arrivee\"][\"HARR\"], INSTANCE[\"Sillons arrivee\"][\"JARR\"])\n",
    "INSTANCE[\"Sillons depart\"][\"creneau\"]=date_to_creneau(date0, INSTANCE[\"Sillons depart\"][\"HDEP\"], INSTANCE[\"Sillons depart\"][\"JDEP\"])\n",
    "\n",
    "crenau_arrivee={} \n",
    "for index, row in INSTANCE[\"Sillons arrivee\"].iterrows():\n",
    "    numero_train = row['n°TRAIN']\n",
    "    crenau_arrivee[numero_train]=row[\"creneau\"]\n",
    "\n",
    "crenau_depart={}\n",
    "for index, row in INSTANCE[\"Sillons depart\"].iterrows():\n",
    "    numero_train = row['n°TRAIN']\n",
    "    crenau_depart[numero_train]=row[\"creneau\"]"
   ]
  },
  {
   "cell_type": "markdown",
   "metadata": {},
   "source": [
    "## Modèle mathématique \n",
    "On a modélisé notre problème en partant du fait que les machines ne sont disponibles que pour un seul train et dans un seul créneau. \\\n",
    "De ce fait, on introduit les variables *binaires* suivantes : \\\n",
    "\\\n",
    "    - $(deb_{ic})$ : variable binaire indiquant si la machine de débranchement est utilisée \\\n",
    "    pour le sillion d'arrivée d'identifiant $i$ dans le créneau $c$ \\\n",
    "    - $(for_{ic})$ : variable binaire indiquant si la machine de formation est utilisée \\\n",
    "    pour le sillion du départ d'identifiant $i$ dans le créneau $c$ \\\n",
    "    - $(deg_{ic})$ : variable binaire indiquant si la machine de dégarage est utilisée \\\n",
    "    pour le sillion du départ d'identifiant $i$ dans le créneau $c$\n",
    "\n",
    "Les créneaux ont une durée de $15 min$ correspondant à la durée d'une tâche machine. Les valeurs possibles des créneaux dépendent de l'instance, \\\n",
    "soit alors $c \\in \\{1,2,..., c_{max}\\} $ où $c=1$ correspond au premier créneau de 15 min à parfir du premier jour de travail à $0:00$ et \\\n",
    "$c_{max}$ le dernier créneau du dernier jours de travail à partir de $23:45$.\n",
    "\n",
    "On note ainsi : \n",
    "$$A = \\{\\text{Les identifiants des trains d'arrivée}\\}$$\n",
    "$$D = \\{\\text{Les identifiants des trains du départ}\\}$$\n",
    "$$C= \\{1,2,..., c_{max}\\}$$"
   ]
  },
  {
   "cell_type": "code",
   "execution_count": null,
   "metadata": {},
   "outputs": [],
   "source": [
    "# IMPLEMNTATION DES VARIABLES "
   ]
  },
  {
   "cell_type": "markdown",
   "metadata": {},
   "source": [
    "## Contraintes\n",
    "### 1. Unique débranchement, formation et dégarage\n",
    "Chaque train d'arrivé subit un seul et unique débranchement, chaque train du départ subit un seul et unique débranchement et dégarage. \n",
    "$$ \\forall i \\in A \\quad \\sum_{c} deb_{i,c} = 1 $$\n",
    "$$ \\forall i \\in D \\quad \\sum_{c} for_{i,c} = 1 $$\n",
    "$$ \\forall i \\in D \\quad \\sum_{c} deg_{i,c} = 1 $$"
   ]
  },
  {
   "cell_type": "code",
   "execution_count": null,
   "metadata": {},
   "outputs": [],
   "source": [
    "# CONT 1"
   ]
  },
  {
   "cell_type": "markdown",
   "metadata": {},
   "source": [
    "### 2. Une seule tâche machine par créneau  \n",
    "Chaque machine est exploitée par au plus un seul train sur chaque créneau.\n",
    "$$ \\forall c \\in C \\quad \\sum_{i \\in A} deb_{i,c} \\leq 1 $$\n",
    "$$ \\forall c \\in C \\quad \\sum_{i \\in D} for_{i,c} \\leq 1 $$\n",
    "$$ \\forall c \\in C \\quad \\sum_{i \\in D} deg_{i,c} \\leq 1 $$"
   ]
  },
  {
   "cell_type": "code",
   "execution_count": null,
   "metadata": {},
   "outputs": [],
   "source": [
    "# CONT 2"
   ]
  },
  {
   "cell_type": "markdown",
   "metadata": {},
   "source": [
    "### 3. Débranchement se fait après l'arrivée du train\n",
    "Pour chaque train d'arrivée $i$, le débranchement ne peut pas avoir lieu dans les créneaux précedent celui d'arrivée $c^{a}_{i}$ après une heure de tâches humaines.\n",
    "$$ \\forall i \\in A \\quad \\sum_{c \\space \\leq \\space c^{a}_{i}+4} deb_{i,c} = 0$$ "
   ]
  },
  {
   "cell_type": "code",
   "execution_count": null,
   "metadata": {},
   "outputs": [],
   "source": [
    "# CONT 3"
   ]
  },
  {
   "cell_type": "markdown",
   "metadata": {},
   "source": [
    "### 4. Formation d'un train de départ \n",
    "Pour chaque train du départ $t$, la formation ne peut avoir lieu qu'après débranchement de tous les trains ayant les wagons qui le constituent. \\\n",
    "On note : $$ \\forall t \\in D \\quad A_t = \\{\\text{Les identifiants des trains d'arrivée ayant au moins un wagon du train t}\\}$$\n",
    "On peut exprimer la contrainte comme suit : \n",
    "$$ \\forall t \\in D, \\space\\forall c \\in C, \\space\\forall i \\in A_t \\quad for_{t,c} \\leq \\sum_{c' \\space \\lt \\space c} deb_{i,c'}$$ "
   ]
  },
  {
   "cell_type": "code",
   "execution_count": null,
   "metadata": {},
   "outputs": [],
   "source": [
    "# CONT 4"
   ]
  },
  {
   "cell_type": "markdown",
   "metadata": {},
   "source": [
    "### 5. Dégarage après formation\n",
    "Pour chaque train du départ, le dégarage ne peut avoir lieu qu'après la formation du train et $150$ minutes soit $10$ créneaux de tâches humaines.\n",
    "$$ \\forall t \\in D, \\space\\forall c \\in C \\quad deg_{t,c} \\leq \\sum_{c' \\space \\lt \\space c-10} for_{t,c'}$$ "
   ]
  },
  {
   "cell_type": "code",
   "execution_count": null,
   "metadata": {},
   "outputs": [],
   "source": [
    "# CONT 5 "
   ]
  },
  {
   "cell_type": "markdown",
   "metadata": {},
   "source": [
    "### 6. Dégarage avant départ\n",
    "Pour chaque train du départ $t$, le dégarage ne peut pas avoir lieu dans les créneaux suivants \\\n",
    "celui de $20$ minutes (de tâches humaines) avant le créneau du départ $c^{d}_{t}$.\n",
    "$$ \\forall t \\in D \\quad \\sum_{c \\space \\geq \\space c^{d}_{i}-2} deg_{i,c} = 0$$ "
   ]
  },
  {
   "cell_type": "code",
   "execution_count": null,
   "metadata": {},
   "outputs": [],
   "source": [
    "# CONT 6"
   ]
  },
  {
   "cell_type": "markdown",
   "metadata": {},
   "source": [
    "### 7. Disponibilités des machines\n",
    "Il y a des créneaux où les machines sont indisponible, soient alors  $ \\space C_{deb}, C_{for}, C_{deg} \\space$  ces crénaux d'indisponibilités.\n",
    "$$ \\forall i \\in A \\quad \\sum_{c \\space \\in \\space C_{deb}} deb_{i,c} = 0 $$\n",
    "$$ \\forall i \\in D \\quad \\sum_{c \\space \\in \\space C_{for}} for_{i,c} = 0 $$\n",
    "$$ \\forall i \\in D \\quad \\sum_{c \\space \\in \\space C_{deg}} deg_{i,c} = 0 $$"
   ]
  },
  {
   "cell_type": "code",
   "execution_count": null,
   "metadata": {},
   "outputs": [],
   "source": [
    "# CONT 7"
   ]
  },
  {
   "cell_type": "markdown",
   "metadata": {},
   "source": [
    "# Questions \n",
    "- Horraires du départ non conforme avec les créneaux machines\n",
    "- Créneaux et jours ? indices dépendants \n",
    "- Il ya un choix à faire lors de la correspondance entre tâche humaine et créneaux où \\\n",
    "entre tâche machine et créneaux."
   ]
  }
 ],
 "metadata": {
  "kernelspec": {
   "display_name": "base",
   "language": "python",
   "name": "python3"
  },
  "language_info": {
   "codemirror_mode": {
    "name": "ipython",
    "version": 3
   },
   "file_extension": ".py",
   "mimetype": "text/x-python",
   "name": "python",
   "nbconvert_exporter": "python",
   "pygments_lexer": "ipython3",
   "version": "3.10.9"
  }
 },
 "nbformat": 4,
 "nbformat_minor": 2
}
