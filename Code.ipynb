{
 "cells": [
  {
   "cell_type": "markdown",
   "metadata": {},
   "source": [
    "## Modules"
   ]
  },
  {
   "cell_type": "code",
   "execution_count": 1,
   "metadata": {},
   "outputs": [],
   "source": [
    "# Modules de base\n",
    "import numpy as np\n",
    "import matplotlib.pyplot as plt\n",
    "import pandas as pd\n",
    "%matplotlib inline\n",
    "\n",
    "# Module relatif à Gurobi\n",
    "from gurobipy import *\n",
    "\n",
    "# Module csv\n",
    "import csv"
   ]
  },
  {
   "cell_type": "code",
   "execution_count": 9,
   "metadata": {},
   "outputs": [],
   "source": [
    "mini_instance=\"mini_instance.xlsx\"\n",
    "instance_simple=\"instance_WPY_simple.xlsx\"\n",
    "instance_realiste=\"instance_WPY_realiste_jalon1.xlsx\""
   ]
  },
  {
   "cell_type": "markdown",
   "metadata": {},
   "source": [
    "## Mini insatnce:"
   ]
  },
  {
   "cell_type": "code",
   "execution_count": 11,
   "metadata": {},
   "outputs": [
    {
     "name": "stdout",
     "output_type": "stream",
     "text": [
      "{'Chantiers': [{'Chantier': 'WPY_REC', 'Nombre de voies': 3, 'Indisponibilites': 0}, {'Chantier': 'WPY_FOR', 'Nombre de voies': 3, 'Indisponibilites': 0}, {'Chantier': 'WPY_DEP', 'Nombre de voies': 3, 'Indisponibilites': 0}], 'Machines': [{'Machine': 'DEB', 'Type de tache': 'Débranchement', 'Duree ': 15, 'Indisponibilites': 0}, {'Machine': 'FOR', 'Type de tache': 'Formation', 'Duree ': 15, 'Indisponibilites': '(6,13:00-13:00);(7, 13:00-13:00)'}, {'Machine': 'DEG', 'Type de tache': 'Dégarage', 'Duree ': 15, 'Indisponibilites': 0}], 'Sillons arrivee': [{'n°TRAIN': 'sillon1', 'HARR': datetime.time(9, 0), 'JARR': '02/05/2023'}, {'n°TRAIN': 'sillon2', 'HARR': datetime.time(13, 0), 'JARR': '02/05/2023'}, {'n°TRAIN': 'sillon3', 'HARR': datetime.time(16, 0), 'JARR': '02/05/2023'}], 'Sillons depart': [{'n°TRAIN': 'sillon4', 'HDEP': datetime.time(21, 0), 'JDEP': Timestamp('2023-05-02 00:00:00')}, {'n°TRAIN': 'sillon5', 'HDEP': datetime.time(21, 0), 'JDEP': Timestamp('2023-05-02 00:00:00')}, {'n°TRAIN': 'sillon6', 'HDEP': datetime.time(21, 30), 'JDEP': Timestamp('2023-05-02 00:00:00')}], 'Correspondances': [{'Id wagon': 1, 'Jour arrivee': datetime.datetime(2023, 5, 2, 0, 0), 'n°Train arrivee': 'sillon1', 'Jour depart': '02/05/2023', 'n°Train depart': 'sillon5'}, {'Id wagon': 2, 'Jour arrivee': datetime.datetime(2023, 5, 2, 0, 0), 'n°Train arrivee': 'sillon1', 'Jour depart': '02/05/2023', 'n°Train depart': 'sillon6'}, {'Id wagon': 3, 'Jour arrivee': '02/05/2023', 'n°Train arrivee': 'sillon2', 'Jour depart': '02/05/2023', 'n°Train depart': 'sillon4'}, {'Id wagon': 4, 'Jour arrivee': '02/05/2023', 'n°Train arrivee': 'sillon2', 'Jour depart': '02/05/2023', 'n°Train depart': 'sillon5'}, {'Id wagon': 5, 'Jour arrivee': '02/05/2023', 'n°Train arrivee': 'sillon2', 'Jour depart': '02/05/2023', 'n°Train depart': 'sillon6'}, {'Id wagon': 6, 'Jour arrivee': '02/05/2023', 'n°Train arrivee': 'sillon3', 'Jour depart': '02/05/2023', 'n°Train depart': 'sillon4'}, {'Id wagon': 7, 'Jour arrivee': '02/05/2023', 'n°Train arrivee': 'sillon3', 'Jour depart': '02/05/2023', 'n°Train depart': 'sillon6'}], 'Taches humaines': [{'Type de train': 'ARR', 'Type de tache humaine': 'arrivée Reception', 'Lien machine': nan, 'Durée': 15, 'Chantier': 'WPY_REC', 'Ordre': 1}, {'Type de train': 'ARR', 'Type de tache humaine': 'préparation tri', 'Lien machine': nan, 'Durée': 45, 'Chantier': 'WPY_REC', 'Ordre': 2}, {'Type de train': 'ARR', 'Type de tache humaine': 'débranchement', 'Lien machine': 'DEB=', 'Durée': 15, 'Chantier': 'WPY_REC', 'Ordre': 3}, {'Type de train': 'DEP', 'Type de tache humaine': 'appui voie + mise en place câle', 'Lien machine': 'FOR=', 'Durée': 15, 'Chantier': 'WPY_FOR', 'Ordre': 1}, {'Type de train': 'DEP', 'Type de tache humaine': 'attelage véhicules', 'Lien machine': nan, 'Durée': 150, 'Chantier': 'WPY_FOR', 'Ordre': 2}, {'Type de train': 'DEP', 'Type de tache humaine': 'dégarage / bouger de rame', 'Lien machine': 'DEG=', 'Durée': 15, 'Chantier': 'WPY_FOR', 'Ordre': 3}, {'Type de train': 'DEP', 'Type de tache humaine': 'essai de frein départ', 'Lien machine': nan, 'Durée': 20, 'Chantier': 'WPY_DEP', 'Ordre': 4}], 'Roulements agents': [{'Roulement': 'roulement1', 'Jours de la semaine': '1; 2; 3; 4; 5; 6; 7', 'Nombre agents': 2, 'Cycles horaires': '05:00-13:00;13:00-21:00;21:00-05:00', 'Connaissances chantiers': 'WPY_FOR;WPY_DEP'}, {'Roulement': 'roulement2', 'Jours de la semaine': '1; 2; 3; 4; 5; 6; 7', 'Nombre agents': 8, 'Cycles horaires': '05:00-13:00;13:00-21:00', 'Connaissances chantiers': 'WPY_REC;WPY_FOR;WPY_DEP'}]}\n"
     ]
    }
   ],
   "source": [
    "import pandas as pd\n",
    "\n",
    "def excel_to_dict(file):\n",
    "    # Load the Excel file\n",
    "    xl = pd.ExcelFile(file)\n",
    "    \n",
    "    # Get the names of the sheets\n",
    "    sheet_names = xl.sheet_names\n",
    "    \n",
    "    # Initialize a dictionary to store the data\n",
    "    data_dict = {}\n",
    "    \n",
    "    # Iterate over each sheet\n",
    "    for sheet_name in sheet_names:\n",
    "        # Read the sheet into a pandas DataFrame\n",
    "        df = pd.read_excel(file, sheet_name=sheet_name)\n",
    "        \n",
    "        # Convert the DataFrame into a list of dictionaries and add to the data dictionary\n",
    "        data_dict[sheet_name] = df.to_dict(orient='records')\n",
    "    \n",
    "    return data_dict\n",
    "\n",
    "\n",
    "\n",
    "# Convert the Excel file to a dictionary\n",
    "data_dictionary = excel_to_dict(mini_instance)\n",
    "\n",
    "# You can now use data_dictionary as needed\n",
    "print(data_dictionary)\n"
   ]
  }
 ],
 "metadata": {
  "kernelspec": {
   "display_name": "base",
   "language": "python",
   "name": "python3"
  },
  "language_info": {
   "codemirror_mode": {
    "name": "ipython",
    "version": 3
   },
   "file_extension": ".py",
   "mimetype": "text/x-python",
   "name": "python",
   "nbconvert_exporter": "python",
   "pygments_lexer": "ipython3",
   "version": "3.11.5"
  }
 },
 "nbformat": 4,
 "nbformat_minor": 2
}
