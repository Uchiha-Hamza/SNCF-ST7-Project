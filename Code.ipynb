{
 "cells": [
  {
   "cell_type": "markdown",
   "metadata": {},
   "source": [
    "\n",
    "# <font color=blue><div align=\"center\">ST7 SNCF : Jalon 1</div></font>\n",
    "\n",
    "## <font color=blue><div align=\"center\">\"<em>Indian Railways</em>\"</div></font>"
   ]
  },
  {
   "cell_type": "markdown",
   "metadata": {},
   "source": [
    "## Modules"
   ]
  },
  {
   "cell_type": "code",
   "execution_count": 147,
   "metadata": {},
   "outputs": [],
   "source": [
    "# Modules de base\n",
    "import numpy as np\n",
    "import matplotlib.pyplot as plt\n",
    "import pandas as pd\n",
    "import datetime\n",
    "%matplotlib inline\n",
    "from dateutil import parser\n",
    "\n",
    "# Module relatif à Gurobi\n",
    "from gurobipy import *\n",
    "\n",
    "\n",
    "# Module csv\n",
    "import csv\n",
    "from datetime import datetime"
   ]
  },
  {
   "cell_type": "code",
   "execution_count": 148,
   "metadata": {},
   "outputs": [],
   "source": [
    "mini_instance=\"mini_instance.xlsx\"\n",
    "instance_simple=\"instance_WPY_simple.xlsx\"\n",
    "instance_realiste=\"instance_WPY_realiste_jalon1.xlsx\"\n",
    "test=\"mini_instance_test.xlsx\""
   ]
  },
  {
   "cell_type": "markdown",
   "metadata": {},
   "source": [
    "## Traitement de données"
   ]
  },
  {
   "cell_type": "code",
   "execution_count": 253,
   "metadata": {},
   "outputs": [],
   "source": [
    "def excel_to_dict(file :str)-> dict[str]:\n",
    "    '''\n",
    "    Takes excel file name in the repo\n",
    "    and returns a dictionary[sheet_name]=Dataframe\n",
    "    '''\n",
    "    # Load the Excel file\n",
    "    xl = pd.ExcelFile(file)\n",
    "    \n",
    "    # Get the names of the sheets\n",
    "    sheet_names = xl.sheet_names\n",
    "    \n",
    "    # Initialize a dictionary to store the data\n",
    "    data_dict = {}\n",
    "    \n",
    "    # Iterate over each sheet\n",
    "    for sheet_name in sheet_names:\n",
    "        # Read the sheet into a pandas DataFrame\n",
    "        data_dict[sheet_name] = pd.read_excel(file, sheet_name=sheet_name)\n",
    "    return data_dict\n",
    "\n",
    "INSTANCE= excel_to_dict(instance_realiste)\n"
   ]
  },
  {
   "cell_type": "code",
   "execution_count": 254,
   "metadata": {},
   "outputs": [],
   "source": [
    "indice=instance_realiste"
   ]
  },
  {
   "cell_type": "markdown",
   "metadata": {},
   "source": [
    "### Dictionnaires utiles "
   ]
  },
  {
   "cell_type": "markdown",
   "metadata": {},
   "source": [
    "Trains de l'arrivée et du départs"
   ]
  },
  {
   "cell_type": "code",
   "execution_count": 255,
   "metadata": {},
   "outputs": [
    {
     "name": "stdout",
     "output_type": "stream",
     "text": [
      "<class 'pandas.core.series.Series'>\n",
      "<class 'pandas.core.series.Series'>\n"
     ]
    }
   ],
   "source": [
    "trains_arrivee=[]\n",
    "print(type(INSTANCE['Sillons arrivee'][\"JARR\"])) #str\n",
    "print(type(INSTANCE['Sillons depart']['JDEP'])) #timestamp\n",
    "for index, row in INSTANCE[\"Sillons arrivee\"].iterrows():\n",
    "    id_train = row['n°TRAIN'],row['JARR']\n",
    "    trains_arrivee.append(id_train)\n",
    "\n",
    "trains_depart=[]\n",
    "\n",
    "for index, row in INSTANCE[\"Sillons depart\"].iterrows():\n",
    "    numero_train = row['n°TRAIN'],row['JDEP']\n",
    "    trains_depart.append(numero_train)"
   ]
  },
  {
   "cell_type": "code",
   "execution_count": 256,
   "metadata": {},
   "outputs": [
    {
     "name": "stdout",
     "output_type": "stream",
     "text": [
      "[(400006, '09/08/2022'), (400016, '09/08/2022'), (400110, '09/08/2022'), (431035, '09/08/2022'), (431091, '09/08/2022'), (44203, '09/08/2022'), (44241, '09/08/2022'), (44249, '09/08/2022'), (44806, '09/08/2022'), (47245, '09/08/2022'), (47289, '09/08/2022'), (47821, '09/08/2022'), (489447, '09/08/2022'), (52672, '09/08/2022'), (54003, '09/08/2022'), (54051, '09/08/2022'), (54086, '09/08/2022'), (54231, '09/08/2022'), (450226, '10/08/2022'), (400014, '10/08/2022'), (412124, '10/08/2022'), (41258, '10/08/2022'), (431035, '10/08/2022'), (431091, '10/08/2022'), (44203, '10/08/2022'), (44241, '10/08/2022'), (44249, '10/08/2022'), (47205, '10/08/2022'), (48215, '10/08/2022'), (489044, '10/08/2022'), (52672, '10/08/2022'), (54003, '10/08/2022'), (54053, '10/08/2022'), (54231, '10/08/2022'), (71210, '10/08/2022'), (400006, '11/08/2022'), (400010, '11/08/2022'), (400016, '11/08/2022'), (431035, '11/08/2022'), (44203, '11/08/2022'), (44241, '11/08/2022'), (44806, '11/08/2022'), (450226, '11/08/2022'), (47245, '11/08/2022'), (47247, '11/08/2022'), (47820, '11/08/2022'), (489118, '11/08/2022'), (52672, '11/08/2022'), (54003, '11/08/2022'), (54051, '11/08/2022'), (54086, '11/08/2022'), (54231, '11/08/2022'), (71256, '11/08/2022'), (400010, '12/08/2022'), (400016, '12/08/2022'), (412024, '12/08/2022'), (41258, '12/08/2022'), (431035, '12/08/2022'), (44241, '12/08/2022'), (44249, '12/08/2022'), (44952, '12/08/2022'), (47205, '12/08/2022'), (48219, '12/08/2022'), (489447, '12/08/2022'), (52672, '12/08/2022'), (54003, '12/08/2022'), (54053, '12/08/2022'), (54086, '12/08/2022'), (54231, '12/08/2022'), (71217, '12/08/2022'), (41258, '13/08/2022'), (431091, '13/08/2022'), (44241, '13/08/2022'), (44806, '13/08/2022'), (450224, '13/08/2022'), (47237, '13/08/2022'), (47281, '13/08/2022'), (489044, '13/08/2022'), (489119, '13/08/2022'), (489447, '13/08/2022'), (54051, '13/08/2022'), (54086, '13/08/2022'), (431037, '14/08/2022'), (44247, '14/08/2022'), (44559, '14/08/2022'), (47820, '14/08/2022'), (489447, '14/08/2022'), (54003, '14/08/2022'), (54053, '14/08/2022'), (54055, '14/08/2022'), (54086, '14/08/2022'), (400014, '15/08/2022'), (431035, '15/08/2022'), (431121, '15/08/2022'), (450226, '15/08/2022'), (489447, '15/08/2022'), (54003, '15/08/2022'), (54051, '15/08/2022'), (54086, '15/08/2022'), (54231, '15/08/2022'), (41258, '16/08/2022'), (431091, '16/08/2022'), (489044, '16/08/2022'), (54051, '16/08/2022'), (412124, '17/08/2022'), (431113, '17/08/2022')]\n",
      "[(412202, '08/08/2022'), (431018, '08/08/2022'), (431246, '08/08/2022'), (44951, '08/08/2022'), (450237, '08/08/2022'), (489016, '08/08/2022'), (54234, '08/08/2022'), (55390, '08/08/2022'), (56135, '08/08/2022'), (412023, '09/08/2022'), (41264, '09/08/2022'), (431802, '09/08/2022'), (44222, '09/08/2022'), (44250, '09/08/2022'), (44865, '09/08/2022'), (450237, '09/08/2022'), (471003, '09/08/2022'), (47262, '09/08/2022'), (489026, '09/08/2022'), (54234, '09/08/2022'), (55390, '09/08/2022'), (55398, '09/08/2022'), (56135, '09/08/2022'), (56730, '09/08/2022'), (58706, '09/08/2022'), (412023, '10/08/2022'), (412202, '10/08/2022'), (41264, '10/08/2022'), (431020, '10/08/2022'), (431110, '10/08/2022'), (431246, '10/08/2022'), (431802, '10/08/2022'), (44222, '10/08/2022'), (44228, '10/08/2022'), (44250, '10/08/2022'), (450237, '10/08/2022'), (471003, '10/08/2022'), (47214, '10/08/2022'), (47262, '10/08/2022'), (54234, '10/08/2022'), (55390, '10/08/2022'), (55396, '10/08/2022'), (56135, '10/08/2022'), (56730, '10/08/2022'), (58706, '10/08/2022'), (71270, '10/08/2022'), (412023, '11/08/2022'), (412202, '11/08/2022'), (41254, '11/08/2022'), (431246, '11/08/2022'), (431640, '11/08/2022'), (431802, '11/08/2022'), (44222, '11/08/2022'), (44250, '11/08/2022'), (44865, '11/08/2022'), (450237, '11/08/2022'), (471003, '11/08/2022'), (47212, '11/08/2022'), (47240, '11/08/2022'), (47262, '11/08/2022'), (47822, '11/08/2022'), (54234, '11/08/2022'), (55390, '11/08/2022'), (55394, '11/08/2022'), (55396, '11/08/2022'), (56135, '11/08/2022'), (56730, '11/08/2022'), (58706, '11/08/2022'), (412023, '12/08/2022'), (412202, '12/08/2022'), (41264, '12/08/2022'), (431246, '12/08/2022'), (431802, '12/08/2022'), (44222, '12/08/2022'), (44228, '12/08/2022'), (44250, '12/08/2022'), (44865, '12/08/2022'), (44951, '12/08/2022'), (450237, '12/08/2022'), (471003, '12/08/2022'), (47214, '12/08/2022'), (47262, '12/08/2022'), (47822, '12/08/2022'), (48216, '12/08/2022'), (489026, '12/08/2022'), (489042, '12/08/2022'), (54234, '12/08/2022'), (55396, '12/08/2022'), (56135, '12/08/2022'), (56730, '12/08/2022'), (58706, '12/08/2022'), (71270, '12/08/2022'), (412023, '13/08/2022'), (41230, '13/08/2022'), (431802, '13/08/2022'), (44222, '13/08/2022'), (44228, '13/08/2022'), (44250, '13/08/2022'), (44864, '13/08/2022'), (450235, '13/08/2022'), (47240, '13/08/2022'), (47262, '13/08/2022'), (47822, '13/08/2022'), (489026, '13/08/2022'), (54234, '13/08/2022'), (55390, '13/08/2022'), (55396, '13/08/2022'), (56135, '13/08/2022'), (56730, '13/08/2022'), (58706, '13/08/2022'), (56730, '14/08/2022')]\n"
     ]
    }
   ],
   "source": [
    "print(trains_depart)\n",
    "print(trains_arrivee)"
   ]
  },
  {
   "cell_type": "code",
   "execution_count": 5,
   "metadata": {},
   "outputs": [
    {
     "name": "stdout",
     "output_type": "stream",
     "text": [
      "['sillon1', 'sillon2', 'sillon3']\n"
     ]
    }
   ],
   "source": [
    "print(trains_arrivee)"
   ]
  },
  {
   "cell_type": "markdown",
   "metadata": {},
   "source": [
    "Correspondance"
   ]
  },
  {
   "cell_type": "code",
   "execution_count": 257,
   "metadata": {},
   "outputs": [],
   "source": [
    "def trains_depart_relatifs_a(train_depart)->list:\n",
    "    '''\n",
    "    Prend l'id d'un train du départ \n",
    "    et retourne une liste des id des trains\n",
    "    d'arrivée qui le constituent\n",
    "    '''\n",
    "    trains_arrivee_associes = []\n",
    "    for index, row in INSTANCE[\"Correspondances\"].iterrows():\n",
    "        if (row['n°Train depart'],row['Jour depart'])==train_depart :\n",
    "            trains_arrivee_associes.append((row['n°Train arrivee'],row['Jour arrivee']))\n",
    "        \n",
    "    return trains_arrivee_associes"
   ]
  },
  {
   "cell_type": "markdown",
   "metadata": {},
   "source": [
    "création des créneaux"
   ]
  },
  {
   "cell_type": "code",
   "execution_count": 283,
   "metadata": {},
   "outputs": [],
   "source": [
    "def numero_jour_semaine(date_str):\n",
    "    date = pd.to_datetime(date_str, format='%d/%m/%Y')\n",
    "    numero_jour = date.dayofweek\n",
    "    return numero_jour\n",
    "\n",
    "def HARR_to_creneau_in_h(heure,indice):\n",
    "    heure_str=''\n",
    "    if indice==mini_instance:\n",
    "        heure_str = heure.strftime(\"%H:%M\")\n",
    "    else:\n",
    "        heure_str=heure\n",
    "    heure1,minute= int(heure_str.split(':')[0]), int(heure_str.split(':')[1])    \n",
    "    return heure1*4 + minute//15"
   ]
  },
  {
   "cell_type": "code",
   "execution_count": 281,
   "metadata": {},
   "outputs": [
    {
     "name": "stdout",
     "output_type": "stream",
     "text": [
      "72\n",
      "63\n"
     ]
    }
   ],
   "source": [
    "print(HARR_to_creneau_in_h('17:46',instance_simple))"
   ]
  },
  {
   "cell_type": "code",
   "execution_count": 287,
   "metadata": {},
   "outputs": [
    {
     "name": "stdout",
     "output_type": "stream",
     "text": [
      "jour0:  08/08/2022\n",
      "creneaux_depart:  {(400006, '09/08/2022'): 159, (400016, '09/08/2022'): 187, (400110, '09/08/2022'): 179, (431035, '09/08/2022'): 156, (431091, '09/08/2022'): 121, (44203, '09/08/2022'): 167, (44241, '09/08/2022'): 149, (44249, '09/08/2022'): 108, (44806, '09/08/2022'): 128, (47245, '09/08/2022'): 153, (47289, '09/08/2022'): 140, (47821, '09/08/2022'): 185, (489447, '09/08/2022'): 120, (52672, '09/08/2022'): 160, (54003, '09/08/2022'): 111, (54051, '09/08/2022'): 118, (54086, '09/08/2022'): 111, (54231, '09/08/2022'): 152, (450226, '10/08/2022'): 221, (400014, '10/08/2022'): 271, (412124, '10/08/2022'): 204, (41258, '10/08/2022'): 202, (431035, '10/08/2022'): 252, (431091, '10/08/2022'): 217, (44203, '10/08/2022'): 263, (44241, '10/08/2022'): 245, (44249, '10/08/2022'): 204, (47205, '10/08/2022'): 248, (48215, '10/08/2022'): 256, (489044, '10/08/2022'): 200, (52672, '10/08/2022'): 256, (54003, '10/08/2022'): 207, (54053, '10/08/2022'): 254, (54231, '10/08/2022'): 248, (71210, '10/08/2022'): 212, (400006, '11/08/2022'): 351, (400010, '11/08/2022'): 383, (400016, '11/08/2022'): 379, (431035, '11/08/2022'): 348, (44203, '11/08/2022'): 359, (44241, '11/08/2022'): 341, (44806, '11/08/2022'): 309, (450226, '11/08/2022'): 317, (47245, '11/08/2022'): 346, (47247, '11/08/2022'): 332, (47820, '11/08/2022'): 377, (489118, '11/08/2022'): 348, (52672, '11/08/2022'): 352, (54003, '11/08/2022'): 303, (54051, '11/08/2022'): 310, (54086, '11/08/2022'): 303, (54231, '11/08/2022'): 344, (71256, '11/08/2022'): 297, (400010, '12/08/2022'): 479, (400016, '12/08/2022'): 475, (412024, '12/08/2022'): 401, (41258, '12/08/2022'): 394, (431035, '12/08/2022'): 444, (44241, '12/08/2022'): 437, (44249, '12/08/2022'): 396, (44952, '12/08/2022'): 467, (47205, '12/08/2022'): 461, (48219, '12/08/2022'): 394, (489447, '12/08/2022'): 408, (52672, '12/08/2022'): 448, (54003, '12/08/2022'): 399, (54053, '12/08/2022'): 446, (54086, '12/08/2022'): 399, (54231, '12/08/2022'): 440, (71217, '12/08/2022'): 478, (41258, '13/08/2022'): 490, (431091, '13/08/2022'): 505, (44241, '13/08/2022'): 533, (44806, '13/08/2022'): 498, (450224, '13/08/2022'): 518, (47237, '13/08/2022'): 524, (47281, '13/08/2022'): 553, (489044, '13/08/2022'): 488, (489119, '13/08/2022'): 540, (489447, '13/08/2022'): 504, (54051, '13/08/2022'): 502, (54086, '13/08/2022'): 495, (431037, '14/08/2022'): 646, (44247, '14/08/2022'): 634, (44559, '14/08/2022'): 624, (47820, '14/08/2022'): 636, (489447, '14/08/2022'): 600, (54003, '14/08/2022'): 591, (54053, '14/08/2022'): 638, (54055, '14/08/2022'): 582, (54086, '14/08/2022'): 591, (400014, '15/08/2022'): 751, (431035, '15/08/2022'): 732, (431121, '15/08/2022'): 694, (450226, '15/08/2022'): 701, (489447, '15/08/2022'): 696, (54003, '15/08/2022'): 687, (54051, '15/08/2022'): 694, (54086, '15/08/2022'): 687, (54231, '15/08/2022'): 728, (41258, '16/08/2022'): 778, (431091, '16/08/2022'): 793, (489044, '16/08/2022'): 776, (54051, '16/08/2022'): 790, (412124, '17/08/2022'): 876, (431113, '17/08/2022'): 908}\n",
      "crenaux_arrivee:  {(412202, '08/08/2022'): 83, (431018, '08/08/2022'): 53, (431246, '08/08/2022'): 44, (44951, '08/08/2022'): 75, (450237, '08/08/2022'): 47, (489016, '08/08/2022'): 94, (54234, '08/08/2022'): 88, (55390, '08/08/2022'): 95, (56135, '08/08/2022'): 85, (412023, '09/08/2022'): 104, (41264, '09/08/2022'): 186, (431802, '09/08/2022'): 108, (44222, '09/08/2022'): 168, (44250, '09/08/2022'): 137, (44865, '09/08/2022'): 161, (450237, '09/08/2022'): 143, (471003, '09/08/2022'): 146, (47262, '09/08/2022'): 132, (489026, '09/08/2022'): 134, (54234, '09/08/2022'): 184, (55390, '09/08/2022'): 191, (55398, '09/08/2022'): 112, (56135, '09/08/2022'): 181, (56730, '09/08/2022'): 106, (58706, '09/08/2022'): 181, (412023, '10/08/2022'): 200, (412202, '10/08/2022'): 275, (41264, '10/08/2022'): 282, (431020, '10/08/2022'): 273, (431110, '10/08/2022'): 242, (431246, '10/08/2022'): 236, (431802, '10/08/2022'): 207, (44222, '10/08/2022'): 255, (44228, '10/08/2022'): 196, (44250, '10/08/2022'): 233, (450237, '10/08/2022'): 239, (471003, '10/08/2022'): 242, (47214, '10/08/2022'): 242, (47262, '10/08/2022'): 228, (54234, '10/08/2022'): 280, (55390, '10/08/2022'): 287, (55396, '10/08/2022'): 223, (56135, '10/08/2022'): 277, (56730, '10/08/2022'): 202, (58706, '10/08/2022'): 277, (71270, '10/08/2022'): 229, (412023, '11/08/2022'): 296, (412202, '11/08/2022'): 371, (41254, '11/08/2022'): 381, (431246, '11/08/2022'): 332, (431640, '11/08/2022'): 332, (431802, '11/08/2022'): 300, (44222, '11/08/2022'): 351, (44250, '11/08/2022'): 329, (44865, '11/08/2022'): 353, (450237, '11/08/2022'): 335, (471003, '11/08/2022'): 338, (47212, '11/08/2022'): 358, (47240, '11/08/2022'): 299, (47262, '11/08/2022'): 324, (47822, '11/08/2022'): 366, (54234, '11/08/2022'): 376, (55390, '11/08/2022'): 383, (55394, '11/08/2022'): 334, (55396, '11/08/2022'): 303, (56135, '11/08/2022'): 373, (56730, '11/08/2022'): 298, (58706, '11/08/2022'): 373, (412023, '12/08/2022'): 392, (412202, '12/08/2022'): 467, (41264, '12/08/2022'): 474, (431246, '12/08/2022'): 428, (431802, '12/08/2022'): 404, (44222, '12/08/2022'): 447, (44228, '12/08/2022'): 388, (44250, '12/08/2022'): 425, (44865, '12/08/2022'): 449, (44951, '12/08/2022'): 459, (450237, '12/08/2022'): 431, (471003, '12/08/2022'): 434, (47214, '12/08/2022'): 454, (47262, '12/08/2022'): 420, (47822, '12/08/2022'): 462, (48216, '12/08/2022'): 414, (489026, '12/08/2022'): 430, (489042, '12/08/2022'): 470, (54234, '12/08/2022'): 472, (55396, '12/08/2022'): 415, (56135, '12/08/2022'): 469, (56730, '12/08/2022'): 394, (58706, '12/08/2022'): 469, (71270, '12/08/2022'): 421, (412023, '13/08/2022'): 488, (41230, '13/08/2022'): 568, (431802, '13/08/2022'): 500, (44222, '13/08/2022'): 544, (44228, '13/08/2022'): 484, (44250, '13/08/2022'): 522, (44864, '13/08/2022'): 544, (450235, '13/08/2022'): 527, (47240, '13/08/2022'): 487, (47262, '13/08/2022'): 517, (47822, '13/08/2022'): 558, (489026, '13/08/2022'): 526, (54234, '13/08/2022'): 568, (55390, '13/08/2022'): 575, (55396, '13/08/2022'): 511, (56135, '13/08/2022'): 565, (56730, '13/08/2022'): 490, (58706, '13/08/2022'): 565, (56730, '14/08/2022'): 586}\n"
     ]
    }
   ],
   "source": [
    "jour0=str(INSTANCE[\"Sillons arrivee\"][\"JARR\"][0])\n",
    "print('jour0: ',jour0)\n",
    "indice_jour0=numero_jour_semaine(jour0)\n",
    "# print(indice_jour0)\n",
    "\n",
    "def creneaux_arrivee(jour0,INSTANCE,indice):\n",
    "    creneaux_arrivee={}\n",
    "    for index, row in INSTANCE[\"Sillons arrivee\"].iterrows():\n",
    "        delta=(datetime.strptime(row['JARR'],'%d/%m/%Y')-datetime.strptime(jour0,'%d/%m/%Y')).days\n",
    "        creneaux_arrivee[(row['n°TRAIN'],row['JARR'])]=(delta//7)*96+numero_jour_semaine(row['JARR'])*96 + HARR_to_creneau_in_h(row['HARR'],indice)\n",
    "    \n",
    "    return creneaux_arrivee\n",
    "    \n",
    "def creneaux_depart(jour0,INSTANCE,indice):\n",
    "    creneaux_depart={}\n",
    "    for index, row in INSTANCE[\"Sillons depart\"].iterrows():\n",
    "        # ti=datetime.fromtimestamp(row['JDEP']))\n",
    "        # print(row['JDEP'].to_pydatetime())\n",
    "        time_str=row['JDEP']\n",
    "        date=datetime.strptime('2002/09/23','%Y/%m/%d')\n",
    "        if indice==mini_instance:\n",
    "            time_str=row['JDEP'].strftime('%Y-%m-%d')\n",
    "            date=datetime.strptime(time_str,'%Y-%m-%d')\n",
    "        elif indice==instance_simple:\n",
    "            time_str=row['JDEP']\n",
    "            date=datetime.strptime(time_str,'%d/%m/%Y')\n",
    "        else: \n",
    "            date=datetime.strptime(time_str,'%d/%m/%Y')\n",
    "        delta=(date-datetime.strptime(jour0,'%d/%m/%Y')).days\n",
    "        creneaux_depart[(row['n°TRAIN'],row['JDEP'])]=(delta//7)*96*7+numero_jour_semaine(row['JDEP'])*96 + HARR_to_creneau_in_h(row['HDEP'],indice)\n",
    "        \n",
    "    return creneaux_depart\n",
    "\n",
    "print('creneaux_depart: ', creneaux_depart(jour0,INSTANCE,indice))\n",
    "print('crenaux_arrivee: ',creneaux_arrivee(jour0,INSTANCE,indice))\n",
    "\n"
   ]
  },
  {
   "cell_type": "markdown",
   "metadata": {},
   "source": [
    "Créneaux de l'arrivée et du départ"
   ]
  },
  {
   "cell_type": "code",
   "execution_count": 289,
   "metadata": {},
   "outputs": [],
   "source": [
    "creneau_arrivee=creneaux_arrivee(jour0,INSTANCE,indice)\n",
    "creneau_depart=creneaux_depart(jour0,INSTANCE,indice)\n",
    "nombre_creneaux=96*8\n",
    "if indice==instance_realiste:\n",
    "    nombre_creneaux=96*10"
   ]
  },
  {
   "cell_type": "markdown",
   "metadata": {},
   "source": [
    "Indisponibilités"
   ]
  },
  {
   "cell_type": "code",
   "execution_count": null,
   "metadata": {},
   "outputs": [],
   "source": [
    "def creneaux_de_periode(indispo_str,nombre_creneaux): #jour, plage_horaire\n",
    "    plage_jours=nombre_creneaux//96\n",
    "    creneaux = []\n",
    "    if indispo_str!='0':\n",
    "        periodes = indispo_str.split(';')\n",
    "        for periode in periodes:\n",
    "            jour, plage_horaire = periode.strip('()').split(',')\n",
    "            jour = int(jour)\n",
    "            jours=[jour+7*k for k in range(0,plage_jours//7+1)]\n",
    "            plage_horaire = plage_horaire.strip('()').split('-')\n",
    "            heure_debut, minute_debut = map(int, plage_horaire[0].split(':'))\n",
    "            creneau_debut=minute_debut//15+1\n",
    "            heure_fin, minute_fin = map(int, plage_horaire[1].split(':'))\n",
    "            creneau_fin=minute_fin//15+1\n",
    "\n",
    "\n",
    "            if (heure_debut,minute_debut)>=(heure_fin,minute_fin):\n",
    "                for jour1 in jours:\n",
    "                    for c in range((jour1-1)*96+heure_debut*4+creneau_debut,jour1*96):\n",
    "                        if c<=nombre_creneaux:\n",
    "                            creneaux.append(c)\n",
    "                    for c in range(jour1*96,jour1*96+heure_fin*4+creneau_fin):\n",
    "                        if c<=nombre_creneaux: creneaux.append(c)\n",
    "            else:\n",
    "                for jour1 in jours:\n",
    "                    for c in range((jour1-1)*96+heure_debut*4+creneau_debut,(jour1-1)*96+heure_fin*4+creneau_fin):\n",
    "                        if c<=nombre_creneaux: creneaux.append(c) \n",
    "    return creneaux\n",
    "\n",
    "# data1 = INSTANCE1['Machines']\n",
    "data = INSTANCE['Machines']\n",
    "\n",
    "df = pd.DataFrame(data)\n",
    "\n",
    "df['Indisponibilites']=df['Indisponibilites'].astype(str)\n",
    "# Apply the function to each row\n",
    "df['Indisponibilites_TimeSlots'] = df['Indisponibilites'].apply(creneaux_de_periode,nombre_creneaux=nombre_creneaux)\n",
    "\n",
    "\n",
    "DEB_INDIS = df.loc[df['Machine'] == 'DEB', 'Indisponibilites_TimeSlots'].values[0]\n",
    "FOR_INDIS = df.loc[df['Machine'] == 'FOR', 'Indisponibilites_TimeSlots'].values[0]\n",
    "DEG_INDIS = df.loc[df['Machine'] == 'DEG', 'Indisponibilites_TimeSlots'].values[0]"
   ]
  },
  {
   "cell_type": "markdown",
   "metadata": {},
   "source": [
    "## Modèle mathématique \n",
    "On a modélisé notre problème en partant du fait que les machines ne sont disponibles que pour un seul train et dans un seul créneau. \\\n",
    "De ce fait, on introduit les variables *binaires* suivantes : \\\n",
    "\\\n",
    "    - $(deb_{ijc})$ : variable binaire indiquant si la machine de débranchement est utilisée \\\n",
    "    pour le sillion d'arrivée d'identifiant $i$ dans le jour $j$ au créneau $c$ \\\n",
    "    - $(for_{ijc})$ : variable binaire indiquant si la machine de formation est utilisée \\\n",
    "    pour le sillion du départ d'identifiant $i$ dans le jour $j$ au créneau $c$ \\\n",
    "    - $(deg_{ijc})$ : variable binaire indiquant si la machine de dégarage est utilisée \\\n",
    "    pour le sillion du départ d'identifiant $i$ dans le jour $j$ au créneau $c$\n",
    "\n",
    "Les créneaux ont une durée de $15 min$ correspondant à la durée d'une tâche machine. Les valeurs possibles des créneaux dépendent de l'instance, \\\n",
    "soit alors $c \\in \\{1,2,..., c_{max}\\} $ où $c=1$ correspond au premier créneau de 15 min à parfir du premier jour de travail à $0:00$ et \\\n",
    "$c_{max}$ le dernier créneau du dernier jours de travail à partir de $23:45$.\n",
    "\n",
    "On note ainsi : \n",
    "$$A = \\{\\text{Les identifiants des trains d'arrivée}\\}$$\n",
    "$$D = \\{\\text{Les identifiants des trains du départ}\\}$$\n",
    "$$C= \\{1,2,..., c_{max}\\}$$"
   ]
  },
  {
   "cell_type": "code",
   "execution_count": 290,
   "metadata": {},
   "outputs": [],
   "source": [
    "# IMPLEMNTATION DES VARIABLES \n",
    "m= Model('Modèle')\n",
    "deb = {(i, c) : m.addVar(vtype = GRB.BINARY, name=f'deb_{i}_{c}') for i in trains_arrivee for c in range(1,nombre_creneaux+1)}\n",
    "form = {(i, c) : m.addVar(vtype = GRB.BINARY, name=f'deb_{i}_{c}') for i in trains_depart for c in range(1,nombre_creneaux+1)}\n",
    "deg = {(i, c) : m.addVar(vtype = GRB.BINARY, name=f'deg_{i}_{c}') for i in trains_depart for c in range(1,nombre_creneaux+1)}"
   ]
  },
  {
   "cell_type": "markdown",
   "metadata": {},
   "source": [
    "## Contraintes\n",
    "### 1. Unique débranchement, formation et dégarage\n",
    "Chaque train d'arrivé subit un seul et unique débranchement, chaque train du départ subit un seul et unique débranchement et dégarage. \n",
    "$$ \\forall i \\in A \\quad \\sum_{c} deb_{i,c} = 1 $$\n",
    "$$ \\forall i \\in D \\quad \\sum_{c} for_{i,c} = 1 $$\n",
    "$$ \\forall i \\in D \\quad \\sum_{c} deg_{i,c} = 1 $$"
   ]
  },
  {
   "cell_type": "code",
   "execution_count": 291,
   "metadata": {},
   "outputs": [],
   "source": [
    "uniqueDeb_train = {i : m.addConstr(quicksum([deb[(i, c)] for c in range(1, nombre_creneaux + 1)]) ==1, name = f'UniqueDeb_train{i}') for i in trains_arrivee}\n",
    "uniqueform_train = {i : m.addConstr(quicksum([form[(i, c)] for c in range(1, nombre_creneaux + 1)]) ==1, name = f'UniqueFor_train{i}') for i in trains_depart}\n",
    "uniqueDeg_train = {i : m.addConstr(quicksum([deg[(i, c)] for c in range(1, nombre_creneaux + 1)]) ==1, name = f'UniqueDeg_train{i}') for i in trains_depart}"
   ]
  },
  {
   "cell_type": "markdown",
   "metadata": {},
   "source": [
    "### 2. Une seule tâche machine par créneau  \n",
    "Chaque machine est exploitée par au plus un seul train sur chaque créneau.\n",
    "$$ \\forall c \\in C \\quad \\sum_{i \\in A} deb_{i,c} \\leq 1 $$\n",
    "$$ \\forall c \\in C \\quad \\sum_{i \\in D} for_{i,c} \\leq 1 $$\n",
    "$$ \\forall c \\in C \\quad \\sum_{i \\in D} deg_{i,c} \\leq 1 $$"
   ]
  },
  {
   "cell_type": "code",
   "execution_count": 292,
   "metadata": {},
   "outputs": [],
   "source": [
    "uniqueDeb_creneau = {c : m.addConstr(quicksum([deb[(i, c)] for i in trains_arrivee]) <=1, name = f'UniqueDeb_creneau{c}') for c in range(1, nombre_creneaux + 1)}\n",
    "uniqueFor_creneau = {c : m.addConstr(quicksum([form[(i, c)] for i in trains_depart]) <=1, name = f'UniqueFor_creneau{c}') for c in range(1, nombre_creneaux + 1)}\n",
    "uniqueDeg_creneau = {c : m.addConstr(quicksum([deg[(i, c)] for i in trains_depart ]) <=1, name = f'UniqueDeg_creneau{c}') for c in range(1, nombre_creneaux + 1)}\n"
   ]
  },
  {
   "cell_type": "markdown",
   "metadata": {},
   "source": [
    "### 3. Débranchement se fait après l'arrivée du train\n",
    "Pour chaque train d'arrivée $i$, le débranchement ne peut pas avoir lieu dans les créneaux précedent celui d'arrivée $c^{a}_{i}$ après une heure de tâches humaines.\n",
    "$$ \\forall i \\in A \\quad \\sum_{c \\space \\leq \\space c^{a}_{i}+4} deb_{i,c} = 0$$ "
   ]
  },
  {
   "cell_type": "code",
   "execution_count": 293,
   "metadata": {},
   "outputs": [
    {
     "ename": "KeyError",
     "evalue": "('sillon1', 769)",
     "output_type": "error",
     "traceback": [
      "\u001b[1;31m---------------------------------------------------------------------------\u001b[0m",
      "\u001b[1;31mKeyError\u001b[0m                                  Traceback (most recent call last)",
      "Cell \u001b[1;32mIn[90], line 1\u001b[0m\n\u001b[1;32m----> 1\u001b[0m deb_apres_arrivee \u001b[38;5;241m=\u001b[39m \u001b[43m{\u001b[49m\u001b[43mi\u001b[49m\u001b[43m \u001b[49m\u001b[43m:\u001b[49m\u001b[43m \u001b[49m\u001b[43mm\u001b[49m\u001b[38;5;241;43m.\u001b[39;49m\u001b[43maddConstr\u001b[49m\u001b[43m(\u001b[49m\u001b[43mquicksum\u001b[49m\u001b[43m(\u001b[49m\u001b[43m[\u001b[49m\u001b[43mdeb\u001b[49m\u001b[43m[\u001b[49m\u001b[43m(\u001b[49m\u001b[43mi\u001b[49m\u001b[43m,\u001b[49m\u001b[43m \u001b[49m\u001b[43mc\u001b[49m\u001b[43m)\u001b[49m\u001b[43m]\u001b[49m\u001b[43m \u001b[49m\u001b[38;5;28;43;01mfor\u001b[39;49;00m\u001b[43m \u001b[49m\u001b[43mc\u001b[49m\u001b[43m \u001b[49m\u001b[38;5;129;43;01min\u001b[39;49;00m\u001b[43m \u001b[49m\u001b[38;5;28;43mrange\u001b[39;49m\u001b[43m(\u001b[49m\u001b[38;5;241;43m1\u001b[39;49m\u001b[43m,\u001b[49m\u001b[43m \u001b[49m\u001b[43mcreneau_arrivee\u001b[49m\u001b[43m[\u001b[49m\u001b[43mi\u001b[49m\u001b[43m]\u001b[49m\u001b[43m \u001b[49m\u001b[38;5;241;43m+\u001b[39;49m\u001b[43m \u001b[49m\u001b[38;5;241;43m5\u001b[39;49m\u001b[43m)\u001b[49m\u001b[43m]\u001b[49m\u001b[43m)\u001b[49m\u001b[43m \u001b[49m\u001b[38;5;241;43m==\u001b[39;49m\u001b[38;5;241;43m0\u001b[39;49m\u001b[43m,\u001b[49m\u001b[43m \u001b[49m\u001b[43mname\u001b[49m\u001b[43m \u001b[49m\u001b[38;5;241;43m=\u001b[39;49m\u001b[43m \u001b[49m\u001b[38;5;124;43mf\u001b[39;49m\u001b[38;5;124;43m'\u001b[39;49m\u001b[38;5;124;43mdeb_apres_arrivee\u001b[39;49m\u001b[38;5;132;43;01m{\u001b[39;49;00m\u001b[43mi\u001b[49m\u001b[38;5;132;43;01m}\u001b[39;49;00m\u001b[38;5;124;43m'\u001b[39;49m\u001b[43m)\u001b[49m\u001b[43m \u001b[49m\u001b[38;5;28;43;01mfor\u001b[39;49;00m\u001b[43m \u001b[49m\u001b[43mi\u001b[49m\u001b[43m \u001b[49m\u001b[38;5;129;43;01min\u001b[39;49;00m\u001b[43m \u001b[49m\u001b[43mtrains_arrivee\u001b[49m\u001b[43m}\u001b[49m\n",
      "Cell \u001b[1;32mIn[90], line 1\u001b[0m, in \u001b[0;36m<dictcomp>\u001b[1;34m(.0)\u001b[0m\n\u001b[1;32m----> 1\u001b[0m deb_apres_arrivee \u001b[38;5;241m=\u001b[39m {i : m\u001b[38;5;241m.\u001b[39maddConstr(quicksum(\u001b[43m[\u001b[49m\u001b[43mdeb\u001b[49m\u001b[43m[\u001b[49m\u001b[43m(\u001b[49m\u001b[43mi\u001b[49m\u001b[43m,\u001b[49m\u001b[43m \u001b[49m\u001b[43mc\u001b[49m\u001b[43m)\u001b[49m\u001b[43m]\u001b[49m\u001b[43m \u001b[49m\u001b[38;5;28;43;01mfor\u001b[39;49;00m\u001b[43m \u001b[49m\u001b[43mc\u001b[49m\u001b[43m \u001b[49m\u001b[38;5;129;43;01min\u001b[39;49;00m\u001b[43m \u001b[49m\u001b[38;5;28;43mrange\u001b[39;49m\u001b[43m(\u001b[49m\u001b[38;5;241;43m1\u001b[39;49m\u001b[43m,\u001b[49m\u001b[43m \u001b[49m\u001b[43mcreneau_arrivee\u001b[49m\u001b[43m[\u001b[49m\u001b[43mi\u001b[49m\u001b[43m]\u001b[49m\u001b[43m \u001b[49m\u001b[38;5;241;43m+\u001b[39;49m\u001b[43m \u001b[49m\u001b[38;5;241;43m5\u001b[39;49m\u001b[43m)\u001b[49m\u001b[43m]\u001b[49m) \u001b[38;5;241m==\u001b[39m\u001b[38;5;241m0\u001b[39m, name \u001b[38;5;241m=\u001b[39m \u001b[38;5;124mf\u001b[39m\u001b[38;5;124m'\u001b[39m\u001b[38;5;124mdeb_apres_arrivee\u001b[39m\u001b[38;5;132;01m{\u001b[39;00mi\u001b[38;5;132;01m}\u001b[39;00m\u001b[38;5;124m'\u001b[39m) \u001b[38;5;28;01mfor\u001b[39;00m i \u001b[38;5;129;01min\u001b[39;00m trains_arrivee}\n",
      "Cell \u001b[1;32mIn[90], line 1\u001b[0m, in \u001b[0;36m<listcomp>\u001b[1;34m(.0)\u001b[0m\n\u001b[1;32m----> 1\u001b[0m deb_apres_arrivee \u001b[38;5;241m=\u001b[39m {i : m\u001b[38;5;241m.\u001b[39maddConstr(quicksum([\u001b[43mdeb\u001b[49m\u001b[43m[\u001b[49m\u001b[43m(\u001b[49m\u001b[43mi\u001b[49m\u001b[43m,\u001b[49m\u001b[43m \u001b[49m\u001b[43mc\u001b[49m\u001b[43m)\u001b[49m\u001b[43m]\u001b[49m \u001b[38;5;28;01mfor\u001b[39;00m c \u001b[38;5;129;01min\u001b[39;00m \u001b[38;5;28mrange\u001b[39m(\u001b[38;5;241m1\u001b[39m, creneau_arrivee[i] \u001b[38;5;241m+\u001b[39m \u001b[38;5;241m5\u001b[39m)]) \u001b[38;5;241m==\u001b[39m\u001b[38;5;241m0\u001b[39m, name \u001b[38;5;241m=\u001b[39m \u001b[38;5;124mf\u001b[39m\u001b[38;5;124m'\u001b[39m\u001b[38;5;124mdeb_apres_arrivee\u001b[39m\u001b[38;5;132;01m{\u001b[39;00mi\u001b[38;5;132;01m}\u001b[39;00m\u001b[38;5;124m'\u001b[39m) \u001b[38;5;28;01mfor\u001b[39;00m i \u001b[38;5;129;01min\u001b[39;00m trains_arrivee}\n",
      "\u001b[1;31mKeyError\u001b[0m: ('sillon1', 769)"
     ]
    }
   ],
   "source": [
    "deb_apres_arrivee = {i : m.addConstr(quicksum([deb[(i, c)] for c in range(1, creneau_arrivee[i] + 5)]) ==0, name = f'deb_apres_arrivee{i}') for i in trains_arrivee}\n"
   ]
  },
  {
   "cell_type": "markdown",
   "metadata": {},
   "source": [
    "### 4. Formation d'un train de départ \n",
    "Pour chaque train du départ $t$, la formation ne peut avoir lieu qu'après débranchement de tous les trains ayant les wagons qui le constituent. \\\n",
    "On note : $$ \\forall t \\in D \\quad A_t = \\{\\text{Les identifiants des trains d'arrivée ayant au moins un wagon du train t}\\}$$\n",
    "On peut exprimer la contrainte comme suit : \n",
    "$$ \\forall t \\in D, \\space\\forall c \\in C, \\space\\forall i \\in A_t \\quad for_{t,c} \\leq \\sum_{c' \\space \\lt \\space c} deb_{i,c'}$$ "
   ]
  },
  {
   "cell_type": "code",
   "execution_count": 318,
   "metadata": {},
   "outputs": [],
   "source": [
    "for_apres_deb = {(t,c,i) : m.addConstr(form[(t,c)]<=quicksum([deb[(i, c_p)] for c_p in range(1, c)]), name = f'for_apres_deb{t}{c}{i}') for t in trains_depart for c in range(1,nombre_creneaux+1) for i in trains_depart_relatifs_a(t)}\n"
   ]
  },
  {
   "cell_type": "markdown",
   "metadata": {},
   "source": [
    "### 5. Dégarage après formation\n",
    "Pour chaque train du départ, le dégarage ne peut avoir lieu qu'après la formation du train et $150$ minutes soit $10$ créneaux de tâches humaines.\n",
    "$$ \\forall t \\in D, \\space\\forall c \\in C \\quad deg_{t,c} \\leq \\sum_{c' \\space \\lt \\space c-10} for_{t,c'}$$ "
   ]
  },
  {
   "cell_type": "code",
   "execution_count": 314,
   "metadata": {},
   "outputs": [],
   "source": [
    "deg_apres_for = {(t,c) : m.addConstr(deg[(t,c)]<=quicksum([form[(t, c_p)] for c_p in range(1, c-9)]), name = f'deg_apres_for{t},{c}') for t in trains_depart for c in range(1,nombre_creneaux+1)}\n"
   ]
  },
  {
   "cell_type": "markdown",
   "metadata": {},
   "source": [
    "### 6. Dégarage avant départ\n",
    "Pour chaque train du départ $t$, le dégarage ne peut pas avoir lieu dans les créneaux suivants \\\n",
    "celui de $20$ minutes (de tâches humaines) avant le créneau du départ $c^{d}_{t}$.\n",
    "$$ \\forall t \\in D \\quad \\sum_{c \\space \\geq \\space c^{d}_{t}-2} deg_{t,c} = 0$$ "
   ]
  },
  {
   "cell_type": "code",
   "execution_count": 313,
   "metadata": {},
   "outputs": [],
   "source": [
    "deg_avant_depart = {t : m.addConstr(quicksum([deg[(t, c)] for c in range(creneau_depart[t]-2, nombre_creneaux+1)])==0, name = f'depart_apres_deg{t}') for t in trains_depart}\n"
   ]
  },
  {
   "cell_type": "markdown",
   "metadata": {},
   "source": [
    "### 7. Disponibilités des machines\n",
    "Il y a des créneaux où les machines sont indisponible, soient alors  $ \\space C_{deb}, C_{for}, C_{deg} \\space$  ces crénaux d'indisponibilités.\n",
    "$$ \\forall i \\in A \\quad \\sum_{c \\space \\in \\space C_{deb}} deb_{i,c} = 0 $$\n",
    "$$ \\forall i \\in D \\quad \\sum_{c \\space \\in \\space C_{for}} for_{i,c} = 0 $$\n",
    "$$ \\forall i \\in D \\quad \\sum_{c \\space \\in \\space C_{deg}} deg_{i,c} = 0 $$"
   ]
  },
  {
   "cell_type": "code",
   "execution_count": 312,
   "metadata": {},
   "outputs": [],
   "source": [
    "indisponibilite_deb = {i : m.addConstr(quicksum([deb[(i, c)] for c in DEB_INDIS]) ==0, name = f'indisponibilité_deb{i}') for i in trains_arrivee }\n",
    "indisponibilite_for = {i : m.addConstr(quicksum([form[(i, c)] for c in FOR_INDIS]) ==0, name = f'indisponibilité_for{i}') for i in trains_depart}\n",
    "indisponibilite_deg = {i : m.addConstr(quicksum([deg[(i, c)] for c in DEG_INDIS]) ==0, name = f'indisponibilité_deg{i}') for i in trains_depart}\n"
   ]
  },
  {
   "cell_type": "markdown",
   "metadata": {},
   "source": [
    "## Résolution"
   ]
  },
  {
   "cell_type": "code",
   "execution_count": 319,
   "metadata": {},
   "outputs": [],
   "source": [
    "objfunction = 1\n",
    "m.setObjective(objfunction , GRB.MINIMIZE)\n",
    "m.params.outputflag = 1\n",
    "m.update()"
   ]
  },
  {
   "cell_type": "code",
   "execution_count": 320,
   "metadata": {},
   "outputs": [],
   "source": [
    "m.params.outputflag = 0"
   ]
  },
  {
   "cell_type": "code",
   "execution_count": 325,
   "metadata": {},
   "outputs": [
    {
     "ename": "GurobiError",
     "evalue": "Out of memory",
     "output_type": "error",
     "traceback": [
      "\u001b[1;31m---------------------------------------------------------------------------\u001b[0m",
      "\u001b[1;31mGurobiError\u001b[0m                               Traceback (most recent call last)",
      "Cell \u001b[1;32mIn [325], line 2\u001b[0m\n\u001b[0;32m      1\u001b[0m m\u001b[38;5;241m.\u001b[39msetParam(GRB\u001b[38;5;241m.\u001b[39mParam\u001b[38;5;241m.\u001b[39mIterationLimit, \u001b[38;5;241m3600\u001b[39m)\n\u001b[1;32m----> 2\u001b[0m \u001b[43mm\u001b[49m\u001b[38;5;241;43m.\u001b[39;49m\u001b[43moptimize\u001b[49m\u001b[43m(\u001b[49m\u001b[43m)\u001b[49m\n\u001b[0;32m      3\u001b[0m \u001b[38;5;28;01mif\u001b[39;00m m\u001b[38;5;241m.\u001b[39mstatus \u001b[38;5;241m==\u001b[39m GRB\u001b[38;5;241m.\u001b[39mINF_OR_UNBD:\n\u001b[0;32m      4\u001b[0m     m\u001b[38;5;241m.\u001b[39msetParam(GRB\u001b[38;5;241m.\u001b[39mParam\u001b[38;5;241m.\u001b[39mPresolve, \u001b[38;5;241m0\u001b[39m)\n",
      "File \u001b[1;32msrc\\\\gurobipy\\\\model.pxi:893\u001b[0m, in \u001b[0;36mgurobipy.Model.optimize\u001b[1;34m()\u001b[0m\n",
      "\u001b[1;31mGurobiError\u001b[0m: Out of memory"
     ]
    }
   ],
   "source": [
    "m.setParam(GRB.Param.IterationLimit, 3600)\n",
    "m.optimize()\n",
    "if m.status == GRB.INF_OR_UNBD:\n",
    "    m.setParam(GRB.Param.Presolve, 0)\n",
    "    m.optimize()\n",
    "\n",
    "if m.status == GRB.INFEASIBLE:\n",
    "    print(m.display(), \"\\n\\tN'A PAS DE SOLUTION!!!\")\n",
    "elif m.status == GRB.UNBOUNDED:\n",
    "    print(m.display(), \"\\n\\tEST NON BORNÉ!!!\")"
   ]
  },
  {
   "cell_type": "code",
   "execution_count": 247,
   "metadata": {},
   "outputs": [
    {
     "name": "stdout",
     "output_type": "stream",
     "text": [
      "('A1', '08/08/2022')\n",
      "--------------------------------------------\n",
      "deb de ('A1', '08/08/2022') se fait au créneau : 54, l arrivee de ce train est au creneau 40 \n",
      "-------------------------------------------------------\n",
      "('A3', '08/08/2022')\n",
      "--------------------------------------------\n",
      "deb de ('A3', '08/08/2022') se fait au créneau : 93, l arrivee de ce train est au creneau 88 \n",
      "-------------------------------------------------------\n",
      "('A2', '08/08/2022')\n",
      "--------------------------------------------\n",
      "deb de ('A2', '08/08/2022') se fait au créneau : 53, l arrivee de ce train est au creneau 46 \n",
      "-------------------------------------------------------\n",
      "('A2', '09/08/2022')\n",
      "--------------------------------------------\n",
      "deb de ('A2', '09/08/2022') se fait au créneau : 147, l arrivee de ce train est au creneau 142 \n",
      "-------------------------------------------------------\n",
      "('A3', '09/08/2022')\n",
      "--------------------------------------------\n",
      "deb de ('A3', '09/08/2022') se fait au créneau : 189, l arrivee de ce train est au creneau 184 \n",
      "-------------------------------------------------------\n",
      "('A1', '09/08/2022')\n",
      "--------------------------------------------\n",
      "deb de ('A1', '09/08/2022') se fait au créneau : 141, l arrivee de ce train est au creneau 136 \n",
      "-------------------------------------------------------\n",
      "('A3', '10/08/2022')\n",
      "--------------------------------------------\n",
      "deb de ('A3', '10/08/2022') se fait au créneau : 285, l arrivee de ce train est au creneau 280 \n",
      "-------------------------------------------------------\n",
      "('A1', '10/08/2022')\n",
      "--------------------------------------------\n",
      "deb de ('A1', '10/08/2022') se fait au créneau : 238, l arrivee de ce train est au creneau 232 \n",
      "-------------------------------------------------------\n",
      "('A2', '10/08/2022')\n",
      "--------------------------------------------\n",
      "deb de ('A2', '10/08/2022') se fait au créneau : 243, l arrivee de ce train est au creneau 238 \n",
      "-------------------------------------------------------\n",
      "('A2', '11/08/2022')\n",
      "--------------------------------------------\n",
      "deb de ('A2', '11/08/2022') se fait au créneau : 339, l arrivee de ce train est au creneau 334 \n",
      "-------------------------------------------------------\n",
      "('A1', '11/08/2022')\n",
      "--------------------------------------------\n",
      "deb de ('A1', '11/08/2022') se fait au créneau : 333, l arrivee de ce train est au creneau 328 \n",
      "-------------------------------------------------------\n",
      "('A3', '11/08/2022')\n",
      "--------------------------------------------\n",
      "deb de ('A3', '11/08/2022') se fait au créneau : 381, l arrivee de ce train est au creneau 376 \n",
      "-------------------------------------------------------\n",
      "('A2', '12/08/2022')\n",
      "--------------------------------------------\n",
      "deb de ('A2', '12/08/2022') se fait au créneau : 435, l arrivee de ce train est au creneau 430 \n",
      "-------------------------------------------------------\n",
      "('A3', '12/08/2022')\n",
      "--------------------------------------------\n",
      "deb de ('A3', '12/08/2022') se fait au créneau : 477, l arrivee de ce train est au creneau 472 \n",
      "-------------------------------------------------------\n",
      "('A1', '12/08/2022')\n",
      "--------------------------------------------\n",
      "deb de ('A1', '12/08/2022') se fait au créneau : 434, l arrivee de ce train est au creneau 424 \n",
      "-------------------------------------------------------\n",
      "('A3', '13/08/2022')\n",
      "--------------------------------------------\n",
      "deb de ('A3', '13/08/2022') se fait au créneau : 573, l arrivee de ce train est au creneau 568 \n",
      "-------------------------------------------------------\n",
      "('A4', '13/08/2022')\n",
      "--------------------------------------------\n",
      "deb de ('A4', '13/08/2022') se fait au créneau : 519, l arrivee de ce train est au creneau 514 \n",
      "-------------------------------------------------------\n",
      "('A4', '14/08/2022')\n",
      "--------------------------------------------\n",
      "deb de ('A4', '14/08/2022') se fait au créneau : 615, l arrivee de ce train est au creneau 610 \n",
      "-------------------------------------------------------\n",
      "('D1', '08/08/2022')\n",
      "--------------------------------------------\n",
      "For de ('D1', '08/08/2022') se fait au créneau: 56, le depart de ce train se fait à 72\n",
      "-------------------------------------------------------\n",
      "deg de ('D1', '08/08/2022') se fait au créneau: 69, le depart de ce train se fait à 72 \n",
      "-------------------------------------------------------\n",
      "('D2', '08/08/2022')\n",
      "--------------------------------------------\n",
      "For de ('D2', '08/08/2022') se fait au créneau: 55, le depart de ce train se fait à 92\n",
      "-------------------------------------------------------\n",
      "deg de ('D2', '08/08/2022') se fait au créneau: 70, le depart de ce train se fait à 92 \n",
      "-------------------------------------------------------\n",
      "('D1', '09/08/2022')\n",
      "--------------------------------------------\n",
      "For de ('D1', '09/08/2022') se fait au créneau: 149, le depart de ce train se fait à 168\n",
      "-------------------------------------------------------\n",
      "deg de ('D1', '09/08/2022') se fait au créneau: 164, le depart de ce train se fait à 168 \n",
      "-------------------------------------------------------\n",
      "('D3', '09/08/2022')\n",
      "--------------------------------------------\n",
      "For de ('D3', '09/08/2022') se fait au créneau: 94, le depart de ce train se fait à 112\n",
      "-------------------------------------------------------\n",
      "deg de ('D3', '09/08/2022') se fait au créneau: 109, le depart de ce train se fait à 112 \n",
      "-------------------------------------------------------\n",
      "('D2', '09/08/2022')\n",
      "--------------------------------------------\n",
      "For de ('D2', '09/08/2022') se fait au créneau: 148, le depart de ce train se fait à 188\n",
      "-------------------------------------------------------\n",
      "deg de ('D2', '09/08/2022') se fait au créneau: 185, le depart de ce train se fait à 188 \n",
      "-------------------------------------------------------\n",
      "('D1', '10/08/2022')\n",
      "--------------------------------------------\n",
      "For de ('D1', '10/08/2022') se fait au créneau: 245, le depart de ce train se fait à 264\n",
      "-------------------------------------------------------\n",
      "deg de ('D1', '10/08/2022') se fait au créneau: 255, le depart de ce train se fait à 264 \n",
      "-------------------------------------------------------\n",
      "('D2', '10/08/2022')\n",
      "--------------------------------------------\n",
      "For de ('D2', '10/08/2022') se fait au créneau: 244, le depart de ce train se fait à 284\n",
      "-------------------------------------------------------\n",
      "deg de ('D2', '10/08/2022') se fait au créneau: 281, le depart de ce train se fait à 284 \n",
      "-------------------------------------------------------\n",
      "('D3', '10/08/2022')\n",
      "--------------------------------------------\n",
      "For de ('D3', '10/08/2022') se fait au créneau: 190, le depart de ce train se fait à 208\n",
      "-------------------------------------------------------\n",
      "deg de ('D3', '10/08/2022') se fait au créneau: 205, le depart de ce train se fait à 208 \n",
      "-------------------------------------------------------\n",
      "('D3', '11/08/2022')\n",
      "--------------------------------------------\n",
      "For de ('D3', '11/08/2022') se fait au créneau: 286, le depart de ce train se fait à 304\n",
      "-------------------------------------------------------\n",
      "deg de ('D3', '11/08/2022') se fait au créneau: 301, le depart de ce train se fait à 304 \n",
      "-------------------------------------------------------\n",
      "('D1', '11/08/2022')\n",
      "--------------------------------------------\n",
      "For de ('D1', '11/08/2022') se fait au créneau: 341, le depart de ce train se fait à 360\n",
      "-------------------------------------------------------\n",
      "deg de ('D1', '11/08/2022') se fait au créneau: 351, le depart de ce train se fait à 360 \n",
      "-------------------------------------------------------\n",
      "('D2', '11/08/2022')\n",
      "--------------------------------------------\n",
      "For de ('D2', '11/08/2022') se fait au créneau: 340, le depart de ce train se fait à 380\n",
      "-------------------------------------------------------\n",
      "deg de ('D2', '11/08/2022') se fait au créneau: 377, le depart de ce train se fait à 380 \n",
      "-------------------------------------------------------\n",
      "('D2', '12/08/2022')\n",
      "--------------------------------------------\n",
      "For de ('D2', '12/08/2022') se fait au créneau: 436, le depart de ce train se fait à 476\n",
      "-------------------------------------------------------\n",
      "deg de ('D2', '12/08/2022') se fait au créneau: 473, le depart de ce train se fait à 476 \n",
      "-------------------------------------------------------\n",
      "('D1', '12/08/2022')\n",
      "--------------------------------------------\n",
      "For de ('D1', '12/08/2022') se fait au créneau: 437, le depart de ce train se fait à 456\n",
      "-------------------------------------------------------\n",
      "deg de ('D1', '12/08/2022') se fait au créneau: 447, le depart de ce train se fait à 456 \n",
      "-------------------------------------------------------\n",
      "('D3', '12/08/2022')\n",
      "--------------------------------------------\n",
      "For de ('D3', '12/08/2022') se fait au créneau: 382, le depart de ce train se fait à 400\n",
      "-------------------------------------------------------\n",
      "deg de ('D3', '12/08/2022') se fait au créneau: 397, le depart de ce train se fait à 400 \n",
      "-------------------------------------------------------\n",
      "('D3', '13/08/2022')\n",
      "--------------------------------------------\n",
      "For de ('D3', '13/08/2022') se fait au créneau: 478, le depart de ce train se fait à 496\n",
      "-------------------------------------------------------\n",
      "deg de ('D3', '13/08/2022') se fait au créneau: 493, le depart de ce train se fait à 496 \n",
      "-------------------------------------------------------\n",
      "('D4', '13/08/2022')\n",
      "--------------------------------------------\n",
      "For de ('D4', '13/08/2022') se fait au créneau: 520, le depart de ce train se fait à 572\n",
      "-------------------------------------------------------\n",
      "deg de ('D4', '13/08/2022') se fait au créneau: 569, le depart de ce train se fait à 572 \n",
      "-------------------------------------------------------\n",
      "('D3', '14/08/2022')\n",
      "--------------------------------------------\n",
      "For de ('D3', '14/08/2022') se fait au créneau: 574, le depart de ce train se fait à 592\n",
      "-------------------------------------------------------\n",
      "deg de ('D3', '14/08/2022') se fait au créneau: 589, le depart de ce train se fait à 592 \n",
      "-------------------------------------------------------\n",
      "('D4', '14/08/2022')\n",
      "--------------------------------------------\n",
      "For de ('D4', '14/08/2022') se fait au créneau: 616, le depart de ce train se fait à 668\n",
      "-------------------------------------------------------\n",
      "deg de ('D4', '14/08/2022') se fait au créneau: 665, le depart de ce train se fait à 668 \n",
      "-------------------------------------------------------\n"
     ]
    }
   ],
   "source": [
    "for train in trains_arrivee:\n",
    "    print(train)\n",
    "    print('--------------------------------------------')\n",
    "    for c in range(1,nombre_creneaux+1):\n",
    "        if deb[(train,c)].x==1:\n",
    "            print('deb de {} se fait au créneau : {}, l arrivee de ce train est au creneau {} '.format(train,c,creneau_arrivee[train]))\n",
    "            print('-------------------------------------------------------')\n",
    "\n",
    "\n",
    "for train in trains_depart:\n",
    "    print(train)\n",
    "    print('--------------------------------------------')\n",
    "    for c in range(1,nombre_creneaux+1):\n",
    "        if form[(train,c)].x==1:\n",
    "            print('For de {} se fait au créneau: {}, le depart de ce train se fait à {}'.format(train,c,creneau_depart[train]))\n",
    "            print('-------------------------------------------------------')\n",
    "        if deg[(train,c)].x==1:\n",
    "            print('deg de {} se fait au créneau: {}, le depart de ce train se fait à {} '.format(train,c,creneau_depart[train]))\n",
    "            print('-------------------------------------------------------')\n",
    "        \n"
   ]
  },
  {
   "cell_type": "code",
   "execution_count": null,
   "metadata": {},
   "outputs": [
    {
     "name": "stdout",
     "output_type": "stream",
     "text": [
      "deb de 2 se fait au créneau : 7\n"
     ]
    }
   ],
   "source": [
    "print('deb de {} se fait au créneau : {}'.format(2,7))"
   ]
  },
  {
   "cell_type": "markdown",
   "metadata": {},
   "source": [
    "# Questions \n",
    "- Horraires du départ non conforme avec les créneaux machines\n",
    "- Créneaux et jours ? indices dépendants \n",
    "- Il ya un choix à faire lors de la correspondance entre tâche humaine et créneaux où \\\n",
    "entre tâche machine et créneaux."
   ]
  }
 ],
 "metadata": {
  "kernelspec": {
   "display_name": "base",
   "language": "python",
   "name": "python3"
  },
  "language_info": {
   "codemirror_mode": {
    "name": "ipython",
    "version": 3
   },
   "file_extension": ".py",
   "mimetype": "text/x-python",
   "name": "python",
   "nbconvert_exporter": "python",
   "pygments_lexer": "ipython3",
   "version": "3.11.7"
  }
 },
 "nbformat": 4,
 "nbformat_minor": 2
}
