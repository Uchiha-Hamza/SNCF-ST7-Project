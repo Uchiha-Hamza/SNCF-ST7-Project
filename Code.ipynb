{
 "cells": [
  {
   "cell_type": "markdown",
   "metadata": {},
   "source": [
    "\n",
    "# <font color=blue><div align=\"center\">ST7 SNCF : Jalon 1</div></font>\n",
    "\n",
    "## <font color=blue><div align=\"center\">\"<em>Indian Railways</em>\"</div></font>"
   ]
  },
  {
   "cell_type": "markdown",
   "metadata": {},
   "source": [
    "## Modules"
   ]
  },
  {
   "cell_type": "code",
   "execution_count": 3,
   "metadata": {},
   "outputs": [],
   "source": [
    "# Modules de base\n",
    "import numpy as np\n",
    "import matplotlib.pyplot as plt\n",
    "import pandas as pd\n",
    "import datetime\n",
    "%matplotlib inline\n",
    "\n",
    "# Module relatif à Gurobi\n",
    "from gurobipy import *\n",
    "\n",
    "# Module csv\n",
    "import csv"
   ]
  },
  {
   "cell_type": "code",
   "execution_count": 4,
   "metadata": {},
   "outputs": [],
   "source": [
    "mini_instance=\"mini_instance.xlsx\"\n",
    "instance_simple=\"instance_WPY_simple.xlsx\"\n",
    "instance_realiste=\"instance_WPY_realiste_jalon1.xlsx\""
   ]
  },
  {
   "cell_type": "markdown",
   "metadata": {},
   "source": [
    "## Traitement de données"
   ]
  },
  {
   "cell_type": "code",
   "execution_count": 5,
   "metadata": {},
   "outputs": [],
   "source": [
    "def excel_to_dict(file :str)-> dict[str]:\n",
    "    '''\n",
    "    Takes excel file name in the repo\n",
    "    and returns a dictionary[sheet_name]=Dataframe\n",
    "    '''\n",
    "    # Load the Excel file\n",
    "    xl = pd.ExcelFile(file)\n",
    "    \n",
    "    # Get the names of the sheets\n",
    "    sheet_names = xl.sheet_names\n",
    "    \n",
    "    # Initialize a dictionary to store the data\n",
    "    data_dict = {}\n",
    "    \n",
    "    # Iterate over each sheet\n",
    "    for sheet_name in sheet_names:\n",
    "        # Read the sheet into a pandas DataFrame\n",
    "        data_dict[sheet_name] = pd.read_excel(file, sheet_name=sheet_name)\n",
    "    return data_dict\n",
    "\n",
    "def date_to_creneau(date0: datetime.datetime, hour: pd.DataFrame, date: pd.DataFrame):\n",
    "    '''\n",
    "    Takes hour and date's 1-column dataframes\n",
    "    and returns a dataframe of 1-column of 'créneaux'\n",
    "    starting from date0\n",
    "    '''\n",
    "    # EXCEL IS FUCKING STUPID AND CHANGES TYPE OF DATES\n",
    "    if type(date[0])==str:\n",
    "        datetime_df=pd.to_datetime(date.apply(lambda x: str(x)+' ')+hour.apply(lambda x:str(x)), dayfirst=True)\n",
    "    if type(date[0])==pd._libs.tslibs.timestamps.Timestamp:\n",
    "        datetime_df=pd.to_datetime(date.apply(lambda x: str(x)+' ')+hour.apply(lambda x:str(x)))\n",
    "    return (datetime_df-date0).dt.total_seconds().div(60*15).astype(int)+1\n",
    "\n",
    "def creneau_to_date(date0: datetime.datetime, creneau : int):\n",
    "    return date0+ datetime.timedelta(minutes=(creneau-1)*15)\n",
    "\n",
    "# Instance sur laquelle on travaillera par la suite\n",
    "INSTANCE= excel_to_dict(instance_simple)"
   ]
  },
  {
   "cell_type": "markdown",
   "metadata": {},
   "source": [
    "### Dictionnaires utiles "
   ]
  },
  {
   "cell_type": "markdown",
   "metadata": {},
   "source": [
    "Trains de l'arrivée et trains du départ"
   ]
  },
  {
   "cell_type": "code",
   "execution_count": 6,
   "metadata": {},
   "outputs": [],
   "source": [
    "trains_arrivee=[]\n",
    "\n",
    "for index, row in INSTANCE[\"Sillons arrivee\"].iterrows():\n",
    "    id_train = row['n°TRAIN'],row['JARR']\n",
    "    trains_arrivee.append(id_train)\n",
    "\n",
    "trains_depart=[]\n",
    "\n",
    "for index, row in INSTANCE[\"Sillons depart\"].iterrows():\n",
    "    id_train = row['n°TRAIN'],row['JDEP']\n",
    "    trains_depart.append(id_train)"
   ]
  },
  {
   "cell_type": "markdown",
   "metadata": {},
   "source": [
    "Créneaux de l'arrivée et du départ"
   ]
  },
  {
   "cell_type": "code",
   "execution_count": 7,
   "metadata": {},
   "outputs": [],
   "source": [
    "# Date de référence et date finale \n",
    "date0=str(INSTANCE[\"Sillons arrivee\"][\"JARR\"][0])+' 00:00:00'\n",
    "date0=pd.to_datetime(date0, dayfirst=True)\n",
    "datef=pd.to_datetime(INSTANCE[\"Sillons depart\"][\"JDEP\"].iloc[-1], dayfirst=True)+datetime.timedelta(hours=24)\n",
    "nombre_creneaux=int((datef-date0).total_seconds()/(60*15))\n",
    "\n",
    "\n",
    "# Crenau du départ et d'arrivée\n",
    "INSTANCE[\"Sillons arrivee\"][\"creneau\"]=date_to_creneau(date0, INSTANCE[\"Sillons arrivee\"][\"HARR\"], INSTANCE[\"Sillons arrivee\"][\"JARR\"])\n",
    "INSTANCE[\"Sillons depart\"][\"creneau\"]=date_to_creneau(date0, INSTANCE[\"Sillons depart\"][\"HDEP\"], INSTANCE[\"Sillons depart\"][\"JDEP\"])\n",
    "\n",
    "creneau_arrivee={} \n",
    "for index, row in INSTANCE[\"Sillons arrivee\"].iterrows():\n",
    "    creneau_arrivee[row[\"n°TRAIN\"],row[\"JARR\"]]=row[\"creneau\"]\n",
    "\n",
    "creneau_depart={}\n",
    "for index, row in INSTANCE[\"Sillons depart\"].iterrows():\n",
    "    creneau_depart[row[\"n°TRAIN\"],row[\"JDEP\"]]=row[\"creneau\"]"
   ]
  },
  {
   "cell_type": "markdown",
   "metadata": {},
   "source": [
    "Correspondances"
   ]
  },
  {
   "cell_type": "code",
   "execution_count": 8,
   "metadata": {},
   "outputs": [
    {
     "name": "stdout",
     "output_type": "stream",
     "text": [
      "[('A1', '08/08/2022'), ('A2', '08/08/2022')]\n"
     ]
    }
   ],
   "source": [
    "def trains_depart_relatifs_a(train_depart)->list:\n",
    "    '''\n",
    "    Prend l'id d'un train du départ \n",
    "    et retourne une liste des id des trains\n",
    "    d'arrivée qui le constituent\n",
    "    '''\n",
    "    trains_arrivee_associes = []\n",
    "    for index, row in INSTANCE[\"Correspondances\"].iterrows():\n",
    "        if (row['n°Train depart'],row['Jour depart'])==train_depart :\n",
    "            trains_arrivee_associes.append((row['n°Train arrivee'],row['Jour arrivee'])) \n",
    "    return trains_arrivee_associes\n",
    "print(trains_depart_relatifs_a(('D1','08/08/2022')))"
   ]
  },
  {
   "cell_type": "code",
   "execution_count": null,
   "metadata": {},
   "outputs": [],
   "source": []
  },
  {
   "cell_type": "markdown",
   "metadata": {},
   "source": [
    "Indisponibilité des machines"
   ]
  },
  {
   "cell_type": "code",
   "execution_count": 9,
   "metadata": {},
   "outputs": [],
   "source": [
    "def creneaux_de_periode(indispo_str): #jour, plage_horaire\n",
    "    plage_jours=nombre_creneaux//96\n",
    "    creneaux = []\n",
    "    if indispo_str!='0':\n",
    "        periodes = indispo_str.split(';')\n",
    "        for periode in periodes:\n",
    "            jour, plage_horaire = periode.strip('()').split(',')\n",
    "            jour = int(jour)\n",
    "            jours=[jour+7*k for k in range(0,plage_jours//7+1)]\n",
    "            plage_horaire = plage_horaire.strip('()').split('-')\n",
    "            heure_debut, minute_debut = map(int, plage_horaire[0].split(':'))\n",
    "            creneau_debut=minute_debut//15+1\n",
    "            heure_fin, minute_fin = map(int, plage_horaire[1].split(':'))\n",
    "            creneau_fin=minute_fin//15+1\n",
    "\n",
    "\n",
    "            if (heure_debut,minute_debut)>=(heure_fin,minute_fin):\n",
    "                for jour1 in jours:\n",
    "                    for c in range((jour1-1)*96+heure_debut*4+creneau_debut,jour1*96):\n",
    "                        if c<=nombre_creneaux:\n",
    "                            creneaux.append(c)\n",
    "                    for c in range(jour1*96,jour1*96+heure_fin*4+creneau_fin):\n",
    "                        if c<=nombre_creneaux: creneaux.append(c)\n",
    "            else:\n",
    "                for jour1 in jours:\n",
    "                    for c in range((jour1-1)*96+heure_debut*4+creneau_debut,(jour1-1)*96+heure_fin*4+creneau_fin):\n",
    "                        if c<=nombre_creneaux: creneaux.append(c) \n",
    "    return creneaux\n",
    "\n",
    "# data1 = INSTANCE1['Machines']\n",
    "df = INSTANCE['Machines']\n",
    "\n",
    "df['Indisponibilites']=df['Indisponibilites'].astype(str)\n",
    "# Apply the function to each row\n",
    "df['Indisponibilites_TimeSlots'] = df['Indisponibilites'].apply(creneaux_de_periode)\n",
    "\n",
    "DEB_INDIS = df.loc[df['Machine'] == 'DEB', 'Indisponibilites_TimeSlots'].values[0]\n",
    "FOR_INDIS = df.loc[df['Machine'] == 'FOR', 'Indisponibilites_TimeSlots'].values[0]\n",
    "DEG_INDIS = df.loc[df['Machine'] == 'DEG', 'Indisponibilites_TimeSlots'].values[0]"
   ]
  },
  {
   "cell_type": "markdown",
   "metadata": {},
   "source": [
    "## Modèle mathématique \n",
    "On a modélisé notre problème en partant du fait que les machines ne sont disponibles que pour un seul train et dans un seul créneau. \\\n",
    "De ce fait, on introduit les variables *binaires* suivantes : \\\n",
    "\\\n",
    "    - $(deb_{ic})$ : variable binaire indiquant si la machine de débranchement est utilisée \\\n",
    "    pour le sillion d'arrivée d'identifiant $i$ au créneau $c$ \\\n",
    "    - $(for_{ic})$ : variable binaire indiquant si la machine de formation est utilisée \\\n",
    "    pour le sillion du départ d'identifiant $i$ au créneau $c$ \\\n",
    "    - $(deg_{ic})$ : variable binaire indiquant si la machine de dégarage est utilisée \\\n",
    "    pour le sillion du départ d'identifiant $i$ au créneau $c$\n",
    "\n",
    "Les créneaux ont une durée de $15 min$ correspondant à la durée d'une tâche machine. Les valeurs possibles des créneaux dépendent de l'instance, \\\n",
    "soit alors $c \\in \\{1,2,..., c_{max}\\} $ où $c=1$ correspond au premier créneau du premier jour du travail : $[0:00 , 0:15[$ et \\\n",
    "$c_{max}$ le dernier créneau du dernier jour du travail : $[23:45, 0:00[$.\n",
    "\n",
    "On note ainsi : \n",
    "$$A = \\{\\text{Les identifiants des trains d'arrivée}\\}$$\n",
    "$$D = \\{\\text{Les identifiants des trains du départ}\\}$$\n",
    "$$C= \\{1,2,..., c_{max}\\}$$"
   ]
  },
  {
   "cell_type": "code",
   "execution_count": 10,
   "metadata": {},
   "outputs": [
    {
     "name": "stdout",
     "output_type": "stream",
     "text": [
      "Set parameter Username\n",
      "Academic license - for non-commercial use only - expires 2025-03-12\n"
     ]
    }
   ],
   "source": [
    "# IMPLEMNTATION DES VARIABLES \n",
    "# Implémentation Python\n",
    "m= Model('Modèle')\n",
    "deb = {(i, c) : m.addVar(vtype = GRB.BINARY, name=f'deb_{i}_{c}') for i in trains_arrivee for c in range(1,nombre_creneaux+1)}\n",
    "form = {(i, c) : m.addVar(vtype = GRB.BINARY, name=f'deb_{i}_{c}') for i in trains_depart for c in range(1,nombre_creneaux+1)}\n",
    "deg = {(i, c) : m.addVar(vtype = GRB.BINARY, name=f'deg_{i}_{c}') for i in trains_depart for c in range(1,nombre_creneaux+1)}"
   ]
  },
  {
   "cell_type": "markdown",
   "metadata": {},
   "source": [
    "## Contraintes\n",
    "### 1. Unique débranchement, formation et dégarage\n",
    "Chaque train d'arrivé subit un seul et unique débranchement, chaque train du départ subit un seul et unique débranchement et dégarage. \n",
    "$$ \\forall i \\in A \\quad \\sum_{c} deb_{i,c} = 1 $$\n",
    "$$ \\forall i \\in D \\quad \\sum_{c} for_{i,c} = 1 $$\n",
    "$$ \\forall i \\in D \\quad \\sum_{c} deg_{i,c} = 1 $$"
   ]
  },
  {
   "cell_type": "code",
   "execution_count": 11,
   "metadata": {},
   "outputs": [],
   "source": [
    "uniqueDeb_train = {i : m.addConstr(quicksum([deb[(i, c)] for c in range(1, nombre_creneaux + 1)]) ==1, name = f'UniqueDeb_train{i}') for i in trains_arrivee}\n",
    "uniqueform_train = {i : m.addConstr(quicksum([form[(i, c)] for c in range(1, nombre_creneaux + 1)]) ==1, name = f'UniqueFor_train{i}') for i in trains_depart}\n",
    "uniqueDeg_train = {i : m.addConstr(quicksum([deg[(i, c)] for c in range(1, nombre_creneaux + 1)]) ==1, name = f'UniqueDeg_train{i}') for i in trains_depart}"
   ]
  },
  {
   "cell_type": "markdown",
   "metadata": {},
   "source": [
    "### 2. Une seule tâche machine par créneau  \n",
    "Chaque machine est exploitée par au plus un seul train sur chaque créneau.\n",
    "$$ \\forall c \\in C \\quad \\sum_{i \\in A} deb_{i,c} \\leq 1 $$\n",
    "$$ \\forall c \\in C \\quad \\sum_{i \\in D} for_{i,c} \\leq 1 $$\n",
    "$$ \\forall c \\in C \\quad \\sum_{i \\in D} deg_{i,c} \\leq 1 $$"
   ]
  },
  {
   "cell_type": "code",
   "execution_count": 12,
   "metadata": {},
   "outputs": [],
   "source": [
    "uniqueDeb_creneau = {c : m.addConstr(quicksum([deb[(i, c)] for i in trains_arrivee]) <=1, name = f'UniqueDeb_creneau{c}') for c in range(1, nombre_creneaux + 1)}\n",
    "uniqueFor_creneau = {c : m.addConstr(quicksum([form[(i, c)] for i in trains_depart]) <=1, name = f'UniqueFor_creneau{c}') for c in range(1, nombre_creneaux + 1)}\n",
    "uniqueDeg_creneau = {c : m.addConstr(quicksum([deg[(i, c)] for i in trains_depart ]) <=1, name = f'UniqueDeg_creneau{c}') for c in range(1, nombre_creneaux + 1)}\n"
   ]
  },
  {
   "cell_type": "markdown",
   "metadata": {},
   "source": [
    "### 3. Débranchement se fait après l'arrivée du train\n",
    "Pour chaque train d'arrivée $i$, le débranchement ne peut pas avoir lieu dans les créneaux précedent celui d'arrivée $c^{a}_{i}$ après une heure de tâches humaines.\n",
    "$$ \\forall i \\in A \\quad \\sum_{c \\space \\leq \\space c^{a}_{i}+4} deb_{i,c} = 0$$ "
   ]
  },
  {
   "cell_type": "code",
   "execution_count": 13,
   "metadata": {},
   "outputs": [],
   "source": [
    "deb_apres_arrivee = {i : m.addConstr(quicksum([deb[(i, c)] for c in range(1, creneau_arrivee[i] + 5)]) ==0, name = f'deb_apres_arrivee{i}') for i in trains_arrivee}\n"
   ]
  },
  {
   "cell_type": "markdown",
   "metadata": {},
   "source": [
    "### 4. Formation d'un train de départ \n",
    "Pour chaque train du départ $t$, la formation ne peut avoir lieu qu'après débranchement de tous les trains ayant les wagons qui le constituent. \\\n",
    "On note : $$ \\forall t \\in D \\quad A_t = \\{\\text{Les identifiants des trains d'arrivée ayant au moins un wagon du train t}\\}$$\n",
    "On peut exprimer la contrainte comme suit : \n",
    "$$ \\forall t \\in D, \\space\\forall c \\in C, \\space\\forall i \\in A_t \\quad for_{t,c} \\leq \\sum_{c' \\space \\lt \\space c} deb_{i,c'}$$ "
   ]
  },
  {
   "cell_type": "code",
   "execution_count": 22,
   "metadata": {},
   "outputs": [
    {
     "name": "stdout",
     "output_type": "stream",
     "text": [
      "[('A1', '08/08/2022'), ('A2', '08/08/2022')]\n"
     ]
    }
   ],
   "source": [
    "print(trains_depart_relatifs_a(trains_depart[0]))"
   ]
  },
  {
   "cell_type": "code",
   "execution_count": 14,
   "metadata": {},
   "outputs": [],
   "source": [
    "for_apres_deb = {(t,c,i) : m.addConstr(form[(t,c)]<=quicksum([deb[(i, c_p)] for c_p in range(1, c)]), name = f'for_apres_deb{t}{c}{i}') for t in trains_depart for c in range(1,nombre_creneaux+1) for i in trains_depart_relatifs_a(t)}\n"
   ]
  },
  {
   "cell_type": "markdown",
   "metadata": {},
   "source": [
    "### 5. Dégarage après formation\n",
    "Pour chaque train du départ, le dégarage ne peut avoir lieu qu'après la formation du train et $150$ minutes soit $10$ créneaux de tâches humaines.\n",
    "$$ \\forall t \\in D, \\space\\forall c \\in C \\quad deg_{t,c} \\leq \\sum_{c' \\space \\lt \\space c-10} for_{t,c'}$$ "
   ]
  },
  {
   "cell_type": "code",
   "execution_count": 15,
   "metadata": {},
   "outputs": [],
   "source": [
    "deg_apres_for = {(t,c) : m.addConstr(deg[(t,c)]<=quicksum([form[(t, c_p)] for c_p in range(1, c-9)]), name = f'deg_apres_for{t},{c}') for t in trains_depart for c in range(1,nombre_creneaux+1)}\n"
   ]
  },
  {
   "cell_type": "markdown",
   "metadata": {},
   "source": [
    "### 6. Dégarage avant départ\n",
    "Pour chaque train du départ $t$, le dégarage ne peut pas avoir lieu dans les créneaux suivants \\\n",
    "celui de $20$ minutes (de tâches humaines) avant le créneau du départ $c^{d}_{t}$.\n",
    "$$ \\forall t \\in D \\quad \\sum_{c \\space \\geq \\space c^{d}_{t}-2} deg_{t,c} = 0$$ "
   ]
  },
  {
   "cell_type": "code",
   "execution_count": 16,
   "metadata": {},
   "outputs": [],
   "source": [
    "deg_avant_depart = {t : m.addConstr(quicksum([deg[(t, c)] for c in range(creneau_depart[t]-2, nombre_creneaux+1)])==0, name = f'depart_apres_deg{t}') for t in trains_depart}\n"
   ]
  },
  {
   "cell_type": "markdown",
   "metadata": {},
   "source": [
    "### 7. Disponibilités des machines\n",
    "Il y a des créneaux où les machines sont indisponible, soient alors  $ \\space C_{deb}, C_{for}, C_{deg} \\space$  ces crénaux d'indisponibilités.\n",
    "$$ \\forall i \\in A \\quad \\sum_{c \\space \\in \\space C_{deb}} deb_{i,c} = 0 $$\n",
    "$$ \\forall i \\in D \\quad \\sum_{c \\space \\in \\space C_{for}} for_{i,c} = 0 $$\n",
    "$$ \\forall i \\in D \\quad \\sum_{c \\space \\in \\space C_{deg}} deg_{i,c} = 0 $$"
   ]
  },
  {
   "cell_type": "code",
   "execution_count": 17,
   "metadata": {},
   "outputs": [],
   "source": [
    "indisponibilite_deb = {i : m.addConstr(quicksum([deb[(i, c)] for c in DEB_INDIS]) ==0, name = f'indisponibilité_deb{i}') for i in trains_arrivee }\n",
    "indisponibilite_for = {i : m.addConstr(quicksum([form[(i, c)] for c in FOR_INDIS]) ==0, name = f'indisponibilité_for{i}') for i in trains_depart}\n",
    "indisponibilite_deb = {i : m.addConstr(quicksum([deg[(i, c)] for c in DEG_INDIS]) ==0, name = f'indisponibilité_deg{i}') for i in trains_depart}"
   ]
  },
  {
   "cell_type": "markdown",
   "metadata": {},
   "source": [
    "## Résolution"
   ]
  },
  {
   "cell_type": "code",
   "execution_count": 18,
   "metadata": {},
   "outputs": [],
   "source": [
    "objfunction = 1\n",
    "m.setObjective(objfunction , GRB.MINIMIZE)\n",
    "m.params.outputflag = 0\n",
    "m.update()"
   ]
  },
  {
   "cell_type": "code",
   "execution_count": 19,
   "metadata": {},
   "outputs": [],
   "source": [
    "m.optimize()\n",
    "if m.status == GRB.INF_OR_UNBD:\n",
    "    m.setParam(GRB.Param.Presolve, 0)\n",
    "    m.optimize()\n",
    "\n",
    "if m.status == GRB.INFEASIBLE:\n",
    "    print(m.display(), \"\\n\\tN'A PAS DE SOLUTION!!!\")\n",
    "elif m.status == GRB.UNBOUNDED:\n",
    "    print(m.display(), \"\\n\\tEST NON BORNÉ!!!\")"
   ]
  },
  {
   "cell_type": "code",
   "execution_count": 63,
   "metadata": {},
   "outputs": [],
   "source": []
  },
  {
   "cell_type": "code",
   "execution_count": 68,
   "metadata": {},
   "outputs": [
    {
     "name": "stdout",
     "output_type": "stream",
     "text": [
      "('A1', '08/08/2022')\n",
      "--------------------------------------------\n",
      "deb de ('A1', '08/08/2022') se fait au créneau :\n",
      "2022-08-08 14:30:00  -  2022-08-08 14:45:00\n",
      "-------------------------------------------------------\n",
      "('A3', '08/08/2022')\n",
      "--------------------------------------------\n",
      "deb de ('A3', '08/08/2022') se fait au créneau :\n",
      "2022-08-08 23:15:00  -  2022-08-08 23:30:00\n",
      "-------------------------------------------------------\n",
      "('A2', '08/08/2022')\n",
      "--------------------------------------------\n",
      "deb de ('A2', '08/08/2022') se fait au créneau :\n",
      "2022-08-08 14:15:00  -  2022-08-08 14:30:00\n",
      "-------------------------------------------------------\n",
      "('A2', '09/08/2022')\n",
      "--------------------------------------------\n",
      "deb de ('A2', '09/08/2022') se fait au créneau :\n",
      "2022-08-09 14:15:00  -  2022-08-09 14:30:00\n",
      "-------------------------------------------------------\n",
      "('A3', '09/08/2022')\n",
      "--------------------------------------------\n",
      "deb de ('A3', '09/08/2022') se fait au créneau :\n",
      "2022-08-09 23:15:00  -  2022-08-09 23:30:00\n",
      "-------------------------------------------------------\n",
      "('A1', '09/08/2022')\n",
      "--------------------------------------------\n",
      "deb de ('A1', '09/08/2022') se fait au créneau :\n",
      "2022-08-09 11:15:00  -  2022-08-09 11:30:00\n",
      "-------------------------------------------------------\n",
      "('A3', '10/08/2022')\n",
      "--------------------------------------------\n",
      "deb de ('A3', '10/08/2022') se fait au créneau :\n",
      "2022-08-10 23:15:00  -  2022-08-10 23:30:00\n",
      "-------------------------------------------------------\n",
      "('A1', '10/08/2022')\n",
      "--------------------------------------------\n",
      "deb de ('A1', '10/08/2022') se fait au créneau :\n",
      "2022-08-10 11:30:00  -  2022-08-10 11:45:00\n",
      "-------------------------------------------------------\n",
      "('A2', '10/08/2022')\n",
      "--------------------------------------------\n",
      "deb de ('A2', '10/08/2022') se fait au créneau :\n",
      "2022-08-10 14:15:00  -  2022-08-10 14:30:00\n",
      "-------------------------------------------------------\n",
      "('A2', '11/08/2022')\n",
      "--------------------------------------------\n",
      "deb de ('A2', '11/08/2022') se fait au créneau :\n",
      "2022-08-11 12:45:00  -  2022-08-11 13:00:00\n",
      "-------------------------------------------------------\n",
      "('A1', '11/08/2022')\n",
      "--------------------------------------------\n",
      "deb de ('A1', '11/08/2022') se fait au créneau :\n",
      "2022-08-11 11:15:00  -  2022-08-11 11:30:00\n",
      "-------------------------------------------------------\n",
      "('A3', '11/08/2022')\n",
      "--------------------------------------------\n",
      "deb de ('A3', '11/08/2022') se fait au créneau :\n",
      "2022-08-11 23:15:00  -  2022-08-11 23:30:00\n",
      "-------------------------------------------------------\n",
      "('A2', '12/08/2022')\n",
      "--------------------------------------------\n",
      "deb de ('A2', '12/08/2022') se fait au créneau :\n",
      "2022-08-12 14:15:00  -  2022-08-12 14:30:00\n",
      "-------------------------------------------------------\n",
      "('A3', '12/08/2022')\n",
      "--------------------------------------------\n",
      "deb de ('A3', '12/08/2022') se fait au créneau :\n",
      "2022-08-12 23:15:00  -  2022-08-12 23:30:00\n",
      "-------------------------------------------------------\n",
      "('A1', '12/08/2022')\n",
      "--------------------------------------------\n",
      "deb de ('A1', '12/08/2022') se fait au créneau :\n",
      "2022-08-12 11:15:00  -  2022-08-12 11:30:00\n",
      "-------------------------------------------------------\n",
      "('A3', '13/08/2022')\n",
      "--------------------------------------------\n",
      "deb de ('A3', '13/08/2022') se fait au créneau :\n",
      "2022-08-13 23:15:00  -  2022-08-13 23:30:00\n",
      "-------------------------------------------------------\n",
      "('A4', '13/08/2022')\n",
      "--------------------------------------------\n",
      "deb de ('A4', '13/08/2022') se fait au créneau :\n",
      "2022-08-13 09:45:00  -  2022-08-13 10:00:00\n",
      "-------------------------------------------------------\n",
      "('A4', '14/08/2022')\n",
      "--------------------------------------------\n",
      "deb de ('A4', '14/08/2022') se fait au créneau :\n",
      "2022-08-14 09:45:00  -  2022-08-14 10:00:00\n",
      "-------------------------------------------------------\n",
      "('D1', '08/08/2022')\n",
      "--------------------------------------------\n",
      "For de ('D1', '08/08/2022') se fait au créneau :\n",
      "2022-08-08 14:45:00  -  2022-08-08 15:00:00\n",
      "-------------------------------------------------------\n",
      "deg de ('D1', '08/08/2022') se fait au créneau :\n",
      "2022-08-08 17:15:00  -  2022-08-08 17:30:00\n",
      "-------------------------------------------------------\n",
      "('D2', '08/08/2022')\n",
      "--------------------------------------------\n",
      "For de ('D2', '08/08/2022') se fait au créneau :\n",
      "2022-08-08 15:00:00  -  2022-08-08 15:15:00\n",
      "-------------------------------------------------------\n",
      "deg de ('D2', '08/08/2022') se fait au créneau :\n",
      "2022-08-08 22:15:00  -  2022-08-08 22:30:00\n",
      "-------------------------------------------------------\n",
      "('D1', '09/08/2022')\n",
      "--------------------------------------------\n",
      "For de ('D1', '09/08/2022') se fait au créneau :\n",
      "2022-08-09 14:30:00  -  2022-08-09 14:45:00\n",
      "-------------------------------------------------------\n",
      "deg de ('D1', '09/08/2022') se fait au créneau :\n",
      "2022-08-09 17:15:00  -  2022-08-09 17:30:00\n",
      "-------------------------------------------------------\n",
      "('D3', '09/08/2022')\n",
      "--------------------------------------------\n",
      "For de ('D3', '09/08/2022') se fait au créneau :\n",
      "2022-08-09 00:30:00  -  2022-08-09 00:45:00\n",
      "-------------------------------------------------------\n",
      "deg de ('D3', '09/08/2022') se fait au créneau :\n",
      "2022-08-09 03:15:00  -  2022-08-09 03:30:00\n",
      "-------------------------------------------------------\n",
      "('D2', '09/08/2022')\n",
      "--------------------------------------------\n",
      "For de ('D2', '09/08/2022') se fait au créneau :\n",
      "2022-08-09 19:30:00  -  2022-08-09 19:45:00\n",
      "-------------------------------------------------------\n",
      "deg de ('D2', '09/08/2022') se fait au créneau :\n",
      "2022-08-09 22:15:00  -  2022-08-09 22:30:00\n",
      "-------------------------------------------------------\n",
      "('D1', '10/08/2022')\n",
      "--------------------------------------------\n",
      "For de ('D1', '10/08/2022') se fait au créneau :\n",
      "2022-08-10 14:30:00  -  2022-08-10 14:45:00\n",
      "-------------------------------------------------------\n",
      "deg de ('D1', '10/08/2022') se fait au créneau :\n",
      "2022-08-10 17:15:00  -  2022-08-10 17:30:00\n",
      "-------------------------------------------------------\n",
      "('D2', '10/08/2022')\n",
      "--------------------------------------------\n",
      "For de ('D2', '10/08/2022') se fait au créneau :\n",
      "2022-08-10 19:30:00  -  2022-08-10 19:45:00\n",
      "-------------------------------------------------------\n",
      "deg de ('D2', '10/08/2022') se fait au créneau :\n",
      "2022-08-10 22:15:00  -  2022-08-10 22:30:00\n",
      "-------------------------------------------------------\n",
      "('D3', '10/08/2022')\n",
      "--------------------------------------------\n",
      "For de ('D3', '10/08/2022') se fait au créneau :\n",
      "2022-08-10 00:30:00  -  2022-08-10 00:45:00\n",
      "-------------------------------------------------------\n",
      "deg de ('D3', '10/08/2022') se fait au créneau :\n",
      "2022-08-10 03:15:00  -  2022-08-10 03:30:00\n",
      "-------------------------------------------------------\n",
      "('D3', '11/08/2022')\n",
      "--------------------------------------------\n",
      "For de ('D3', '11/08/2022') se fait au créneau :\n",
      "2022-08-10 23:45:00  -  2022-08-11 00:00:00\n",
      "-------------------------------------------------------\n",
      "deg de ('D3', '11/08/2022') se fait au créneau :\n",
      "2022-08-11 03:15:00  -  2022-08-11 03:30:00\n",
      "-------------------------------------------------------\n",
      "('D1', '11/08/2022')\n",
      "--------------------------------------------\n",
      "For de ('D1', '11/08/2022') se fait au créneau :\n",
      "2022-08-11 14:45:00  -  2022-08-11 15:00:00\n",
      "-------------------------------------------------------\n",
      "deg de ('D1', '11/08/2022') se fait au créneau :\n",
      "2022-08-11 17:15:00  -  2022-08-11 17:30:00\n",
      "-------------------------------------------------------\n",
      "('D2', '11/08/2022')\n",
      "--------------------------------------------\n",
      "For de ('D2', '11/08/2022') se fait au créneau :\n",
      "2022-08-11 15:00:00  -  2022-08-11 15:15:00\n",
      "-------------------------------------------------------\n",
      "deg de ('D2', '11/08/2022') se fait au créneau :\n",
      "2022-08-11 22:15:00  -  2022-08-11 22:30:00\n",
      "-------------------------------------------------------\n",
      "('D2', '12/08/2022')\n",
      "--------------------------------------------\n",
      "For de ('D2', '12/08/2022') se fait au créneau :\n",
      "2022-08-12 15:00:00  -  2022-08-12 15:15:00\n",
      "-------------------------------------------------------\n",
      "deg de ('D2', '12/08/2022') se fait au créneau :\n",
      "2022-08-12 22:15:00  -  2022-08-12 22:30:00\n",
      "-------------------------------------------------------\n",
      "('D1', '12/08/2022')\n",
      "--------------------------------------------\n",
      "For de ('D1', '12/08/2022') se fait au créneau :\n",
      "2022-08-12 14:45:00  -  2022-08-12 15:00:00\n",
      "-------------------------------------------------------\n",
      "deg de ('D1', '12/08/2022') se fait au créneau :\n",
      "2022-08-12 17:15:00  -  2022-08-12 17:30:00\n",
      "-------------------------------------------------------\n",
      "('D3', '12/08/2022')\n",
      "--------------------------------------------\n",
      "For de ('D3', '12/08/2022') se fait au créneau :\n",
      "2022-08-11 23:30:00  -  2022-08-11 23:45:00\n",
      "-------------------------------------------------------\n",
      "deg de ('D3', '12/08/2022') se fait au créneau :\n",
      "2022-08-12 03:15:00  -  2022-08-12 03:30:00\n",
      "-------------------------------------------------------\n",
      "('D3', '13/08/2022')\n",
      "--------------------------------------------\n",
      "For de ('D3', '13/08/2022') se fait au créneau :\n",
      "2022-08-12 23:45:00  -  2022-08-13 00:00:00\n",
      "-------------------------------------------------------\n",
      "deg de ('D3', '13/08/2022') se fait au créneau :\n",
      "2022-08-13 03:15:00  -  2022-08-13 03:30:00\n",
      "-------------------------------------------------------\n",
      "('D4', '13/08/2022')\n",
      "--------------------------------------------\n",
      "For de ('D4', '13/08/2022') se fait au créneau :\n",
      "2022-08-13 12:45:00  -  2022-08-13 13:00:00\n",
      "-------------------------------------------------------\n",
      "deg de ('D4', '13/08/2022') se fait au créneau :\n",
      "2022-08-13 21:00:00  -  2022-08-13 21:15:00\n",
      "-------------------------------------------------------\n",
      "('D3', '14/08/2022')\n",
      "--------------------------------------------\n",
      "For de ('D3', '14/08/2022') se fait au créneau :\n",
      "2022-08-14 00:30:00  -  2022-08-14 00:45:00\n",
      "-------------------------------------------------------\n",
      "deg de ('D3', '14/08/2022') se fait au créneau :\n",
      "2022-08-14 03:15:00  -  2022-08-14 03:30:00\n",
      "-------------------------------------------------------\n",
      "('D4', '14/08/2022')\n",
      "--------------------------------------------\n",
      "For de ('D4', '14/08/2022') se fait au créneau :\n",
      "2022-08-14 10:30:00  -  2022-08-14 10:45:00\n",
      "-------------------------------------------------------\n",
      "deg de ('D4', '14/08/2022') se fait au créneau :\n",
      "2022-08-14 21:00:00  -  2022-08-14 21:15:00\n",
      "-------------------------------------------------------\n"
     ]
    }
   ],
   "source": [
    "outputxlsx = 'output.xlsx'\n",
    "output = {'Id tâche': [], 'Type de tâche' : [], 'Jour' : [], 'Heure début' : [], 'Durée' : [], 'Sillon' : []}\n",
    "for train in trains_arrivee:\n",
    "    print(train)\n",
    "    print('--------------------------------------------')\n",
    "    for c in range(1,nombre_creneaux+1):\n",
    "        if deb[(train,c)].x==1:\n",
    "            output['Id tâche'].append(f'DEB_{train[0]}_'+ creneau_to_date(date0, c).strftime('%d/%m/%Y'))\n",
    "            output['Type de tâche'].append('DEB')\n",
    "            output['Jour'].append(creneau_to_date(date0, c).strftime('%d/%m/%Y'))\n",
    "            output['Heure début'].append(creneau_to_date(date0, c).strftime('%H:%M'))\n",
    "            output['Durée'].append(15)\n",
    "            output['Sillon'].append(train[0])\n",
    "            print('deb de {} se fait au créneau :'.format(train))\n",
    "            print(creneau_to_date(date0,c),' - ',creneau_to_date(date0,c+1))\n",
    "            print('-------------------------------------------------------')\n",
    "\n",
    "\n",
    "for train in trains_depart:\n",
    "    print(train)\n",
    "    print('--------------------------------------------')\n",
    "    for c in range(1,nombre_creneaux+1):\n",
    "        if form[(train,c)].x==1:\n",
    "            print('For de {} se fait au créneau :'.format(train))\n",
    "            output['Id tâche'].append(f'FOR_{train[0]}_'+ creneau_to_date(date0, c).strftime('%d/%m/%Y'))\n",
    "            output['Type de tâche'].append('FOR')\n",
    "            output['Jour'].append(creneau_to_date(date0, c).strftime('%d/%m/%Y'))\n",
    "            output['Heure début'].append(creneau_to_date(date0, c).strftime('%H:%M'))\n",
    "            output['Durée'].append(15)\n",
    "            output['Sillon'].append(train[0])\n",
    "            print(creneau_to_date(date0,c),' - ',creneau_to_date(date0,c+1))\n",
    "            print('-------------------------------------------------------')\n",
    "        if deg[(train,c)].x==1:\n",
    "            print('deg de {} se fait au créneau :'.format(train))\n",
    "            output['Id tâche'].append(f'DEG_{train[0]}_' + creneau_to_date(date0, c).strftime('%d/%m/%Y'))\n",
    "            output['Type de tâche'].append('DEG')\n",
    "            output['Jour'].append(creneau_to_date(date0, c).strftime('%d/%m/%Y'))\n",
    "            output['Heure début'].append(creneau_to_date(date0, c).strftime('%H:%M'))\n",
    "            output['Durée'].append(15)\n",
    "            output['Sillon'].append(train[0])\n",
    "            print(creneau_to_date(date0,c),' - ',creneau_to_date(date0,c+1))\n",
    "            print('-------------------------------------------------------')\n",
    "    \n",
    "\n"
   ]
  },
  {
   "cell_type": "code",
   "execution_count": 69,
   "metadata": {},
   "outputs": [
    {
     "data": {
      "text/html": [
       "<div>\n",
       "<style scoped>\n",
       "    .dataframe tbody tr th:only-of-type {\n",
       "        vertical-align: middle;\n",
       "    }\n",
       "\n",
       "    .dataframe tbody tr th {\n",
       "        vertical-align: top;\n",
       "    }\n",
       "\n",
       "    .dataframe thead th {\n",
       "        text-align: right;\n",
       "    }\n",
       "</style>\n",
       "<table border=\"1\" class=\"dataframe\">\n",
       "  <thead>\n",
       "    <tr style=\"text-align: right;\">\n",
       "      <th></th>\n",
       "      <th>Id tâche</th>\n",
       "      <th>Type de tâche</th>\n",
       "      <th>Jour</th>\n",
       "      <th>Heure début</th>\n",
       "      <th>Durée</th>\n",
       "      <th>Sillon</th>\n",
       "    </tr>\n",
       "  </thead>\n",
       "  <tbody>\n",
       "    <tr>\n",
       "      <th>0</th>\n",
       "      <td>DEB_A1_08/08/2022</td>\n",
       "      <td>DEB</td>\n",
       "      <td>08/08/2022</td>\n",
       "      <td>14:30</td>\n",
       "      <td>15</td>\n",
       "      <td>A1</td>\n",
       "    </tr>\n",
       "    <tr>\n",
       "      <th>1</th>\n",
       "      <td>DEB_A3_08/08/2022</td>\n",
       "      <td>DEB</td>\n",
       "      <td>08/08/2022</td>\n",
       "      <td>23:15</td>\n",
       "      <td>15</td>\n",
       "      <td>A3</td>\n",
       "    </tr>\n",
       "    <tr>\n",
       "      <th>2</th>\n",
       "      <td>DEB_A2_08/08/2022</td>\n",
       "      <td>DEB</td>\n",
       "      <td>08/08/2022</td>\n",
       "      <td>14:15</td>\n",
       "      <td>15</td>\n",
       "      <td>A2</td>\n",
       "    </tr>\n",
       "    <tr>\n",
       "      <th>3</th>\n",
       "      <td>DEB_A2_09/08/2022</td>\n",
       "      <td>DEB</td>\n",
       "      <td>09/08/2022</td>\n",
       "      <td>14:15</td>\n",
       "      <td>15</td>\n",
       "      <td>A2</td>\n",
       "    </tr>\n",
       "    <tr>\n",
       "      <th>4</th>\n",
       "      <td>DEB_A3_09/08/2022</td>\n",
       "      <td>DEB</td>\n",
       "      <td>09/08/2022</td>\n",
       "      <td>23:15</td>\n",
       "      <td>15</td>\n",
       "      <td>A3</td>\n",
       "    </tr>\n",
       "  </tbody>\n",
       "</table>\n",
       "</div>"
      ],
      "text/plain": [
       "            Id tâche Type de tâche        Jour Heure début  Durée Sillon\n",
       "0  DEB_A1_08/08/2022           DEB  08/08/2022       14:30     15     A1\n",
       "1  DEB_A3_08/08/2022           DEB  08/08/2022       23:15     15     A3\n",
       "2  DEB_A2_08/08/2022           DEB  08/08/2022       14:15     15     A2\n",
       "3  DEB_A2_09/08/2022           DEB  09/08/2022       14:15     15     A2\n",
       "4  DEB_A3_09/08/2022           DEB  09/08/2022       23:15     15     A3"
      ]
     },
     "execution_count": 69,
     "metadata": {},
     "output_type": "execute_result"
    }
   ],
   "source": [
    "\n",
    "df = pd.DataFrame(output)\n",
    "df.head()\n"
   ]
  },
  {
   "cell_type": "code",
   "execution_count": null,
   "metadata": {},
   "outputs": [],
   "source": [
    "df.to_excel(outputxlsx, index=False)"
   ]
  },
  {
   "cell_type": "markdown",
   "metadata": {},
   "source": [
    "# Questions \n",
    "- Horraires du départ non conforme avec les créneaux machines\n",
    "- Créneaux et jours ? indices dépendants \n",
    "- Il ya un choix à faire lors de la correspondance entre tâche humaine et créneaux où \\\n",
    "entre tâche machine et créneaux."
   ]
  }
 ],
 "metadata": {
  "kernelspec": {
   "display_name": "base",
   "language": "python",
   "name": "python3"
  },
  "language_info": {
   "codemirror_mode": {
    "name": "ipython",
    "version": 3
   },
   "file_extension": ".py",
   "mimetype": "text/x-python",
   "name": "python",
   "nbconvert_exporter": "python",
   "pygments_lexer": "ipython3",
   "version": "3.11.7"
  }
 },
 "nbformat": 4,
 "nbformat_minor": 2
}
