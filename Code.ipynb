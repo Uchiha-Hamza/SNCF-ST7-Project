{
 "cells": [
  {
   "cell_type": "markdown",
   "metadata": {},
   "source": [
    "\n",
    "# <font color=blue><div align=\"center\">ST7 SNCF : Jalon 1</div></font>\n",
    "\n",
    "## <font color=blue><div align=\"center\">\"<em>Indian Railways</em>\"</div></font>"
   ]
  },
  {
   "cell_type": "markdown",
   "metadata": {},
   "source": [
    "## Modules"
   ]
  },
  {
   "cell_type": "code",
   "execution_count": null,
   "metadata": {},
   "outputs": [],
   "source": [
    "# Modules de base\n",
    "import numpy as np\n",
    "import matplotlib.pyplot as plt\n",
    "import pandas as pd\n",
    "import datetime\n",
    "%matplotlib inline\n",
    "\n",
    "# Module relatif à Gurobi\n",
    "from gurobipy import *\n",
    "\n",
    "# Module csv\n",
    "import csv"
   ]
  },
  {
   "cell_type": "code",
   "execution_count": null,
   "metadata": {},
   "outputs": [],
   "source": [
    "mini_instance=\"mini_instance.xlsx\"\n",
    "instance_simple=\"instance_WPY_simple.xlsx\"\n",
    "instance_realiste=\"instance_WPY_realiste_jalon1.xlsx\"\n",
    "\n",
    "# CHOIX DE L'INTSANCE \n",
    "instance=mini_instance"
   ]
  },
  {
   "cell_type": "markdown",
   "metadata": {},
   "source": [
    "## Traitement de données"
   ]
  },
  {
   "cell_type": "code",
   "execution_count": null,
   "metadata": {},
   "outputs": [],
   "source": [
    "def excel_to_dict(file :str)-> dict[str]:\n",
    "    '''\n",
    "    Takes excel file name in the repo\n",
    "    and returns a dictionary[sheet_name]=Dataframe\n",
    "    '''\n",
    "    # Load the Excel file\n",
    "    xl = pd.ExcelFile(file)\n",
    "    \n",
    "    # Get the names of the sheets\n",
    "    sheet_names = xl.sheet_names\n",
    "    \n",
    "    # Initialize a dictionary to store the data\n",
    "    data_dict = {}\n",
    "    \n",
    "    # Iterate over each sheet\n",
    "    for sheet_name in sheet_names:\n",
    "        # Read the sheet into a pandas DataFrame\n",
    "        data_dict[sheet_name] = pd.read_excel(file, sheet_name=sheet_name)\n",
    "    return data_dict\n",
    "\n",
    "def date_to_creneau(date0: datetime.datetime, hour: pd.DataFrame, date: pd.DataFrame):\n",
    "    '''\n",
    "    Takes hour and date's 1-column dataframes\n",
    "    and returns a dataframe of 1-column of 'créneaux'\n",
    "    starting from date0\n",
    "    '''\n",
    "    # Excel is sometimes stoopid and has inconsistent types\n",
    "    if type(date[0])==str:\n",
    "        datetime_df=pd.to_datetime(date.apply(lambda x: str(x)+' ')+hour.apply(lambda x:str(x)), dayfirst=True)\n",
    "    if type(date[0])==pd._libs.tslibs.timestamps.Timestamp:\n",
    "        datetime_df=pd.to_datetime(date.apply(lambda x: str(x)+' ')+hour.apply(lambda x:str(x)))\n",
    "    return (datetime_df-date0).dt.total_seconds().div(60*15).astype(int)+1\n",
    "\n",
    "def creneau_to_date(date0: datetime.datetime, creneau : int):\n",
    "    return date0+ datetime.timedelta(minutes=(creneau-1)*15)\n",
    "\n",
    "def convToStr(date)-> str:\n",
    "    '''\n",
    "    Takes a date in any form in the instance\n",
    "    and returns a string dd/mm/yyyy\n",
    "    '''\n",
    "    if type(date)==str:\n",
    "        return date\n",
    "    else:\n",
    "        return \"/\".join(str(date.date()).split(\"-\")[::-1])\n",
    "    \n",
    "\n",
    "INSTANCE= excel_to_dict(instance)"
   ]
  },
  {
   "cell_type": "markdown",
   "metadata": {},
   "source": [
    "### Dictionnaires utiles "
   ]
  },
  {
   "cell_type": "markdown",
   "metadata": {},
   "source": [
    "Trains de l'arrivée et trains du départ"
   ]
  },
  {
   "cell_type": "code",
   "execution_count": null,
   "metadata": {},
   "outputs": [],
   "source": [
    "trains_arrivee=[]\n",
    "for index, row in INSTANCE[\"Sillons arrivee\"].iterrows():\n",
    "    id_train = row['n°TRAIN'], convToStr(row[\"JARR\"])\n",
    "    trains_arrivee.append(id_train)\n",
    "\n",
    "trains_depart=[]\n",
    "for index, row in INSTANCE[\"Sillons depart\"].iterrows():\n",
    "    id_train = row['n°TRAIN'], convToStr(row[\"JDEP\"])\n",
    "    trains_depart.append(id_train)"
   ]
  },
  {
   "cell_type": "markdown",
   "metadata": {},
   "source": [
    "Créneaux de l'arrivée et du départ"
   ]
  },
  {
   "cell_type": "code",
   "execution_count": null,
   "metadata": {},
   "outputs": [],
   "source": [
    "# Date de référence est celle du lundi de la première semaine\n",
    "# Ce choix rend facile la traduction des indisponibilités de type (weekday,hh:mm)\n",
    "date0=str(INSTANCE[\"Sillons arrivee\"][\"JARR\"][0])+' 00:00:00'\n",
    "date0=pd.to_datetime(date0, dayfirst=True)\n",
    "date0=date0-datetime.timedelta(days=float(date0.dayofweek))\n",
    "datef=pd.to_datetime(INSTANCE[\"Sillons depart\"][\"JDEP\"].iloc[-1], dayfirst=True)+datetime.timedelta(hours=24)\n",
    "nombre_creneaux=int((datef-date0).total_seconds()/(60*15))\n",
    "\n",
    "# Créneaux du départ et de l'arrivée\n",
    "INSTANCE[\"Sillons arrivee\"][\"creneau\"]=date_to_creneau(date0, INSTANCE[\"Sillons arrivee\"][\"HARR\"], INSTANCE[\"Sillons arrivee\"][\"JARR\"])\n",
    "INSTANCE[\"Sillons depart\"][\"creneau\"]=date_to_creneau(date0, INSTANCE[\"Sillons depart\"][\"HDEP\"], INSTANCE[\"Sillons depart\"][\"JDEP\"])\n",
    "\n",
    "# Dictionnaires des créneaux \n",
    "# { (n°train, jour) : créneau }\n",
    "creneau_arrivee={} \n",
    "for index, row in INSTANCE[\"Sillons arrivee\"].iterrows():\n",
    "    creneau_arrivee[row[\"n°TRAIN\"],convToStr(row[\"JARR\"])]=row[\"creneau\"]\n",
    "\n",
    "creneau_depart={}\n",
    "for index, row in INSTANCE[\"Sillons depart\"].iterrows():\n",
    "    creneau_depart[row[\"n°TRAIN\"],convToStr(row[\"JDEP\"])]=row[\"creneau\"]"
   ]
  },
  {
   "cell_type": "markdown",
   "metadata": {},
   "source": [
    "Correspondances"
   ]
  },
  {
   "cell_type": "code",
   "execution_count": null,
   "metadata": {},
   "outputs": [],
   "source": [
    "def correspondances():\n",
    "    '''\n",
    "    Construit un dictionnaire global\n",
    "    associant chaque train du départ à un set \n",
    "    des trains d'arrivée qui le constituent\n",
    "    et à un train d'arrivée un set de trains \n",
    "    de départs qui lui y sont liés\n",
    "    '''\n",
    "    At={}\n",
    "    Dt={}\n",
    "    for train in trains_depart:\n",
    "        At[train]=set()\n",
    "    for train in trains_arrivee:\n",
    "         Dt[train]=set()\n",
    "    for index, row in INSTANCE[\"Correspondances\"].iterrows():\n",
    "            At[(row[\"n°Train depart\"], convToStr(row[\"Jour depart\"]))].add((row['n°Train arrivee'],convToStr(row['Jour arrivee'])))\n",
    "            Dt[(row[\"n°Train arrivee\"], convToStr(row[\"Jour arrivee\"]))].add((row['n°Train depart'],convToStr(row['Jour depart'])))\n",
    "            \n",
    "    return At,Dt\n",
    "\n",
    "At=correspondances()[0]\n",
    "Dt=correspondances()[1] \n"
   ]
  },
  {
   "cell_type": "markdown",
   "metadata": {},
   "source": [
    "Indisponibilité des machines et des chantiers"
   ]
  },
  {
   "cell_type": "code",
   "execution_count": null,
   "metadata": {},
   "outputs": [],
   "source": [
    "def creneaux_de_periode(indispo_str : str)-> list[int]: \n",
    "    plage_jours=nombre_creneaux//96\n",
    "    creneaux = []\n",
    "    if indispo_str!='0':\n",
    "        periodes = indispo_str.split(';')\n",
    "        for periode in periodes:\n",
    "            jour, plage_horaire = periode.strip('()').split(',')\n",
    "            jour = int(jour)\n",
    "            jours=[jour+7*k for k in range(0,plage_jours//7+1)]\n",
    "            plage_horaire = plage_horaire.strip('()').split('-')\n",
    "            heure_debut, minute_debut = map(int, plage_horaire[0].split(':'))\n",
    "            creneau_debut=minute_debut//15+1\n",
    "            heure_fin, minute_fin = map(int, plage_horaire[1].split(':'))\n",
    "            creneau_fin=minute_fin//15+1\n",
    "\n",
    "\n",
    "            if (heure_debut,minute_debut)>=(heure_fin,minute_fin):\n",
    "                for jour1 in jours:\n",
    "                    for c in range((jour1-1)*96+heure_debut*4+creneau_debut,jour1*96):\n",
    "                        if c<=nombre_creneaux:\n",
    "                            creneaux.append(c)\n",
    "                    for c in range(jour1*96,jour1*96+heure_fin*4+creneau_fin):\n",
    "                        if c<=nombre_creneaux: creneaux.append(c)\n",
    "            else:\n",
    "                for jour1 in jours:\n",
    "                    for c in range((jour1-1)*96+heure_debut*4+creneau_debut,(jour1-1)*96+heure_fin*4+creneau_fin):\n",
    "                        if c<=nombre_creneaux: creneaux.append(c) \n",
    "    return creneaux\n",
    "\n",
    "# data1 = INSTANCE1['Machines']\n",
    "df = INSTANCE['Machines']\n",
    "\n",
    "df['Indisponibilites']=df['Indisponibilites'].astype(str)\n",
    "# Apply the function to each row\n",
    "df['Indisponibilites_TimeSlots'] = df['Indisponibilites'].apply(creneaux_de_periode)\n",
    "\n",
    "DEB_INDIS = df.loc[df['Machine'] == 'DEB', 'Indisponibilites_TimeSlots'].values[0]\n",
    "FOR_INDIS = df.loc[df['Machine'] == 'FOR', 'Indisponibilites_TimeSlots'].values[0]\n",
    "DEG_INDIS = df.loc[df['Machine'] == 'DEG', 'Indisponibilites_TimeSlots'].values[0]"
   ]
  },
  {
   "cell_type": "markdown",
   "metadata": {},
   "source": [
    "Voies disponibles des chantiers"
   ]
  },
  {
   "cell_type": "code",
   "execution_count": null,
   "metadata": {},
   "outputs": [],
   "source": [
    "df=INSTANCE[\"Chantiers\"]\n",
    "df['Indisponibilites']=df['Indisponibilites'].astype(str)\n",
    "df['Indisponibilites_TimeSlots'] = df['Indisponibilites'].apply(creneaux_de_periode)\n",
    "\n",
    "REC_INDIS = df.loc[df['Chantier'] == 'WPY_REC', 'Indisponibilites_TimeSlots'].values[0]\n",
    "OFORM_INDIS = df.loc[df['Chantier'] == 'WPY_FOR', 'Indisponibilites_TimeSlots'].values[0]\n",
    "DEP_INDIS = df.loc[df['Chantier'] == 'WPY_DEP', 'Indisponibilites_TimeSlots'].values[0]\n",
    "\n",
    "NVREC=df.loc[df['Chantier'] == 'WPY_REC', \"Nombre de voies\"].values[0]\n",
    "NVFOR=df.loc[df['Chantier'] == 'WPY_FOR', \"Nombre de voies\"].values[0]\n",
    "NVDEP=df.loc[df['Chantier'] == 'WPY_DEP', \"Nombre de voies\"].values[0]"
   ]
  },
  {
   "cell_type": "markdown",
   "metadata": {},
   "source": [
    "## Modèle mathématique \n",
    "On a modélisé notre problème en partant du fait que les machines ne sont disponibles que pour un seul train et dans un seul créneau. \\\n",
    "De ce fait, on introduit les variables *binaires* suivantes : \\\n",
    "\\\n",
    "    - $(deb_{ic})$ : variable binaire indiquant si la machine de débranchement est utilisée \\\n",
    "    pour le sillion d'arrivée d'identifiant $i$ au créneau $c$ \\\n",
    "    - $(for_{ic})$ : variable binaire indiquant si la machine de formation est utilisée \\\n",
    "    pour le sillion du départ d'identifiant $i$ au créneau $c$ \\\n",
    "    - $(deg_{ic})$ : variable binaire indiquant si la machine de dégarage est utilisée \\\n",
    "    pour le sillion du départ d'identifiant $i$ au créneau $c$\n",
    "\n",
    "Les créneaux ont une durée de $15 min$ correspondant à la durée d'une tâche machine. Les valeurs possibles des créneaux dépendent de l'instance, \\\n",
    "soit alors $c \\in \\{1,2,..., c_{max}\\} $ où $c=1$ correspond au premier créneau du lundi de la première semaine du travail : $[0:00 , 0:15[$ et \\\n",
    "$c_{max}$ le dernier créneau du dernier jour du travail : $[23:45, 0:00[$.\n",
    "\n",
    "On note ainsi : \n",
    "$$A = \\{\\text{Les identifiants des trains d'arrivée}\\}$$\n",
    "$$D = \\{\\text{Les identifiants des trains du départ}\\}$$\n",
    "$$C= \\{1,2,..., c_{max}\\}$$"
   ]
  },
  {
   "cell_type": "code",
   "execution_count": null,
   "metadata": {},
   "outputs": [],
   "source": [
    "# IMPLEMNTATION DES VARIABLES \n",
    "# Implémentation Python\n",
    "m= Model('Modèle')\n",
    "deb = {(i, c) : m.addVar(vtype = GRB.BINARY, name=f'deb_{i}_{c}') for i in trains_arrivee for c in range(1,nombre_creneaux+1)}\n",
    "form = {(i, c) : m.addVar(vtype = GRB.BINARY, name=f'form_{i}_{c}') for i in trains_depart for c in range(1,nombre_creneaux+1)}\n",
    "deg = {(i, c) : m.addVar(vtype = GRB.BINARY, name=f'deg_{i}_{c}') for i in trains_depart for c in range(1,nombre_creneaux+1)}"
   ]
  },
  {
   "cell_type": "markdown",
   "metadata": {},
   "source": [
    "Pour inclure les informations sur les voies, nous avons défini les variables binaires suivantes:\\\n",
    "\\\n",
    "    - $orec_{ic}$ : variable binaire indiquant si le train d'arrivée $i \\in A$ occupe une voie dans le chantier de débranchement au créneau $c \\in C$.\\\n",
    "    - $ofor_{ic}$ : variable binaire indiquant si le train de départ $i \\in D$ occupe une voie dans le chantier de formation au créneau $c \\in C$.\\\n",
    "    - $odep_{ic}$ : variable binaire indiquant si le train de départ $i \\in D$ occupe une voie dans le chantier de départ au créneau $c \\in C$.\n",
    "Les créneaux de $C$, et les ensembles $A$ et $D$ sont définis comme dans le jalon précédent."
   ]
  },
  {
   "cell_type": "code",
   "execution_count": null,
   "metadata": {},
   "outputs": [],
   "source": [
    "orec = {(i, c) : m.addVar(vtype = GRB.BINARY, name=f'orec_{i}_{c}') for i in trains_arrivee for c in range(1,nombre_creneaux+1)}\n",
    "oform = {(i, c) : m.addVar(vtype = GRB.BINARY, name=f'oform_{i}_{c}') for i in trains_depart for c in range(1,nombre_creneaux+1)}\n",
    "odep = {(i, c) : m.addVar(vtype = GRB.BINARY, name=f'odep_{i}_{c}') for i in trains_depart for c in range(1,nombre_creneaux+1)}"
   ]
  },
  {
   "cell_type": "markdown",
   "metadata": {},
   "source": [
    "## Contraintes\n",
    "### 1. Unique débranchement, formation et dégarage\n",
    "Chaque train d'arrivé subit un seul et unique débranchement, chaque train du départ subit un seul et unique débranchement et dégarage. \n",
    "$$ \\forall i \\in A \\quad \\sum_{c} deb_{i,c} = 1 $$\n",
    "$$ \\forall i \\in D \\quad \\sum_{c} for_{i,c} = 1 $$\n",
    "$$ \\forall i \\in D \\quad \\sum_{c} deg_{i,c} = 1 $$"
   ]
  },
  {
   "cell_type": "code",
   "execution_count": null,
   "metadata": {},
   "outputs": [],
   "source": [
    "uniqueDeb_train = {i : m.addConstr(quicksum([deb[(i, c)] for c in range(1, nombre_creneaux + 1)]) ==1, name = f'UniqueDeb_train{i}') for i in trains_arrivee}\n",
    "uniqueform_train = {i : m.addConstr(quicksum([form[(i, c)] for c in range(1, nombre_creneaux + 1)]) ==1, name = f'UniqueFor_train{i}') for i in trains_depart}\n",
    "uniqueDeg_train = {i : m.addConstr(quicksum([deg[(i, c)] for c in range(1, nombre_creneaux + 1)]) ==1, name = f'UniqueDeg_train{i}') for i in trains_depart}"
   ]
  },
  {
   "cell_type": "markdown",
   "metadata": {},
   "source": [
    "### 2. Une seule tâche machine par créneau  \n",
    "Chaque machine est exploitée par au plus un seul train sur chaque créneau.\n",
    "$$ \\forall c \\in C \\quad \\sum_{i \\in A} deb_{i,c} \\leq 1 $$\n",
    "$$ \\forall c \\in C \\quad \\sum_{i \\in D} for_{i,c} \\leq 1 $$\n",
    "$$ \\forall c \\in C \\quad \\sum_{i \\in D} deg_{i,c} \\leq 1 $$"
   ]
  },
  {
   "cell_type": "code",
   "execution_count": null,
   "metadata": {},
   "outputs": [],
   "source": [
    "uniqueDeb_creneau = {c : m.addConstr(quicksum([deb[(i, c)] for i in trains_arrivee]) <=1, name = f'UniqueDeb_creneau{c}') for c in range(1, nombre_creneaux + 1)}\n",
    "uniqueFor_creneau = {c : m.addConstr(quicksum([form[(i, c)] for i in trains_depart]) <=1, name = f'UniqueFor_creneau{c}') for c in range(1, nombre_creneaux + 1)}\n",
    "uniqueDeg_creneau = {c : m.addConstr(quicksum([deg[(i, c)] for i in trains_depart ]) <=1, name = f'UniqueDeg_creneau{c}') for c in range(1, nombre_creneaux + 1)}"
   ]
  },
  {
   "cell_type": "markdown",
   "metadata": {},
   "source": [
    "### 3. Débranchement se fait après l'arrivée du train\n",
    "Pour chaque train d'arrivée $i$, le débranchement ne peut pas avoir lieu dans les créneaux précedent celui d'arrivée $c^{a}_{i}$ après une heure de tâches humaines.\n",
    "$$ \\forall i \\in A \\quad \\sum_{c \\space \\leq \\space c^{a}_{i}+4} deb_{i,c} = 0$$ "
   ]
  },
  {
   "cell_type": "code",
   "execution_count": null,
   "metadata": {},
   "outputs": [],
   "source": [
    "deb_apres_arrivee = {i : m.addConstr(quicksum([deb[(i, c)] for c in range(1, creneau_arrivee[i] + 5)]) ==0, name = f'deb_apres_arrivee{i}') for i in trains_arrivee}\n"
   ]
  },
  {
   "cell_type": "markdown",
   "metadata": {},
   "source": [
    "### 4. Formation d'un train de départ \n",
    "Pour chaque train du départ $t$, la formation ne peut avoir lieu qu'après débranchement de tous les trains ayant les wagons qui le constituent. \\\n",
    "On note : $$ \\forall t \\in D \\quad A_t = \\{\\text{Les identifiants des trains d'arrivée ayant au moins un wagon du train t}\\}$$\n",
    "On peut exprimer la contrainte comme suit : \n",
    "$$ \\forall t \\in D, \\space\\forall c \\in C, \\space\\forall i \\in A_t \\quad for_{t,c} \\leq \\sum_{c' \\space \\lt \\space c} deb_{i,c'}$$ "
   ]
  },
  {
   "cell_type": "code",
   "execution_count": null,
   "metadata": {},
   "outputs": [],
   "source": [
    "for_apres_deb = {(t,c,i) : m.addConstr(form[(t,c)]<=quicksum([deb[(i, c_p)] for c_p in range(1, c)]), name = f'for_apres_deb{t}{c}{i}') for t in trains_depart for c in range(1,nombre_creneaux+1) for i in At[t]}"
   ]
  },
  {
   "cell_type": "markdown",
   "metadata": {},
   "source": [
    "### 5. Dégarage après formation\n",
    "Pour chaque train du départ, le dégarage ne peut avoir lieu qu'après la formation du train et $150$ minutes soit $10$ créneaux de tâches humaines.\n",
    "$$ \\forall t \\in D, \\space\\forall c \\in C \\quad deg_{t,c} \\leq \\sum_{c' \\space \\lt \\space c-10} for_{t,c'}$$ "
   ]
  },
  {
   "cell_type": "code",
   "execution_count": null,
   "metadata": {},
   "outputs": [],
   "source": [
    "deg_apres_for = {(t,c) : m.addConstr(deg[(t,c)]<=quicksum([form[(t, c_p)] for c_p in range(1, c-9)]), name = f'deg_apres_for{t},{c}') for t in trains_depart for c in range(1,nombre_creneaux+1)}"
   ]
  },
  {
   "cell_type": "markdown",
   "metadata": {},
   "source": [
    "### 6. Dégarage avant départ\n",
    "Pour chaque train du départ $t$, le dégarage ne peut pas avoir lieu dans les créneaux suivants \\\n",
    "celui de $20$ minutes (de tâches humaines) avant l'instant du départ qu'on note $h^{d}_{t}$.\\\n",
    "Puisque $20$ minutes n'est pas une durée divisible par $15$, on définit le créneau précis $cp^{d}_{t}$ comme suit:\n",
    "$$cp^{d}_{t} : \\text{\\space créneau de l'instant \\space} h^{d}_{t}-20\\space min$$\n",
    "$$ \\forall t \\in D \\quad \\sum_{ \\space c \\geq \\space cp^{d}_{t}} deg_{t,c} = 0$$ "
   ]
  },
  {
   "cell_type": "code",
   "execution_count": null,
   "metadata": {},
   "outputs": [],
   "source": [
    "creneau_precis={} # dict des paires (train: créneau précis)\n",
    "for index, row in INSTANCE[\"Sillons depart\"].iterrows():\n",
    "    string=row[\"JDEP\"]\n",
    "    if type(row[\"JDEP\"])==pd._libs.tslibs.timestamps.Timestamp:\n",
    "        string=convToStr(row[\"JDEP\"])\n",
    "    date=list(map(int,string.split(\"/\")))\n",
    "    hour=list(map(int,str(row[\"HDEP\"]).split(\":\")))\n",
    "    date_precis=datetime.datetime(year=date[2], month=date[1], day=date[0], hour=hour[0], minute=hour[1])-datetime.timedelta(minutes=20)\n",
    "    creneau_precis[row[\"n°TRAIN\"],convToStr(row[\"JDEP\"])]=int((date_precis-date0).total_seconds()/(60*15))+1\n",
    "\n",
    "deg_avant_depart = {t : m.addConstr(quicksum([deg[(t, c)] for c in range(creneau_depart[t]-2, nombre_creneaux+1)])==0, name = f'depart_apres_deg{t}') for t in trains_depart}"
   ]
  },
  {
   "cell_type": "markdown",
   "metadata": {},
   "source": [
    "### 7. Disponibilités des machines\n",
    "Il y a des créneaux où les machines sont indisponible, soient alors  $ \\space C_{deb}, C_{for}, C_{deg} \\space$  ces crénaux d'indisponibilités.\n",
    "$$ \\forall i \\in A \\quad \\sum_{c \\space \\in \\space C_{deb}} deb_{i,c} = 0 $$\n",
    "$$ \\forall i \\in D \\quad \\sum_{c \\space \\in \\space C_{for}} for_{i,c} = 0 $$\n",
    "$$ \\forall i \\in D \\quad \\sum_{c \\space \\in \\space C_{deg}} deg_{i,c} = 0 $$"
   ]
  },
  {
   "cell_type": "code",
   "execution_count": null,
   "metadata": {},
   "outputs": [],
   "source": [
    "indisponibilite_deb = {i : m.addConstr(quicksum([deb[(i, c)] for c in DEB_INDIS]) ==0, name = f'indisponibilité_deb{i}') for i in trains_arrivee }\n",
    "indisponibilite_for = {i : m.addConstr(quicksum([form[(i, c)] for c in FOR_INDIS]) ==0, name = f'indisponibilité_for{i}') for i in trains_depart}\n",
    "indisponibilite_deb = {i : m.addConstr(quicksum([deg[(i, c)] for c in DEG_INDIS]) ==0, name = f'indisponibilité_deg{i}') for i in trains_depart}"
   ]
  },
  {
   "cell_type": "markdown",
   "metadata": {},
   "source": [
    "### Contraintes Jalon 2"
   ]
  },
  {
   "cell_type": "markdown",
   "metadata": {},
   "source": [
    "#### 1- Nombre des voies disponibles\n",
    "Pour chaque créneau $c \\in C$, un chantier ne peut pas accueillir plus de trains que le nombre de voies disponibles: \n",
    "$$ \\forall c \\in C \\quad \\sum_{i \\in A} orec_{i,c} \\leq \\text{NVREC} $$\n",
    "$$ \\forall c \\in C \\quad \\sum_{i \\in D} ofor_{i,c} \\leq \\text{NVFOR} $$\n",
    "$$ \\forall c \\in C \\quad \\sum_{i \\in D} odep_{i,c} \\leq \\text{NVDEP} $$\n",
    "\n",
    "Où NVDEB, NVFOR, NVDEG correspondent aux nombres de voies disponibles pour chaque chantiers REC, FOR,\n",
    "DEP respectivement."
   ]
  },
  {
   "cell_type": "code",
   "execution_count": null,
   "metadata": {},
   "outputs": [],
   "source": [
    "Nb_voies_rec = {c : m.addConstr(quicksum([orec[(i, c)] for i in trains_arrivee]) <= NVREC, name = f'nb_voies_rec{c}') for c in range(1,nombre_creneaux+1) }\n",
    "Nb_voies_for = {c : m.addConstr(quicksum([oform[(i, c)] for i in trains_depart]) <= NVFOR, name = f'nb_voies_form{c}') for c in range(1,nombre_creneaux+1) }\n",
    "Nb_voies_dep = {c : m.addConstr(quicksum([odep[(i, c)] for i in trains_depart]) <= NVDEP, name = f'nb_voies_dep{c}') for c in range(1,nombre_creneaux+1) }"
   ]
  },
  {
   "cell_type": "markdown",
   "metadata": {},
   "source": [
    "#### 2- Indisponibilié des chantiers\n",
    "Il y a des créneaux dans lesquels les chantiers sont indisponibles qu'on note $C_{rec}, C_{for}, C_{dep}$. \n",
    "On interdit alors l'occupation lors de ces créneaux : \n",
    "\n",
    "$$ \\forall i \\in A \\quad \\sum_{c \\space \\in \\space C_{rec}} orec_{i,c} = 0 $$\n",
    "$$ \\forall i \\in D \\quad \\sum_{c \\space \\in \\space C_{for}} ofor_{i,c} = 0 $$\n",
    "$$ \\forall i \\in D \\quad \\sum_{c \\space \\in \\space C_{dep}} odep_{i,c} = 0 $$"
   ]
  },
  {
   "cell_type": "code",
   "execution_count": null,
   "metadata": {},
   "outputs": [],
   "source": [
    "indisponibilite_orec = {i : m.addConstr(quicksum([orec[(i, c)] for c in REC_INDIS]) ==0, name = f'indisponibilité_rec{i}') for i in trains_arrivee }\n",
    "indisponibilite_oform = {i : m.addConstr(quicksum([oform[(i, c)] for c in OFORM_INDIS]) ==0, name = f'indisponibilité_oform{i}') for i in trains_depart}\n",
    "indisponibilite_dep = {i : m.addConstr(quicksum([odep[(i, c)] for c in DEP_INDIS]) ==0, name = f'indisponibilité_dep{i}') for i in trains_depart}"
   ]
  },
  {
   "cell_type": "markdown",
   "metadata": {},
   "source": [
    "#### 3- Occupation du chantier de la réception pour un train d’arrivée\n",
    "Lors de l'arrivée d'un train $i \\in A$, il occupe le chantier de réception dans les créneaux entre celui d'arrivéee $c_a^{i}$ \n",
    "et celui de son débranchement $\\sum_{c' \\in C}{c'\\times deb_{i,c'}}$. Mathématiquement : \n",
    "$$ \\forall c \\in C, \\forall i \\in A \\quad \\left(c \\ge c_a^{i}\\right) \\land \\left(c \\le \\sum_{c'}{c'\\times deb_{i,c'}}\\right) \\Rightarrow orec_{i,c}=1$$\n",
    "$$ M \\times orec_{i,c} \\ge \\left(\\varepsilon+(c-c_a^{i})\\right)\\left(\\sum_{c'}{c'\\times deb_{i,c'}}-c+\\varepsilon \\right)$$\n",
    "Où $M$ est un majorant suffisament grand et $\\varepsilon$ un minorant assez petit."
   ]
  },
  {
   "cell_type": "code",
   "execution_count": null,
   "metadata": {},
   "outputs": [],
   "source": [
    "M=(nombre_creneaux)**2\n",
    "eps=0.1\n",
    "occupation_arrivee_deb={(i,c) : m.addConstr((eps+(c-creneau_arrivee[i])*(quicksum([u*deb[(i,u)] for u in range(1,nombre_creneaux+1)])-c+eps))<=M*orec[(i,c)], name=f'occupation_arrivee_deg_{i,c}') for i in trains_arrivee for c in range(1,1+nombre_creneaux)}"
   ]
  },
  {
   "cell_type": "markdown",
   "metadata": {},
   "source": [
    "#### 4- Lien entre débranchement d’un train d’arrivée et occupation de voies dans le chantier de formation\n",
    "Pour un train d'arrivée $t \\in A$, la machine de débranchement le débranche et renvoie ses wagones vers le chantier de formation dans le même créneau. \n",
    "On définit pour un train d'arrivée $t \\in A$, l'ensemble $D_t$ des trains de départ associés aux wagons de $t$. \n",
    "$$ \\forall t \\in A \\quad D_t = \\{\\text{Les identifiants des trains du départ ayant au moins un wagon du train t}\\}$$\n",
    "Il faut alors garantir: \n",
    "$$\n",
    "    \\forall t \\in A, \\forall c \\in C \\quad deb_{t,c}=1 \\Rightarrow \\prod\\limits_{i \\in D_t} ofor_{i,c} =1\n",
    "$$\n",
    "qu'on linéarise comme suit:\n",
    "$$\n",
    "    \\forall t \\in A, \\forall i \\in D_t, \\forall c \\in C \\quad deb_{t,c} \\leq ofor_{i,c}\n",
    "$$"
   ]
  },
  {
   "cell_type": "code",
   "execution_count": null,
   "metadata": {},
   "outputs": [],
   "source": [
    "reserve_voies_for_au_deb = {(t,c,i) : m.addConstr(deb[(t,c)]<=oform[(i,c)], name = f'reserve_voies_for_au_deb{t}{c}{i}') for t in trains_arrivee for c in range(1,nombre_creneaux+1) for i in Dt[t]}"
   ]
  },
  {
   "cell_type": "markdown",
   "metadata": {},
   "source": [
    "#### Occupation du chantier de formation\n",
    "#### 5-Créneaux d’occupation \n",
    "Pour faire une relation de récurrence entre les créneaux d'occupation du chantier de formation pour un train de départ, on dit que si un train de départ occupe le chantier formation pendant un créneau $c$, et que pendant ce créneau $c$ le train ne se dégare pas, alors il reste dans le chantier formation. Mathématiquement , cela se traduit par:  \n",
    "$$\\forall t \\in D, \\forall c \\in C,  ofor_{t,c}=1 \\land deg_{t,c}=0 \\Rightarrow ofor_{t,c+1}=1$$\n",
    "Pour linériser cette contrainte, on introduit des variables binaires $z_{t,c}$ symbolisant la conjonction des deux propositions: \n",
    "$$z_{t,c} \\leq ofor_{t,c}$$\n",
    "$$z_{t,c} \\leq 1-deg_{t,c}$$\n",
    "$$ z_{t,c} \\geq ofor_{t,c}+1-deg_{t,c} -1$$\n",
    "$$z_{t,c} \\leq ofor_{t,c+1}$$"
   ]
  },
  {
   "cell_type": "code",
   "execution_count": null,
   "metadata": {},
   "outputs": [],
   "source": [
    "z = {(t, c) : m.addVar(vtype = GRB.BINARY, name=f'z_{t}_{c}') for t in trains_depart for c in range(1,nombre_creneaux)}\n",
    "duree_occupe_form1={(t,c): m.addConstr(z[(t,c)]<=oform[(t,c)], name = f'duree_occupe_form1{t,c}') for t in trains_depart for c in range(1,nombre_creneaux)}\n",
    "duree_occupe_form2={(t,c): m.addConstr(z[(t,c)]<=1-deg[(t,c)], name = f'duree_occupe_form2{t,c}') for t in trains_depart for c in range(1,nombre_creneaux)}\n",
    "duree_occupe_form3={(t,c): m.addConstr(z[(t,c)]>=oform[(t,c)]-deg[(t,c)], name = f'duree_occupe_form3{t,c}') for t in trains_depart for c in range(1,nombre_creneaux)}\n",
    "duree_occupe_form4={(t,c): m.addConstr(z[(t,c)]<=oform[(t,c+1)], name = f'duree_occupe_form4{t,c}') for t in trains_depart for c in range(1,nombre_creneaux)}"
   ]
  },
  {
   "cell_type": "markdown",
   "metadata": {},
   "source": [
    "#### 6- Occupation d'une voie dans le chantier formation lors du dégarage\n",
    "Il est également crucial de s'assurer qu'un train de départ occupe le chantier de formation lors de son opération de dégarage :\n",
    "\\begin{equation}\n",
    "\\forall t \\in D, \\forall c \\in C \\quad deg_{t,c} \\le ofor_{t,c}\n",
    "\\end{equation}"
   ]
  },
  {
   "cell_type": "code",
   "execution_count": null,
   "metadata": {},
   "outputs": [],
   "source": [
    "reserve_voie_for_au_deg = {(t,c) : m.addConstr(deg[(t,c)]<=oform[(t,c)], name = f'reserve_voie_for_au_deg{t}{c}') for t in trains_depart for c in range(1,nombre_creneaux+1)}"
   ]
  },
  {
   "cell_type": "markdown",
   "metadata": {},
   "source": [
    "#### 7- Créneaux où on libère les voies\n",
    "Après le dégarage, un train doit libérer le chantier de formation pour permettre la réorganisation des wagons pour d'autres trains. La libération des voies est modélisée par la contrainte suivante :\n",
    "$$ \\forall t \\in D, \\forall c \\in C, c \\geq c_{deg}^{t}+1 \\Rightarrow  ofor_{t,c}=0$$\n",
    "Où \n",
    "$$ c_{deg}^{t}= \\sum_{u}{u\\times deg_{t,u}} $$\n",
    "Linéarisée avec: \n",
    "$$(c-c_{deg}^{t}) \\leq M \\times (1- ofor_{t,c})$$"
   ]
  },
  {
   "cell_type": "code",
   "execution_count": null,
   "metadata": {},
   "outputs": [],
   "source": [
    "non_occupation_for_apres_deg={(t,c) : m.addConstr(((c-quicksum([u*deg[(t,u)] for u in range(1,nombre_creneaux+1)])))<=M*(1-oform[(t,c)]), name=f'occupation_for_qd_deg_{t,c}') for t in trains_depart for c in range(1,1+nombre_creneaux)}"
   ]
  },
  {
   "cell_type": "markdown",
   "metadata": {},
   "source": [
    "#### 8- Occupation du chantier de départ pour un train d'arrivée\n",
    "Pour chaque train de départ $t \\in D$, il occupe une voie dans le chantier de départ entre le moment de son dégarage ($\\sum_{c' \\in C}{c'\\times deg_{t,c'}}$) et son départ prévu ($c_d^{t}$). Mathématiquement, cela est représenté par :\n",
    "\n",
    "$$\\forall c \\in C, \\forall t \\in D \\quad \\left(c \\le c_d^{t}\\right) \\land \\left(c \\ge \\sum_{c' \\in C}{c'\\times deg_{t,c'}}\\right) \\Rightarrow odep_{t,c}=1$$\n",
    "On occupe une voie du départ après dégarage et avant le départ du train:\n",
    "$$ M \\times odep_{t,c} \\ge \\left(\\varepsilon+(c_d^{i}-c)\\right)\\left(c-\\sum_{u}{u\\times deg_{t,u}}+\\varepsilon \\right)$$"
   ]
  },
  {
   "cell_type": "code",
   "execution_count": null,
   "metadata": {},
   "outputs": [],
   "source": [
    "M=(nombre_creneaux)**5\n",
    "eps=0.0001\n",
    "occupation_deg_depart={(i,c) : m.addConstr((eps+creneau_depart[i]-c)*(c-quicksum([u*deg[(i,u)] for u in range(1,nombre_creneaux+1)])+eps)<=M*odep[(i,c)], name=f'occupation_deg_depart_{i,c}') for i in trains_depart for c in range(1,1+nombre_creneaux)}\n"
   ]
  },
  {
   "cell_type": "markdown",
   "metadata": {},
   "source": [
    "## Résolution"
   ]
  },
  {
   "cell_type": "code",
   "execution_count": null,
   "metadata": {},
   "outputs": [],
   "source": [
    "objfunction_for = quicksum([oform[(t,c)] for t in trains_depart for c in range(1,nombre_creneaux+1)])\n",
    "objfunction_dep = quicksum([odep[(t,c)] for t in trains_depart for c in range(1,nombre_creneaux+1)])\n",
    "objfunction_rec = quicksum([orec[(t,c)] for t in trains_arrivee for c in range(1,nombre_creneaux+1)])\n",
    "m.setObjective(objfunction_for+objfunction_dep+objfunction_rec , GRB.MINIMIZE)\n",
    "m.params.outputflag = 0\n",
    "m.update()"
   ]
  },
  {
   "cell_type": "code",
   "execution_count": null,
   "metadata": {},
   "outputs": [],
   "source": [
    "m.optimize()\n",
    "if m.status == GRB.INF_OR_UNBD:\n",
    "    m.setParam(GRB.Param.Presolve, 0)\n",
    "    m.optimize()\n",
    "\n",
    "if m.status == GRB.INFEASIBLE:\n",
    "    print(\"\\n\\tN'A PAS DE SOLUTION!!!\")\n",
    "    m.computeIIS()\n",
    "    for c in m.getConstrs():\n",
    "        if c.IISConstr:\n",
    "            print(c.ConstrName)\n",
    "elif m.status == GRB.UNBOUNDED:\n",
    "    print(\"\\n\\tEST NON BORNÉ!!!\")"
   ]
  },
  {
   "cell_type": "code",
   "execution_count": null,
   "metadata": {},
   "outputs": [],
   "source": [
    "outputxlsx = \"output.xlsx\"\n",
    "output = {'Id tâche': [], 'Type de tâche' : [], 'Jour' : [], 'Heure début' : [], 'Durée' : [], 'Sillon' : [],\n",
    "          'Occupation des voies par chantier (optim)': [], 'WPY_REC' : [], 'WPY_FOR' : [], 'WPY_DEP' : []}\n",
    "nb_voie_occ={\"WPY_REC\": [],\n",
    "             \"WPY_FOR\": [],\n",
    "             \"WPY_DEP\": []}\n",
    "for c in range(1,1+nombre_creneaux):\n",
    "    # Occupation des voies\n",
    "    nb_voie_occ[\"WPY_REC\"].append(sum([orec[(t,c)].x for t in trains_arrivee]))\n",
    "    nb_voie_occ[\"WPY_FOR\"].append(sum([oform[(t,c)].x for t in trains_depart]))\n",
    "    nb_voie_occ[\"WPY_DEP\"].append(sum([odep[(t,c)].x for t in trains_depart]))\n",
    "    \n",
    "    # Tâches machines sur les trains d'arrivee \n",
    "    for train in trains_arrivee:\n",
    "        if deb[(train,c)].x==1:\n",
    "            output['Id tâche'].append(f'DEB_{train[0]}_'+ creneau_to_date(date0, c).strftime('%d/%m/%Y'))\n",
    "            output['Type de tâche'].append('DEB')\n",
    "            output['Jour'].append(creneau_to_date(date0, c).strftime('%d/%m/%Y'))\n",
    "            output['Heure début'].append(creneau_to_date(date0, c).strftime('%H:%M'))\n",
    "            output['Durée'].append(15)\n",
    "            output['Sillon'].append(train[0])\n",
    "    \n",
    "    # Tâches machines ur les trains du départ\n",
    "    for train in trains_depart:\n",
    "        if form[(train,c)].x==1:\n",
    "            output['Id tâche'].append(f'FOR_{train[0]}_'+ creneau_to_date(date0, c).strftime('%d/%m/%Y'))\n",
    "            output['Type de tâche'].append('FOR')\n",
    "            output['Jour'].append(creneau_to_date(date0, c).strftime('%d/%m/%Y'))\n",
    "            output['Heure début'].append(creneau_to_date(date0, c).strftime('%H:%M'))\n",
    "            output['Durée'].append(15)\n",
    "            output['Sillon'].append(train[0])\n",
    "        if deg[(train,c)].x==1:\n",
    "            output['Id tâche'].append(f'DEG_{train[0]}_' + creneau_to_date(date0, c).strftime('%d/%m/%Y'))\n",
    "            output['Type de tâche'].append('DEG')\n",
    "            output['Jour'].append(creneau_to_date(date0, c).strftime('%d/%m/%Y'))\n",
    "            output['Heure début'].append(creneau_to_date(date0, c).strftime('%H:%M'))\n",
    "            output['Durée'].append(15)\n",
    "            output['Sillon'].append(train[0])\n",
    "\n",
    "output[\"Occupation des voies par chantier (optim)\"].append(\"Taux max d'occupation des voies (en %)\")\n",
    "output[\"Occupation des voies par chantier (optim)\"].append(\"Nombre max de voies occupées\")\n",
    "output[\"Occupation des voies par chantier (optim)\"].append(\"Nombre total de voies à disposition\")\n",
    "while len(output[\"Occupation des voies par chantier (optim)\"])!=len(output[\"Id tâche\"]):\n",
    "    output[\"Occupation des voies par chantier (optim)\"].append(None)\n",
    "\n",
    "nb_voies={\"WPY_REC\": NVREC,\n",
    "             \"WPY_FOR\": NVFOR,\n",
    "             \"WPY_DEP\": NVDEP}\n",
    "for key in nb_voies:    \n",
    "    output[key].append(100*max(nb_voie_occ[key])/nb_voies[key])\n",
    "    output[key].append(max(nb_voie_occ[key]))\n",
    "    output[key].append(nb_voies[key])\n",
    "    while len(output[key])!=len(output[\"Id tâche\"]):\n",
    "        output[key].append(None)\n",
    "\n",
    "# Piping output into an excel sheet\n",
    "outputdf=pd.DataFrame(output)\n",
    "outputdf.to_excel(outputxlsx, index=False)"
   ]
  },
  {
   "cell_type": "code",
   "execution_count": null,
   "metadata": {},
   "outputs": [],
   "source": [
    "for train in trains_arrivee:\n",
    "    print('-----------------------------------------------------------------')\n",
    "    print('Pour le train d arrivee: ',train)\n",
    "    print('Arrivee a ', creneau_arrivee[train])\n",
    "    creneaux_occup_rec=[]\n",
    "    for c in range(1,nombre_creneaux+1):\n",
    "        if deb[(train,c)].x==1:\n",
    "            print('deb de {} se fait au créneau {}:'.format(train,c))\n",
    "        if orec[(train,c)].x==1:\n",
    "            creneaux_occup_rec.append(c)\n",
    "    print('Il occupe le chantier reception dans les horaires: ',creneaux_occup_rec)\n",
    "    print('Ce train est lié aux trains de départ: ', Dt[train])\n",
    "    print('-------------------------------------------------------')\n",
    "\n",
    "\n",
    "for train in trains_depart:\n",
    "    creneaux_occup_for=[]\n",
    "    creneaux_occup_dep=[]\n",
    "    print('--------------------------------------------')\n",
    "    print('Pour le train de depart : ',train)\n",
    "    for c in range(1,nombre_creneaux+1):\n",
    "        if form[(train,c)].x==1:\n",
    "            print('For de {} se fait au créneau {} :'.format(train,c))\n",
    "        if deg[(train,c)].x==1:\n",
    "            print('deg de {} se fait au créneau {} :'.format(train,c))\n",
    "        if oform[(train,c)].x==1:\n",
    "            creneaux_occup_for.append(c)\n",
    "        if odep[(train,c)].x==1:\n",
    "            creneaux_occup_dep.append(c)\n",
    "    print('Il occupe le chantier formation dans les horaires: ',creneaux_occup_for)\n",
    "    print('Il occupe le chantier dep dans les horaires: ',creneaux_occup_dep)\n",
    "    print('Ce train est lié aux trains d arrivee: ', At[train])\n",
    "\n",
    "    print('Depart a ',creneau_depart[train])\n",
    "    print('-------------------------------------------------------')"
   ]
  }
 ],
 "metadata": {
  "kernelspec": {
   "display_name": "base",
   "language": "python",
   "name": "python3"
  },
  "language_info": {
   "codemirror_mode": {
    "name": "ipython",
    "version": 3
   },
   "file_extension": ".py",
   "mimetype": "text/x-python",
   "name": "python",
   "nbconvert_exporter": "python",
   "pygments_lexer": "ipython3",
   "version": "3.10.9"
  }
 },
 "nbformat": 4,
 "nbformat_minor": 2
}
