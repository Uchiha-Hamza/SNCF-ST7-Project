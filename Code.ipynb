{
<<<<<<< HEAD
    "cells": [
        {
            "cell_type": "markdown",
            "metadata": {},
            "source": [
                "\n",
                "# <font color=blue><div align=\"center\">ST7 SNCF : Jalon 1</div></font>\n",
                "\n",
                "## <font color=blue><div align=\"center\">\"<em>Indian Railways</em>\"</div></font>"
            ]
        },
        {
            "cell_type": "markdown",
            "metadata": {},
            "source": [
                "## Modules"
            ]
        },
        {
            "cell_type": "code",
            "execution_count": null,
            "metadata": {},
            "outputs": [],
            "source": [
                "# Modules de base\n",
                "import numpy as np\n",
                "import matplotlib.pyplot as plt\n",
                "import pandas as pd\n",
                "import datetime\n",
                "%matplotlib inline\n",
                "from dateutil import parser\n",
                "\n",
                "# Module relatif à Gurobi\n",
                "from gurobipy import *\n",
                "\n",
                "\n",
                "# Module csv\n",
                "import csv\n",
                "from datetime import datetime"
            ]
        },
        {
            "cell_type": "markdown",
            "metadata": {},
            "source": [
                "La modélisation mathématique est plus explicitée en détail dans le rapport"
            ]
        },
        {
            "cell_type": "code",
            "execution_count": null,
            "metadata": {},
            "outputs": [],
            "source": [
                "mini_instance=\"mini_instance.xlsx\"\n",
                "instance_simple=\"instance_WPY_simple.xlsx\"\n",
                "instance_realiste=\"instance_WPY_realiste_jalon1.xlsx\"\n",
                "test=\"mini_instance_test.xlsx\""
            ]
        },
        {
            "cell_type": "markdown",
            "metadata": {},
            "source": [
                "## Traitement de données"
            ]
        },
        {
            "cell_type": "code",
            "execution_count": null,
            "metadata": {},
            "outputs": [],
            "source": [
                "def excel_to_dict(file :str)-> dict[str]:\n",
                "    '''\n",
                "    Takes excel file name in the repo\n",
                "    and returns a dictionary[sheet_name]=Dataframe\n",
                "    '''\n",
                "    # Load the Excel file\n",
                "    xl = pd.ExcelFile(file)\n",
                "    \n",
                "    # Get the names of the sheets\n",
                "    sheet_names = xl.sheet_names\n",
                "    \n",
                "    # Initialize a dictionary to store the data\n",
                "    data_dict = {}\n",
                "    \n",
                "    # Iterate over each sheet\n",
                "    for sheet_name in sheet_names:\n",
                "        # Read the sheet into a pandas DataFrame\n",
                "        data_dict[sheet_name] = pd.read_excel(file, sheet_name=sheet_name)\n",
                "    return data_dict\n",
                "\n",
                "def date_to_creneau(date0: datetime.datetime, hour: pd.DataFrame, date: pd.DataFrame):\n",
                "    '''\n",
                "    Takes hour and date's 1-column dataframes\n",
                "    and returns a dataframe of 1-column of 'créneaux'\n",
                "    starting from date0\n",
                "    '''\n",
                "    # EXCEL IS FUCKING STUPID AND CHANGES TYPE OF DATES\n",
                "    if type(date[0])==str:\n",
                "        datetime_df=pd.to_datetime(date.apply(lambda x: str(x)+' ')+hour.apply(lambda x:str(x)), dayfirst=True)\n",
                "    if type(date[0])==pd._libs.tslibs.timestamps.Timestamp:\n",
                "        datetime_df=pd.to_datetime(date.apply(lambda x: str(x)+' ')+hour.apply(lambda x:str(x)))\n",
                "    return (datetime_df-date0).dt.total_seconds().div(60*15).astype(int)+1\n",
                "\n",
                "def creneau_to_date(date0: datetime.datetime, creneau : int):\n",
                "    return date0+ datetime.timedelta(minutes=(creneau-1)*15)\n",
                "\n",
                "def convToStr(date)-> str:\n",
                "    '''\n",
                "    Takes a date in any form in the instance\n",
                "    and returns a string dd/mm/yyyy\n",
                "    '''\n",
                "    if type(date)==str:\n",
                "        return date\n",
                "    else:\n",
                "        return \"/\".join(str(date.date()).split(\"-\")[::-1])\n",
                "    \n",
                "\n",
                "# Instance sur laquelle on travaillera par la suite\n",
                "INSTANCE= excel_to_dict(instance_realiste)"
            ]
        },
        {
            "cell_type": "markdown",
            "metadata": {},
            "source": [
                "### Dictionnaires utiles "
            ]
        },
        {
            "cell_type": "markdown",
            "metadata": {},
            "source": [
                "Trains de l'arrivée et trains du départ"
            ]
        },
        {
            "cell_type": "code",
            "execution_count": null,
            "metadata": {},
            "outputs": [
                {
                    "name": "stdout",
                    "output_type": "stream",
                    "text": [
                        "<class 'pandas.core.series.Series'>\n",
                        "<class 'pandas.core.series.Series'>\n"
                    ]
                }
            ],
            "source": [
                "trains_arrivee=[]\n",
                "print(type(INSTANCE['Sillons arrivee'][\"JARR\"])) #str\n",
                "print(type(INSTANCE['Sillons depart']['JDEP'])) #timestamp\n",
                "for index, row in INSTANCE[\"Sillons arrivee\"].iterrows():\n",
                "    id_train = row['n°TRAIN'], convToStr(row[\"JARR\"])\n",
                "    trains_arrivee.append(id_train)\n",
                "\n",
                "trains_depart=[]\n",
                "for index, row in INSTANCE[\"Sillons depart\"].iterrows():\n",
                "    id_train = row['n°TRAIN'], convToStr(row[\"JDEP\"])\n",
                "    trains_depart.append(id_train)"
            ]
        },
        {
            "cell_type": "markdown",
            "metadata": {},
            "source": [
                "création des créneaux"
            ]
        },
        {
            "cell_type": "code",
            "execution_count": 9,
            "metadata": {},
            "outputs": [],
            "source": [
                "def numero_jour_semaine(date_str):\n",
                "    date = pd.to_datetime(date_str, format='%d/%m/%Y')\n",
                "    numero_jour = date.dayofweek\n",
                "    return numero_jour\n",
                "\n",
                "def HARR_to_creneau_in_h(heure,indice):\n",
                "    heure_str=''\n",
                "    if indice==mini_instance:\n",
                "        heure_str = heure.strftime(\"%H:%M\")\n",
                "    else:\n",
                "        heure_str=heure\n",
                "    heure1,minute= int(heure_str.split(':')[0]), int(heure_str.split(':')[1])    \n",
                "    return heure1*4 + minute//15"
            ]
        },
        {
            "cell_type": "code",
            "execution_count": 10,
            "metadata": {},
            "outputs": [
                {
                    "name": "stdout",
                    "output_type": "stream",
                    "text": [
                        "71\n"
                    ]
                }
            ],
            "source": [
                "print(HARR_to_creneau_in_h('17:46',instance_simple))"
            ]
        },
        {
            "cell_type": "code",
            "execution_count": 11,
            "metadata": {},
            "outputs": [
                {
                    "name": "stdout",
                    "output_type": "stream",
                    "text": [
                        "jour0:  08/08/2022\n",
                        "creneaux_depart:  {(400006, '09/08/2022'): 159, (400016, '09/08/2022'): 187, (400110, '09/08/2022'): 179, (431035, '09/08/2022'): 156, (431091, '09/08/2022'): 121, (44203, '09/08/2022'): 167, (44241, '09/08/2022'): 149, (44249, '09/08/2022'): 108, (44806, '09/08/2022'): 128, (47245, '09/08/2022'): 153, (47289, '09/08/2022'): 140, (47821, '09/08/2022'): 185, (489447, '09/08/2022'): 120, (52672, '09/08/2022'): 160, (54003, '09/08/2022'): 111, (54051, '09/08/2022'): 118, (54086, '09/08/2022'): 111, (54231, '09/08/2022'): 152, (450226, '10/08/2022'): 221, (400014, '10/08/2022'): 271, (412124, '10/08/2022'): 204, (41258, '10/08/2022'): 202, (431035, '10/08/2022'): 252, (431091, '10/08/2022'): 217, (44203, '10/08/2022'): 263, (44241, '10/08/2022'): 245, (44249, '10/08/2022'): 204, (47205, '10/08/2022'): 248, (48215, '10/08/2022'): 256, (489044, '10/08/2022'): 200, (52672, '10/08/2022'): 256, (54003, '10/08/2022'): 207, (54053, '10/08/2022'): 254, (54231, '10/08/2022'): 248, (71210, '10/08/2022'): 212, (400006, '11/08/2022'): 351, (400010, '11/08/2022'): 383, (400016, '11/08/2022'): 379, (431035, '11/08/2022'): 348, (44203, '11/08/2022'): 359, (44241, '11/08/2022'): 341, (44806, '11/08/2022'): 309, (450226, '11/08/2022'): 317, (47245, '11/08/2022'): 346, (47247, '11/08/2022'): 332, (47820, '11/08/2022'): 377, (489118, '11/08/2022'): 348, (52672, '11/08/2022'): 352, (54003, '11/08/2022'): 303, (54051, '11/08/2022'): 310, (54086, '11/08/2022'): 303, (54231, '11/08/2022'): 344, (71256, '11/08/2022'): 297, (400010, '12/08/2022'): 479, (400016, '12/08/2022'): 475, (412024, '12/08/2022'): 401, (41258, '12/08/2022'): 394, (431035, '12/08/2022'): 444, (44241, '12/08/2022'): 437, (44249, '12/08/2022'): 396, (44952, '12/08/2022'): 467, (47205, '12/08/2022'): 461, (48219, '12/08/2022'): 394, (489447, '12/08/2022'): 408, (52672, '12/08/2022'): 448, (54003, '12/08/2022'): 399, (54053, '12/08/2022'): 446, (54086, '12/08/2022'): 399, (54231, '12/08/2022'): 440, (71217, '12/08/2022'): 478, (41258, '13/08/2022'): 490, (431091, '13/08/2022'): 505, (44241, '13/08/2022'): 533, (44806, '13/08/2022'): 498, (450224, '13/08/2022'): 518, (47237, '13/08/2022'): 524, (47281, '13/08/2022'): 553, (489044, '13/08/2022'): 488, (489119, '13/08/2022'): 540, (489447, '13/08/2022'): 504, (54051, '13/08/2022'): 502, (54086, '13/08/2022'): 495, (431037, '14/08/2022'): 646, (44247, '14/08/2022'): 634, (44559, '14/08/2022'): 624, (47820, '14/08/2022'): 636, (489447, '14/08/2022'): 600, (54003, '14/08/2022'): 591, (54053, '14/08/2022'): 638, (54055, '14/08/2022'): 582, (54086, '14/08/2022'): 591, (400014, '15/08/2022'): 751, (431035, '15/08/2022'): 732, (431121, '15/08/2022'): 694, (450226, '15/08/2022'): 701, (489447, '15/08/2022'): 696, (54003, '15/08/2022'): 687, (54051, '15/08/2022'): 694, (54086, '15/08/2022'): 687, (54231, '15/08/2022'): 728, (41258, '16/08/2022'): 778, (431091, '16/08/2022'): 793, (489044, '16/08/2022'): 776, (54051, '16/08/2022'): 790, (412124, '17/08/2022'): 876, (431113, '17/08/2022'): 908}\n",
                        "crenaux_arrivee:  {(412202, '08/08/2022'): 83, (431018, '08/08/2022'): 53, (431246, '08/08/2022'): 44, (44951, '08/08/2022'): 75, (450237, '08/08/2022'): 47, (489016, '08/08/2022'): 94, (54234, '08/08/2022'): 88, (55390, '08/08/2022'): 95, (56135, '08/08/2022'): 85, (412023, '09/08/2022'): 104, (41264, '09/08/2022'): 186, (431802, '09/08/2022'): 108, (44222, '09/08/2022'): 168, (44250, '09/08/2022'): 137, (44865, '09/08/2022'): 161, (450237, '09/08/2022'): 143, (471003, '09/08/2022'): 146, (47262, '09/08/2022'): 132, (489026, '09/08/2022'): 134, (54234, '09/08/2022'): 184, (55390, '09/08/2022'): 191, (55398, '09/08/2022'): 112, (56135, '09/08/2022'): 181, (56730, '09/08/2022'): 106, (58706, '09/08/2022'): 181, (412023, '10/08/2022'): 200, (412202, '10/08/2022'): 275, (41264, '10/08/2022'): 282, (431020, '10/08/2022'): 273, (431110, '10/08/2022'): 242, (431246, '10/08/2022'): 236, (431802, '10/08/2022'): 207, (44222, '10/08/2022'): 255, (44228, '10/08/2022'): 196, (44250, '10/08/2022'): 233, (450237, '10/08/2022'): 239, (471003, '10/08/2022'): 242, (47214, '10/08/2022'): 242, (47262, '10/08/2022'): 228, (54234, '10/08/2022'): 280, (55390, '10/08/2022'): 287, (55396, '10/08/2022'): 223, (56135, '10/08/2022'): 277, (56730, '10/08/2022'): 202, (58706, '10/08/2022'): 277, (71270, '10/08/2022'): 229, (412023, '11/08/2022'): 296, (412202, '11/08/2022'): 371, (41254, '11/08/2022'): 381, (431246, '11/08/2022'): 332, (431640, '11/08/2022'): 332, (431802, '11/08/2022'): 300, (44222, '11/08/2022'): 351, (44250, '11/08/2022'): 329, (44865, '11/08/2022'): 353, (450237, '11/08/2022'): 335, (471003, '11/08/2022'): 338, (47212, '11/08/2022'): 358, (47240, '11/08/2022'): 299, (47262, '11/08/2022'): 324, (47822, '11/08/2022'): 366, (54234, '11/08/2022'): 376, (55390, '11/08/2022'): 383, (55394, '11/08/2022'): 334, (55396, '11/08/2022'): 303, (56135, '11/08/2022'): 373, (56730, '11/08/2022'): 298, (58706, '11/08/2022'): 373, (412023, '12/08/2022'): 392, (412202, '12/08/2022'): 467, (41264, '12/08/2022'): 474, (431246, '12/08/2022'): 428, (431802, '12/08/2022'): 404, (44222, '12/08/2022'): 447, (44228, '12/08/2022'): 388, (44250, '12/08/2022'): 425, (44865, '12/08/2022'): 449, (44951, '12/08/2022'): 459, (450237, '12/08/2022'): 431, (471003, '12/08/2022'): 434, (47214, '12/08/2022'): 454, (47262, '12/08/2022'): 420, (47822, '12/08/2022'): 462, (48216, '12/08/2022'): 414, (489026, '12/08/2022'): 430, (489042, '12/08/2022'): 470, (54234, '12/08/2022'): 472, (55396, '12/08/2022'): 415, (56135, '12/08/2022'): 469, (56730, '12/08/2022'): 394, (58706, '12/08/2022'): 469, (71270, '12/08/2022'): 421, (412023, '13/08/2022'): 488, (41230, '13/08/2022'): 568, (431802, '13/08/2022'): 500, (44222, '13/08/2022'): 544, (44228, '13/08/2022'): 484, (44250, '13/08/2022'): 522, (44864, '13/08/2022'): 544, (450235, '13/08/2022'): 527, (47240, '13/08/2022'): 487, (47262, '13/08/2022'): 517, (47822, '13/08/2022'): 558, (489026, '13/08/2022'): 526, (54234, '13/08/2022'): 568, (55390, '13/08/2022'): 575, (55396, '13/08/2022'): 511, (56135, '13/08/2022'): 565, (56730, '13/08/2022'): 490, (58706, '13/08/2022'): 565, (56730, '14/08/2022'): 586}\n"
                    ]
                }
            ],
            "source": [
                "jour0=str(INSTANCE[\"Sillons arrivee\"][\"JARR\"][0])\n",
                "print('jour0: ',jour0)\n",
                "indice_jour0=numero_jour_semaine(jour0)\n",
                "# print(indice_jour0)\n",
                "\n",
                "def creneaux_arrivee(jour0,INSTANCE,indice):\n",
                "    creneaux_arrivee={}\n",
                "    for index, row in INSTANCE[\"Sillons arrivee\"].iterrows():\n",
                "        delta=(datetime.strptime(row['JARR'],'%d/%m/%Y')-datetime.strptime(jour0,'%d/%m/%Y')).days\n",
                "        creneaux_arrivee[(row['n°TRAIN'],row['JARR'])]=(delta//7)*96+numero_jour_semaine(row['JARR'])*96 + HARR_to_creneau_in_h(row['HARR'],indice)\n",
                "    \n",
                "    return creneaux_arrivee\n",
                "    \n",
                "def creneaux_depart(jour0,INSTANCE,indice):\n",
                "    creneaux_depart={}\n",
                "    for index, row in INSTANCE[\"Sillons depart\"].iterrows():\n",
                "        # ti=datetime.fromtimestamp(row['JDEP']))\n",
                "        # print(row['JDEP'].to_pydatetime())\n",
                "        time_str=row['JDEP']\n",
                "        date=datetime.strptime('2002/09/23','%Y/%m/%d')\n",
                "        if indice==mini_instance:\n",
                "            time_str=row['JDEP'].strftime('%Y-%m-%d')\n",
                "            date=datetime.strptime(time_str,'%Y-%m-%d')\n",
                "        elif indice==instance_simple:\n",
                "            time_str=row['JDEP']\n",
                "            date=datetime.strptime(time_str,'%d/%m/%Y')\n",
                "        else: \n",
                "            date=datetime.strptime(time_str,'%d/%m/%Y')\n",
                "        delta=(date-datetime.strptime(jour0,'%d/%m/%Y')).days\n",
                "        creneaux_depart[(row['n°TRAIN'],row['JDEP'])]=(delta//7)*96*7+numero_jour_semaine(row['JDEP'])*96 + HARR_to_creneau_in_h(row['HDEP'],indice)\n",
                "        \n",
                "    return creneaux_depart\n",
                "\n",
                "print('creneaux_depart: ', creneaux_depart(jour0,INSTANCE,indice))\n",
                "print('crenaux_arrivee: ',creneaux_arrivee(jour0,INSTANCE,indice))\n",
                "\n"
            ]
        },
        {
            "cell_type": "markdown",
            "metadata": {},
            "source": [
                "Créneaux de l'arrivée et du départ"
            ]
        },
        {
            "cell_type": "code",
            "execution_count": null,
            "metadata": {},
            "outputs": [],
            "source": [
                "# Date de référence et date finale \n",
                "date0=str(INSTANCE[\"Sillons arrivee\"][\"JARR\"][0])+' 00:00:00'\n",
                "date0=pd.to_datetime(date0, dayfirst=True)\n",
                "date0=date0-datetime.timedelta(days=float(date0.dayofweek))\n",
                "datef=pd.to_datetime(INSTANCE[\"Sillons depart\"][\"JDEP\"].iloc[-1], dayfirst=True)+datetime.timedelta(hours=24)\n",
                "nombre_creneaux=int((datef-date0).total_seconds()/(60*15))\n",
                "\n",
                "# Crenau du départ et d'arrivée\n",
                "INSTANCE[\"Sillons arrivee\"][\"creneau\"]=date_to_creneau(date0, INSTANCE[\"Sillons arrivee\"][\"HARR\"], INSTANCE[\"Sillons arrivee\"][\"JARR\"])\n",
                "INSTANCE[\"Sillons depart\"][\"creneau\"]=date_to_creneau(date0, INSTANCE[\"Sillons depart\"][\"HDEP\"], INSTANCE[\"Sillons depart\"][\"JDEP\"])\n",
                "\n",
                "creneau_arrivee={} \n",
                "for index, row in INSTANCE[\"Sillons arrivee\"].iterrows():\n",
                "    creneau_arrivee[row[\"n°TRAIN\"],convToStr(row[\"JARR\"])]=row[\"creneau\"]\n",
                "\n",
                "creneau_depart={}\n",
                "for index, row in INSTANCE[\"Sillons depart\"].iterrows():\n",
                "    creneau_depart[row[\"n°TRAIN\"],convToStr(row[\"JDEP\"])]=row[\"creneau\"]"
            ]
        },
        {
            "cell_type": "markdown",
            "metadata": {},
            "source": [
                "Correspondances"
            ]
        },
        {
            "cell_type": "code",
            "execution_count": null,
            "metadata": {},
            "outputs": [],
            "source": [
                "def correspondances():\n",
                "    '''\n",
                "    Prend l'id d'un train du départ \n",
                "    et retourne une liste des id des trains\n",
                "    d'arrivée qui le constituent\n",
                "    '''\n",
                "    At={}\n",
                "    for train in trains_depart:\n",
                "        At[train]=set()\n",
                "    for index, row in INSTANCE[\"Correspondances\"].iterrows():\n",
                "            At[(row[\"n°Train depart\"], convToStr(row[\"Jour depart\"]))].add((row['n°Train arrivee'],convToStr(row['Jour arrivee']))) \n",
                "    return At\n",
                "\n",
                "At=correspondances()"
            ]
        },
        {
            "cell_type": "markdown",
            "metadata": {},
            "source": [
                "Indisponibilité des machines"
            ]
        },
        {
            "cell_type": "code",
            "execution_count": null,
            "metadata": {},
            "outputs": [],
            "source": [
                "def creneaux_de_periode(indispo_str): #jour, plage_horaire\n",
                "    plage_jours=nombre_creneaux//96\n",
                "    creneaux = []\n",
                "    if indispo_str!='0':\n",
                "        periodes = indispo_str.split(';')\n",
                "        for periode in periodes:\n",
                "            jour, plage_horaire = periode.strip('()').split(',')\n",
                "            jour = int(jour)\n",
                "            jours=[jour+7*k for k in range(0,plage_jours//7+1)]\n",
                "            plage_horaire = plage_horaire.strip('()').split('-')\n",
                "            heure_debut, minute_debut = map(int, plage_horaire[0].split(':'))\n",
                "            creneau_debut=minute_debut//15+1\n",
                "            heure_fin, minute_fin = map(int, plage_horaire[1].split(':'))\n",
                "            creneau_fin=minute_fin//15+1\n",
                "\n",
                "\n",
                "            if (heure_debut,minute_debut)>=(heure_fin,minute_fin):\n",
                "                for jour1 in jours:\n",
                "                    for c in range((jour1-1)*96+heure_debut*4+creneau_debut,jour1*96):\n",
                "                        if c<=nombre_creneaux:\n",
                "                            creneaux.append(c)\n",
                "                    for c in range(jour1*96,jour1*96+heure_fin*4+creneau_fin):\n",
                "                        if c<=nombre_creneaux: creneaux.append(c)\n",
                "            else:\n",
                "                for jour1 in jours:\n",
                "                    for c in range((jour1-1)*96+heure_debut*4+creneau_debut,(jour1-1)*96+heure_fin*4+creneau_fin):\n",
                "                        if c<=nombre_creneaux: creneaux.append(c) \n",
                "    return creneaux\n",
                "\n",
                "# data1 = INSTANCE1['Machines']\n",
                "data = INSTANCE['Machines']\n",
                "\n",
                "df = pd.DataFrame(data)\n",
                "\n",
                "df['Indisponibilites']=df['Indisponibilites'].astype(str)\n",
                "# Apply the function to each row\n",
                "df['Indisponibilites_TimeSlots'] = df['Indisponibilites'].apply(creneaux_de_periode,nombre_creneaux=nombre_creneaux)\n",
                "\n",
                "DEB_INDIS = df.loc[df['Machine'] == 'DEB', 'Indisponibilites_TimeSlots'].values[0]\n",
                "FOR_INDIS = df.loc[df['Machine'] == 'FOR', 'Indisponibilites_TimeSlots'].values[0]\n",
                "DEG_INDIS = df.loc[df['Machine'] == 'DEG', 'Indisponibilites_TimeSlots'].values[0]"
            ]
        },
        {
            "cell_type": "markdown",
            "metadata": {},
            "source": [
                "Voies disponibles des chantiers"
            ]
        },
        {
            "cell_type": "code",
            "execution_count": null,
            "metadata": {},
            "outputs": [],
            "source": [
                "df=INSTANCE[\"Chantiers\"]\n",
                "df['Indisponibilites']=df['Indisponibilites'].astype(str)\n",
                "df['Indisponibilites_TimeSlots'] = df['Indisponibilites'].apply(creneaux_de_periode)\n",
                "\n",
                "REC_INDIS = df.loc[df['Chantier'] == 'WPY_REC', 'Indisponibilites_TimeSlots'].values[0]\n",
                "OFORM_INDIS = df.loc[df['Chantier'] == 'WPY_FOR', 'Indisponibilites_TimeSlots'].values[0]\n",
                "DEP_INDIS = df.loc[df['Chantier'] == 'WPY_DEP', 'Indisponibilites_TimeSlots'].values[0]\n",
                "\n",
                "NVREC=df.loc[df['Chantier'] == 'WPY_REC', \"Nombre de voies\"].values[0]\n",
                "NVFOR=df.loc[df['Chantier'] == 'WPY_FOR', \"Nombre de voies\"].values[0]\n",
                "NVDEP=df.loc[df['Chantier'] == 'WPY_DEP', \"Nombre de voies\"].values[0]"
            ]
        },
        {
            "cell_type": "markdown",
            "metadata": {},
            "source": [
                "Roulements agents"
            ]
        },
        {
            "cell_type": "code",
            "execution_count": null,
            "metadata": {},
            "outputs": [],
            "source": [
                "Roulements_source = INSTANCE['Roulements agents']\n",
                "Roulements = dict()\n",
                "a = 0\n",
                "i = 0\n",
                "for name in Roulements_source['Roulement']:\n",
                "    Roulements[name] = dict()\n",
                "    Roulements[name]['Jours'] = Roulements_source['Jours de la semaine'][i].split(';')\n",
                "    Roulements[name]['Nb agents'] = Roulements_source['Nombre agents'][i]\n",
                "    Roulements[name]['Blocs'] = Roulements_source['Cycles horaires'][i].split(';')\n",
                "    Roulements[name]['Connaissance'] = Roulements_source['Connaissances chantiers'][i].split(';')\n",
                "    Blocs = dict()\n",
                "    for j in Roulements[name]['Jours']: \n",
                "        for b in Roulements[name]['Blocs']:\n",
                "            Blocs[(j,b)] = list()\n",
                "            lbrgag = 0 #indicateur de nb de creneaux pour split des blocs de 8h\n",
                "            for c in creneaux_de_periode(','.join([j, b])):\n",
                "                lbrgag += 1\n",
                "                if lbrgag == 33: #bloc de 8h\n",
                "                    a = str(int(j) + 7) #semaine pro\n",
                "                    Blocs[(a,b)] = list()\n",
                "                if lbrgag >= 33: \n",
                "                    Blocs[(a,b)].append(c)\n",
                "                else :\n",
                "                    Blocs[(j,b)].append(c)\n",
                "    Roulements[name]['Creneaux'] = Blocs\n",
                "    i += 1"
            ]
        },
        {
            "cell_type": "markdown",
            "metadata": {},
            "source": [
                "Tâches humaines"
            ]
        },
        {
            "cell_type": "code",
            "execution_count": null,
            "metadata": {},
            "outputs": [],
            "source": [
                "df1=INSTANCE[\"Roulements agents\"]\n",
                "roulements_rec = df1[df1['Connaissances chantiers'].apply(lambda x: 'WPY_REC' in x)]['Roulement'].tolist()\n",
                "roulements_for = df1[df1['Connaissances chantiers'].apply(lambda x: 'WPY_FOR' in x)]['Roulement'].tolist()\n",
                "roulements_dep = df1[df1['Connaissances chantiers'].apply(lambda x: 'WPY_DEP' in x)]['Roulement'].tolist()\n",
                "taches_humaines={'WPY_REC': [],'WPY_FOR': [],'WPY_DEP': []}\n",
                "for index, row in INSTANCE[\"Taches humaines\"].iterrows():\n",
                "            taches_humaines[row['Chantier']].append(row['Type de tache humaine'])\n",
                "taches_rec=taches_humaines['WPY_REC']\n",
                "taches_for=taches_humaines['WPY_FOR']\n",
                "taches_dep=taches_humaines['WPY_DEP']"
            ]
        },
        {
            "cell_type": "markdown",
            "metadata": {},
            "source": [
                "## Modèle mathématique \n",
                "On a modélisé notre problème en partant du fait que les machines ne sont disponibles que pour un seul train et dans un seul créneau. \\\n",
                "De ce fait, on introduit les variables *binaires* suivantes : \\\n",
                "\\\n",
                "    - $(deb_{ic})$ : variable binaire indiquant si la machine de débranchement est utilisée \\\n",
                "    pour le sillion d'arrivée d'identifiant $i$ au créneau $c$ \\\n",
                "    - $(for_{ic})$ : variable binaire indiquant si la machine de formation est utilisée \\\n",
                "    pour le sillion du départ d'identifiant $i$ au créneau $c$ \\\n",
                "    - $(deg_{ic})$ : variable binaire indiquant si la machine de dégarage est utilisée \\\n",
                "    pour le sillion du départ d'identifiant $i$ au créneau $c$\n",
                "\n",
                "Les créneaux ont une durée de $15 min$ correspondant à la durée d'une tâche machine. Les valeurs possibles des créneaux dépendent de l'instance, \\\n",
                "soit alors $c \\in \\{1,2,..., c_{max}\\} $ où $c=1$ correspond au premier créneau du premier jour du travail : $[0:00 , 0:15[$ et \\\n",
                "$c_{max}$ le dernier créneau du dernier jour du travail : $[23:45, 0:00[$.\n",
                "\n",
                "On note ainsi : \n",
                "$$A = \\{\\text{Les identifiants des trains d'arrivée}\\}$$\n",
                "$$D = \\{\\text{Les identifiants des trains du départ}\\}$$\n",
                "$$C= \\{1,2,..., c_{max}\\}$$"
            ]
        },
        {
            "cell_type": "code",
            "execution_count": null,
            "metadata": {},
            "outputs": [],
            "source": [
                "# IMPLEMNTATION DES VARIABLES \n",
                "m= Model('Modèle')\n",
                "deb = {(i, c) : m.addVar(vtype = GRB.BINARY, name=f'deb_{i}_{c}') for i in trains_arrivee for c in range(1,nombre_creneaux+1)}\n",
                "form = {(i, c) : m.addVar(vtype = GRB.BINARY, name=f'deb_{i}_{c}') for i in trains_depart for c in range(1,nombre_creneaux+1)}\n",
                "deg = {(i, c) : m.addVar(vtype = GRB.BINARY, name=f'deg_{i}_{c}') for i in trains_depart for c in range(1,nombre_creneaux+1)}"
            ]
        },
        {
            "cell_type": "markdown",
            "metadata": {},
            "source": [
                "Pour inclure les informations sur les voies, nous avons défini les variables binaires suivantes:\\\n",
                "\\\n",
                "    - $orec_{ic}$ : variable binaire indiquant si le train d'arrivée $i \\in A$ occupe une voie dans le chantier de débranchement au créneau $c \\in C$.\\\n",
                "    - $ofor_{ic}$ : variable binaire indiquant si le train de départ $i \\in D$ occupe une voie dans le chantier de formation au créneau $c \\in C$.\\\n",
                "    - $odep_{ic}$ : variable binaire indiquant si le train de départ $i \\in D$ occupe une voie dans le chantier de départ au créneau $c \\in C$.\n",
                "Les créneaux de $C$, et les ensembles $A$ et $D$ sont définis comme dans le jalon précédent."
            ]
        },
        {
            "cell_type": "code",
            "execution_count": null,
            "metadata": {},
            "outputs": [],
            "source": [
                "orec = {(i, c) : m.addVar(vtype = GRB.BINARY, name=f'orec_{i}_{c}') for i in trains_arrivee for c in range(1,nombre_creneaux+1)}\n",
                "oform = {(i, c) : m.addVar(vtype = GRB.BINARY, name=f'oform_{i}_{c}') for i in trains_depart for c in range(1,nombre_creneaux+1)}\n",
                "odep = {(i, c) : m.addVar(vtype = GRB.BINARY, name=f'odep_{i}_{c}') for i in trains_depart for c in range(1,nombre_creneaux+1)}"
            ]
        },
        {
            "cell_type": "markdown",
            "metadata": {},
            "source": [
                "Pour les tâches humaines, on définit des variables binaires de type $ \\text{tache-humaine}_{t,r,i,c}$ où $t$ est un train de départ ou d'arrivée, $r$ est un roulement agent, $i$ est l'indice d'un agent dans ce roulement, et $c \\in C$. Où cette variable indique que pendant le créneau $c$, le $i^{ème}$ agent du roulement $r$ travaille sur le train $t$ sur la tâche humaine indiquée."
            ]
        },
        {
            "cell_type": "code",
            "execution_count": null,
            "metadata": {},
            "outputs": [],
            "source": [
                "#TACHES REC\n",
                "taches_hum_rec = {(tache,train,roulement,agent,c) : m.addVar(vtype = GRB.BINARY, name=f'{tache},{train},{roulement},{agent}_{c}') for tache in taches_rec for train in trains_arrivee for roulement in roulements_rec for agent in range(1,Roulements[roulement]['Nb agents']+1) for c in range(1,nombre_creneaux+1)}\n",
                "#TACHES FOR\n",
                "taches_hum_for = {(tache,train,roulement,agent,c) : m.addVar(vtype = GRB.BINARY, name=f'{tache}_{train},{roulement},{agent}_{c}') for tache in taches_for for train in trains_depart for roulement in roulements_for for agent in range(1,Roulements[roulement]['Nb agents']+1) for c in range(1,nombre_creneaux+1)}\n",
                "#TACHES DEP\n",
                "taches_hum_dep = {(tache,train,roulement,agent,c) : m.addVar(vtype = GRB.BINARY, name=f'{tache}_{train},{roulement},{agent}_{c}') for tache in taches_dep for train in trains_depart for roulement in roulements_dep for agent in range(1,Roulements[roulement]['Nb agents']+1) for c in range(1,nombre_creneaux+1)}"
            ]
        },
        {
            "cell_type": "markdown",
            "metadata": {},
            "source": [
                "## JALON 1"
            ]
        },
        {
            "cell_type": "markdown",
            "metadata": {},
            "source": [
                "### 1. Unique débranchement, formation et dégarage\n",
                "Chaque train d'arrivé subit un seul et unique débranchement, chaque train du départ subit un seul et unique débranchement et dégarage. \n",
                "$$ \\forall i \\in A \\quad \\sum_{c} deb_{i,c} = 1 $$\n",
                "$$ \\forall i \\in D \\quad \\sum_{c} for_{i,c} = 1 $$\n",
                "$$ \\forall i \\in D \\quad \\sum_{c} deg_{i,c} = 1 $$"
            ]
        },
        {
            "cell_type": "code",
            "execution_count": null,
            "metadata": {},
            "outputs": [],
            "source": [
                "uniqueDeb_train = {i : m.addConstr(quicksum([deb[(i, c)] for c in range(1, nombre_creneaux + 1)]) ==1, name = f'UniqueDeb_train{i}') for i in trains_arrivee}\n",
                "uniqueform_train = {i : m.addConstr(quicksum([form[(i, c)] for c in range(1, nombre_creneaux + 1)]) ==1, name = f'UniqueFor_train{i}') for i in trains_depart}\n",
                "uniqueDeg_train = {i : m.addConstr(quicksum([deg[(i, c)] for c in range(1, nombre_creneaux + 1)]) ==1, name = f'UniqueDeg_train{i}') for i in trains_depart}"
            ]
        },
        {
            "cell_type": "markdown",
            "metadata": {},
            "source": [
                "### 2. Une seule tâche machine par créneau  \n",
                "Chaque machine est exploitée par au plus un seul train sur chaque créneau.\n",
                "$$ \\forall c \\in C \\quad \\sum_{i \\in A} deb_{i,c} \\leq 1 $$\n",
                "$$ \\forall c \\in C \\quad \\sum_{i \\in D} for_{i,c} \\leq 1 $$\n",
                "$$ \\forall c \\in C \\quad \\sum_{i \\in D} deg_{i,c} \\leq 1 $$"
            ]
        },
        {
            "cell_type": "code",
            "execution_count": null,
            "metadata": {},
            "outputs": [],
            "source": [
                "uniqueDeb_creneau = {c : m.addConstr(quicksum([deb[(i, c)] for i in trains_arrivee]) <=1, name = f'UniqueDeb_creneau{c}') for c in range(1, nombre_creneaux + 1)}\n",
                "uniqueFor_creneau = {c : m.addConstr(quicksum([form[(i, c)] for i in trains_depart]) <=1, name = f'UniqueFor_creneau{c}') for c in range(1, nombre_creneaux + 1)}\n",
                "uniqueDeg_creneau = {c : m.addConstr(quicksum([deg[(i, c)] for i in trains_depart ]) <=1, name = f'UniqueDeg_creneau{c}') for c in range(1, nombre_creneaux + 1)}"
            ]
        },
        {
            "cell_type": "markdown",
            "metadata": {},
            "source": [
                "### 3. Débranchement se fait après l'arrivée du train\n",
                "Pour chaque train d'arrivée $i$, le débranchement ne peut pas avoir lieu dans les créneaux précedent celui d'arrivée $c^{a}_{i}$ après une heure de tâches humaines.\n",
                "$$ \\forall i \\in A \\quad \\sum_{c \\space \\leq \\space c^{a}_{i}+4} deb_{i,c} = 0$$ "
            ]
        },
        {
            "cell_type": "code",
            "execution_count": null,
            "metadata": {},
            "outputs": [],
            "source": [
                "deb_apres_arrivee = {i : m.addConstr(quicksum([deb[(i, c)] for c in range(1, creneau_arrivee[i] + 5)]) ==0, name = f'deb_apres_arrivee{i}') for i in trains_arrivee}"
            ]
        },
        {
            "cell_type": "markdown",
            "metadata": {},
            "source": [
                "### 4. Formation d'un train de départ \n",
                "Pour chaque train du départ $t$, la formation ne peut avoir lieu qu'après débranchement de tous les trains ayant les wagons qui le constituent. \\\n",
                "On note : $$ \\forall t \\in D \\quad A_t = \\{\\text{Les identifiants des trains d'arrivée ayant au moins un wagon du train t}\\}$$\n",
                "On peut exprimer la contrainte comme suit : \n",
                "$$ \\forall t \\in D, \\space\\forall c \\in C, \\space\\forall i \\in A_t \\quad for_{t,c} \\leq \\sum_{c' \\space \\lt \\space c} deb_{i,c'}$$ "
            ]
        },
        {
            "cell_type": "code",
            "execution_count": null,
            "metadata": {},
            "outputs": [],
            "source": [
                "for_apres_deb = {(t,c,i) : m.addConstr(form[(t,c)]<=quicksum([deb[(i, c_p)] for c_p in range(1, c)]), name = f'for_apres_deb{t}{c}{i}') for t in trains_depart for c in range(1,nombre_creneaux+1) for i in At[t]}"
            ]
        },
        {
            "cell_type": "markdown",
            "metadata": {},
            "source": [
                "### 5. Dégarage après formation\n",
                "Pour chaque train du départ, le dégarage ne peut avoir lieu qu'après la formation du train et $150$ minutes soit $10$ créneaux de tâches humaines.\n",
                "$$ \\forall t \\in D, \\space\\forall c \\in C \\quad deg_{t,c} \\leq \\sum_{c' \\space \\lt \\space c-10} for_{t,c'}$$ "
            ]
        },
        {
            "cell_type": "code",
            "execution_count": null,
            "metadata": {},
            "outputs": [],
            "source": [
                "deg_apres_for = {(t,c) : m.addConstr(deg[(t,c)]<=quicksum([form[(t, c_p)] for c_p in range(1, c-9)]), name = f'deg_apres_for{t},{c}') for t in trains_depart for c in range(1,nombre_creneaux+1)}"
            ]
        },
        {
            "cell_type": "markdown",
            "metadata": {},
            "source": [
                "### 6. Dégarage avant départ\n",
                "Pour chaque train du départ $t$, le dégarage ne peut pas avoir lieu dans les créneaux suivants \\\n",
                "celui de $20$ minutes (de tâches humaines) avant le créneau du départ $c^{d}_{t}$.\n",
                "$$ \\forall t \\in D \\quad \\sum_{c \\space \\geq \\space c^{d}_{t}-2} deg_{t,c} = 0$$ "
            ]
        },
        {
            "cell_type": "code",
            "execution_count": null,
            "metadata": {},
            "outputs": [],
            "source": [
                "deg_avant_depart = {t : m.addConstr(quicksum([deg[(t, c)] for c in range(creneau_depart[t]-2, nombre_creneaux+1)])==0, name = f'depart_apres_deg{t}') for t in trains_depart}"
            ]
        },
        {
            "cell_type": "markdown",
            "metadata": {},
            "source": [
                "### 7. Disponibilités des machines\n",
                "Il y a des créneaux où les machines sont indisponible, soient alors  $ \\space C_{deb}, C_{for}, C_{deg} \\space$  ces crénaux d'indisponibilités.\n",
                "$$ \\forall i \\in A \\quad \\sum_{c \\space \\in \\space C_{deb}} deb_{i,c} = 0 $$\n",
                "$$ \\forall i \\in D \\quad \\sum_{c \\space \\in \\space C_{for}} for_{i,c} = 0 $$\n",
                "$$ \\forall i \\in D \\quad \\sum_{c \\space \\in \\space C_{deg}} deg_{i,c} = 0 $$"
            ]
        },
        {
            "cell_type": "code",
            "execution_count": null,
            "metadata": {},
            "outputs": [],
            "source": [
                "indisponibilite_deb = {i : m.addConstr(quicksum([deb[(i, c)] for c in DEB_INDIS]) ==0, name = f'indisponibilité_deb{i}') for i in trains_arrivee }\n",
                "indisponibilite_for = {i : m.addConstr(quicksum([form[(i, c)] for c in FOR_INDIS]) ==0, name = f'indisponibilité_for{i}') for i in trains_depart}\n",
                "indisponibilite_deb = {i : m.addConstr(quicksum([deg[(i, c)] for c in DEG_INDIS]) ==0, name = f'indisponibilité_deg{i}') for i in trains_depart}"
            ]
        },
        {
            "cell_type": "markdown",
            "metadata": {},
            "source": [
                "## JALON 2"
            ]
        },
        {
            "cell_type": "markdown",
            "metadata": {},
            "source": [
                "### Contraintes Jalon 2"
            ]
        },
        {
            "cell_type": "markdown",
            "metadata": {},
            "source": [
                "#### 1- Nombre des voies disponibles\n",
                "Pour chaque créneau $c \\in C$, un chantier ne peut pas accueillir plus de trains que le nombre de voies disponibles: \n",
                "$$ \\forall c \\in C \\quad \\sum_{i \\in A} orec_{i,c} \\leq \\text{NVREC} $$\n",
                "$$ \\forall c \\in C \\quad \\sum_{i \\in D} ofor_{i,c} \\leq \\text{NVFOR} $$\n",
                "$$ \\forall c \\in C \\quad \\sum_{i \\in D} odep_{i,c} \\leq \\text{NVDEP} $$\n",
                "\n",
                "Où NVDEB, NVFOR, NVDEG correspondent aux nombres de voies disponibles pour chaque chantiers REC, FOR,\n",
                "DEP respectivement."
            ]
        },
        {
            "cell_type": "code",
            "execution_count": null,
            "metadata": {},
            "outputs": [],
            "source": [
                "Nb_voies_rec = {c : m.addConstr(quicksum([orec[(i, c)] for i in trains_arrivee]) <= NVREC, name = f'nb_voies_rec{c}') for c in range(1,nombre_creneaux+1) }\n",
                "Nb_voies_for = {c : m.addConstr(quicksum([oform[(i, c)] for i in trains_depart]) <= NVFOR, name = f'nb_voies_form{c}') for c in range(1,nombre_creneaux+1) }\n",
                "Nb_voies_dep = {c : m.addConstr(quicksum([odep[(i, c)] for i in trains_depart]) <= NVDEP, name = f'nb_voies_dep{c}') for c in range(1,nombre_creneaux+1) }"
            ]
        },
        {
            "cell_type": "markdown",
            "metadata": {},
            "source": [
                "#### 2- Indisponibilié des chantiers\n",
                "Il y a des créneaux dans lesquels les chantiers sont indisponibles qu'on note $C_{rec}, C_{for}, C_{dep}$. \n",
                "On interdit alors l'occupation lors de ces créneaux : \n",
                "\n",
                "$$ \\forall i \\in A \\quad \\sum_{c \\space \\in \\space C_{rec}} orec_{i,c} = 0 $$\n",
                "$$ \\forall i \\in D \\quad \\sum_{c \\space \\in \\space C_{for}} ofor_{i,c} = 0 $$\n",
                "$$ \\forall i \\in D \\quad \\sum_{c \\space \\in \\space C_{dep}} odep_{i,c} = 0 $$"
            ]
        },
        {
            "cell_type": "code",
            "execution_count": null,
            "metadata": {},
            "outputs": [],
            "source": [
                "indisponibilite_orec = {i : m.addConstr(quicksum([orec[(i, c)] for c in REC_INDIS]) ==0, name = f'indisponibilité_rec{i}') for i in trains_arrivee }\n",
                "indisponibilite_oform = {i : m.addConstr(quicksum([oform[(i, c)] for c in OFORM_INDIS]) ==0, name = f'indisponibilité_oform{i}') for i in trains_depart}\n",
                "indisponibilite_dep = {i : m.addConstr(quicksum([odep[(i, c)] for c in DEP_INDIS]) ==0, name = f'indisponibilité_dep{i}') for i in trains_depart}"
            ]
        },
        {
            "cell_type": "markdown",
            "metadata": {},
            "source": [
                "#### 3- Occupation du chantier de la réception pour un train d’arrivée\n",
                "Lors de l'arrivée d'un train $i \\in A$, il occupe le chantier de réception dans les créneaux entre celui d'arrivéee $c_a^{i}$ \n",
                "et celui de son débranchement $c_{deb}^{i} = \\sum_{c' \\in C}{c'\\times deb_{i,c'}}$. Mathématiquement : \n",
                "$$ \\forall c \\in C, \\forall i \\in A \\quad \\left(c \\ge c_a^{i}\\right) \\land \\left(c \\le c_{deb}^{i}\\right) \\Rightarrow orec_{i,c}=1$$\n",
                "$$ M \\times orec_{i,c} \\ge \\left(\\varepsilon+c-c_a^{i}\\right)\\left(c_{deb}^{i}-c+\\varepsilon \\right)$$\n",
                "Où $M$ est un majorant suffisament grand et $\\varepsilon$ un minorant assez petit."
            ]
        },
        {
            "cell_type": "code",
            "execution_count": null,
            "metadata": {},
            "outputs": [],
            "source": [
                "M=(nombre_creneaux)**2\n",
                "eps=0.1\n",
                "creneau_deb={i : quicksum([u*deb[(i,u)] for u in range(1,nombre_creneaux+1)]) for i in trains_arrivee}\n",
                "occupation_arrivee_deb={(i,c) : m.addConstr((eps+(c-creneau_arrivee[i]))*(creneau_deb[i]-c+eps)<=M*orec[(i,c)], name=f'occupation_arrivee_deg_{i,c}') for i in trains_arrivee for c in range(1,1+nombre_creneaux)}"
            ]
        },
        {
            "cell_type": "markdown",
            "metadata": {},
            "source": [
                "#### 4- Lien entre débranchement d’un train d’arrivée et occupation de voies dans le chantier de formation\n",
                "Pour un train d'arrivée $t \\in A$, la machine de débranchement le débranche et renvoie ses wagones vers le chantier de formation dans le même créneau. \n",
                "On définit pour un train d'arrivée $t \\in A$, l'ensemble $D_t$ des trains de départ associés aux wagons de $t$. \n",
                "$$ \\forall t \\in A \\quad D_t = \\{\\text{Les identifiants des trains du départ ayant au moins un wagon du train t}\\}$$\n",
                "Il faut alors garantir: \n",
                "$$\n",
                "    \\forall t \\in A, \\forall c \\in C \\quad deb_{t,c}=1 \\Rightarrow \\prod\\limits_{i \\in D_t} ofor_{i,c} =1\n",
                "$$\n",
                "qu'on linéarise comme suit:\n",
                "$$\n",
                "    \\forall t \\in A, \\forall i \\in D_t, \\forall c \\in C \\quad deb_{t,c} \\leq ofor_{i,c}\n",
                "$$"
            ]
        },
        {
            "cell_type": "code",
            "execution_count": null,
            "metadata": {},
            "outputs": [],
            "source": [
                "reserve_voies_for_au_deb = {(t,c,i) : m.addConstr(deb[(t,c)]<=oform[(i,c)], name = f'reserve_voies_for_au_deb{t}{c}{i}') for t in trains_arrivee for c in range(1,nombre_creneaux+1) for i in Dt[t]}"
            ]
        },
        {
            "cell_type": "markdown",
            "metadata": {},
            "source": [
                "#### Occupation du chantier de formation\n",
                "#### 5-Créneaux d’occupation \n",
                "Pour faire une relation de récurrence entre les créneaux d'occupation du chantier de formation pour un train de départ, on dit que si un train de départ occupe le chantier formation pendant un créneau $c$, et que pendant ce créneau $c$ le train ne se dégare pas, alors il reste dans le chantier formation. Mathématiquement , cela se traduit par:  \n",
                "$$\\forall t \\in D, \\forall c \\in C,  ofor_{t,c}=1 \\land deg_{t,c}=0 \\Rightarrow ofor_{t,c+1}=1$$\n",
                "Pour linériser cette contrainte, on introduit des variables binaires $z_{t,c}$ symbolisant la conjonction des deux propositions: \n",
                "$$z_{t,c} \\leq ofor_{t,c}$$\n",
                "$$z_{t,c} \\leq 1-deg_{t,c}$$\n",
                "$$ z_{t,c} \\geq ofor_{t,c}+1-deg_{t,c} -1$$\n",
                "$$z_{t,c} \\leq ofor_{t,c+1}$$"
            ]
        },
        {
            "cell_type": "code",
            "execution_count": null,
            "metadata": {},
            "outputs": [],
            "source": [
                "z = {(t, c) : m.addVar(vtype = GRB.BINARY, name=f'z_{t}_{c}') for t in trains_depart for c in range(1,nombre_creneaux)}\n",
                "duree_occupe_form1={(t,c): m.addConstr(z[(t,c)]<=oform[(t,c)], name = f'duree_occupe_form1{t,c}') for t in trains_depart for c in range(1,nombre_creneaux)}\n",
                "duree_occupe_form2={(t,c): m.addConstr(z[(t,c)]<=1-deg[(t,c)], name = f'duree_occupe_form2{t,c}') for t in trains_depart for c in range(1,nombre_creneaux)}\n",
                "duree_occupe_form3={(t,c): m.addConstr(z[(t,c)]>=oform[(t,c)]-deg[(t,c)], name = f'duree_occupe_form3{t,c}') for t in trains_depart for c in range(1,nombre_creneaux)}\n",
                "duree_occupe_form4={(t,c): m.addConstr(z[(t,c)]<=oform[(t,c+1)], name = f'duree_occupe_form4{t,c}') for t in trains_depart for c in range(1,nombre_creneaux)}"
            ]
        },
        {
            "cell_type": "markdown",
            "metadata": {},
            "source": [
                "#### 6- Occupation d'une voie dans le chantier formation lors du dégarage\n",
                "Il est également crucial de s'assurer qu'un train de départ occupe le chantier de formation lors de son opération de dégarage :\n",
                "\\begin{equation}\n",
                "\\forall t \\in D, \\forall c \\in C \\quad deg_{t,c} \\le ofor_{t,c}\n",
                "\\end{equation}"
            ]
        },
        {
            "cell_type": "code",
            "execution_count": null,
            "metadata": {},
            "outputs": [],
            "source": [
                "reserve_voie_for_au_deg = {(t,c) : m.addConstr(deg[(t,c)]<=oform[(t,c)], name = f'reserve_voie_for_au_deg{t}{c}') for t in trains_depart for c in range(1,nombre_creneaux+1)}"
            ]
        },
        {
            "cell_type": "markdown",
            "metadata": {},
            "source": [
                "#### 7- Créneaux où on libère les voies\n",
                "Après le dégarage, un train doit libérer le chantier de formation pour permettre la réorganisation des wagons pour d'autres trains. La libération des voies est modélisée par la contrainte suivante :\n",
                "$$ \\forall t \\in D, \\forall c \\in C, c \\geq c_{deg}^{t}+1 \\Rightarrow  ofor_{t,c}=0$$\n",
                "Où \n",
                "$$ c_{deg}^{t}= \\sum_{u}{u\\times deg_{t,u}} $$\n",
                "Linéarisée avec: \n",
                "$$(c-c_{deg}^{t}) \\leq M \\times (1- ofor_{t,c})$$"
            ]
        },
        {
            "cell_type": "code",
            "execution_count": null,
            "metadata": {},
            "outputs": [],
            "source": [
                "creneau_deg={i : quicksum([u*deg[(i,u)] for u in range(1,nombre_creneaux+1)]) for i in trains_depart}\n",
                "non_occupation_for_apres_deg={(t,c) : m.addConstr((c-creneau_deg[t])<=M*(1-oform[(t,c)]), name=f'occupation_for_qd_deg_{t,c}') for t in trains_depart for c in range(1,1+nombre_creneaux)}"
            ]
        },
        {
            "cell_type": "markdown",
            "metadata": {},
            "source": [
                "#### 8- Occupation du chantier de départ pour un train d'arrivée\n",
                "Pour chaque train de départ $t \\in D$, il occupe une voie dans le chantier de départ entre le moment de son dégarage ($\\sum_{c' \\in C}{c'\\times deg_{t,c'}}$) et son départ prévu ($c_d^{t}$). Mathématiquement, cela est représenté par :\n",
                "\n",
                "$$\\forall c \\in C, \\forall t \\in D \\quad \\left(c \\le c_d^{t}\\right) \\land \\left(c \\ge \\sum_{c' \\in C}{c'\\times deg_{t,c'}}\\right) \\Rightarrow odep_{t,c}=1$$\n",
                "On occupe une voie du départ après dégarage et avant le départ du train:\n",
                "$$ M \\times odep_{t,c} \\ge \\left(\\varepsilon+(c_d^{i}-c)\\right)\\left(c-\\sum_{u}{u\\times deg_{t,u}}+\\varepsilon \\right)$$"
            ]
        },
        {
            "cell_type": "code",
            "execution_count": null,
            "metadata": {},
            "outputs": [],
            "source": [
                "M=(nombre_creneaux)**2\n",
                "eps=0.1\n",
                "occupation_deg_depart={(i,c) : m.addConstr((eps+creneau_depart[i]-c)*(c-creneau_deg[i]+eps)<=M*odep[(i,c)], name=f'occupation_deg_depart_{i,c}') for i in trains_depart for c in range(1,1+nombre_creneaux)}\n"
            ]
        },
        {
            "cell_type": "markdown",
            "metadata": {},
            "source": [
                "## JALON 3"
            ]
        },
        {
            "cell_type": "markdown",
            "metadata": {},
            "source": [
                " ### Variables auxiliaires\n",
                " #### $\\text{Tache-humaine}_{t,c}$\n",
                " Pour raisonner comme pendant le jalon 1 sur chaque train $t$ et créneau $c$ pour savoir si la tâche humaine s'ffectue sur le train $t$ au créneau $c$, on peut retrouver ça avec: \n",
                " $$\\text{tâche-humaine}_{t,c} = \\sum_{\\text{agents} (r,i)} \\text{tâche-humaine}_{t,r,i,c}$$"
            ]
        },
        {
            "cell_type": "code",
            "execution_count": null,
            "metadata": {},
            "outputs": [],
            "source": [
                "taches_hum_arr_tc = {(tache,train,c) : quicksum([taches_hum_rec[(tache,train,roulement,i,c)] for roulement in roulements_rec for agent in range(1,Roulements[roulement]['Nb agents']+1)])   for train in trains_arrivee  for tache in taches_rec for c in range(1,nombre_creneaux+1)}\n",
                "taches_hum_for_tc = {(tache,train,c) : quicksum([taches_hum_for[(tache,train,roulement,i,c)] for roulement in roulements_for for agent in range(1,Roulements[roulement]['Nb agents']+1)])   for train in trains_depart  for tache in taches_for for c in range(1,nombre_creneaux+1)}\n",
                "taches_hum_dep_tc = {(tache,train,c) : quicksum([taches_hum_dep[(tache,train,roulement,i,c)] for roulement in roulements_dep for agent in range(1,Roulements[roulement]['Nb agents']+1)])   for train in trains_depart  for tache in taches_dep for c in range(1,nombre_creneaux+1)}"
            ]
        },
        {
            "cell_type": "markdown",
            "metadata": {},
            "source": [
                "#### Nombre de tâches effectuées par un agent\n",
                "De plus chaque agent i appartient à un roulement r, on définit donc l'ensemble qui associe à chaque couple (roulement,agent), les blocs où chaque agent pour travailler, par exemple pour un roulement r et un agent i, dans une journée $j$ où cet agent peut travailler, il peut travailler dans un des blocs:  $$bloc_{r,i,j} =  [(00:00-08:00),(8:00-12:00),\\cdots]$$\n",
                " \n",
                " Ainsi, dans un bloc de travail,  $  \\forall  bloc  \\in  bloc_{r,i,j},   $ le nombre des taches effectuées par l'agent (r,i) ($i^{ème}$ agent du roulement $r$) dans ce bloc est: \n",
                " $$\\forall \\text{jour}, \\forall \\text{bloc} \\in blocs_{r,i,jour}, \\quad \\text{nb-taches}_{(r,i),bloc,jour} = \\sum_{c \\in bloc} \\quad  \\sum_{\\text{taches faisables par (r,i)}} \\quad \\sum_{t \\in \\text{trains de la tache}} \\text{tâche-humaine}_{t,r,i,c} $$"
            ]
        },
        {
            "cell_type": "code",
            "execution_count": null,
            "metadata": {},
            "outputs": [],
            "source": [
                "nb_taches_rec={(r,i,b): quicksum([taches_hum_rec[(tache,t,r,i,c)] for tache in taches_rec for t in trains_arrivee for c in Roulements[r]['Creneaux'][b]])   for r in roulements_rec for i in range(1,Roulements[r]['Nb agents']+1) for b in Roulements[r]['Creneaux']}\n",
                "nb_taches_for={(r,i,b): quicksum([taches_hum_for[(tache,t,r,i,c)] for tache in taches_for for t in trains_depart for c in Roulements[r]['Creneaux'][b]])   for r in roulements_for for i in range(1,Roulements[r]['Nb agents']+1) for b in Roulements[r]['Creneaux']}\n",
                "nb_taches_dep={(r,i,b): quicksum([taches_hum_dep[(tache,t,r,i,c)] for tache in taches_dep for t in trains_depart for c in Roulements[r]['Creneaux'][b]])   for r in roulements_dep for i in range(1,Roulements[r]['Nb agents']+1) for b in Roulements[r]['Creneaux']}\n",
                "\n",
                "def fusion_dictionnaires(*dicts):\n",
                "    result = {}\n",
                "    for d in dicts:\n",
                "        for key, value in d.items():\n",
                "            result[key] = result.get(key, 0) + value\n",
                "    return result\n",
                "nb_taches=fusion_dictionnaires(nb_taches_rec,nb_taches_for,nb_taches_dep)\n",
                "#keys de nb_taches sont (roulement,agent,bloc) où bloc est de type (jour,bloc)"
            ]
        },
        {
            "cell_type": "markdown",
            "metadata": {},
            "source": [
                "### Contraintes"
            ]
        },
        {
            "cell_type": "markdown",
            "metadata": {},
            "source": [
                "#### Un agent travaille pendant un bloc au plus pendant une journée de service:\n",
                "Pour une journée de service, chaque agent (r,i) peut travailler dans un bloc horaire au plus, on impose donc la contrainte suivante, essayant de modéliser celà :\\\n",
                "Sur une journée de service, si le nombre de tâches effectuées par l'agent dans 1 de ses blocs possibles de travail est non nul, il faut que le nombre de tâches effectuées dans les autres blocs possibles soit nul. \n",
                "Donc, si par exemple , dans une journée de service , on a trois blocs de travail possibles pour l'agent (r,i), qui sont $J_1, J_2$ et $J_3$.On a:\n",
                "$$ \\text{nb-taches}_{(r,i),J1} \\neq 0 \\quad \\Rightarrow \\quad \\text{nb-taches}_{(r,i),J_2}=\\text{nb-taches}_{(r,i),J_3}=0$$\n",
                "Et de même par permutation des blocs. Il faut alors garantir, pour l'agent (r,i):\n",
                "$$ \\forall c \\in J_1: \\exists \\text{train} t, \\text{tâche}, \\quad \\text{t.q}  \\quad \\text{tâche}_{t,r,i,c}=1 \\Rightarrow \\quad \\text{nb-taches}_{(r,i),J2}+\\text{nb-taches}_{(r,i),J3}=0$$\n",
                "Qu'on linéarise par:\n",
                "$$\\forall \\text{agent} (r,i), \\forall \\text{tâche}, \\forall \\text{train},\\forall c \\in J_1: \\quad   \\text{nb-taches}_{(r,i),J2}+\\text{nb-taches}_{(r,i),J3} \\leq M \\times (1-\\text{tâche}_{t,r,i,c})$$"
            ]
        },
        {
            "cell_type": "code",
            "execution_count": null,
            "metadata": {},
            "outputs": [],
            "source": [
                "#Pour un agent (r,i), il faut extraire les blocs de chaque jour et puis faire les contraintes sur ces blocs:\n",
                "def extraire_meme_jour(dictionnaire):\n",
                "    \"\"\"\n",
                "    Cette fonction prend en entrée un dictionnaire dont les clés sont de la forme (roulement, agent, (jour, bloc horaire)).\n",
                "    Elle extrait les couples (jour, bloc horaire) qui correspondent au même jour pour chaque (roulement, agent).\n",
                "    La sortie est un dictionnaire où les clés sont les couples (roulement, agent) et les valeurs sont des dictionnaires\n",
                "    dont les clés sont les jours et les valeurs sont des tuples (jour, bloc horaire) associés à ces jours pour ce couple.\n",
                "    \"\"\"\n",
                "    result = {}\n",
                "    for cle, valeur in dictionnaire.items():\n",
                "        roulement, agent, (jour, bloc_horaire) = cle\n",
                "        cle_roulement_agent = (roulement, agent)\n",
                "        if cle_roulement_agent in result:\n",
                "            if jour in result[cle_roulement_agent]:\n",
                "                result[cle_roulement_agent][jour].append((jour,bloc_horaire))\n",
                "            else:\n",
                "                result[cle_roulement_agent][jour] = [(jour,bloc_horaire)]\n",
                "        else:\n",
                "            result[cle_roulement_agent] = {jour: [(jour,bloc_horaire)]}\n",
                "\n",
                "    return result\n",
                "agents_jours_blocs = extraire_meme_jour(nb_taches)"
            ]
        },
        {
            "cell_type": "code",
            "execution_count": null,
            "metadata": {},
            "outputs": [],
            "source": [
                "agent_rec_work_bloc={(agent,jour,tache,train,c,J1): m.addConstr(quicksum([nb_taches[(agent[0],agent[1],J)] for J in agents_jours_blocs[agent][jour] if J!=J1]) <=M*(1-taches_hum_rec[(tache,train,agent[0],agent[1],c)])) for agent in agents_jours_blocs if agent[0] in roulements_rec for jour in agents_jours_blocs[agent] for J1 in agents_jours_blocs[agent][jour] for c in Roulements[agent[0]]['Creneaux'][J1] for train in trains_arrivee for tache in taches_rec}\n",
                "agent_for_work_bloc={(agent,jour,tache,train,c,J1): m.addConstr(quicksum([nb_taches[(agent[0],agent[1],J)] for J in agents_jours_blocs[agent][jour] if J!=J1]) <=M*(1-taches_hum_for[(tache,train,agent[0],agent[1],c)])) for agent in agents_jours_blocs if agent[0] in roulements_for for jour in agents_jours_blocs[agent] for J1 in agents_jours_blocs[agent][jour] for c in Roulements[agent[0]]['Creneaux'][J1] for train in trains_depart for tache in taches_for}\n",
                "agent_dep_work_bloc={(agent,jour,tache,train,c,J1): m.addConstr(quicksum([nb_taches[(agent[0],agent[1],J)] for J in agents_jours_blocs[agent][jour] if J!=J1]) <=M*(1-taches_hum_dep[(tache,train,agent[0],agent[1],c)])) for agent in agents_jours_blocs if agent[0] in roulements_dep for jour in agents_jours_blocs[agent] for J1 in agents_jours_blocs[agent][jour] for c in Roulements[agent[0]]['Creneaux'][J1] for train in trains_depart for tache in taches_dep}"
            ]
        },
        {
            "cell_type": "markdown",
            "metadata": {},
            "source": [
                "#### Chaque tache humaine est réalisée par un seul agent et dans un seul créneau:\n",
                "\n",
                "Afin de réaliser une tache humaine, un agent disponible est suffisant, et pour un train $t$, la tâche doit être réalisée par un agent et dans un créneau, on traduit cette contrainte pour chaque train t :\n",
                "$$\\forall \\text{train} \\, t, \\forall \\, \\text{tache-humaine}, \\sum_{c \\in C} \\sum_{agents (r,i)} \\text{tache-humaine}_{t,r,i,c} = 1$$"
            ]
        },
        {
            "cell_type": "code",
            "execution_count": null,
            "metadata": {},
            "outputs": [],
            "source": [
                "tache_realisee_1_agent_rec={(train,tache): m.addConstr(quicksum([taches_hum_rec[(tache,train,agent[0],agent[1],c)] for agent in agents_jours_blocs if agent[0] in roulements_rec for c in range(1,nombre_creneaux+1)])==1) for train in trains_arrivee for tache in taches_rec}\n",
                "tache_realisee_1_agent_for={(train,tache): m.addConstr(quicksum([taches_hum_for[(tache,train,agent[0],agent[1],c)] for agent in agents_jours_blocs if agent[0] in roulements_for for c in range(1,nombre_creneaux+1)])==1) for train in trains_depart for tache in taches_for}\n",
                "tache_realisee_1_agent_dep={(train,tache): m.addConstr(quicksum([taches_hum_dep[(tache,train,agent[0],agent[1],c)] for agent in agents_jours_blocs if agent[0] in roulements_dep for c in range(1,nombre_creneaux+1)])==1) for train in trains_depart for tache in taches_dep}"
            ]
        },
        {
            "cell_type": "markdown",
            "metadata": {},
            "source": [
                "#### Un agent effectue une tâche humaine au plus par créneau:\n",
                "$$\\forall \\text{agent} (r,i), \\forall c \\in C,  \\sum_{\\text{taches faisables par l'agent}} \\quad \\sum_{\\text{trains t}} \\quad  \\text{tache}_{t,r,i,c} \\leq 1$$"
            ]
        },
        {
            "cell_type": "code",
            "execution_count": null,
            "metadata": {},
            "outputs": [],
            "source": [
                "#On definit comme auparavant le nombre de taches effectués par un agent mais cette fois pendant un seul créneau\n",
                "nb_taches_rec_c={(r,i,c): quicksum([taches_hum_rec[(tache,t,r,i,c)] for tache in taches_rec for t in trains_arrivee])   for r in roulements_rec for i in range(1,Roulements[r]['Nb agents']+1)}\n",
                "nb_taches_for_c={(r,i,c): quicksum([taches_hum_for[(tache,t,r,i,c)] for tache in taches_for for t in trains_depart])   for r in roulements_for for i in range(1,Roulements[r]['Nb agents']+1)}\n",
                "nb_taches_dep_c={(r,i,c): quicksum([taches_hum_dep[(tache,t,r,i,c)] for tache in taches_dep for t in trains_depart])   for r in roulements_dep for i in range(1,Roulements[r]['Nb agents']+1)}\n",
                "\n",
                "nb_taches_c=fusion_dictionnaires(nb_taches_rec_c,nb_taches_for_c,nb_taches_dep_c)\n",
                "\n",
                "une_tache_au_plus_par_c={(r,i,c): m.addConstr(nb_taches_c[(r,i,c)]<=1) for (r,i,c) in nb_taches_c.keys()}"
            ]
        },
        {
            "cell_type": "markdown",
            "metadata": {},
            "source": [
                "#### Respect de l'ordre des taches humaines\n",
                "On définit des contraintes sur l'ordre d'exécution des taches humaines et on assure que certaines taches humaines se font en parallèle aux taches machines. \\\n",
                "$\\textbf{Ordre séquentiel entre les tâches:}$\\\n",
                "Un exemple d'ordre séquentiel d'excution des tâches humaines est la contrainte que la tâche $\\text{arrivee-reception}$ vient avant $\\text{preparation-tri}$, pour les trains d'arrivée. $t \\in A$, on écrit cette contrainte comme suit :\n",
                "$$\\forall t \\in A : \\sum_{c \\in C} c \\times \\text{arrivee-reception}_{t,c} < \\sum_{c \\in C} c \\times \\text{preparation-tri}_{t,c} $$\n",
                "Cela est fait pour toutes les tâches ordonnées séquentiellement décrites dans la feuille des tâches humaines.\n",
                "Il faut aussi garantir que la tâche humaine de réception se fait après l'arrivée d'un train d'arrivée et que son essai de frein départ a lieu avant son départ."
            ]
        },
        {
            "cell_type": "code",
            "execution_count": null,
            "metadata": {},
            "outputs": [],
            "source": [
                "print(taches_hum_rec)"
            ]
        },
        {
            "cell_type": "code",
            "execution_count": null,
            "metadata": {},
            "outputs": [],
            "source": [
                "#REC\n",
                "arrivee_avant_rec={t: m.addConstr(quicksum(c*taches_hum_arr_tc[('arrivée Reception',t,c)] for c in range(1,nombre_creneaux+1))>=creneau_arrivee[t]) for t in trains_arrivee}\n",
                "rec_avant_tri={t: m.addConstr(quicksum(c*taches_hum_arr_tc[('arrivée Reception',t,c)] for c in range(1,nombre_creneaux+1))<=quicksum(c*taches_hum_arr_tc[('préparation tri',t,c)] for c in range(1,nombre_creneaux+1))) for t in trains_arrivee}\n",
                "tri_avant_deb={t: m.addConstr(quicksum(c*taches_hum_arr_tc[('préparation tri',t,c)] for c in range(1,nombre_creneaux+1))<=quicksum(c*taches_hum_arr_tc[('débranchement',t,c)] for c in range(1,nombre_creneaux+1))) for t in trains_arrivee}\n",
                "\n",
                "#FOR\n",
                "appui_avant_attelage={t: m.addConstr(quicksum(c*taches_hum_for_tc[('appui voie + mise en place câle',t,c)] for c in range(1,nombre_creneaux+1))<=quicksum(c*taches_hum_for_tc[('attelage véhicules',t,c)] for c in range(1,nombre_creneaux+1))) for t in trains_depart}\n",
                "attelage_avant_deg={t: m.addConstr(quicksum(c*taches_hum_for_tc[('attelage véhicules',t,c)] for c in range(1,nombre_creneaux+1))<=quicksum(c*taches_hum_for_tc[('dégarage / bouger de rame',t,c)] for c in range(1,nombre_creneaux+1))) for t in trains_depart}\n",
                "#DEP\n",
                "deg_avant_essai_frein={t: m.addConstr(quicksum(c*taches_hum_for_tc[('dégarage / bouger de rame',t,c)] for c in range(1,nombre_creneaux+1))<=quicksum(c*taches_hum_dep_tc[('essai de frein départ',t,c)] for c in range(1,nombre_creneaux+1))) for t in trains_depart}\n",
                "\n"
            ]
        },
        {
            "cell_type": "markdown",
            "metadata": {},
            "source": [
                "$\\textbf{Prallélisation de tâches/ Couplage tâches humaines et tâches machines }$\\\n",
                "On couple les variables des tâches machines définies au jalon 1 avec les variables des tâches humaines qui vont parallèlement avec ces tâches machines:\n",
                "$$\\forall t \\in A, \\forall c \\in C , \\text{debranchement}_{t,c} = deb_{t,c}$$\n",
                "$$\\forall t \\in D, \\forall c \\in C , \\text{appui voie + mise en place câle}_{t,c} = for_{t,c}$$\n",
                "$$\\forall t \\in D, \\forall c \\in C , \\text{dégarage / bouger de rame}_{t,c} = deg_{t,c}$$"
            ]
        },
        {
            "cell_type": "code",
            "execution_count": null,
            "metadata": {},
            "outputs": [],
            "source": [
                "debranchement_deb={(t,c): m.addConstr(taches_hum_arr_tc[('débranchement',t,c)]==deb[(t,c)]) for t in trains_arrivee for c in range(1,nombre_creneaux+1)}\n",
                "appui_for={(t,c): m.addConstr(taches_hum_for_tc[('appui voie + mise en place câle',t,c)]==form[(t,c)]) for t in trains_depart for c in range(1,nombre_creneaux+1)}\n",
                "bouger_deg={(t,c): m.addConstr(taches_hum_for_tc[('appui voie + mise en place câle',t,c)]==deg[(t,c)]) for t in trains_depart for c in range(1,nombre_creneaux+1)}"
            ]
        },
        {
            "cell_type": "markdown",
            "metadata": {},
            "source": [
                "#### Indisponibilités des chantiers\n",
                "Dans chaque créneau d'indisponibilité du chantier de réception, le nombre de tâches dans ce chantier effectuées par chaque agent est nul:\n",
                "$$\\forall \\text{agent} (r,i), \\sum_{c \\in C_rec} \\text{nb-taches-rec}_{r,i,c}=0 $$\n",
                "$$\\forall \\text{agent} (r,i), \\sum_{c \\in C_formation} \\text{nb-taches-for}_{r,i,c}=0 $$\n",
                "$$\\forall \\text{agent} (r,i), \\sum_{c \\in C_dep} \\text{nb-taches-dep}_{r,i,c}=0 $$"
            ]
        },
        {
            "cell_type": "code",
            "execution_count": null,
            "metadata": {},
            "outputs": [],
            "source": [
                "indispo_rec_hum={(r,i): m.addConstr(quicksum([nb_taches_rec_c[(r,i,c)] for c in REC_INDIS])==0) for r in roulements_rec for i in range(1,Roulements[r]['Nb agents']+1)}\n",
                "indispo_for_hum={(r,i): m.addConstr(quicksum([nb_taches_for_c[(r,i,c)] for c in OFORM_INDIS])==0) for r in roulements_for for i in range(1,Roulements[r]['Nb agents']+1)}\n",
                "indispo_dep_hum={(r,i): m.addConstr(quicksum([nb_taches_dep_c[(r,i,c)] for c in DEP_INDIS])==0) for r in roulements_dep for i in range(1,Roulements[r]['Nb agents']+1)}"
            ]
        },
        {
            "cell_type": "markdown",
            "metadata": {},
            "source": [
                "#### Indisponibilités des agents dans les blocs où il ne peuvent pas travailler\n",
                "Chaque agent $(r,i)$ ne peut pas travailler pendant les créneaux qui ne sont pas dans ses blocs de travail.\n"
            ]
        },
        {
            "cell_type": "markdown",
            "metadata": {},
            "source": [
                "## Résolution"
            ]
        },
        {
            "cell_type": "code",
            "execution_count": null,
            "metadata": {},
            "outputs": [],
            "source": [
                "objfunction = 1\n",
                "m.setObjective(objfunction , GRB.MINIMIZE)\n",
                "m.params.outputflag = 1\n",
                "m.update()"
            ]
        },
        {
            "cell_type": "code",
            "execution_count": null,
            "metadata": {},
            "outputs": [],
            "source": [
                "m.params.outputflag = 0"
            ]
        },
        {
            "cell_type": "code",
            "execution_count": 24,
            "metadata": {},
            "outputs": [],
            "source": [
                "m.setParam(GRB.Param.IterationLimit, 3600)\n",
                "m.optimize()\n",
                "if m.status == GRB.INF_OR_UNBD:\n",
                "    m.setParam(GRB.Param.Presolve, 0)\n",
                "    m.optimize()\n",
                "\n",
                "if m.status == GRB.INFEASIBLE:\n",
                "    print(m.display(), \"\\n\\tN'A PAS DE SOLUTION!!!\")\n",
                "elif m.status == GRB.UNBOUNDED:\n",
                "    print(m.display(), \"\\n\\tEST NON BORNÉ!!!\")"
            ]
        },
        {
            "cell_type": "markdown",
            "metadata": {},
            "source": [
                "Créneaux -> Dates"
            ]
        },
        {
            "cell_type": "code",
            "execution_count": null,
            "metadata": {},
            "outputs": [],
            "source": [
                "try:\n",
                "    m.optimize()\n",
                "except GRB.GurobiError as e:\n",
                "    if e.errno == 10009:  # Gurobi out of memory error\n",
                "        print(\"Out of memory error occurred. Retrieving the last solution found.\")\n",
                "    else:\n",
                "        raise e\n",
                "\n",
                "# Accéder à la dernière solution trouvée\n",
                "if m.Status == GRB.Status.OPTIMAL or m.Status == GRB.Status.SUBOPTIMAL:\n",
                "    for v in m.getVars():\n",
                "        print('%s %g' % (v.VarName, v.X))\n",
                "    print('Objective: %g' % m.ObjVal)\n",
                "else:\n",
                "    print('Aucune solution optimale trouvée')\n"
            ]
        },
        {
            "cell_type": "code",
            "execution_count": null,
            "metadata": {},
            "outputs": [],
            "source": [
                "outputxlsx = \"output.xlsx\"\n",
                "output = {'Id tâche': [], 'Type de tâche' : [], 'Jour' : [], 'Arr/Dep' : [],'Heure début' : [], 'Durée' : [], 'Sillon' : [],\n",
                "          'Occupation des voies par chantier (optim)': [], 'WPY_REC' : [], 'WPY_FOR' : [], 'WPY_DEP' : []}\n",
                "nb_voie_occ={\"WPY_REC\": [],\n",
                "             \"WPY_FOR\": [],\n",
                "             \"WPY_DEP\": []}\n",
                "for c in range(1,1+nombre_creneaux):\n",
                "    # Occupation des voies\n",
                "    nb_voie_occ[\"WPY_REC\"].append(sum([orec[(t,c)].x for t in trains_arrivee]))\n",
                "    nb_voie_occ[\"WPY_FOR\"].append(sum([oform[(t,c)].x for t in trains_depart]))\n",
                "    nb_voie_occ[\"WPY_DEP\"].append(sum([odep[(t,c)].x for t in trains_depart]))\n",
                "    \n",
                "    # Tâches machines sur les trains d'arrivee \n",
                "    for train in trains_arrivee:\n",
                "        if deb[(train,c)].x==1:\n",
                "            output['Id tâche'].append(f'DEB_{train[0]}_'+ creneau_to_date(date0, c).strftime('%d/%m/%Y'))\n",
                "            output['Type de tâche'].append('DEB')\n",
                "            output['Jour'].append(creneau_to_date(date0, c).strftime('%d/%m/%Y'))\n",
                "            output['Arr/Dep'].append(creneau_to_date(date0, creneau_arrivee[train]))\n",
                "            output['Heure début'].append(creneau_to_date(date0, c).strftime('%H:%M'))\n",
                "            output['Durée'].append(15)\n",
                "            output['Sillon'].append(train[0])\n",
                "            print('deb de {} se fait au créneau :'.format(train))\n",
                "            print(creneau_to_date(date0,c),' - ',creneau_to_date(date0,c+1))\n",
                "            print('-------------------------------------------------------')\n",
                "\n",
                "\n",
                "for train in trains_depart:\n",
                "    print(train)\n",
                "    print('--------------------------------------------')\n",
                "    for c in range(1,nombre_creneaux+1):\n",
                "        if form[(train,c)].x==1:\n",
                "            print('For de {} se fait au créneau :'.format(train))\n",
                "            output['Id tâche'].append(f'FOR_{train[0]}_'+ creneau_to_date(date0, c).strftime('%d/%m/%Y'))\n",
                "            output['Type de tâche'].append('FOR')\n",
                "            output['Jour'].append(creneau_to_date(date0, c).strftime('%d/%m/%Y'))\n",
                "            output['Arr/Dep'].append(creneau_to_date(date0, creneau_depart[train]))\n",
                "            output['Heure début'].append(creneau_to_date(date0, c).strftime('%H:%M'))\n",
                "            output['Durée'].append(15)\n",
                "            output['Sillon'].append(train[0])\n",
                "            print(creneau_to_date(date0,c),' - ',creneau_to_date(date0,c+1))\n",
                "            print('-------------------------------------------------------')\n",
                "        if deg[(train,c)].x==1:\n",
                "            print('deg de {} se fait au créneau :'.format(train))\n",
                "            output['Id tâche'].append(f'DEG_{train[0]}_' + creneau_to_date(date0, c).strftime('%d/%m/%Y'))\n",
                "            output['Type de tâche'].append('DEG')\n",
                "            output['Jour'].append(creneau_to_date(date0, c).strftime('%d/%m/%Y'))\n",
                "            output['Arr/Dep'].append(creneau_to_date(date0, creneau_depart[train]))\n",
                "            output['Heure début'].append(creneau_to_date(date0, c).strftime('%H:%M'))\n",
                "            output['Durée'].append(15)\n",
                "            output['Sillon'].append(train[0])\n",
                "            print(creneau_to_date(date0,c),' - ',creneau_to_date(date0,c+1))\n",
                "            print('-------------------------------------------------------')\n",
                "\n",
                "df = pd.DataFrame(output)\n",
                "df.head()\n"
            ]
        },
        {
            "cell_type": "code",
            "execution_count": null,
            "metadata": {},
            "outputs": [],
            "source": [
                "print('deb de {} se fait au créneau : {}'.format(2,7))"
            ]
        },
        {
            "cell_type": "markdown",
            "metadata": {},
            "source": [
                "# Questions \n",
                "- Horraires du départ non conforme avec les créneaux machines\n",
                "- Créneaux et jours ? indices dépendants \n",
                "- Il ya un choix à faire lors de la correspondance entre tâche humaine et créneaux où \\\n",
                "entre tâche machine et créneaux."
            ]
        }
    ],
    "metadata": {
        "kernelspec": {
            "display_name": "base",
            "language": "python",
            "name": "python3"
        },
        "language_info": {
            "codemirror_mode": {
                "name": "ipython",
                "version": 3
            },
            "file_extension": ".py",
            "mimetype": "text/x-python",
            "name": "python",
            "nbconvert_exporter": "python",
            "pygments_lexer": "ipython3",
            "version": "3.10.7"
        }
    },
    "nbformat": 4,
    "nbformat_minor": 2
}
=======
 "cells": [
  {
   "cell_type": "markdown",
   "metadata": {},
   "source": [
    "\n",
    "# <font color=blue><div align=\"center\">ST7 SNCF : Jalon 1</div></font>\n",
    "\n",
    "## <font color=blue><div align=\"center\">\"<em>Indian Railways</em>\"</div></font>"
   ]
  },
  {
   "cell_type": "markdown",
   "metadata": {},
   "source": [
    "## Modules"
   ]
  },
  {
   "cell_type": "code",
   "execution_count": 2,
   "metadata": {},
   "outputs": [],
   "source": [
    "# Modules de base\n",
    "import numpy as np\n",
    "import matplotlib.pyplot as plt\n",
    "import pandas as pd\n",
    "import datetime\n",
    "%matplotlib inline\n",
    "\n",
    "# Module relatif à Gurobi\n",
    "from gurobipy import *\n",
    "\n",
    "# Module csv\n",
    "import csv"
   ]
  },
  {
   "cell_type": "markdown",
   "metadata": {},
   "source": [
    "La modélisation mathématique est plus explicitée en détail dans le rapport"
   ]
  },
  {
   "cell_type": "code",
   "execution_count": 15,
   "metadata": {},
   "outputs": [],
   "source": [
    "mini_instance=\"mini_instance.xlsx\"\n",
    "instance_simple=\"instance_WPY_simple.xlsx\"\n",
    "instance_realiste=\"instance_WPY_realiste_jalon2.xlsx\"\n",
    "\n",
    "# CHOIX DE L'INTSANCE \n",
    "instance=instance_simple"
   ]
  },
  {
   "cell_type": "markdown",
   "metadata": {},
   "source": [
    "## Traitement de données"
   ]
  },
  {
   "cell_type": "code",
   "execution_count": 16,
   "metadata": {},
   "outputs": [],
   "source": [
    "def excel_to_dict(file: str) -> dict:\n",
    "    '''\n",
    "    Takes excel file name in the repo\n",
    "    and returns a dictionary[sheet_name]=Dataframe\n",
    "    '''\n",
    "    data_dict=pd.read_excel(file, sheet_name=None)\n",
    "    return data_dict\n",
    "\n",
    "\n",
    "def date_to_creneau(date0: datetime.datetime, hour: pd.DataFrame, date: pd.DataFrame):\n",
    "    '''\n",
    "    Takes hour and date's 1-column dataframes\n",
    "    and returns a dataframe of 1-column of 'créneaux'\n",
    "    starting from date0\n",
    "    '''\n",
    "    # Excel is sometimes stoopid and has inconsistent types\n",
    "    if type(date[0])==str:\n",
    "        datetime_df=pd.to_datetime(date.apply(lambda x: str(x)+' ')+hour.apply(lambda x:str(x)), dayfirst=True)\n",
    "    if type(date[0])==pd._libs.tslibs.timestamps.Timestamp:\n",
    "        datetime_df=pd.to_datetime(date.apply(lambda x: str(x)+' ')+hour.apply(lambda x:str(x)))\n",
    "    return (datetime_df-date0).dt.total_seconds().div(60*15).astype(int)+1\n",
    "\n",
    "def creneau_to_date(date0: datetime.datetime, creneau : int):\n",
    "    return date0+ datetime.timedelta(minutes=(creneau-1)*15)\n",
    "\n",
    "def convToStr(date)-> str:\n",
    "    '''\n",
    "    Takes a date in any form in the instance\n",
    "    and returns a string dd/mm/yyyy\n",
    "    '''\n",
    "    if type(date)==str:\n",
    "        return date\n",
    "    else:\n",
    "        return \"/\".join(str(date.date()).split(\"-\")[::-1])\n",
    "    \n",
    "\n",
    "INSTANCE= excel_to_dict(instance)"
   ]
  },
  {
   "cell_type": "markdown",
   "metadata": {},
   "source": [
    "### Dictionnaires utiles "
   ]
  },
  {
   "cell_type": "markdown",
   "metadata": {},
   "source": [
    "Trains de l'arrivée et trains du départ"
   ]
  },
  {
   "cell_type": "code",
   "execution_count": 17,
   "metadata": {},
   "outputs": [],
   "source": [
    "trains_arrivee=[]\n",
    "for index, row in INSTANCE[\"Sillons arrivee\"].iterrows():\n",
    "    id_train = row['n°TRAIN'], convToStr(row[\"JARR\"])\n",
    "    trains_arrivee.append(id_train)\n",
    "\n",
    "trains_depart=[]\n",
    "for index, row in INSTANCE[\"Sillons depart\"].iterrows():\n",
    "    id_train = row['n°TRAIN'], convToStr(row[\"JDEP\"])\n",
    "    trains_depart.append(id_train)"
   ]
  },
  {
   "cell_type": "markdown",
   "metadata": {},
   "source": [
    "Créneaux de l'arrivée et du départ"
   ]
  },
  {
   "cell_type": "code",
   "execution_count": 18,
   "metadata": {},
   "outputs": [],
   "source": [
    "# Date de référence est celle du lundi de la première semaine\n",
    "# Ce choix rend facile la traduction des indisponibilités de type (weekday,hh:mm)\n",
    "date0=str(INSTANCE[\"Sillons arrivee\"][\"JARR\"][0])+' 00:00:00'\n",
    "date0=pd.to_datetime(date0, dayfirst=True)\n",
    "date0=date0-datetime.timedelta(days=float(date0.dayofweek))\n",
    "datef=pd.to_datetime(INSTANCE[\"Sillons depart\"][\"JDEP\"].iloc[-1], dayfirst=True)+datetime.timedelta(hours=24)\n",
    "nombre_creneaux=int((datef-date0).total_seconds()/(60*15))\n",
    "\n",
    "# Créneaux du départ et de l'arrivée\n",
    "INSTANCE[\"Sillons arrivee\"][\"creneau\"]=date_to_creneau(date0, INSTANCE[\"Sillons arrivee\"][\"HARR\"], INSTANCE[\"Sillons arrivee\"][\"JARR\"])\n",
    "INSTANCE[\"Sillons depart\"][\"creneau\"]=date_to_creneau(date0, INSTANCE[\"Sillons depart\"][\"HDEP\"], INSTANCE[\"Sillons depart\"][\"JDEP\"])\n",
    "\n",
    "# Dictionnaires des créneaux \n",
    "# { (n°train, jour) : créneau }\n",
    "creneau_arrivee={} \n",
    "for index, row in INSTANCE[\"Sillons arrivee\"].iterrows():\n",
    "    creneau_arrivee[row[\"n°TRAIN\"],convToStr(row[\"JARR\"])]=row[\"creneau\"]\n",
    "\n",
    "creneau_depart={}\n",
    "for index, row in INSTANCE[\"Sillons depart\"].iterrows():\n",
    "    creneau_depart[row[\"n°TRAIN\"],convToStr(row[\"JDEP\"])]=row[\"creneau\"]"
   ]
  },
  {
   "cell_type": "markdown",
   "metadata": {},
   "source": [
    "Correspondances"
   ]
  },
  {
   "cell_type": "code",
   "execution_count": 19,
   "metadata": {},
   "outputs": [],
   "source": [
    "def correspondances():\n",
    "    '''\n",
    "    Construit un dictionnaire global\n",
    "    associant chaque train du départ à un set \n",
    "    des trains d'arrivée qui le constituent\n",
    "    et à un train d'arrivée un set de trains \n",
    "    de départs qui lui y sont liés\n",
    "    '''\n",
    "    At={}\n",
    "    Dt={}\n",
    "    for train in trains_depart:\n",
    "        At[train]=set()\n",
    "    for train in trains_arrivee:\n",
    "         Dt[train]=set()\n",
    "    for index, row in INSTANCE[\"Correspondances\"].iterrows():\n",
    "            At[(row[\"n°Train depart\"], convToStr(row[\"Jour depart\"]))].add((row['n°Train arrivee'],convToStr(row['Jour arrivee'])))\n",
    "            Dt[(row[\"n°Train arrivee\"], convToStr(row[\"Jour arrivee\"]))].add((row['n°Train depart'],convToStr(row['Jour depart'])))\n",
    "            \n",
    "    return At,Dt\n",
    "\n",
    "At=correspondances()[0]\n",
    "Dt=correspondances()[1]\n"
   ]
  },
  {
   "cell_type": "markdown",
   "metadata": {},
   "source": [
    "Indisponibilité des machines et des chantiers"
   ]
  },
  {
   "cell_type": "code",
   "execution_count": 20,
   "metadata": {},
   "outputs": [],
   "source": [
    "def creneaux_de_periode(indispo_str : str)-> list[int]: \n",
    "    plage_jours=nombre_creneaux//96\n",
    "    creneaux = []\n",
    "    if indispo_str!='0':\n",
    "        periodes = indispo_str.split(';')\n",
    "        for periode in periodes:\n",
    "            jour, plage_horaire = periode.strip('()').split(',')\n",
    "            jour = int(jour)\n",
    "            jours=[jour+7*k for k in range(0,plage_jours//7+1)]\n",
    "            plage_horaire = plage_horaire.strip('()').split('-')\n",
    "            heure_debut, minute_debut = map(int, plage_horaire[0].split(':'))\n",
    "            creneau_debut=minute_debut//15+1\n",
    "            heure_fin, minute_fin = map(int, plage_horaire[1].split(':'))\n",
    "            creneau_fin=minute_fin//15+1\n",
    "\n",
    "\n",
    "            if (heure_debut,minute_debut)>=(heure_fin,minute_fin):\n",
    "                for jour1 in jours:\n",
    "                    for c in range((jour1-1)*96+heure_debut*4+creneau_debut,jour1*96):\n",
    "                        if c<=nombre_creneaux:\n",
    "                            creneaux.append(c)\n",
    "                    for c in range(jour1*96,jour1*96+heure_fin*4+creneau_fin):\n",
    "                        if c<=nombre_creneaux: creneaux.append(c)\n",
    "            else:\n",
    "                for jour1 in jours:\n",
    "                    for c in range((jour1-1)*96+heure_debut*4+creneau_debut,(jour1-1)*96+heure_fin*4+creneau_fin):\n",
    "                        if c<=nombre_creneaux: creneaux.append(c) \n",
    "    return creneaux\n",
    "\n",
    "# data1 = INSTANCE1['Machines']\n",
    "df = INSTANCE['Machines']\n",
    "\n",
    "df['Indisponibilites']=df['Indisponibilites'].astype(str)\n",
    "# Apply the function to each row\n",
    "df['Indisponibilites_TimeSlots'] = df['Indisponibilites'].apply(creneaux_de_periode)\n",
    "\n",
    "DEB_INDIS = df.loc[df['Machine'] == 'DEB', 'Indisponibilites_TimeSlots'].values[0]\n",
    "FOR_INDIS = df.loc[df['Machine'] == 'FOR', 'Indisponibilites_TimeSlots'].values[0]\n",
    "DEG_INDIS = df.loc[df['Machine'] == 'DEG', 'Indisponibilites_TimeSlots'].values[0]"
   ]
  },
  {
   "cell_type": "markdown",
   "metadata": {},
   "source": [
    "Voies disponibles des chantiers"
   ]
  },
  {
   "cell_type": "code",
   "execution_count": 21,
   "metadata": {},
   "outputs": [],
   "source": [
    "df=INSTANCE[\"Chantiers\"]\n",
    "df['Indisponibilites']=df['Indisponibilites'].astype(str)\n",
    "df['Indisponibilites_TimeSlots'] = df['Indisponibilites'].apply(creneaux_de_periode)\n",
    "\n",
    "REC_INDIS = df.loc[df['Chantier'] == 'WPY_REC', 'Indisponibilites_TimeSlots'].values[0]\n",
    "OFORM_INDIS = df.loc[df['Chantier'] == 'WPY_FOR', 'Indisponibilites_TimeSlots'].values[0]\n",
    "DEP_INDIS = df.loc[df['Chantier'] == 'WPY_DEP', 'Indisponibilites_TimeSlots'].values[0]\n",
    "\n",
    "NVREC=df.loc[df['Chantier'] == 'WPY_REC', \"Nombre de voies\"].values[0]\n",
    "NVFOR=df.loc[df['Chantier'] == 'WPY_FOR', \"Nombre de voies\"].values[0]\n",
    "NVDEP=df.loc[df['Chantier'] == 'WPY_DEP', \"Nombre de voies\"].values[0]"
   ]
  },
  {
   "cell_type": "markdown",
   "metadata": {},
   "source": [
    "Roulements agents"
   ]
  },
  {
   "cell_type": "code",
   "execution_count": 25,
   "metadata": {},
   "outputs": [
    {
     "name": "stdout",
     "output_type": "stream",
     "text": [
      "['WPY_REC']\n"
     ]
    }
   ],
   "source": [
    "Roulements_source = INSTANCE['Roulements agents']\n",
    "Roulements = dict()\n",
    "a = 0\n",
    "i = 0\n",
    "for name in Roulements_source['Roulement']:\n",
    "    Roulements[name] = dict()\n",
    "    Roulements[name]['Jours'] = Roulements_source['Jours de la semaine'][i].split(';')\n",
    "    Roulements[name]['Nb agents'] = Roulements_source['Nombre agents'][i]\n",
    "    Roulements[name]['Blocs'] = Roulements_source['Cycles horaires'][i].split(';')\n",
    "    Roulements[name]['Connaissance'] = Roulements_source['Connaissances chantiers'][i].split(';')\n",
    "    Blocs = dict()\n",
    "    for j in Roulements[name]['Jours']: \n",
    "        for b in Roulements[name]['Blocs']:\n",
    "            Blocs[(j,b)] = list()\n",
    "            lbrgag = 0 #indicateur de nb de creneaux pour split des blocs de 8h\n",
    "            for c in creneaux_de_periode(','.join([j, b])):\n",
    "                lbrgag += 1\n",
    "                if lbrgag == 33: #bloc de 8h\n",
    "                    a = str(int(j) + 7) #semaine pro\n",
    "                    Blocs[(a,b)] = list()\n",
    "                if lbrgag >= 33: \n",
    "                    Blocs[(a,b)].append(c)\n",
    "                else :\n",
    "                    Blocs[(j,b)].append(c)\n",
    "    Roulements[name]['Creneaux'] = Blocs\n",
    "    i += 1\n",
    "print(Roulements['roulement_reception']['Connaissance'])"
   ]
  },
  {
   "cell_type": "markdown",
   "metadata": {},
   "source": [
    "Tâches humaines"
   ]
  },
  {
   "cell_type": "code",
   "execution_count": 33,
   "metadata": {},
   "outputs": [
    {
     "name": "stdout",
     "output_type": "stream",
     "text": [
      "['appui voie + mise en place câle', 'attelage véhicules', 'dégarage / bouger de rame']\n"
     ]
    }
   ],
   "source": [
    "roulements_rec = [a for a in Roulements.keys() if 'WPY_REC' in Roulements[a]['Connaissance']]\n",
    "roulements_for = [a for a in Roulements.keys() if 'WPY_FOR' in Roulements[a]['Connaissance']]\n",
    "roulements_dep = [a for a in Roulements.keys() if 'WPY_DEP' in Roulements[a]['Connaissance']]\n",
    "taches_humaines={'WPY_REC': [],'WPY_FOR': [],'WPY_DEP': []}\n",
    "for index, row in INSTANCE[\"Taches humaines\"].iterrows():\n",
    "            taches_humaines[row['Chantier']].append(row['Type de tache humaine'])\n",
    "taches_rec=taches_humaines['WPY_REC']\n",
    "taches_for=taches_humaines['WPY_FOR']\n",
    "taches_dep=taches_humaines['WPY_DEP']\n",
    "print(taches_dep)"
   ]
  },
  {
   "cell_type": "markdown",
   "metadata": {},
   "source": [
    "## Modèle mathématique \n",
    "On a modélisé notre problème en partant du fait que les machines ne sont disponibles que pour un seul train et dans un seul créneau. \\\n",
    "De ce fait, on introduit les variables *binaires* suivantes : \\\n",
    "\\\n",
    "    - $(deb_{ic})$ : variable binaire indiquant si la machine de débranchement est utilisée \\\n",
    "    pour le sillion d'arrivée d'identifiant $i$ au créneau $c$ \\\n",
    "    - $(for_{ic})$ : variable binaire indiquant si la machine de formation est utilisée \\\n",
    "    pour le sillion du départ d'identifiant $i$ au créneau $c$ \\\n",
    "    - $(deg_{ic})$ : variable binaire indiquant si la machine de dégarage est utilisée \\\n",
    "    pour le sillion du départ d'identifiant $i$ au créneau $c$\n",
    "\n",
    "Les créneaux ont une durée de $15 min$ correspondant à la durée d'une tâche machine. Les valeurs possibles des créneaux dépendent de l'instance, \\\n",
    "soit alors $c \\in \\{1,2,..., c_{max}\\} $ où $c=1$ correspond au premier créneau du lundi de la première semaine du travail : $[0:00 , 0:15[$ et \\\n",
    "$c_{max}$ le dernier créneau du dernier jour du travail : $[23:45, 0:00[$.\n",
    "\n",
    "On note ainsi : \n",
    "$$A = \\{\\text{Les identifiants des trains d'arrivée}\\}$$\n",
    "$$D = \\{\\text{Les identifiants des trains du départ}\\}$$\n",
    "$$C= \\{1,2,..., c_{max}\\}$$"
   ]
  },
  {
   "cell_type": "code",
   "execution_count": null,
   "metadata": {},
   "outputs": [],
   "source": [
    "# IMPLEMNTATION DES VARIABLES \n",
    "# Implémentation Python\n",
    "m= Model('Modèle')\n",
    "deb = {(i, c) : m.addVar(vtype = GRB.BINARY, name=f'deb_{i}_{c}') for i in trains_arrivee for c in range(1,nombre_creneaux+1)}\n",
    "form = {(i, c) : m.addVar(vtype = GRB.BINARY, name=f'form_{i}_{c}') for i in trains_depart for c in range(1,nombre_creneaux+1)}\n",
    "deg = {(i, c) : m.addVar(vtype = GRB.BINARY, name=f'deg_{i}_{c}') for i in trains_depart for c in range(1,nombre_creneaux+1)}"
   ]
  },
  {
   "cell_type": "markdown",
   "metadata": {},
   "source": [
    "Pour inclure les informations sur les voies, nous avons défini les variables binaires suivantes:\\\n",
    "\\\n",
    "    - $orec_{ic}$ : variable binaire indiquant si le train d'arrivée $i \\in A$ occupe une voie dans le chantier de débranchement au créneau $c \\in C$.\\\n",
    "    - $ofor_{ic}$ : variable binaire indiquant si le train de départ $i \\in D$ occupe une voie dans le chantier de formation au créneau $c \\in C$.\\\n",
    "    - $odep_{ic}$ : variable binaire indiquant si le train de départ $i \\in D$ occupe une voie dans le chantier de départ au créneau $c \\in C$.\n",
    "Les créneaux de $C$, et les ensembles $A$ et $D$ sont définis comme dans le jalon précédent."
   ]
  },
  {
   "cell_type": "code",
   "execution_count": null,
   "metadata": {},
   "outputs": [],
   "source": [
    "orec = {(i, c) : m.addVar(vtype = GRB.BINARY, name=f'orec_{i}_{c}') for i in trains_arrivee for c in range(1,nombre_creneaux+1)}\n",
    "oform = {(i, c) : m.addVar(vtype = GRB.BINARY, name=f'oform_{i}_{c}') for i in trains_depart for c in range(1,nombre_creneaux+1)}\n",
    "odep = {(i, c) : m.addVar(vtype = GRB.BINARY, name=f'odep_{i}_{c}') for i in trains_depart for c in range(1,nombre_creneaux+1)}"
   ]
  },
  {
   "cell_type": "markdown",
   "metadata": {},
   "source": [
    "Pour les tâches humaines, on définit des variables binaires de type $ \\text{tache-humaine}_{t,r,i,c}$ où $t$ est un train de départ ou d'arrivée, $r$ est un roulement agent, $i$ est l'indice d'un agent dans ce roulement, et $c \\in C$. Où cette variable indique que pendant le créneau $c$, le $i^{ème}$ agent du roulement $r$ travaille sur le train $t$ sur la tâche humaine indiquée."
   ]
  },
  {
   "cell_type": "code",
   "execution_count": null,
   "metadata": {},
   "outputs": [],
   "source": [
    "#TACHES REC\n",
    "taches_hum_rec = {(tache,train,roulement,agent,c) : m.addVar(vtype = GRB.BINARY, name=f'{tache},{train},{roulement},{agent}_{c}') for tache in taches_rec for train in trains_arrivee for roulement in roulements_rec for agent in range(1,Roulements[roulement]['Nb agents']+1) for c in range(1,nombre_creneaux+1)}\n",
    "#TACHES FOR\n",
    "taches_hum_for = {(tache,train,roulement,agent,c) : m.addVar(vtype = GRB.BINARY, name=f'{tache}_{train},{roulement},{agent}_{c}') for tache in taches_for for train in trains_depart for roulement in roulements_for for agent in range(1,Roulements[roulement]['Nb agents']+1) for c in range(1,nombre_creneaux+1)}\n",
    "#TACHES DEP\n",
    "taches_hum_dep = {(tache,train,roulement,agent,c) : m.addVar(vtype = GRB.BINARY, name=f'{tache}_{train},{roulement},{agent}_{c}') for tache in taches_dep for train in trains_depart for roulement in roulements_dep for agent in range(1,Roulements[roulement]['Nb agents']+1) for c in range(1,nombre_creneaux+1)}"
   ]
  },
  {
   "cell_type": "markdown",
   "metadata": {},
   "source": [
    "## JALON 1"
   ]
  },
  {
   "cell_type": "markdown",
   "metadata": {},
   "source": [
    "### 1. Unique débranchement, formation et dégarage\n",
    "Chaque train d'arrivé subit un seul et unique débranchement, chaque train du départ subit un seul et unique débranchement et dégarage. \n",
    "$$ \\forall i \\in A \\quad \\sum_{c} deb_{i,c} = 1 $$\n",
    "$$ \\forall i \\in D \\quad \\sum_{c} for_{i,c} = 1 $$\n",
    "$$ \\forall i \\in D \\quad \\sum_{c} deg_{i,c} = 1 $$"
   ]
  },
  {
   "cell_type": "code",
   "execution_count": null,
   "metadata": {},
   "outputs": [],
   "source": [
    "uniqueDeb_train = {i : m.addConstr(quicksum([deb[(i, c)] for c in range(1, nombre_creneaux + 1)]) ==1, name = f'UniqueDeb_train{i}') for i in trains_arrivee}\n",
    "uniqueform_train = {i : m.addConstr(quicksum([form[(i, c)] for c in range(1, nombre_creneaux + 1)]) ==1, name = f'UniqueFor_train{i}') for i in trains_depart}\n",
    "uniqueDeg_train = {i : m.addConstr(quicksum([deg[(i, c)] for c in range(1, nombre_creneaux + 1)]) ==1, name = f'UniqueDeg_train{i}') for i in trains_depart}"
   ]
  },
  {
   "cell_type": "markdown",
   "metadata": {},
   "source": [
    "### 2. Une seule tâche machine par créneau  \n",
    "Chaque machine est exploitée par au plus un seul train sur chaque créneau.\n",
    "$$ \\forall c \\in C \\quad \\sum_{i \\in A} deb_{i,c} \\leq 1 $$\n",
    "$$ \\forall c \\in C \\quad \\sum_{i \\in D} for_{i,c} \\leq 1 $$\n",
    "$$ \\forall c \\in C \\quad \\sum_{i \\in D} deg_{i,c} \\leq 1 $$"
   ]
  },
  {
   "cell_type": "code",
   "execution_count": null,
   "metadata": {},
   "outputs": [],
   "source": [
    "uniqueDeb_creneau = {c : m.addConstr(quicksum([deb[(i, c)] for i in trains_arrivee]) <=1, name = f'UniqueDeb_creneau{c}') for c in range(1, nombre_creneaux + 1)}\n",
    "uniqueFor_creneau = {c : m.addConstr(quicksum([form[(i, c)] for i in trains_depart]) <=1, name = f'UniqueFor_creneau{c}') for c in range(1, nombre_creneaux + 1)}\n",
    "uniqueDeg_creneau = {c : m.addConstr(quicksum([deg[(i, c)] for i in trains_depart ]) <=1, name = f'UniqueDeg_creneau{c}') for c in range(1, nombre_creneaux + 1)}"
   ]
  },
  {
   "cell_type": "markdown",
   "metadata": {},
   "source": [
    "### 3. Débranchement se fait après l'arrivée du train\n",
    "Pour chaque train d'arrivée $i$, le débranchement ne peut pas avoir lieu dans les créneaux précedent celui d'arrivée $c^{a}_{i}$ après une heure de tâches humaines.\n",
    "$$ \\forall i \\in A \\quad \\sum_{c \\space \\leq \\space c^{a}_{i}+4} deb_{i,c} = 0$$ "
   ]
  },
  {
   "cell_type": "code",
   "execution_count": null,
   "metadata": {},
   "outputs": [],
   "source": [
    "deb_apres_arrivee = {i : m.addConstr(quicksum([deb[(i, c)] for c in range(1, creneau_arrivee[i] + 5)]) ==0, name = f'deb_apres_arrivee{i}') for i in trains_arrivee}"
   ]
  },
  {
   "cell_type": "markdown",
   "metadata": {},
   "source": [
    "### 4. Formation d'un train de départ \n",
    "Pour chaque train du départ $t$, la formation ne peut avoir lieu qu'après débranchement de tous les trains ayant les wagons qui le constituent. \\\n",
    "On note : $$ \\forall t \\in D \\quad A_t = \\{\\text{Les identifiants des trains d'arrivée ayant au moins un wagon du train t}\\}$$\n",
    "On peut exprimer la contrainte comme suit : \n",
    "$$ \\forall t \\in D, \\space\\forall c \\in C, \\space\\forall i \\in A_t \\quad for_{t,c} \\leq \\sum_{c' \\space \\lt \\space c} deb_{i,c'}$$ "
   ]
  },
  {
   "cell_type": "code",
   "execution_count": null,
   "metadata": {},
   "outputs": [],
   "source": [
    "for_apres_deb = {(t,c,i) : m.addConstr(form[(t,c)]<=quicksum([deb[(i, c_p)] for c_p in range(1, c)]), name = f'for_apres_deb{t}{c}{i}') for t in trains_depart for c in range(1,nombre_creneaux+1) for i in At[t]}"
   ]
  },
  {
   "cell_type": "markdown",
   "metadata": {},
   "source": [
    "### 5. Dégarage après formation\n",
    "Pour chaque train du départ, le dégarage ne peut avoir lieu qu'après la formation du train et $150$ minutes soit $10$ créneaux de tâches humaines.\n",
    "$$ \\forall t \\in D, \\space\\forall c \\in C \\quad deg_{t,c} \\leq \\sum_{c' \\space \\lt \\space c-10} for_{t,c'}$$ "
   ]
  },
  {
   "cell_type": "code",
   "execution_count": null,
   "metadata": {},
   "outputs": [],
   "source": [
    "deg_apres_for = {(t,c) : m.addConstr(deg[(t,c)]<=quicksum([form[(t, c_p)] for c_p in range(1, c-9)]), name = f'deg_apres_for{t},{c}') for t in trains_depart for c in range(1,nombre_creneaux+1)}"
   ]
  },
  {
   "cell_type": "markdown",
   "metadata": {},
   "source": [
    "### 6. Dégarage avant départ\n",
    "Pour chaque train du départ $t$, le dégarage ne peut pas avoir lieu dans les créneaux suivants \\\n",
    "celui de $20$ minutes (de tâches humaines) avant l'instant du départ qu'on note $h^{d}_{t}$.\\\n",
    "Puisque $20$ minutes n'est pas une durée divisible par $15$, on définit le créneau précis $cp^{d}_{t}$ comme suit:\n",
    "$$cp^{d}_{t} : \\text{\\space créneau de l'instant \\space} h^{d}_{t}-20\\space min$$\n",
    "$$ \\forall t \\in D \\quad \\sum_{ \\space c \\geq \\space cp^{d}_{t}} deg_{t,c} = 0$$ "
   ]
  },
  {
   "cell_type": "code",
   "execution_count": null,
   "metadata": {},
   "outputs": [],
   "source": [
    "creneau_precis={} # dict des paires (train: créneau précis)\n",
    "for index, row in INSTANCE[\"Sillons depart\"].iterrows():\n",
    "    string=row[\"JDEP\"]\n",
    "    if type(row[\"JDEP\"])==pd._libs.tslibs.timestamps.Timestamp:\n",
    "        string=convToStr(row[\"JDEP\"])\n",
    "    date=list(map(int,string.split(\"/\")))\n",
    "    hour=list(map(int,str(row[\"HDEP\"]).split(\":\")))\n",
    "    date_precis=datetime.datetime(year=date[2], month=date[1], day=date[0], hour=hour[0], minute=hour[1])-datetime.timedelta(minutes=20)\n",
    "    creneau_precis[row[\"n°TRAIN\"],convToStr(row[\"JDEP\"])]=int((date_precis-date0).total_seconds()/(60*15))+1\n",
    "\n",
    "deg_avant_depart = {t : m.addConstr(quicksum([deg[(t, c)] for c in range(creneau_depart[t]-2, nombre_creneaux+1)])==0, name = f'depart_apres_deg{t}') for t in trains_depart}"
   ]
  },
  {
   "cell_type": "markdown",
   "metadata": {},
   "source": [
    "### 7. Disponibilités des machines\n",
    "Il y a des créneaux où les machines sont indisponible, soient alors  $ \\space C_{deb}, C_{for}, C_{deg} \\space$  ces crénaux d'indisponibilités.\n",
    "$$ \\forall i \\in A \\quad \\sum_{c \\space \\in \\space C_{deb}} deb_{i,c} = 0 $$\n",
    "$$ \\forall i \\in D \\quad \\sum_{c \\space \\in \\space C_{for}} for_{i,c} = 0 $$\n",
    "$$ \\forall i \\in D \\quad \\sum_{c \\space \\in \\space C_{deg}} deg_{i,c} = 0 $$"
   ]
  },
  {
   "cell_type": "code",
   "execution_count": null,
   "metadata": {},
   "outputs": [],
   "source": [
    "indisponibilite_deb = {i : m.addConstr(quicksum([deb[(i, c)] for c in DEB_INDIS]) ==0, name = f'indisponibilité_deb{i}') for i in trains_arrivee }\n",
    "indisponibilite_for = {i : m.addConstr(quicksum([form[(i, c)] for c in FOR_INDIS]) ==0, name = f'indisponibilité_for{i}') for i in trains_depart}\n",
    "indisponibilite_deb = {i : m.addConstr(quicksum([deg[(i, c)] for c in DEG_INDIS]) ==0, name = f'indisponibilité_deg{i}') for i in trains_depart}"
   ]
  },
  {
   "cell_type": "markdown",
   "metadata": {},
   "source": [
    "## JALON 2"
   ]
  },
  {
   "cell_type": "markdown",
   "metadata": {},
   "source": [
    "### Contraintes Jalon 2"
   ]
  },
  {
   "cell_type": "markdown",
   "metadata": {},
   "source": [
    "#### 1- Nombre des voies disponibles\n",
    "Pour chaque créneau $c \\in C$, un chantier ne peut pas accueillir plus de trains que le nombre de voies disponibles: \n",
    "$$ \\forall c \\in C \\quad \\sum_{i \\in A} orec_{i,c} \\leq \\text{NVREC} $$\n",
    "$$ \\forall c \\in C \\quad \\sum_{i \\in D} ofor_{i,c} \\leq \\text{NVFOR} $$\n",
    "$$ \\forall c \\in C \\quad \\sum_{i \\in D} odep_{i,c} \\leq \\text{NVDEP} $$\n",
    "\n",
    "Où NVDEB, NVFOR, NVDEG correspondent aux nombres de voies disponibles pour chaque chantiers REC, FOR,\n",
    "DEP respectivement."
   ]
  },
  {
   "cell_type": "code",
   "execution_count": null,
   "metadata": {},
   "outputs": [],
   "source": [
    "Nb_voies_rec = {c : m.addConstr(quicksum([orec[(i, c)] for i in trains_arrivee]) <= NVREC, name = f'nb_voies_rec{c}') for c in range(1,nombre_creneaux+1) }\n",
    "Nb_voies_for = {c : m.addConstr(quicksum([oform[(i, c)] for i in trains_depart]) <= NVFOR, name = f'nb_voies_form{c}') for c in range(1,nombre_creneaux+1) }\n",
    "Nb_voies_dep = {c : m.addConstr(quicksum([odep[(i, c)] for i in trains_depart]) <= NVDEP, name = f'nb_voies_dep{c}') for c in range(1,nombre_creneaux+1) }"
   ]
  },
  {
   "cell_type": "markdown",
   "metadata": {},
   "source": [
    "#### 2- Indisponibilié des chantiers\n",
    "Il y a des créneaux dans lesquels les chantiers sont indisponibles qu'on note $C_{rec}, C_{for}, C_{dep}$. \n",
    "On interdit alors l'occupation lors de ces créneaux : \n",
    "\n",
    "$$ \\forall i \\in A \\quad \\sum_{c \\space \\in \\space C_{rec}} orec_{i,c} = 0 $$\n",
    "$$ \\forall i \\in D \\quad \\sum_{c \\space \\in \\space C_{for}} ofor_{i,c} = 0 $$\n",
    "$$ \\forall i \\in D \\quad \\sum_{c \\space \\in \\space C_{dep}} odep_{i,c} = 0 $$"
   ]
  },
  {
   "cell_type": "code",
   "execution_count": null,
   "metadata": {},
   "outputs": [],
   "source": [
    "indisponibilite_orec = {i : m.addConstr(quicksum([orec[(i, c)] for c in REC_INDIS]) ==0, name = f'indisponibilité_rec{i}') for i in trains_arrivee }\n",
    "indisponibilite_oform = {i : m.addConstr(quicksum([oform[(i, c)] for c in OFORM_INDIS]) ==0, name = f'indisponibilité_oform{i}') for i in trains_depart}\n",
    "indisponibilite_dep = {i : m.addConstr(quicksum([odep[(i, c)] for c in DEP_INDIS]) ==0, name = f'indisponibilité_dep{i}') for i in trains_depart}"
   ]
  },
  {
   "cell_type": "markdown",
   "metadata": {},
   "source": [
    "#### 3- Occupation du chantier de la réception pour un train d’arrivée\n",
    "Lors de l'arrivée d'un train $i \\in A$, il occupe le chantier de réception dans les créneaux entre celui d'arrivéee $c_a^{i}$ \n",
    "et celui de son débranchement $c_{deb}^{i} = \\sum_{c' \\in C}{c'\\times deb_{i,c'}}$. Mathématiquement : \n",
    "$$ \\forall c \\in C, \\forall i \\in A \\quad \\left(c \\ge c_a^{i}\\right) \\land \\left(c \\le c_{deb}^{i}\\right) \\Rightarrow orec_{i,c}=1$$\n",
    "$$ M \\times orec_{i,c} \\ge \\left(\\varepsilon+c-c_a^{i}\\right)\\left(c_{deb}^{i}-c+\\varepsilon \\right)$$\n",
    "Où $M$ est un majorant suffisament grand et $\\varepsilon$ un minorant assez petit."
   ]
  },
  {
   "cell_type": "code",
   "execution_count": null,
   "metadata": {},
   "outputs": [],
   "source": [
    "M=(nombre_creneaux)**2\n",
    "eps=0.1\n",
    "creneau_deb={i : quicksum([u*deb[(i,u)] for u in range(1,nombre_creneaux+1)]) for i in trains_arrivee}\n",
    "occupation_arrivee_deb={(i,c) : m.addConstr((eps+(c-creneau_arrivee[i]))*(creneau_deb[i]-c+eps)<=M*orec[(i,c)], name=f'occupation_arrivee_deg_{i,c}') for i in trains_arrivee for c in range(1,1+nombre_creneaux)}"
   ]
  },
  {
   "cell_type": "markdown",
   "metadata": {},
   "source": [
    "#### 4- Lien entre débranchement d’un train d’arrivée et occupation de voies dans le chantier de formation\n",
    "Pour un train d'arrivée $t \\in A$, la machine de débranchement le débranche et renvoie ses wagones vers le chantier de formation dans le même créneau. \n",
    "On définit pour un train d'arrivée $t \\in A$, l'ensemble $D_t$ des trains de départ associés aux wagons de $t$. \n",
    "$$ \\forall t \\in A \\quad D_t = \\{\\text{Les identifiants des trains du départ ayant au moins un wagon du train t}\\}$$\n",
    "Il faut alors garantir: \n",
    "$$\n",
    "    \\forall t \\in A, \\forall c \\in C \\quad deb_{t,c}=1 \\Rightarrow \\prod\\limits_{i \\in D_t} ofor_{i,c} =1\n",
    "$$\n",
    "qu'on linéarise comme suit:\n",
    "$$\n",
    "    \\forall t \\in A, \\forall i \\in D_t, \\forall c \\in C \\quad deb_{t,c} \\leq ofor_{i,c}\n",
    "$$"
   ]
  },
  {
   "cell_type": "code",
   "execution_count": null,
   "metadata": {},
   "outputs": [],
   "source": [
    "reserve_voies_for_au_deb = {(t,c,i) : m.addConstr(deb[(t,c)]<=oform[(i,c)], name = f'reserve_voies_for_au_deb{t}{c}{i}') for t in trains_arrivee for c in range(1,nombre_creneaux+1) for i in Dt[t]}"
   ]
  },
  {
   "cell_type": "markdown",
   "metadata": {},
   "source": [
    "#### Occupation du chantier de formation\n",
    "#### 5-Créneaux d’occupation \n",
    "Pour faire une relation de récurrence entre les créneaux d'occupation du chantier de formation pour un train de départ, on dit que si un train de départ occupe le chantier formation pendant un créneau $c$, et que pendant ce créneau $c$ le train ne se dégare pas, alors il reste dans le chantier formation. Mathématiquement , cela se traduit par:  \n",
    "$$\\forall t \\in D, \\forall c \\in C,  ofor_{t,c}=1 \\land deg_{t,c}=0 \\Rightarrow ofor_{t,c+1}=1$$\n",
    "Pour linériser cette contrainte, on introduit des variables binaires $z_{t,c}$ symbolisant la conjonction des deux propositions: \n",
    "$$z_{t,c} \\leq ofor_{t,c}$$\n",
    "$$z_{t,c} \\leq 1-deg_{t,c}$$\n",
    "$$ z_{t,c} \\geq ofor_{t,c}+1-deg_{t,c} -1$$\n",
    "$$z_{t,c} \\leq ofor_{t,c+1}$$"
   ]
  },
  {
   "cell_type": "code",
   "execution_count": null,
   "metadata": {},
   "outputs": [],
   "source": [
    "z = {(t, c) : m.addVar(vtype = GRB.BINARY, name=f'z_{t}_{c}') for t in trains_depart for c in range(1,nombre_creneaux)}\n",
    "duree_occupe_form1={(t,c): m.addConstr(z[(t,c)]<=oform[(t,c)], name = f'duree_occupe_form1{t,c}') for t in trains_depart for c in range(1,nombre_creneaux)}\n",
    "duree_occupe_form2={(t,c): m.addConstr(z[(t,c)]<=1-deg[(t,c)], name = f'duree_occupe_form2{t,c}') for t in trains_depart for c in range(1,nombre_creneaux)}\n",
    "duree_occupe_form3={(t,c): m.addConstr(z[(t,c)]>=oform[(t,c)]-deg[(t,c)], name = f'duree_occupe_form3{t,c}') for t in trains_depart for c in range(1,nombre_creneaux)}\n",
    "duree_occupe_form4={(t,c): m.addConstr(z[(t,c)]<=oform[(t,c+1)], name = f'duree_occupe_form4{t,c}') for t in trains_depart for c in range(1,nombre_creneaux)}"
   ]
  },
  {
   "cell_type": "markdown",
   "metadata": {},
   "source": [
    "#### 6- Occupation d'une voie dans le chantier formation lors du dégarage\n",
    "Il est également crucial de s'assurer qu'un train de départ occupe le chantier de formation lors de son opération de dégarage :\n",
    "\\begin{equation}\n",
    "\\forall t \\in D, \\forall c \\in C \\quad deg_{t,c} \\le ofor_{t,c}\n",
    "\\end{equation}"
   ]
  },
  {
   "cell_type": "code",
   "execution_count": null,
   "metadata": {},
   "outputs": [],
   "source": [
    "reserve_voie_for_au_deg = {(t,c) : m.addConstr(deg[(t,c)]<=oform[(t,c)], name = f'reserve_voie_for_au_deg{t}{c}') for t in trains_depart for c in range(1,nombre_creneaux+1)}"
   ]
  },
  {
   "cell_type": "markdown",
   "metadata": {},
   "source": [
    "#### 7- Créneaux où on libère les voies\n",
    "Après le dégarage, un train doit libérer le chantier de formation pour permettre la réorganisation des wagons pour d'autres trains. La libération des voies est modélisée par la contrainte suivante :\n",
    "$$ \\forall t \\in D, \\forall c \\in C, c \\geq c_{deg}^{t}+1 \\Rightarrow  ofor_{t,c}=0$$\n",
    "Où \n",
    "$$ c_{deg}^{t}= \\sum_{u}{u\\times deg_{t,u}} $$\n",
    "Linéarisée avec: \n",
    "$$(c-c_{deg}^{t}) \\leq M \\times (1- ofor_{t,c})$$"
   ]
  },
  {
   "cell_type": "code",
   "execution_count": null,
   "metadata": {},
   "outputs": [],
   "source": [
    "creneau_deg={i : quicksum([u*deg[(i,u)] for u in range(1,nombre_creneaux+1)]) for i in trains_depart}\n",
    "non_occupation_for_apres_deg={(t,c) : m.addConstr((c-creneau_deg[t])<=M*(1-oform[(t,c)]), name=f'occupation_for_qd_deg_{t,c}') for t in trains_depart for c in range(1,1+nombre_creneaux)}"
   ]
  },
  {
   "cell_type": "markdown",
   "metadata": {},
   "source": [
    "#### 8- Occupation du chantier de départ pour un train d'arrivée\n",
    "Pour chaque train de départ $t \\in D$, il occupe une voie dans le chantier de départ entre le moment de son dégarage ($\\sum_{c' \\in C}{c'\\times deg_{t,c'}}$) et son départ prévu ($c_d^{t}$). Mathématiquement, cela est représenté par :\n",
    "\n",
    "$$\\forall c \\in C, \\forall t \\in D \\quad \\left(c \\le c_d^{t}\\right) \\land \\left(c \\ge \\sum_{c' \\in C}{c'\\times deg_{t,c'}}\\right) \\Rightarrow odep_{t,c}=1$$\n",
    "On occupe une voie du départ après dégarage et avant le départ du train:\n",
    "$$ M \\times odep_{t,c} \\ge \\left(\\varepsilon+(c_d^{i}-c)\\right)\\left(c-\\sum_{u}{u\\times deg_{t,u}}+\\varepsilon \\right)$$"
   ]
  },
  {
   "cell_type": "code",
   "execution_count": null,
   "metadata": {},
   "outputs": [],
   "source": [
    "M=(nombre_creneaux)**2\n",
    "eps=0.1\n",
    "occupation_deg_depart={(i,c) : m.addConstr((eps+creneau_depart[i]-c)*(c-creneau_deg[i]+eps)<=M*odep[(i,c)], name=f'occupation_deg_depart_{i,c}') for i in trains_depart for c in range(1,1+nombre_creneaux)}\n"
   ]
  },
  {
   "cell_type": "markdown",
   "metadata": {},
   "source": [
    "## JALON 3"
   ]
  },
  {
   "cell_type": "markdown",
   "metadata": {},
   "source": [
    " ### Variables auxiliaires\n",
    " #### $\\text{Tache-humaine}_{t,c}$\n",
    " Pour raisonner comme pendant le jalon 1 sur chaque train $t$ et créneau $c$ pour savoir si la tâche humaine s'ffectue sur le train $t$ au créneau $c$, on peut retrouver ça avec: \n",
    " $$\\text{tâche-humaine}_{t,c} = \\sum_{\\text{agents} (r,i)} \\text{tâche-humaine}_{t,r,i,c}$$"
   ]
  },
  {
   "cell_type": "code",
   "execution_count": null,
   "metadata": {},
   "outputs": [],
   "source": [
    "taches_hum_arr_tc = {(tache,train,c) : quicksum([taches_hum_rec[(tache,train,roulement,i,c)] for roulement in roulements_rec for agent in range(1,Roulements[roulement]['Nb agents']+1)])   for train in trains_arrivee  for tache in taches_rec for c in range(1,nombre_creneaux+1)}\n",
    "taches_hum_for_tc = {(tache,train,c) : quicksum([taches_hum_for[(tache,train,roulement,i,c)] for roulement in roulements_for for agent in range(1,Roulements[roulement]['Nb agents']+1)])   for train in trains_depart  for tache in taches_for for c in range(1,nombre_creneaux+1)}\n",
    "taches_hum_dep_tc = {(tache,train,c) : quicksum([taches_hum_dep[(tache,train,roulement,i,c)] for roulement in roulements_dep for agent in range(1,Roulements[roulement]['Nb agents']+1)])   for train in trains_depart  for tache in taches_dep for c in range(1,nombre_creneaux+1)}"
   ]
  },
  {
   "cell_type": "markdown",
   "metadata": {},
   "source": [
    "#### Nombre de tâches effectuées par un agent\n",
    "De plus chaque agent i appartient à un roulement r, on définit donc l'ensemble qui associe à chaque couple (roulement,agent), les blocs où chaque agent pour travailler, par exemple pour un roulement r et un agent i, dans une journée $j$ où cet agent peut travailler, il peut travailler dans un des blocs:  $$bloc_{r,i,j} =  [(00:00-08:00),(8:00-12:00),\\cdots]$$\n",
    " \n",
    " Ainsi, dans un bloc de travail,  $  \\forall  bloc  \\in  bloc_{r,i,j},   $ le nombre des taches effectuées par l'agent (r,i) ($i^{ème}$ agent du roulement $r$) dans ce bloc est: \n",
    " $$\\forall \\text{jour}, \\forall \\text{bloc} \\in blocs_{r,i,jour}, \\quad \\text{nb-taches}_{(r,i),bloc,jour} = \\sum_{c \\in bloc} \\quad  \\sum_{\\text{taches faisables par (r,i)}} \\quad \\sum_{t \\in \\text{trains de la tache}} \\text{tâche-humaine}_{t,r,i,c} $$"
   ]
  },
  {
   "cell_type": "code",
   "execution_count": null,
   "metadata": {},
   "outputs": [],
   "source": [
    "nb_taches_rec={(r,i,b): quicksum([taches_hum_rec[(tache,t,r,i,c)] for tache in taches_rec for t in trains_arrivee for c in Roulements[r]['Creneaux'][b]])   for r in roulements_rec for i in range(1,Roulements[r]['Nb agents']+1) for b in Roulements[r]['Creneaux']}\n",
    "nb_taches_for={(r,i,b): quicksum([taches_hum_for[(tache,t,r,i,c)] for tache in taches_for for t in trains_depart for c in Roulements[r]['Creneaux'][b]])   for r in roulements_for for i in range(1,Roulements[r]['Nb agents']+1) for b in Roulements[r]['Creneaux']}\n",
    "nb_taches_dep={(r,i,b): quicksum([taches_hum_dep[(tache,t,r,i,c)] for tache in taches_dep for t in trains_depart for c in Roulements[r]['Creneaux'][b]])   for r in roulements_dep for i in range(1,Roulements[r]['Nb agents']+1) for b in Roulements[r]['Creneaux']}\n",
    "\n",
    "def fusion_dictionnaires(*dicts):\n",
    "    result = {}\n",
    "    for d in dicts:\n",
    "        for key, value in d.items():\n",
    "            result[key] = result.get(key, 0) + value\n",
    "    return result\n",
    "nb_taches=fusion_dictionnaires(nb_taches_rec,nb_taches_for,nb_taches_dep)\n",
    "#keys de nb_taches sont (roulement,agent,bloc) où bloc est de type (jour,bloc)"
   ]
  },
  {
   "cell_type": "markdown",
   "metadata": {},
   "source": [
    "### Contraintes"
   ]
  },
  {
   "cell_type": "markdown",
   "metadata": {},
   "source": [
    "#### Un agent travaille pendant un bloc au plus pendant une journée de service:\n",
    "Pour une journée de service, chaque agent (r,i) peut travailler dans un bloc horaire au plus, on impose donc la contrainte suivante, essayant de modéliser celà :\\\n",
    "Sur une journée de service, si le nombre de tâches effectuées par l'agent dans 1 de ses blocs possibles de travail est non nul, il faut que le nombre de tâches effectuées dans les autres blocs possibles soit nul. \n",
    "Donc, si par exemple , dans une journée de service , on a trois blocs de travail possibles pour l'agent (r,i), qui sont $J_1, J_2$ et $J_3$.On a:\n",
    "$$ \\text{nb-taches}_{(r,i),J1} \\neq 0 \\quad \\Rightarrow \\quad \\text{nb-taches}_{(r,i),J_2}=\\text{nb-taches}_{(r,i),J_3}=0$$\n",
    "Et de même par permutation des blocs. Il faut alors garantir, pour l'agent (r,i):\n",
    "$$ \\forall c \\in J_1: \\exists \\text{train} t, \\text{tâche}, \\quad \\text{t.q}  \\quad \\text{tâche}_{t,r,i,c}=1 \\Rightarrow \\quad \\text{nb-taches}_{(r,i),J2}+\\text{nb-taches}_{(r,i),J3}=0$$\n",
    "Qu'on linéarise par:\n",
    "$$\\forall \\text{agent} (r,i), \\forall \\text{tâche}, \\forall \\text{train},\\forall c \\in J_1: \\quad   \\text{nb-taches}_{(r,i),J2}+\\text{nb-taches}_{(r,i),J3} \\leq M \\times (1-\\text{tâche}_{t,r,i,c})$$"
   ]
  },
  {
   "cell_type": "code",
   "execution_count": null,
   "metadata": {},
   "outputs": [],
   "source": [
    "#Pour un agent (r,i), il faut extraire les blocs de chaque jour et puis faire les contraintes sur ces blocs:\n",
    "def extraire_meme_jour(dictionnaire):\n",
    "    \"\"\"\n",
    "    Cette fonction prend en entrée un dictionnaire dont les clés sont de la forme (roulement, agent, (jour, bloc horaire)).\n",
    "    Elle extrait les couples (jour, bloc horaire) qui correspondent au même jour pour chaque (roulement, agent).\n",
    "    La sortie est un dictionnaire où les clés sont les couples (roulement, agent) et les valeurs sont des dictionnaires\n",
    "    dont les clés sont les jours et les valeurs sont des tuples (jour, bloc horaire) associés à ces jours pour ce couple.\n",
    "    \"\"\"\n",
    "    result = {}\n",
    "    for cle, valeur in dictionnaire.items():\n",
    "        roulement, agent, (jour, bloc_horaire) = cle\n",
    "        cle_roulement_agent = (roulement, agent)\n",
    "        if cle_roulement_agent in result:\n",
    "            if jour in result[cle_roulement_agent]:\n",
    "                result[cle_roulement_agent][jour].append((jour,bloc_horaire))\n",
    "            else:\n",
    "                result[cle_roulement_agent][jour] = [(jour,bloc_horaire)]\n",
    "        else:\n",
    "            result[cle_roulement_agent] = {jour: [(jour,bloc_horaire)]}\n",
    "\n",
    "    return result\n",
    "agents_jours_blocs = extraire_meme_jour(nb_taches)"
   ]
  },
  {
   "cell_type": "code",
   "execution_count": null,
   "metadata": {},
   "outputs": [],
   "source": [
    "agent_rec_work_bloc={(agent,jour,tache,train,c,J1): m.addConstr(quicksum([nb_taches[(agent[0],agent[1],J)] for J in agents_jours_blocs[agent][jour] if J!=J1]) <=M*(1-taches_hum_rec[(tache,train,agent[0],agent[1],c)])) for agent in agents_jours_blocs if agent[0] in roulements_rec for jour in agents_jours_blocs[agent] for J1 in agents_jours_blocs[agent][jour] for c in Roulements[agent[0]]['Creneaux'][J1] for train in trains_arrivee for tache in taches_rec}\n",
    "agent_for_work_bloc={(agent,jour,tache,train,c,J1): m.addConstr(quicksum([nb_taches[(agent[0],agent[1],J)] for J in agents_jours_blocs[agent][jour] if J!=J1]) <=M*(1-taches_hum_for[(tache,train,agent[0],agent[1],c)])) for agent in agents_jours_blocs if agent[0] in roulements_for for jour in agents_jours_blocs[agent] for J1 in agents_jours_blocs[agent][jour] for c in Roulements[agent[0]]['Creneaux'][J1] for train in trains_depart for tache in taches_for}\n",
    "agent_dep_work_bloc={(agent,jour,tache,train,c,J1): m.addConstr(quicksum([nb_taches[(agent[0],agent[1],J)] for J in agents_jours_blocs[agent][jour] if J!=J1]) <=M*(1-taches_hum_dep[(tache,train,agent[0],agent[1],c)])) for agent in agents_jours_blocs if agent[0] in roulements_dep for jour in agents_jours_blocs[agent] for J1 in agents_jours_blocs[agent][jour] for c in Roulements[agent[0]]['Creneaux'][J1] for train in trains_depart for tache in taches_dep}"
   ]
  },
  {
   "cell_type": "markdown",
   "metadata": {},
   "source": [
    "#### Chaque tache humaine est réalisée par un seul agent et dans un seul créneau:\n",
    "\n",
    "Afin de réaliser une tache humaine, un agent disponible est suffisant, et pour un train $t$, la tâche doit être réalisée par un agent et dans un créneau, on traduit cette contrainte pour chaque train t :\n",
    "$$\\forall \\text{train} \\, t, \\forall \\, \\text{tache-humaine}, \\sum_{c \\in C} \\sum_{agents (r,i)} \\text{tache-humaine}_{t,r,i,c} = 1$$"
   ]
  },
  {
   "cell_type": "code",
   "execution_count": null,
   "metadata": {},
   "outputs": [],
   "source": [
    "tache_realisee_1_agent_rec={(train,tache): m.addConstr(quicksum([taches_hum_rec[(tache,train,agent[0],agent[1],c)] for agent in agents_jours_blocs if agent[0] in roulements_rec for c in range(1,nombre_creneaux+1)])==1) for train in trains_arrivee for tache in taches_rec}\n",
    "tache_realisee_1_agent_for={(train,tache): m.addConstr(quicksum([taches_hum_for[(tache,train,agent[0],agent[1],c)] for agent in agents_jours_blocs if agent[0] in roulements_for for c in range(1,nombre_creneaux+1)])==1) for train in trains_depart for tache in taches_for}\n",
    "tache_realisee_1_agent_dep={(train,tache): m.addConstr(quicksum([taches_hum_dep[(tache,train,agent[0],agent[1],c)] for agent in agents_jours_blocs if agent[0] in roulements_dep for c in range(1,nombre_creneaux+1)])==1) for train in trains_depart for tache in taches_dep}"
   ]
  },
  {
   "cell_type": "markdown",
   "metadata": {},
   "source": [
    "#### Un agent effectue une tâche humaine au plus par créneau:\n",
    "$$\\forall \\text{agent} (r,i), \\forall c \\in C,  \\sum_{\\text{taches faisables par l'agent}} \\quad \\sum_{\\text{trains t}} \\quad  \\text{tache}_{t,r,i,c} \\leq 1$$"
   ]
  },
  {
   "cell_type": "code",
   "execution_count": null,
   "metadata": {},
   "outputs": [],
   "source": [
    "#On definit comme auparavant le nombre de taches effectués par un agent mais cette fois pendant un seul créneau\n",
    "nb_taches_rec_c={(r,i,c): quicksum([taches_hum_rec[(tache,t,r,i,c)] for tache in taches_rec for t in trains_arrivee])   for r in roulements_rec for i in range(1,Roulements[r]['Nb agents']+1)}\n",
    "nb_taches_for_c={(r,i,c): quicksum([taches_hum_for[(tache,t,r,i,c)] for tache in taches_for for t in trains_depart])   for r in roulements_for for i in range(1,Roulements[r]['Nb agents']+1)}\n",
    "nb_taches_dep_c={(r,i,c): quicksum([taches_hum_dep[(tache,t,r,i,c)] for tache in taches_dep for t in trains_depart])   for r in roulements_dep for i in range(1,Roulements[r]['Nb agents']+1)}\n",
    "\n",
    "nb_taches_c=fusion_dictionnaires(nb_taches_rec_c,nb_taches_for_c,nb_taches_dep_c)\n",
    "\n",
    "une_tache_au_plus_par_c={(r,i,c): m.addConstr(nb_taches_c[(r,i,c)]<=1) for (r,i,c) in nb_taches_c.keys()}"
   ]
  },
  {
   "cell_type": "markdown",
   "metadata": {},
   "source": [
    "#### Respect de l'ordre des taches humaines\n",
    "On définit des contraintes sur l'ordre d'exécution des taches humaines et on assure que certaines taches humaines se font en parallèle aux taches machines. \\\n",
    "$\\textbf{Ordre séquentiel entre les tâches:}$\\\n",
    "Un exemple d'ordre séquentiel d'excution des tâches humaines est la contrainte que la tâche $\\text{arrivee-reception}$ vient avant $\\text{preparation-tri}$, pour les trains d'arrivée. $t \\in A$, on écrit cette contrainte comme suit :\n",
    "$$\\forall t \\in A : \\sum_{c \\in C} c \\times \\text{arrivee-reception}_{t,c} < \\sum_{c \\in C} c \\times \\text{preparation-tri}_{t,c} $$\n",
    "Cela est fait pour toutes les tâches ordonnées séquentiellement décrites dans la feuille des tâches humaines.\n",
    "Il faut aussi garantir que la tâche humaine de réception se fait après l'arrivée d'un train d'arrivée et que son essai de frein départ a lieu avant son départ."
   ]
  },
  {
   "cell_type": "code",
   "execution_count": null,
   "metadata": {},
   "outputs": [],
   "source": [
    "print(taches_hum_rec)"
   ]
  },
  {
   "cell_type": "code",
   "execution_count": null,
   "metadata": {},
   "outputs": [],
   "source": [
    "#REC\n",
    "arrivee_avant_rec={t: m.addConstr(quicksum(c*taches_hum_arr_tc[('arrivée Reception',t,c)] for c in range(1,nombre_creneaux+1))>=creneau_arrivee[t]) for t in trains_arrivee}\n",
    "rec_avant_tri={t: m.addConstr(quicksum(c*taches_hum_arr_tc[('arrivée Reception',t,c)] for c in range(1,nombre_creneaux+1))<=quicksum(c*taches_hum_arr_tc[('préparation tri',t,c)] for c in range(1,nombre_creneaux+1))) for t in trains_arrivee}\n",
    "tri_avant_deb={t: m.addConstr(quicksum(c*taches_hum_arr_tc[('préparation tri',t,c)] for c in range(1,nombre_creneaux+1))<=quicksum(c*taches_hum_arr_tc[('débranchement',t,c)] for c in range(1,nombre_creneaux+1))) for t in trains_arrivee}\n",
    "\n",
    "#FOR\n",
    "appui_avant_attelage={t: m.addConstr(quicksum(c*taches_hum_for_tc[('appui voie + mise en place câle',t,c)] for c in range(1,nombre_creneaux+1))<=quicksum(c*taches_hum_for_tc[('attelage véhicules',t,c)] for c in range(1,nombre_creneaux+1))) for t in trains_depart}\n",
    "attelage_avant_deg={t: m.addConstr(quicksum(c*taches_hum_for_tc[('attelage véhicules',t,c)] for c in range(1,nombre_creneaux+1))<=quicksum(c*taches_hum_for_tc[('dégarage / bouger de rame',t,c)] for c in range(1,nombre_creneaux+1))) for t in trains_depart}\n",
    "#DEP\n",
    "deg_avant_essai_frein={t: m.addConstr(quicksum(c*taches_hum_for_tc[('dégarage / bouger de rame',t,c)] for c in range(1,nombre_creneaux+1))<=quicksum(c*taches_hum_dep_tc[('essai de frein départ',t,c)] for c in range(1,nombre_creneaux+1))) for t in trains_depart}\n",
    "\n"
   ]
  },
  {
   "cell_type": "markdown",
   "metadata": {},
   "source": [
    "$\\textbf{Parallélisation de tâches/ Couplage tâches humaines et tâches machines }$\\\n",
    "On couple les variables des tâches machines définies au jalon 1 avec les variables des tâches humaines qui vont parallèlement avec ces tâches machines:\n",
    "$$\\forall t \\in A, \\forall c \\in C , \\text{debranchement}_{t,c} = deb_{t,c}$$\n",
    "$$\\forall t \\in D, \\forall c \\in C , \\text{appui voie + mise en place câle}_{t,c} = for_{t,c}$$\n",
    "$$\\forall t \\in D, \\forall c \\in C , \\text{dégarage / bouger de rame}_{t,c} = deg_{t,c}$$"
   ]
  },
  {
   "cell_type": "code",
   "execution_count": null,
   "metadata": {},
   "outputs": [],
   "source": [
    "debranchement_deb={(t,c): m.addConstr(taches_hum_arr_tc[('débranchement',t,c)]==deb[(t,c)]) for t in trains_arrivee for c in range(1,nombre_creneaux+1)}\n",
    "appui_for={(t,c): m.addConstr(taches_hum_for_tc[('appui voie + mise en place câle',t,c)]==form[(t,c)]) for t in trains_depart for c in range(1,nombre_creneaux+1)}\n",
    "bouger_deg={(t,c): m.addConstr(taches_hum_for_tc[('appui voie + mise en place câle',t,c)]==deg[(t,c)]) for t in trains_depart for c in range(1,nombre_creneaux+1)}"
   ]
  },
  {
   "cell_type": "markdown",
   "metadata": {},
   "source": [
    "#### Indisponibilités des chantiers\n",
    "Dans chaque créneau d'indisponibilité du chantier de réception, le nombre de tâches dans ce chantier effectuées par chaque agent est nul:\n",
    "$$\\forall \\text{agent} (r,i), \\sum_{c \\in C_rec} \\text{nb-taches-rec}_{r,i,c}=0 $$\n",
    "$$\\forall \\text{agent} (r,i), \\sum_{c \\in C_formation} \\text{nb-taches-for}_{r,i,c}=0 $$\n",
    "$$\\forall \\text{agent} (r,i), \\sum_{c \\in C_dep} \\text{nb-taches-dep}_{r,i,c}=0 $$"
   ]
  },
  {
   "cell_type": "code",
   "execution_count": null,
   "metadata": {},
   "outputs": [],
   "source": [
    "indispo_rec_hum={(r,i): m.addConstr(quicksum([nb_taches_rec_c[(r,i,c)] for c in REC_INDIS])==0) for r in roulements_rec for i in range(1,Roulements[r]['Nb agents']+1)}\n",
    "indispo_for_hum={(r,i): m.addConstr(quicksum([nb_taches_for_c[(r,i,c)] for c in OFORM_INDIS])==0) for r in roulements_for for i in range(1,Roulements[r]['Nb agents']+1)}\n",
    "indispo_dep_hum={(r,i): m.addConstr(quicksum([nb_taches_dep_c[(r,i,c)] for c in DEP_INDIS])==0) for r in roulements_dep for i in range(1,Roulements[r]['Nb agents']+1)}"
   ]
  },
  {
   "cell_type": "markdown",
   "metadata": {},
   "source": [
    "#### Indisponibilités des agents dans les blocs où il ne peuvent pas travailler\n",
    "Chaque agent $(r,i)$ ne peut pas travailler pendant les créneaux qui ne sont pas dans ses blocs de travail.\n"
   ]
  },
  {
   "cell_type": "markdown",
   "metadata": {},
   "source": [
    "## Résolution"
   ]
  },
  {
   "cell_type": "code",
   "execution_count": null,
   "metadata": {},
   "outputs": [],
   "source": [
    "objfunction_for = quicksum([oform[(t,c)] for t in trains_depart for c in range(1,nombre_creneaux+1)])\n",
    "objfunction_dep = quicksum([odep[(t,c)] for t in trains_depart for c in range(1,nombre_creneaux+1)])\n",
    "objfunction_rec = quicksum([orec[(t,c)] for t in trains_arrivee for c in range(1,nombre_creneaux+1)])\n",
    "m.setObjective(objfunction_for+objfunction_dep+objfunction_rec , GRB.MINIMIZE)\n",
    "m.params.outputflag = 0\n",
    "m.update()"
   ]
  },
  {
   "cell_type": "code",
   "execution_count": null,
   "metadata": {},
   "outputs": [],
   "source": [
    "m.optimize()\n",
    "if m.status == GRB.INF_OR_UNBD:\n",
    "    m.setParam(GRB.Param.Presolve, 0)\n",
    "    m.optimize()\n",
    "\n",
    "if m.status == GRB.INFEASIBLE:\n",
    "    print(\"\\n\\tN'A PAS DE SOLUTION!!!\")\n",
    "    m.computeIIS()\n",
    "    for c in m.getConstrs():\n",
    "        if c.IISConstr:\n",
    "            print(c.ConstrName)\n",
    "elif m.status == GRB.UNBOUNDED:\n",
    "    print(\"\\n\\tEST NON BORNÉ!!!\")"
   ]
  },
  {
   "cell_type": "code",
   "execution_count": null,
   "metadata": {},
   "outputs": [],
   "source": [
    "try:\n",
    "    m.optimize()\n",
    "except GRB.GurobiError as e:\n",
    "    if e.errno == 10009:  # Gurobi out of memory error\n",
    "        print(\"Out of memory error occurred. Retrieving the last solution found.\")\n",
    "    else:\n",
    "        raise e\n",
    "\n",
    "# Accéder à la dernière solution trouvée\n",
    "if m.Status == GRB.Status.OPTIMAL or m.Status == GRB.Status.SUBOPTIMAL:\n",
    "    for v in m.getVars():\n",
    "        print('%s %g' % (v.VarName, v.X))\n",
    "    print('Objective: %g' % m.ObjVal)\n",
    "else:\n",
    "    print('Aucune solution optimale trouvée')\n"
   ]
  },
  {
   "cell_type": "code",
   "execution_count": null,
   "metadata": {},
   "outputs": [],
   "source": [
    "outputxlsx = \"output.xlsx\"\n",
    "output = {'Id tâche': [], 'Type de tâche' : [], 'Jour' : [], 'Arr/Dep' : [],'Heure début' : [], 'Durée' : [], 'Sillon' : [],\n",
    "          'Occupation des voies par chantier (optim)': [], 'WPY_REC' : [], 'WPY_FOR' : [], 'WPY_DEP' : []}\n",
    "nb_voie_occ={\"WPY_REC\": [],\n",
    "             \"WPY_FOR\": [],\n",
    "             \"WPY_DEP\": []}\n",
    "for c in range(1,1+nombre_creneaux):\n",
    "    # Occupation des voies\n",
    "    nb_voie_occ[\"WPY_REC\"].append(sum([orec[(t,c)].x for t in trains_arrivee]))\n",
    "    nb_voie_occ[\"WPY_FOR\"].append(sum([oform[(t,c)].x for t in trains_depart]))\n",
    "    nb_voie_occ[\"WPY_DEP\"].append(sum([odep[(t,c)].x for t in trains_depart]))\n",
    "    \n",
    "    # Tâches machines sur les trains d'arrivee \n",
    "    for train in trains_arrivee:\n",
    "        if deb[(train,c)].x==1:\n",
    "            output['Id tâche'].append(f'DEB_{train[0]}_'+ creneau_to_date(date0, c).strftime('%d/%m/%Y'))\n",
    "            output['Type de tâche'].append('DEB')\n",
    "            output['Jour'].append(creneau_to_date(date0, c).strftime('%d/%m/%Y'))\n",
    "            output['Arr/Dep'].append(creneau_to_date(date0, creneau_arrivee[train]))\n",
    "            output['Heure début'].append(creneau_to_date(date0, c).strftime('%H:%M'))\n",
    "            output['Durée'].append(15)\n",
    "            output['Sillon'].append(train[0])\n",
    "    \n",
    "    # Tâches machines ur les trains du départ\n",
    "    for train in trains_depart:\n",
    "        if form[(train,c)].x==1:\n",
    "            output['Id tâche'].append(f'FOR_{train[0]}_'+ creneau_to_date(date0, c).strftime('%d/%m/%Y'))\n",
    "            output['Type de tâche'].append('FOR')\n",
    "            output['Jour'].append(creneau_to_date(date0, c).strftime('%d/%m/%Y'))\n",
    "            output['Arr/Dep'].append(creneau_to_date(date0, creneau_depart[train]))\n",
    "            output['Heure début'].append(creneau_to_date(date0, c).strftime('%H:%M'))\n",
    "            output['Durée'].append(15)\n",
    "            output['Sillon'].append(train[0])\n",
    "        if deg[(train,c)].x==1:\n",
    "            output['Id tâche'].append(f'DEG_{train[0]}_' + creneau_to_date(date0, c).strftime('%d/%m/%Y'))\n",
    "            output['Type de tâche'].append('DEG')\n",
    "            output['Jour'].append(creneau_to_date(date0, c).strftime('%d/%m/%Y'))\n",
    "            output['Arr/Dep'].append(creneau_to_date(date0, creneau_depart[train]))\n",
    "            output['Heure début'].append(creneau_to_date(date0, c).strftime('%H:%M'))\n",
    "            output['Durée'].append(15)\n",
    "            output['Sillon'].append(train[0])\n",
    "\n",
    "output[\"Occupation des voies par chantier (optim)\"].append(\"Taux max d'occupation des voies (en %)\")\n",
    "output[\"Occupation des voies par chantier (optim)\"].append(\"Nombre max de voies occupées\")\n",
    "output[\"Occupation des voies par chantier (optim)\"].append(\"Nombre total de voies à disposition\")\n",
    "while len(output[\"Occupation des voies par chantier (optim)\"])!=len(output[\"Id tâche\"]):\n",
    "    output[\"Occupation des voies par chantier (optim)\"].append(None)\n",
    "\n",
    "nb_voies={\"WPY_REC\": NVREC,\n",
    "             \"WPY_FOR\": NVFOR,\n",
    "             \"WPY_DEP\": NVDEP}\n",
    "for key in nb_voies:    \n",
    "    output[key].append(100*max(nb_voie_occ[key])/nb_voies[key])\n",
    "    output[key].append(max(nb_voie_occ[key]))\n",
    "    output[key].append(nb_voies[key])\n",
    "    while len(output[key])!=len(output[\"Id tâche\"]):\n",
    "        output[key].append(None)\n",
    "\n",
    "# Piping output into an excel sheet\n",
    "outputdf=pd.DataFrame(output)\n",
    "outputdf.to_excel(outputxlsx, index=False)"
   ]
  },
  {
   "cell_type": "code",
   "execution_count": null,
   "metadata": {},
   "outputs": [],
   "source": [
    "for train in trains_arrivee:\n",
    "    print('-----------------------------------------------------------------')\n",
    "    print('Pour le train d arrivee: ',train)\n",
    "    print('Arrivee a ', creneau_arrivee[train])\n",
    "    creneaux_occup_rec=[]\n",
    "    for c in range(1,nombre_creneaux+1):\n",
    "        if deb[(train,c)].x==1:\n",
    "            print('deb de {} se fait au créneau {}:'.format(train,c))\n",
    "        if orec[(train,c)].x==1:\n",
    "            creneaux_occup_rec.append(c)\n",
    "    print('Il occupe le chantier reception dans les horaires: ',creneaux_occup_rec)\n",
    "    print('Ce train est lié aux trains de départ: ', Dt[train])\n",
    "    print('-------------------------------------------------------')\n",
    "\n",
    "\n",
    "for train in trains_depart:\n",
    "    creneaux_occup_for=[]\n",
    "    creneaux_occup_dep=[]\n",
    "    print('--------------------------------------------')\n",
    "    print('Pour le train de depart : ',train)\n",
    "    for c in range(1,nombre_creneaux+1):\n",
    "        if form[(train,c)].x==1:\n",
    "            print('For de {} se fait au créneau {} :'.format(train,c))\n",
    "        if deg[(train,c)].x==1:\n",
    "            print('deg de {} se fait au créneau {} :'.format(train,c))\n",
    "        if oform[(train,c)].x==1:\n",
    "            creneaux_occup_for.append(c)\n",
    "        if odep[(train,c)].x==1:\n",
    "            creneaux_occup_dep.append(c)\n",
    "    print('Il occupe le chantier formation dans les horaires: ',creneaux_occup_for)\n",
    "    print('Il occupe le chantier dep dans les horaires: ',creneaux_occup_dep)\n",
    "    print('Ce train est lié aux trains d arrivee: ', At[train])\n",
    "\n",
    "    print('Depart a ',creneau_depart[train])\n",
    "    print('-------------------------------------------------------')"
   ]
  }
 ],
 "metadata": {
  "kernelspec": {
   "display_name": "base",
   "language": "python",
   "name": "python3"
  },
  "language_info": {
   "codemirror_mode": {
    "name": "ipython",
    "version": 3
   },
   "file_extension": ".py",
   "mimetype": "text/x-python",
   "name": "python",
   "nbconvert_exporter": "python",
   "pygments_lexer": "ipython3",
   "version": "3.11.7"
  }
 },
 "nbformat": 4,
 "nbformat_minor": 2
}
>>>>>>> 21798e19be09917f4d97db0363c16b62e87d47a4
