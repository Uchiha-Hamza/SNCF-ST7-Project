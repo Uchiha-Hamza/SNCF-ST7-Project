{
 "cells": [
  {
   "cell_type": "markdown",
   "metadata": {},
   "source": [
    "\n",
    "# <font color=blue><div align=\"center\">ST7 SNCF : Jalon 1</div></font>\n",
    "\n",
    "## <font color=blue><div align=\"center\">\"<em>Indian Railways</em>\"</div></font>"
   ]
  },
  {
   "cell_type": "markdown",
   "metadata": {},
   "source": [
    "## Modules"
   ]
  },
  {
   "cell_type": "code",
   "execution_count": 432,
   "metadata": {},
   "outputs": [],
   "source": [
    "# Modules de base\n",
    "import numpy as np\n",
    "import matplotlib.pyplot as plt\n",
    "import pandas as pd\n",
    "import datetime\n",
    "%matplotlib inline\n",
    "\n",
    "# Module relatif à Gurobi\n",
    "from gurobipy import *\n",
    "\n",
    "# Module csv\n",
    "import csv"
   ]
  },
  {
   "cell_type": "markdown",
   "metadata": {},
   "source": [
    "La modélisation mathématique est plus explicitée en détail dans le rapport"
   ]
  },
  {
   "cell_type": "code",
   "execution_count": 433,
   "metadata": {},
   "outputs": [],
   "source": [
    "mini_instance=\"mini_instance.xlsx\"\n",
    "instance_simple=\"instance_WPY_simple.xlsx\"\n",
    "instance_realiste=\"instance_WPY_realiste_jalon2.xlsx\"\n",
    "\n",
    "# CHOIX DE L'INTSANCE \n",
    "instance=mini_instance"
   ]
  },
  {
   "cell_type": "markdown",
   "metadata": {},
   "source": [
    "## Traitement de données"
   ]
  },
  {
   "cell_type": "code",
   "execution_count": 434,
   "metadata": {},
   "outputs": [],
   "source": [
    "def excel_to_dict(file: str) -> dict:\n",
    "    '''\n",
    "    Takes excel file name in the repo\n",
    "    and returns a dictionary[sheet_name]=Dataframe\n",
    "    '''\n",
    "    data_dict=pd.read_excel(file, sheet_name=None)\n",
    "    return data_dict\n",
    "\n",
    "\n",
    "def date_to_creneau(date0: datetime.datetime, hour: pd.DataFrame, date: pd.DataFrame):\n",
    "    '''\n",
    "    Takes hour and date's 1-column dataframes\n",
    "    and returns a dataframe of 1-column of 'créneaux'\n",
    "    starting from date0\n",
    "    '''\n",
    "    # Excel is sometimes stoopid and has inconsistent types\n",
    "    if type(date[0])==str:\n",
    "        datetime_df=pd.to_datetime(date.apply(lambda x: str(x)+' ')+hour.apply(lambda x:str(x)), dayfirst=True)\n",
    "    if type(date[0])==pd._libs.tslibs.timestamps.Timestamp:\n",
    "        datetime_df=pd.to_datetime(date.apply(lambda x: str(x)+' ')+hour.apply(lambda x:str(x)))\n",
    "    return (datetime_df-date0).dt.total_seconds().div(60*15).astype(int)+1\n",
    "\n",
    "def creneau_to_date(date0: datetime.datetime, creneau : int):\n",
    "    return date0+ datetime.timedelta(minutes=(creneau-1)*15)\n",
    "\n",
    "def convToStr(date)-> str:\n",
    "    '''\n",
    "    Takes a date in any form in the instance\n",
    "    and returns a string dd/mm/yyyy\n",
    "    '''\n",
    "    if type(date)==str:\n",
    "        return date\n",
    "    else:\n",
    "        return \"/\".join(str(date.date()).split(\"-\")[::-1])\n",
    "    \n",
    "\n",
    "INSTANCE= excel_to_dict(instance)"
   ]
  },
  {
   "cell_type": "markdown",
   "metadata": {},
   "source": [
    "### Dictionnaires utiles "
   ]
  },
  {
   "cell_type": "markdown",
   "metadata": {},
   "source": [
    "Trains de l'arrivée et trains du départ"
   ]
  },
  {
   "cell_type": "code",
   "execution_count": 435,
   "metadata": {},
   "outputs": [],
   "source": [
    "trains_arrivee=[]\n",
    "for index, row in INSTANCE[\"Sillons arrivee\"].iterrows():\n",
    "    id_train = row['n°TRAIN'], convToStr(row[\"JARR\"])\n",
    "    trains_arrivee.append(id_train)\n",
    "\n",
    "trains_depart=[]\n",
    "for index, row in INSTANCE[\"Sillons depart\"].iterrows():\n",
    "    id_train = row['n°TRAIN'], convToStr(row[\"JDEP\"])\n",
    "    trains_depart.append(id_train)"
   ]
  },
  {
   "cell_type": "markdown",
   "metadata": {},
   "source": [
    "Créneaux de l'arrivée et du départ"
   ]
  },
  {
   "cell_type": "code",
   "execution_count": 436,
   "metadata": {},
   "outputs": [
    {
     "name": "stderr",
     "output_type": "stream",
     "text": [
      "C:\\Users\\htmou\\AppData\\Local\\Temp\\ipykernel_23072\\1452588239.py:20: UserWarning: Could not infer format, so each element will be parsed individually, falling back to `dateutil`. To ensure parsing is consistent and as-expected, please specify a format.\n",
      "  datetime_df=pd.to_datetime(date.apply(lambda x: str(x)+' ')+hour.apply(lambda x:str(x)))\n"
     ]
    }
   ],
   "source": [
    "# Date de référence est celle du lundi de la première semaine\n",
    "# Ce choix rend facile la traduction des indisponibilités de type (weekday,hh:mm)\n",
    "date0=str(INSTANCE[\"Sillons arrivee\"][\"JARR\"][0])+' 00:00:00'\n",
    "date0=pd.to_datetime(date0, dayfirst=True)\n",
    "date0=date0-datetime.timedelta(days=float(date0.dayofweek))\n",
    "datef=pd.to_datetime(INSTANCE[\"Sillons depart\"][\"JDEP\"].iloc[-1], dayfirst=True)+datetime.timedelta(hours=24)\n",
    "nombre_creneaux=int((datef-date0).total_seconds()/(60*15))\n",
    "\n",
    "# Créneaux du départ et de l'arrivée\n",
    "INSTANCE[\"Sillons arrivee\"][\"creneau\"]=date_to_creneau(date0, INSTANCE[\"Sillons arrivee\"][\"HARR\"], INSTANCE[\"Sillons arrivee\"][\"JARR\"])\n",
    "INSTANCE[\"Sillons depart\"][\"creneau\"]=date_to_creneau(date0, INSTANCE[\"Sillons depart\"][\"HDEP\"], INSTANCE[\"Sillons depart\"][\"JDEP\"])\n",
    "\n",
    "# Dictionnaires des créneaux \n",
    "# { (n°train, jour) : créneau }\n",
    "creneau_arrivee={} \n",
    "for index, row in INSTANCE[\"Sillons arrivee\"].iterrows():\n",
    "    creneau_arrivee[row[\"n°TRAIN\"],convToStr(row[\"JARR\"])]=row[\"creneau\"]\n",
    "\n",
    "creneau_depart={}\n",
    "for index, row in INSTANCE[\"Sillons depart\"].iterrows():\n",
    "    creneau_depart[row[\"n°TRAIN\"],convToStr(row[\"JDEP\"])]=row[\"creneau\"]"
   ]
  },
  {
   "cell_type": "markdown",
   "metadata": {},
   "source": [
    "Correspondances"
   ]
  },
  {
   "cell_type": "code",
   "execution_count": 437,
   "metadata": {},
   "outputs": [],
   "source": [
    "def correspondances():\n",
    "    '''\n",
    "    Construit un dictionnaire global\n",
    "    associant chaque train du départ à un set \n",
    "    des trains d'arrivée qui le constituent\n",
    "    et à un train d'arrivée un set de trains \n",
    "    de départs qui lui y sont liés\n",
    "    '''\n",
    "    At={}\n",
    "    Dt={}\n",
    "    for train in trains_depart:\n",
    "        At[train]=set()\n",
    "    for train in trains_arrivee:\n",
    "         Dt[train]=set()\n",
    "    for index, row in INSTANCE[\"Correspondances\"].iterrows():\n",
    "            At[(row[\"n°Train depart\"], convToStr(row[\"Jour depart\"]))].add((row['n°Train arrivee'],convToStr(row['Jour arrivee'])))\n",
    "            Dt[(row[\"n°Train arrivee\"], convToStr(row[\"Jour arrivee\"]))].add((row['n°Train depart'],convToStr(row['Jour depart'])))\n",
    "            \n",
    "    return At,Dt\n",
    "\n",
    "At=correspondances()[0]\n",
    "Dt=correspondances()[1]\n"
   ]
  },
  {
   "cell_type": "markdown",
   "metadata": {},
   "source": [
    "Indisponibilité des machines et des chantiers"
   ]
  },
  {
   "cell_type": "code",
   "execution_count": 438,
   "metadata": {},
   "outputs": [],
   "source": [
    "def creneaux_de_periode(indispo_str : str)-> list[int]: \n",
    "    plage_jours=nombre_creneaux//96\n",
    "    creneaux = []\n",
    "    if indispo_str!='0':\n",
    "        periodes = indispo_str.split(';')\n",
    "        for periode in periodes:\n",
    "            jour, plage_horaire = periode.strip('()').split(',')\n",
    "            jour = int(jour)\n",
    "            jours=[jour+7*k for k in range(0,plage_jours//7+1)]\n",
    "            plage_horaire = plage_horaire.strip('()').split('-')\n",
    "            heure_debut, minute_debut = map(int, plage_horaire[0].split(':'))\n",
    "            creneau_debut=minute_debut//15+1\n",
    "            heure_fin, minute_fin = map(int, plage_horaire[1].split(':'))\n",
    "            creneau_fin=minute_fin//15+1\n",
    "\n",
    "\n",
    "            if (heure_debut,minute_debut)>=(heure_fin,minute_fin):\n",
    "                for jour1 in jours:\n",
    "                    for c in range((jour1-1)*96+heure_debut*4+creneau_debut,jour1*96):\n",
    "                        if c<=nombre_creneaux:\n",
    "                            creneaux.append(c)\n",
    "                    for c in range(jour1*96,jour1*96+heure_fin*4+creneau_fin):\n",
    "                        if c<=nombre_creneaux: creneaux.append(c)\n",
    "            else:\n",
    "                for jour1 in jours:\n",
    "                    for c in range((jour1-1)*96+heure_debut*4+creneau_debut,(jour1-1)*96+heure_fin*4+creneau_fin):\n",
    "                        if c<=nombre_creneaux: creneaux.append(c) \n",
    "    return creneaux\n",
    "\n",
    "# data1 = INSTANCE1['Machines']\n",
    "df = INSTANCE['Machines']\n",
    "\n",
    "df['Indisponibilites']=df['Indisponibilites'].astype(str)\n",
    "# Apply the function to each row\n",
    "df['Indisponibilites_TimeSlots'] = df['Indisponibilites'].apply(creneaux_de_periode)\n",
    "\n",
    "DEB_INDIS = df.loc[df['Machine'] == 'DEB', 'Indisponibilites_TimeSlots'].values[0]\n",
    "FOR_INDIS = df.loc[df['Machine'] == 'FOR', 'Indisponibilites_TimeSlots'].values[0]\n",
    "DEG_INDIS = df.loc[df['Machine'] == 'DEG', 'Indisponibilites_TimeSlots'].values[0]"
   ]
  },
  {
   "cell_type": "markdown",
   "metadata": {},
   "source": [
    "Voies disponibles des chantiers"
   ]
  },
  {
   "cell_type": "code",
   "execution_count": 439,
   "metadata": {},
   "outputs": [],
   "source": [
    "df=INSTANCE[\"Chantiers\"]\n",
    "df['Indisponibilites']=df['Indisponibilites'].astype(str)\n",
    "df['Indisponibilites_TimeSlots'] = df['Indisponibilites'].apply(creneaux_de_periode)\n",
    "\n",
    "REC_INDIS = df.loc[df['Chantier'] == 'WPY_REC', 'Indisponibilites_TimeSlots'].values[0]\n",
    "OFORM_INDIS = df.loc[df['Chantier'] == 'WPY_FOR', 'Indisponibilites_TimeSlots'].values[0]\n",
    "DEP_INDIS = df.loc[df['Chantier'] == 'WPY_DEP', 'Indisponibilites_TimeSlots'].values[0]\n",
    "\n",
    "NVREC=df.loc[df['Chantier'] == 'WPY_REC', \"Nombre de voies\"].values[0]\n",
    "NVFOR=df.loc[df['Chantier'] == 'WPY_FOR', \"Nombre de voies\"].values[0]\n",
    "NVDEP=df.loc[df['Chantier'] == 'WPY_DEP', \"Nombre de voies\"].values[0]"
   ]
  },
  {
   "cell_type": "markdown",
   "metadata": {},
   "source": [
    "Roulements agents"
   ]
  },
  {
   "cell_type": "code",
   "execution_count": 440,
   "metadata": {},
   "outputs": [],
   "source": [
    "Roulements_source = INSTANCE['Roulements agents']\n",
    "Roulements = dict()\n",
    "a = 0\n",
    "i = 0\n",
    "for name in Roulements_source['Roulement']:\n",
    "    Roulements[name] = dict()\n",
    "    Roulements[name]['Jours'] = Roulements_source['Jours de la semaine'][i].split(';')\n",
    "    Roulements[name]['Nb agents'] = Roulements_source['Nombre agents'][i]\n",
    "    Roulements[name]['Blocs'] = Roulements_source['Cycles horaires'][i].split(';')\n",
    "    Roulements[name]['Connaissance'] = Roulements_source['Connaissances chantiers'][i].split(';')\n",
    "    Blocs = dict()\n",
    "    for j in Roulements[name]['Jours']: \n",
    "        for b in Roulements[name]['Blocs']:\n",
    "            Blocs[(j,b)] = list()\n",
    "            lbrgag = 0 #indicateur de nb de creneaux pour split des blocs de 8h\n",
    "            for c in creneaux_de_periode(','.join([j, b])):\n",
    "                lbrgag += 1\n",
    "                if lbrgag == 33: #bloc de 8h\n",
    "                    a = str(int(j) + 7) #semaine pro\n",
    "                    Blocs[(a,b)] = list()\n",
    "                if lbrgag >= 33: \n",
    "                    Blocs[(a,b)].append(c)\n",
    "                else :\n",
    "                    Blocs[(j,b)].append(c)\n",
    "    Roulements[name]['Creneaux'] = Blocs\n",
    "    i += 1\n"
   ]
  },
  {
   "cell_type": "markdown",
   "metadata": {},
   "source": [
    "Tâches humaines"
   ]
  },
  {
   "cell_type": "code",
   "execution_count": 441,
   "metadata": {},
   "outputs": [],
   "source": [
    "roulements_rec = [a for a in Roulements.keys() if 'WPY_REC' in Roulements[a]['Connaissance']]\n",
    "roulements_for = [a for a in Roulements.keys() if 'WPY_FOR' in Roulements[a]['Connaissance']]\n",
    "roulements_dep = [a for a in Roulements.keys() if 'WPY_DEP' in Roulements[a]['Connaissance']]\n",
    "taches_humaines={'WPY_REC': [],'WPY_FOR': [],'WPY_DEP': []}\n",
    "for index, row in INSTANCE[\"Taches humaines\"].iterrows():\n",
    "            taches_humaines[row['Chantier']].append(row['Type de tache humaine'])\n",
    "taches_rec=taches_humaines['WPY_REC']\n",
    "taches_for=taches_humaines['WPY_FOR']\n",
    "taches_dep=taches_humaines['WPY_DEP']"
   ]
  },
  {
   "cell_type": "markdown",
   "metadata": {},
   "source": [
    "## Modèle mathématique \n",
    "On a modélisé notre problème en partant du fait que les machines ne sont disponibles que pour un seul train et dans un seul créneau. \\\n",
    "De ce fait, on introduit les variables *binaires* suivantes : \\\n",
    "\\\n",
    "    - $(deb_{ic})$ : variable binaire indiquant si la machine de débranchement est utilisée \\\n",
    "    pour le sillion d'arrivée d'identifiant $i$ au créneau $c$ \\\n",
    "    - $(for_{ic})$ : variable binaire indiquant si la machine de formation est utilisée \\\n",
    "    pour le sillion du départ d'identifiant $i$ au créneau $c$ \\\n",
    "    - $(deg_{ic})$ : variable binaire indiquant si la machine de dégarage est utilisée \\\n",
    "    pour le sillion du départ d'identifiant $i$ au créneau $c$\n",
    "\n",
    "Les créneaux ont une durée de $15 min$ correspondant à la durée d'une tâche machine. Les valeurs possibles des créneaux dépendent de l'instance, \\\n",
    "soit alors $c \\in \\{1,2,..., c_{max}\\} $ où $c=1$ correspond au premier créneau du lundi de la première semaine du travail : $[0:00 , 0:15[$ et \\\n",
    "$c_{max}$ le dernier créneau du dernier jour du travail : $[23:45, 0:00[$.\n",
    "\n",
    "On note ainsi : \n",
    "$$A = \\{\\text{Les identifiants des trains d'arrivée}\\}$$\n",
    "$$D = \\{\\text{Les identifiants des trains du départ}\\}$$\n",
    "$$C= \\{1,2,..., c_{max}\\}$$"
   ]
  },
  {
   "cell_type": "code",
   "execution_count": 442,
   "metadata": {},
   "outputs": [],
   "source": [
    "# IMPLEMNTATION DES VARIABLES \n",
    "# Implémentation Python\n",
    "m= Model('Modèle')\n",
    "deb = {(i, c) : m.addVar(vtype = GRB.BINARY, name=f'deb_{i}_{c}') for i in trains_arrivee for c in range(1,nombre_creneaux+1)}\n",
    "form = {(i, c) : m.addVar(vtype = GRB.BINARY, name=f'form_{i}_{c}') for i in trains_depart for c in range(1,nombre_creneaux+1)}\n",
    "deg = {(i, c) : m.addVar(vtype = GRB.BINARY, name=f'deg_{i}_{c}') for i in trains_depart for c in range(1,nombre_creneaux+1)}"
   ]
  },
  {
   "cell_type": "markdown",
   "metadata": {},
   "source": [
    "Pour inclure les informations sur les voies, nous avons défini les variables binaires suivantes:\\\n",
    "\\\n",
    "    - $orec_{ic}$ : variable binaire indiquant si le train d'arrivée $i \\in A$ occupe une voie dans le chantier de débranchement au créneau $c \\in C$.\\\n",
    "    - $ofor_{ic}$ : variable binaire indiquant si le train de départ $i \\in D$ occupe une voie dans le chantier de formation au créneau $c \\in C$.\\\n",
    "    - $odep_{ic}$ : variable binaire indiquant si le train de départ $i \\in D$ occupe une voie dans le chantier de départ au créneau $c \\in C$.\n",
    "Les créneaux de $C$, et les ensembles $A$ et $D$ sont définis comme dans le jalon précédent."
   ]
  },
  {
   "cell_type": "code",
   "execution_count": 443,
   "metadata": {},
   "outputs": [],
   "source": [
    "orec = {(i, c) : m.addVar(vtype = GRB.BINARY, name=f'orec_{i}_{c}') for i in trains_arrivee for c in range(1,nombre_creneaux+1)}\n",
    "oform = {(i, c) : m.addVar(vtype = GRB.BINARY, name=f'oform_{i}_{c}') for i in trains_depart for c in range(1,nombre_creneaux+1)}\n",
    "odep = {(i, c) : m.addVar(vtype = GRB.BINARY, name=f'odep_{i}_{c}') for i in trains_depart for c in range(1,nombre_creneaux+1)}"
   ]
  },
  {
   "cell_type": "markdown",
   "metadata": {},
   "source": [
    "Pour les tâches humaines, on définit des variables binaires de type $ \\text{tache-humaine}_{t,r,i,c}$ où $t$ est un train de départ ou d'arrivée, $r$ est un roulement agent, $i$ est l'indice d'un agent dans ce roulement, et $c \\in C$. Où cette variable indique que pendant le créneau $c$, le $i^{ème}$ agent du roulement $r$ travaille sur le train $t$ sur la tâche humaine indiquée."
   ]
  },
  {
   "cell_type": "code",
   "execution_count": 444,
   "metadata": {},
   "outputs": [
    {
     "name": "stdout",
     "output_type": "stream",
     "text": [
      "192\n"
     ]
    }
   ],
   "source": [
    "def fusion_vals(d : dict) -> list:\n",
    "    L = list()\n",
    "    for _, vals in d.items():\n",
    "        L += vals\n",
    "    return L\n",
    "#pour rassembler tts les créneaux d'un (r,i) dans une liste\n",
    "print(nombre_creneaux)"
   ]
  },
  {
   "cell_type": "code",
   "execution_count": 445,
   "metadata": {},
   "outputs": [],
   "source": [
    "#TACHES REC\n",
    "taches_hum_rec = {(tache,train,roulement,agent,c) : m.addVar(vtype = GRB.BINARY, name=f'{tache},{train},{roulement},{agent}_{c}') for tache in taches_rec for train in trains_arrivee for roulement in roulements_rec for agent in range(1,Roulements[roulement]['Nb agents']+1) for c in range(1,nombre_creneaux+1)}\n",
    "#TACHES FOR\n",
    "taches_hum_for = {(tache,train,roulement,agent,c) : m.addVar(vtype = GRB.BINARY, name=f'{tache}_{train},{roulement},{agent}_{c}') for tache in taches_for for train in trains_depart for roulement in roulements_for for agent in range(1,Roulements[roulement]['Nb agents']+1) for c in range(1,nombre_creneaux+1)}\n",
    "#TACHES DEP\n",
    "taches_hum_dep = {(tache,train,roulement,agent,c) : m.addVar(vtype = GRB.BINARY, name=f'{tache}_{train},{roulement},{agent}_{c}') for tache in taches_dep for train in trains_depart for roulement in roulements_dep for agent in range(1,Roulements[roulement]['Nb agents']+1) for c in range(1,nombre_creneaux+1)}"
   ]
  },
  {
   "cell_type": "markdown",
   "metadata": {},
   "source": [
    "## JALON 1"
   ]
  },
  {
   "cell_type": "markdown",
   "metadata": {},
   "source": [
    "### 1. Unique débranchement, formation et dégarage\n",
    "Chaque train d'arrivé subit un seul et unique débranchement, chaque train du départ subit un seul et unique débranchement et dégarage. \n",
    "$$ \\forall i \\in A \\quad \\sum_{c} deb_{i,c} = 1 $$\n",
    "$$ \\forall i \\in D \\quad \\sum_{c} for_{i,c} = 1 $$\n",
    "$$ \\forall i \\in D \\quad \\sum_{c} deg_{i,c} = 1 $$"
   ]
  },
  {
   "cell_type": "code",
   "execution_count": 446,
   "metadata": {},
   "outputs": [],
   "source": [
    "uniqueDeb_train = {i : m.addConstr(quicksum([deb[(i, c)] for c in range(1, nombre_creneaux + 1)]) ==1, name = f'UniqueDeb_train{i}') for i in trains_arrivee}\n",
    "uniqueform_train = {i : m.addConstr(quicksum([form[(i, c)] for c in range(1, nombre_creneaux + 1)]) ==1, name = f'UniqueFor_train{i}') for i in trains_depart}\n",
    "uniqueDeg_train = {i : m.addConstr(quicksum([deg[(i, c)] for c in range(1, nombre_creneaux + 1)]) ==1, name = f'UniqueDeg_train{i}') for i in trains_depart}"
   ]
  },
  {
   "cell_type": "markdown",
   "metadata": {},
   "source": [
    "### 2. Une seule tâche machine par créneau  \n",
    "Chaque machine est exploitée par au plus un seul train sur chaque créneau.\n",
    "$$ \\forall c \\in C \\quad \\sum_{i \\in A} deb_{i,c} \\leq 1 $$\n",
    "$$ \\forall c \\in C \\quad \\sum_{i \\in D} for_{i,c} \\leq 1 $$\n",
    "$$ \\forall c \\in C \\quad \\sum_{i \\in D} deg_{i,c} \\leq 1 $$"
   ]
  },
  {
   "cell_type": "code",
   "execution_count": 447,
   "metadata": {},
   "outputs": [],
   "source": [
    "uniqueDeb_creneau = {c : m.addConstr(quicksum([deb[(i, c)] for i in trains_arrivee]) <=1, name = f'UniqueDeb_creneau{c}') for c in range(1, nombre_creneaux + 1)}\n",
    "uniqueFor_creneau = {c : m.addConstr(quicksum([form[(i, c)] for i in trains_depart]) <=1, name = f'UniqueFor_creneau{c}') for c in range(1, nombre_creneaux + 1)}\n",
    "uniqueDeg_creneau = {c : m.addConstr(quicksum([deg[(i, c)] for i in trains_depart ]) <=1, name = f'UniqueDeg_creneau{c}') for c in range(1, nombre_creneaux + 1)}"
   ]
  },
  {
   "cell_type": "markdown",
   "metadata": {},
   "source": [
    "### 3. Débranchement se fait après l'arrivée du train\n",
    "Pour chaque train d'arrivée $i$, le débranchement ne peut pas avoir lieu dans les créneaux précedent celui d'arrivée $c^{a}_{i}$ après une heure de tâches humaines.\n",
    "$$ \\forall i \\in A \\quad \\sum_{c \\space \\leq \\space c^{a}_{i}+4} deb_{i,c} = 0$$ "
   ]
  },
  {
   "cell_type": "code",
   "execution_count": 448,
   "metadata": {},
   "outputs": [],
   "source": [
    "deb_apres_arrivee = {i : m.addConstr(quicksum([deb[(i, c)] for c in range(1, creneau_arrivee[i] + 5)]) ==0, name = f'deb_apres_arrivee{i}') for i in trains_arrivee}"
   ]
  },
  {
   "cell_type": "markdown",
   "metadata": {},
   "source": [
    "### 4. Formation d'un train de départ \n",
    "Pour chaque train du départ $t$, la formation ne peut avoir lieu qu'après débranchement de tous les trains ayant les wagons qui le constituent. \\\n",
    "On note : $$ \\forall t \\in D \\quad A_t = \\{\\text{Les identifiants des trains d'arrivée ayant au moins un wagon du train t}\\}$$\n",
    "On peut exprimer la contrainte comme suit : \n",
    "$$ \\forall t \\in D, \\space\\forall c \\in C, \\space\\forall i \\in A_t \\quad for_{t,c} \\leq \\sum_{c' \\space \\lt \\space c} deb_{i,c'}$$ "
   ]
  },
  {
   "cell_type": "code",
   "execution_count": 449,
   "metadata": {},
   "outputs": [],
   "source": [
    "for_apres_deb = {(t,c,i) : m.addConstr(form[(t,c)]<=quicksum([deb[(i, c_p)] for c_p in range(1, c)]), name = f'for_apres_deb{t}{c}{i}') for t in trains_depart for c in range(1,nombre_creneaux+1) for i in At[t]}"
   ]
  },
  {
   "cell_type": "markdown",
   "metadata": {},
   "source": [
    "### 5. Dégarage après formation\n",
    "Pour chaque train du départ, le dégarage ne peut avoir lieu qu'après la formation du train et $150$ minutes soit $10$ créneaux de tâches humaines.\n",
    "$$ \\forall t \\in D, \\space\\forall c \\in C \\quad deg_{t,c} \\leq \\sum_{c' \\space \\lt \\space c-10} for_{t,c'}$$ "
   ]
  },
  {
   "cell_type": "code",
   "execution_count": 450,
   "metadata": {},
   "outputs": [],
   "source": [
    "deg_apres_for = {(t,c) : m.addConstr(deg[(t,c)]<=quicksum([form[(t, c_p)] for c_p in range(1, c-9)]), name = f'deg_apres_for{t},{c}') for t in trains_depart for c in range(1,nombre_creneaux+1)}"
   ]
  },
  {
   "cell_type": "markdown",
   "metadata": {},
   "source": [
    "### 6. Dégarage avant départ\n",
    "Pour chaque train du départ $t$, le dégarage ne peut pas avoir lieu dans les créneaux suivants \\\n",
    "celui de $20$ minutes (de tâches humaines) avant l'instant du départ qu'on note $h^{d}_{t}$.\\\n",
    "Puisque $20$ minutes n'est pas une durée divisible par $15$, on définit le créneau précis $cp^{d}_{t}$ comme suit:\n",
    "$$cp^{d}_{t} : \\text{\\space créneau de l'instant \\space} h^{d}_{t}-20\\space min$$\n",
    "$$ \\forall t \\in D \\quad \\sum_{ \\space c \\geq \\space cp^{d}_{t}} deg_{t,c} = 0$$ "
   ]
  },
  {
   "cell_type": "code",
   "execution_count": 451,
   "metadata": {},
   "outputs": [],
   "source": [
    "creneau_precis={} # dict des paires (train: créneau précis)\n",
    "for index, row in INSTANCE[\"Sillons depart\"].iterrows():\n",
    "    string=row[\"JDEP\"]\n",
    "    if type(row[\"JDEP\"])==pd._libs.tslibs.timestamps.Timestamp:\n",
    "        string=convToStr(row[\"JDEP\"])\n",
    "    date=list(map(int,string.split(\"/\")))\n",
    "    hour=list(map(int,str(row[\"HDEP\"]).split(\":\")))\n",
    "    date_precis=datetime.datetime(year=date[2], month=date[1], day=date[0], hour=hour[0], minute=hour[1])-datetime.timedelta(minutes=20)\n",
    "    creneau_precis[row[\"n°TRAIN\"],convToStr(row[\"JDEP\"])]=int((date_precis-date0).total_seconds()/(60*15))+1\n",
    "\n",
    "deg_avant_depart = {t : m.addConstr(quicksum([deg[(t, c)] for c in range(creneau_depart[t]-2, nombre_creneaux+1)])==0, name = f'depart_apres_deg{t}') for t in trains_depart}"
   ]
  },
  {
   "cell_type": "markdown",
   "metadata": {},
   "source": [
    "### 7. Disponibilités des machines\n",
    "Il y a des créneaux où les machines sont indisponible, soient alors  $ \\space C_{deb}, C_{for}, C_{deg} \\space$  ces crénaux d'indisponibilités.\n",
    "$$ \\forall i \\in A \\quad \\sum_{c \\space \\in \\space C_{deb}} deb_{i,c} = 0 $$\n",
    "$$ \\forall i \\in D \\quad \\sum_{c \\space \\in \\space C_{for}} for_{i,c} = 0 $$\n",
    "$$ \\forall i \\in D \\quad \\sum_{c \\space \\in \\space C_{deg}} deg_{i,c} = 0 $$"
   ]
  },
  {
   "cell_type": "code",
   "execution_count": 452,
   "metadata": {},
   "outputs": [],
   "source": [
    "indisponibilite_deb = {i : m.addConstr(quicksum([deb[(i, c)] for c in DEB_INDIS]) ==0, name = f'indisponibilité_deb{i}') for i in trains_arrivee }\n",
    "indisponibilite_for = {i : m.addConstr(quicksum([form[(i, c)] for c in FOR_INDIS]) ==0, name = f'indisponibilité_for{i}') for i in trains_depart}\n",
    "indisponibilite_deb = {i : m.addConstr(quicksum([deg[(i, c)] for c in DEG_INDIS]) ==0, name = f'indisponibilité_deg{i}') for i in trains_depart}"
   ]
  },
  {
   "cell_type": "markdown",
   "metadata": {},
   "source": [
    "## JALON 2"
   ]
  },
  {
   "cell_type": "markdown",
   "metadata": {},
   "source": [
    "### Contraintes Jalon 2"
   ]
  },
  {
   "cell_type": "markdown",
   "metadata": {},
   "source": [
    "#### 1- Nombre des voies disponibles\n",
    "Pour chaque créneau $c \\in C$, un chantier ne peut pas accueillir plus de trains que le nombre de voies disponibles: \n",
    "$$ \\forall c \\in C \\quad \\sum_{i \\in A} orec_{i,c} \\leq \\text{NVREC} $$\n",
    "$$ \\forall c \\in C \\quad \\sum_{i \\in D} ofor_{i,c} \\leq \\text{NVFOR} $$\n",
    "$$ \\forall c \\in C \\quad \\sum_{i \\in D} odep_{i,c} \\leq \\text{NVDEP} $$\n",
    "\n",
    "Où NVDEB, NVFOR, NVDEG correspondent aux nombres de voies disponibles pour chaque chantiers REC, FOR,\n",
    "DEP respectivement."
   ]
  },
  {
   "cell_type": "code",
   "execution_count": 453,
   "metadata": {},
   "outputs": [],
   "source": [
    "Nb_voies_rec = {c : m.addConstr(quicksum([orec[(i, c)] for i in trains_arrivee]) <= NVREC, name = f'nb_voies_rec{c}') for c in range(1,nombre_creneaux+1) }\n",
    "Nb_voies_for = {c : m.addConstr(quicksum([oform[(i, c)] for i in trains_depart]) <= NVFOR, name = f'nb_voies_form{c}') for c in range(1,nombre_creneaux+1) }\n",
    "Nb_voies_dep = {c : m.addConstr(quicksum([odep[(i, c)] for i in trains_depart]) <= NVDEP, name = f'nb_voies_dep{c}') for c in range(1,nombre_creneaux+1) }"
   ]
  },
  {
   "cell_type": "markdown",
   "metadata": {},
   "source": [
    "#### 2- Indisponibilié des chantiers\n",
    "Il y a des créneaux dans lesquels les chantiers sont indisponibles qu'on note $C_{rec}, C_{for}, C_{dep}$. \n",
    "On interdit alors l'occupation lors de ces créneaux : \n",
    "\n",
    "$$ \\forall i \\in A \\quad \\sum_{c \\space \\in \\space C_{rec}} orec_{i,c} = 0 $$\n",
    "$$ \\forall i \\in D \\quad \\sum_{c \\space \\in \\space C_{for}} ofor_{i,c} = 0 $$\n",
    "$$ \\forall i \\in D \\quad \\sum_{c \\space \\in \\space C_{dep}} odep_{i,c} = 0 $$"
   ]
  },
  {
   "cell_type": "code",
   "execution_count": 454,
   "metadata": {},
   "outputs": [],
   "source": [
    "indisponibilite_orec = {i : m.addConstr(quicksum([orec[(i, c)] for c in REC_INDIS]) ==0, name = f'indisponibilité_rec{i}') for i in trains_arrivee }\n",
    "indisponibilite_oform = {i : m.addConstr(quicksum([oform[(i, c)] for c in OFORM_INDIS]) ==0, name = f'indisponibilité_oform{i}') for i in trains_depart}\n",
    "indisponibilite_dep = {i : m.addConstr(quicksum([odep[(i, c)] for c in DEP_INDIS]) ==0, name = f'indisponibilité_dep{i}') for i in trains_depart}"
   ]
  },
  {
   "cell_type": "markdown",
   "metadata": {},
   "source": [
    "#### 3- Occupation du chantier de la réception pour un train d’arrivée\n",
    "Lors de l'arrivée d'un train $i \\in A$, il occupe le chantier de réception dans les créneaux entre celui d'arrivéee $c_a^{i}$ \n",
    "et celui de son débranchement $c_{deb}^{i} = \\sum_{c' \\in C}{c'\\times deb_{i,c'}}$. Mathématiquement : \n",
    "$$ \\forall c \\in C, \\forall i \\in A \\quad \\left(c \\ge c_a^{i}\\right) \\land \\left(c \\le c_{deb}^{i}\\right) \\Rightarrow orec_{i,c}=1$$\n",
    "$$ M \\times orec_{i,c} \\ge \\left(\\varepsilon+c-c_a^{i}\\right)\\left(c_{deb}^{i}-c+\\varepsilon \\right)$$\n",
    "Où $M$ est un majorant suffisament grand et $\\varepsilon$ un minorant assez petit."
   ]
  },
  {
   "cell_type": "code",
   "execution_count": 455,
   "metadata": {},
   "outputs": [],
   "source": [
    "M=(nombre_creneaux)**2\n",
    "eps=0.1\n",
    "creneau_deb={i : quicksum([u*deb[(i,u)] for u in range(1,nombre_creneaux+1)]) for i in trains_arrivee}\n",
    "occupation_arrivee_deb={(i,c) : m.addConstr((eps+(c-creneau_arrivee[i]))*(creneau_deb[i]-c+eps)<=M*orec[(i,c)], name=f'occupation_arrivee_deg_{i,c}') for i in trains_arrivee for c in range(1,1+nombre_creneaux)}"
   ]
  },
  {
   "cell_type": "markdown",
   "metadata": {},
   "source": [
    "#### 4- Lien entre débranchement d’un train d’arrivée et occupation de voies dans le chantier de formation\n",
    "Pour un train d'arrivée $t \\in A$, la machine de débranchement le débranche et renvoie ses wagones vers le chantier de formation dans le même créneau. \n",
    "On définit pour un train d'arrivée $t \\in A$, l'ensemble $D_t$ des trains de départ associés aux wagons de $t$. \n",
    "$$ \\forall t \\in A \\quad D_t = \\{\\text{Les identifiants des trains du départ ayant au moins un wagon du train t}\\}$$\n",
    "Il faut alors garantir: \n",
    "$$\n",
    "    \\forall t \\in A, \\forall c \\in C \\quad deb_{t,c}=1 \\Rightarrow \\prod\\limits_{i \\in D_t} ofor_{i,c} =1\n",
    "$$\n",
    "qu'on linéarise comme suit:\n",
    "$$\n",
    "    \\forall t \\in A, \\forall i \\in D_t, \\forall c \\in C \\quad deb_{t,c} \\leq ofor_{i,c}\n",
    "$$"
   ]
  },
  {
   "cell_type": "code",
   "execution_count": 456,
   "metadata": {},
   "outputs": [],
   "source": [
    "reserve_voies_for_au_deb = {(t,c,i) : m.addConstr(deb[(t,c)]<=oform[(i,c)], name = f'reserve_voies_for_au_deb{t}{c}{i}') for t in trains_arrivee for c in range(1,nombre_creneaux+1) for i in Dt[t]}"
   ]
  },
  {
   "cell_type": "markdown",
   "metadata": {},
   "source": [
    "#### Occupation du chantier de formation\n",
    "#### 5-Créneaux d’occupation \n",
    "Pour faire une relation de récurrence entre les créneaux d'occupation du chantier de formation pour un train de départ, on dit que si un train de départ occupe le chantier formation pendant un créneau $c$, et que pendant ce créneau $c$ le train ne se dégare pas, alors il reste dans le chantier formation. Mathématiquement , cela se traduit par:  \n",
    "$$\\forall t \\in D, \\forall c \\in C,  ofor_{t,c}=1 \\land deg_{t,c}=0 \\Rightarrow ofor_{t,c+1}=1$$\n",
    "Pour linériser cette contrainte, on introduit des variables binaires $z_{t,c}$ symbolisant la conjonction des deux propositions: \n",
    "$$z_{t,c} \\leq ofor_{t,c}$$\n",
    "$$z_{t,c} \\leq 1-deg_{t,c}$$\n",
    "$$ z_{t,c} \\geq ofor_{t,c}+1-deg_{t,c} -1$$\n",
    "$$z_{t,c} \\leq ofor_{t,c+1}$$"
   ]
  },
  {
   "cell_type": "code",
   "execution_count": 457,
   "metadata": {},
   "outputs": [],
   "source": [
    "z = {(t, c) : m.addVar(vtype = GRB.BINARY, name=f'z_{t}_{c}') for t in trains_depart for c in range(1,nombre_creneaux)}\n",
    "duree_occupe_form1={(t,c): m.addConstr(z[(t,c)]<=oform[(t,c)], name = f'duree_occupe_form1{t,c}') for t in trains_depart for c in range(1,nombre_creneaux)}\n",
    "duree_occupe_form2={(t,c): m.addConstr(z[(t,c)]<=1-deg[(t,c)], name = f'duree_occupe_form2{t,c}') for t in trains_depart for c in range(1,nombre_creneaux)}\n",
    "duree_occupe_form3={(t,c): m.addConstr(z[(t,c)]>=oform[(t,c)]-deg[(t,c)], name = f'duree_occupe_form3{t,c}') for t in trains_depart for c in range(1,nombre_creneaux)}\n",
    "duree_occupe_form4={(t,c): m.addConstr(z[(t,c)]<=oform[(t,c+1)], name = f'duree_occupe_form4{t,c}') for t in trains_depart for c in range(1,nombre_creneaux)}"
   ]
  },
  {
   "cell_type": "markdown",
   "metadata": {},
   "source": [
    "#### 6- Occupation d'une voie dans le chantier formation lors du dégarage\n",
    "Il est également crucial de s'assurer qu'un train de départ occupe le chantier de formation lors de son opération de dégarage :\n",
    "\\begin{equation}\n",
    "\\forall t \\in D, \\forall c \\in C \\quad deg_{t,c} \\le ofor_{t,c}\n",
    "\\end{equation}"
   ]
  },
  {
   "cell_type": "code",
   "execution_count": 458,
   "metadata": {},
   "outputs": [],
   "source": [
    "reserve_voie_for_au_deg = {(t,c) : m.addConstr(deg[(t,c)]<=oform[(t,c)], name = f'reserve_voie_for_au_deg{t}{c}') for t in trains_depart for c in range(1,nombre_creneaux+1)}"
   ]
  },
  {
   "cell_type": "markdown",
   "metadata": {},
   "source": [
    "#### 7- Créneaux où on libère les voies\n",
    "Après le dégarage, un train doit libérer le chantier de formation pour permettre la réorganisation des wagons pour d'autres trains. La libération des voies est modélisée par la contrainte suivante :\n",
    "$$ \\forall t \\in D, \\forall c \\in C, c \\geq c_{deg}^{t}+1 \\Rightarrow  ofor_{t,c}=0$$\n",
    "Où \n",
    "$$ c_{deg}^{t}= \\sum_{u}{u\\times deg_{t,u}} $$\n",
    "Linéarisée avec: \n",
    "$$(c-c_{deg}^{t}) \\leq M \\times (1- ofor_{t,c})$$"
   ]
  },
  {
   "cell_type": "code",
   "execution_count": 459,
   "metadata": {},
   "outputs": [],
   "source": [
    "creneau_deg={i : quicksum([u*deg[(i,u)] for u in range(1,nombre_creneaux+1)]) for i in trains_depart}\n",
    "non_occupation_for_apres_deg={(t,c) : m.addConstr((c-creneau_deg[t])<=M*(1-oform[(t,c)]), name=f'occupation_for_qd_deg_{t,c}') for t in trains_depart for c in range(1,1+nombre_creneaux)}"
   ]
  },
  {
   "cell_type": "markdown",
   "metadata": {},
   "source": [
    "#### 8- Occupation du chantier de départ pour un train d'arrivée\n",
    "Pour chaque train de départ $t \\in D$, il occupe une voie dans le chantier de départ entre le moment de son dégarage ($\\sum_{c' \\in C}{c'\\times deg_{t,c'}}$) et son départ prévu ($c_d^{t}$). Mathématiquement, cela est représenté par :\n",
    "\n",
    "$$\\forall c \\in C, \\forall t \\in D \\quad \\left(c \\le c_d^{t}\\right) \\land \\left(c \\ge \\sum_{c' \\in C}{c'\\times deg_{t,c'}}\\right) \\Rightarrow odep_{t,c}=1$$\n",
    "On occupe une voie du départ après dégarage et avant le départ du train:\n",
    "$$ M \\times odep_{t,c} \\ge \\left(\\varepsilon+(c_d^{i}-c)\\right)\\left(c-\\sum_{u}{u\\times deg_{t,u}}+\\varepsilon \\right)$$"
   ]
  },
  {
   "cell_type": "code",
   "execution_count": 460,
   "metadata": {},
   "outputs": [],
   "source": [
    "M=(nombre_creneaux)**2\n",
    "eps=0.1\n",
    "occupation_deg_depart={(i,c) : m.addConstr((eps+creneau_depart[i]-c)*(c-creneau_deg[i]+eps)<=M*odep[(i,c)], name=f'occupation_deg_depart_{i,c}') for i in trains_depart for c in range(1,1+nombre_creneaux)}\n"
   ]
  },
  {
   "cell_type": "markdown",
   "metadata": {},
   "source": [
    "## JALON 3"
   ]
  },
  {
   "cell_type": "markdown",
   "metadata": {},
   "source": [
    " ### Variables auxiliaires\n",
    " #### $\\text{Tache-humaine}_{t,c}$\n",
    " Pour raisonner comme pendant le jalon 1 sur chaque train $t$ et créneau $c$ pour savoir si la tâche humaine s'effectue sur le train $t$ au créneau $c$, on peut retrouver ça avec: \n",
    " $$\\text{tâche-humaine}_{t,c} = \\sum_{\\text{agents} (r,i)} \\text{tâche-humaine}_{t,r,i,c}$$"
   ]
  },
  {
   "cell_type": "code",
   "execution_count": 461,
   "metadata": {},
   "outputs": [],
   "source": [
    "taches_hum_arr_tc = {(tache,train,c) : quicksum([taches_hum_rec[(tache,train,roulement,i,c)] for roulement in roulements_rec for i in range(1,Roulements[roulement]['Nb agents']+1)])   for train in trains_arrivee  for tache in taches_rec for c in range(1,nombre_creneaux+1)}\n",
    "taches_hum_for_tc = {(tache,train,c) : quicksum([taches_hum_for[(tache,train,roulement,i,c)] for roulement in roulements_for for i in range(1,Roulements[roulement]['Nb agents']+1)])   for train in trains_depart  for tache in taches_for for c in range(1,nombre_creneaux+1)}\n",
    "taches_hum_dep_tc = {(tache,train,c) : quicksum([taches_hum_dep[(tache,train,roulement,i,c)] for roulement in roulements_dep for i in range(1,Roulements[roulement]['Nb agents']+1)])   for train in trains_depart  for tache in taches_dep for c in range(1,nombre_creneaux+1)}"
   ]
  },
  {
   "cell_type": "markdown",
   "metadata": {},
   "source": [
    "#### Nombre de tâches effectuées par un agent\n",
    "De plus chaque agent i appartient à un roulement r, on définit donc l'ensemble qui associe à chaque couple (roulement,agent), les blocs où chaque agent pour travailler, par exemple pour un roulement r et un agent i, dans une journée $j$ où cet agent peut travailler, il peut travailler dans un des blocs:  $$bloc_{r,i,j} =  [(00:00-08:00),(8:00-16:00),\\cdots]$$\n",
    " \n",
    " Ainsi, dans un bloc de travail,  $  \\forall  bloc  \\in  bloc_{r,i,j},   $ le nombre des taches effectuées par l'agent (r,i) ($i^{ème}$ agent du roulement $r$) dans ce bloc est: \n",
    " $$\\forall \\text{jour}, \\forall \\text{bloc} \\in blocs_{r,i,jour}, \\quad \\text{nb-taches}_{(r,i),bloc,jour} = \\sum_{c \\in bloc} \\quad  \\sum_{\\text{taches faisables par (r,i)}} \\quad \\sum_{t \\in \\text{trains de la tache}} \\text{tâche-humaine}_{t,r,i,c} $$"
   ]
  },
  {
   "cell_type": "code",
   "execution_count": 462,
   "metadata": {},
   "outputs": [],
   "source": [
    "nb_taches_rec={(r,i,b): quicksum([taches_hum_rec[(tache,t,r,i,c)] for tache in taches_rec for t in trains_arrivee for c in Roulements[r]['Creneaux'][b]])   for r in roulements_rec for i in range(1,Roulements[r]['Nb agents']+1) for b in Roulements[r]['Creneaux']}\n",
    "nb_taches_for={(r,i,b): quicksum([taches_hum_for[(tache,t,r,i,c)] for tache in taches_for for t in trains_depart for c in Roulements[r]['Creneaux'][b]])   for r in roulements_for for i in range(1,Roulements[r]['Nb agents']+1) for b in Roulements[r]['Creneaux']}\n",
    "nb_taches_dep={(r,i,b): quicksum([taches_hum_dep[(tache,t,r,i,c)] for tache in taches_dep for t in trains_depart for c in Roulements[r]['Creneaux'][b]])   for r in roulements_dep for i in range(1,Roulements[r]['Nb agents']+1) for b in Roulements[r]['Creneaux']}\n",
    "\n",
    "#certaines tâches vont se compter plusieurs fois (tâches nécessitant Dt>c)...\n",
    "\n",
    "def fusion_dictionnaires(*dicts):\n",
    "    result = {}\n",
    "    for d in dicts:\n",
    "        for key, value in d.items():\n",
    "            result[key] = result.get(key, 0) + value\n",
    "    return result\n",
    "nb_taches=fusion_dictionnaires(nb_taches_rec,nb_taches_for,nb_taches_dep)\n",
    "#keys de nb_taches sont (roulement,agent,bloc) où bloc est de type (jour,bloc)"
   ]
  },
  {
   "cell_type": "markdown",
   "metadata": {},
   "source": [
    "### Contraintes"
   ]
  },
  {
   "cell_type": "markdown",
   "metadata": {},
   "source": [
    "#### Un agent travaille pendant un bloc au plus pendant une journée de service:\n",
    "Pour une journée de service, chaque agent (r,i) peut travailler dans un bloc horaire au plus, on impose donc la contrainte suivante:\\\n",
    "Sur une journée de service, si le nombre de tâches effectuées par l'agent dans 1 de ses blocs possibles de travail est non nul, il faut que le nombre de tâches effectuées dans les autres blocs possibles soit nul. \n",
    "Donc, si par exemple , dans une journée de service , on a trois blocs de travail possibles pour l'agent (r,i), qui sont $J_1, J_2$ et $J_3$.On a:\n",
    "$$ \\text{nb-taches}_{(r,i),J1} \\neq 0 \\quad \\Rightarrow \\quad \\text{nb-taches}_{(r,i),J_2}=\\text{nb-taches}_{(r,i),J_3}=0$$\n",
    "Et de même par permutation des blocs. Il faut alors garantir, pour l'agent (r,i):\n",
    "$$ \\forall c \\in J_1: \\exists \\text{train} t, \\text{tâche}, \\quad \\text{t.q}  \\quad \\text{tâche}_{t,r,i,c}=1 \\Rightarrow \\quad \\text{nb-taches}_{(r,i),J2}+\\text{nb-taches}_{(r,i),J3}=0$$\n",
    "Qu'on linéarise par:\n",
    "$$\\forall \\text{agent} (r,i), \\forall \\text{tâche}, \\forall \\text{train},\\forall c \\in J_1: \\quad   \\text{nb-taches}_{(r,i),J2}+\\text{nb-taches}_{(r,i),J3} \\leq M \\times (1-\\text{tâche}_{t,r,i,c})$$"
   ]
  },
  {
   "cell_type": "code",
   "execution_count": 463,
   "metadata": {},
   "outputs": [],
   "source": [
    "#Pour un agent (r,i), il faut extraire les blocs de chaque jour et puis faire les contraintes sur ces blocs:\n",
    "def extraire_meme_jour(dictionnaire):\n",
    "    \"\"\"\n",
    "    Cette fonction prend en entrée un dictionnaire dont les clés sont de la forme (roulement, agent, (jour, bloc horaire)).\n",
    "    Elle extrait les couples (jour, bloc horaire) qui correspondent au même jour pour chaque (roulement, agent).\n",
    "    La sortie est un dictionnaire où les clés sont les couples (roulement, agent) et les valeurs sont des dictionnaires\n",
    "    dont les clés sont les jours et les valeurs sont des tuples (jour, bloc horaire) associés à ces jours pour ce couple.\n",
    "    \"\"\"\n",
    "    result = {}\n",
    "    for cle, _ in dictionnaire.items():\n",
    "        roulement, agent, (jour, bloc_horaire) = cle\n",
    "        cle_roulement_agent = (roulement, agent)\n",
    "        if cle_roulement_agent in result:\n",
    "            if jour in result[cle_roulement_agent]:\n",
    "                result[cle_roulement_agent][jour].append((jour,bloc_horaire))\n",
    "            else:\n",
    "                result[cle_roulement_agent][jour] = [(jour,bloc_horaire)]\n",
    "        else:\n",
    "            result[cle_roulement_agent] = {jour: [(jour,bloc_horaire)]}\n",
    "\n",
    "    return result\n",
    "agents_jours_blocs = extraire_meme_jour(nb_taches)"
   ]
  },
  {
   "cell_type": "code",
   "execution_count": 464,
   "metadata": {},
   "outputs": [],
   "source": [
    "agent_rec_work_bloc={(agent,jour,tache,train,c,J1): m.addConstr(quicksum([nb_taches[(agent[0],agent[1],J)] for J in agents_jours_blocs[agent][jour] if J!=J1]) <=M*(1-taches_hum_rec[(tache,train,agent[0],agent[1],c)]),name = f'agent_rec_work_bloc_{agent}_{jour}_{tache}_{train}_{c}_{J1}') for agent in agents_jours_blocs if agent[0] in roulements_rec for jour in agents_jours_blocs[agent] for J1 in agents_jours_blocs[agent][jour] for c in Roulements[agent[0]]['Creneaux'][J1] for train in trains_arrivee for tache in taches_rec}\n",
    "agent_for_work_bloc={(agent,jour,tache,train,c,J1): m.addConstr(quicksum([nb_taches[(agent[0],agent[1],J)] for J in agents_jours_blocs[agent][jour] if J!=J1]) <=M*(1-taches_hum_for[(tache,train,agent[0],agent[1],c)]),name = f'agent_for_work_bloc_{agent}_{jour}_{tache}_{train}_{c}_{J1}') for agent in agents_jours_blocs if agent[0] in roulements_for for jour in agents_jours_blocs[agent] for J1 in agents_jours_blocs[agent][jour] for c in Roulements[agent[0]]['Creneaux'][J1] for train in trains_depart for tache in taches_for}\n",
    "agent_dep_work_bloc={(agent,jour,tache,train,c,J1): m.addConstr(quicksum([nb_taches[(agent[0],agent[1],J)] for J in agents_jours_blocs[agent][jour] if J!=J1]) <=M*(1-taches_hum_dep[(tache,train,agent[0],agent[1],c)]),name = f'agent_dep_work_bloc_{agent}_{jour}_{tache}_{train}_{c}_{J1}') for agent in agents_jours_blocs if agent[0] in roulements_dep for jour in agents_jours_blocs[agent] for J1 in agents_jours_blocs[agent][jour] for c in Roulements[agent[0]]['Creneaux'][J1] for train in trains_depart for tache in taches_dep}"
   ]
  },
  {
   "cell_type": "markdown",
   "metadata": {},
   "source": [
    "#### Chaque tache humaine est réalisée par un seul agent et dans un seul créneau:\n",
    "\n",
    "Afin de réaliser une tache humaine, un agent disponible est suffisant, et pour un train $t$, la tâche doit être réalisée par un agent et dans un créneau, on traduit cette contrainte pour chaque train t :\n",
    "$$\\forall \\text{train} \\, t, \\forall \\, \\text{tache-humaine}, \\sum_{c \\in C} \\sum_{agents (r,i)} \\text{tache-humaine}_{t,r,i,c} = 1$$"
   ]
  },
  {
   "cell_type": "code",
   "execution_count": 465,
   "metadata": {},
   "outputs": [],
   "source": [
    "tache_realisee_1_agent_rec={(train,tache): m.addConstr(quicksum([taches_hum_rec[(tache,train,agent[0],agent[1],c)] for agent in agents_jours_blocs if agent[0] in roulements_rec for c in range(1,nombre_creneaux+1)])==1,name = f'tache_realisee_1_agent_rec_{train}_{tache}') for train in trains_arrivee for tache in taches_rec}\n",
    "tache_realisee_1_agent_for={(train,tache): m.addConstr(quicksum([taches_hum_for[(tache,train,agent[0],agent[1],c)] for agent in agents_jours_blocs if agent[0] in roulements_for for c in range(1,nombre_creneaux+1)])==1,name = f'tache_realisee_1_agent_for_{train}_{tache}') for train in trains_depart for tache in taches_for}\n",
    "tache_realisee_1_agent_dep={(train,tache): m.addConstr(quicksum([taches_hum_dep[(tache,train,agent[0],agent[1],c)] for agent in agents_jours_blocs if agent[0] in roulements_dep for c in range(1,nombre_creneaux+1)])==1,name = f'tache_realisee_1_agent_dep_{train}_{tache}') for train in trains_depart for tache in taches_dep}"
   ]
  },
  {
   "cell_type": "code",
   "execution_count": 466,
   "metadata": {},
   "outputs": [
    {
     "name": "stdout",
     "output_type": "stream",
     "text": [
      "{('roulement2', 1): {'1': [('1', '05:00-13:00'), ('1', '13:00-21:00')], ' 2': [(' 2', '05:00-13:00'), (' 2', '13:00-21:00')], ' 3': [(' 3', '05:00-13:00'), (' 3', '13:00-21:00')], ' 4': [(' 4', '05:00-13:00'), (' 4', '13:00-21:00')], ' 5': [(' 5', '05:00-13:00'), (' 5', '13:00-21:00')], ' 6': [(' 6', '05:00-13:00'), (' 6', '13:00-21:00')], ' 7': [(' 7', '05:00-13:00'), (' 7', '13:00-21:00')]}, ('roulement2', 2): {'1': [('1', '05:00-13:00'), ('1', '13:00-21:00')], ' 2': [(' 2', '05:00-13:00'), (' 2', '13:00-21:00')], ' 3': [(' 3', '05:00-13:00'), (' 3', '13:00-21:00')], ' 4': [(' 4', '05:00-13:00'), (' 4', '13:00-21:00')], ' 5': [(' 5', '05:00-13:00'), (' 5', '13:00-21:00')], ' 6': [(' 6', '05:00-13:00'), (' 6', '13:00-21:00')], ' 7': [(' 7', '05:00-13:00'), (' 7', '13:00-21:00')]}, ('roulement2', 3): {'1': [('1', '05:00-13:00'), ('1', '13:00-21:00')], ' 2': [(' 2', '05:00-13:00'), (' 2', '13:00-21:00')], ' 3': [(' 3', '05:00-13:00'), (' 3', '13:00-21:00')], ' 4': [(' 4', '05:00-13:00'), (' 4', '13:00-21:00')], ' 5': [(' 5', '05:00-13:00'), (' 5', '13:00-21:00')], ' 6': [(' 6', '05:00-13:00'), (' 6', '13:00-21:00')], ' 7': [(' 7', '05:00-13:00'), (' 7', '13:00-21:00')]}, ('roulement2', 4): {'1': [('1', '05:00-13:00'), ('1', '13:00-21:00')], ' 2': [(' 2', '05:00-13:00'), (' 2', '13:00-21:00')], ' 3': [(' 3', '05:00-13:00'), (' 3', '13:00-21:00')], ' 4': [(' 4', '05:00-13:00'), (' 4', '13:00-21:00')], ' 5': [(' 5', '05:00-13:00'), (' 5', '13:00-21:00')], ' 6': [(' 6', '05:00-13:00'), (' 6', '13:00-21:00')], ' 7': [(' 7', '05:00-13:00'), (' 7', '13:00-21:00')]}, ('roulement2', 5): {'1': [('1', '05:00-13:00'), ('1', '13:00-21:00')], ' 2': [(' 2', '05:00-13:00'), (' 2', '13:00-21:00')], ' 3': [(' 3', '05:00-13:00'), (' 3', '13:00-21:00')], ' 4': [(' 4', '05:00-13:00'), (' 4', '13:00-21:00')], ' 5': [(' 5', '05:00-13:00'), (' 5', '13:00-21:00')], ' 6': [(' 6', '05:00-13:00'), (' 6', '13:00-21:00')], ' 7': [(' 7', '05:00-13:00'), (' 7', '13:00-21:00')]}, ('roulement2', 6): {'1': [('1', '05:00-13:00'), ('1', '13:00-21:00')], ' 2': [(' 2', '05:00-13:00'), (' 2', '13:00-21:00')], ' 3': [(' 3', '05:00-13:00'), (' 3', '13:00-21:00')], ' 4': [(' 4', '05:00-13:00'), (' 4', '13:00-21:00')], ' 5': [(' 5', '05:00-13:00'), (' 5', '13:00-21:00')], ' 6': [(' 6', '05:00-13:00'), (' 6', '13:00-21:00')], ' 7': [(' 7', '05:00-13:00'), (' 7', '13:00-21:00')]}, ('roulement2', 7): {'1': [('1', '05:00-13:00'), ('1', '13:00-21:00')], ' 2': [(' 2', '05:00-13:00'), (' 2', '13:00-21:00')], ' 3': [(' 3', '05:00-13:00'), (' 3', '13:00-21:00')], ' 4': [(' 4', '05:00-13:00'), (' 4', '13:00-21:00')], ' 5': [(' 5', '05:00-13:00'), (' 5', '13:00-21:00')], ' 6': [(' 6', '05:00-13:00'), (' 6', '13:00-21:00')], ' 7': [(' 7', '05:00-13:00'), (' 7', '13:00-21:00')]}, ('roulement2', 8): {'1': [('1', '05:00-13:00'), ('1', '13:00-21:00')], ' 2': [(' 2', '05:00-13:00'), (' 2', '13:00-21:00')], ' 3': [(' 3', '05:00-13:00'), (' 3', '13:00-21:00')], ' 4': [(' 4', '05:00-13:00'), (' 4', '13:00-21:00')], ' 5': [(' 5', '05:00-13:00'), (' 5', '13:00-21:00')], ' 6': [(' 6', '05:00-13:00'), (' 6', '13:00-21:00')], ' 7': [(' 7', '05:00-13:00'), (' 7', '13:00-21:00')]}, ('roulement1', 1): {'1': [('1', '05:00-13:00'), ('1', '13:00-21:00'), ('1', '21:00-05:00')], ' 2': [(' 2', '05:00-13:00'), (' 2', '13:00-21:00'), (' 2', '21:00-05:00')], ' 3': [(' 3', '05:00-13:00'), (' 3', '13:00-21:00'), (' 3', '21:00-05:00')], ' 4': [(' 4', '05:00-13:00'), (' 4', '13:00-21:00'), (' 4', '21:00-05:00')], ' 5': [(' 5', '05:00-13:00'), (' 5', '13:00-21:00'), (' 5', '21:00-05:00')], ' 6': [(' 6', '05:00-13:00'), (' 6', '13:00-21:00'), (' 6', '21:00-05:00')], ' 7': [(' 7', '05:00-13:00'), (' 7', '13:00-21:00'), (' 7', '21:00-05:00')]}, ('roulement1', 2): {'1': [('1', '05:00-13:00'), ('1', '13:00-21:00'), ('1', '21:00-05:00')], ' 2': [(' 2', '05:00-13:00'), (' 2', '13:00-21:00'), (' 2', '21:00-05:00')], ' 3': [(' 3', '05:00-13:00'), (' 3', '13:00-21:00'), (' 3', '21:00-05:00')], ' 4': [(' 4', '05:00-13:00'), (' 4', '13:00-21:00'), (' 4', '21:00-05:00')], ' 5': [(' 5', '05:00-13:00'), (' 5', '13:00-21:00'), (' 5', '21:00-05:00')], ' 6': [(' 6', '05:00-13:00'), (' 6', '13:00-21:00'), (' 6', '21:00-05:00')], ' 7': [(' 7', '05:00-13:00'), (' 7', '13:00-21:00'), (' 7', '21:00-05:00')]}}\n"
     ]
    }
   ],
   "source": [
    "print(agents_jours_blocs)"
   ]
  },
  {
   "cell_type": "markdown",
   "metadata": {},
   "source": [
    "#### Un agent effectue une tâche humaine au plus par créneau:\n",
    "$$\\forall \\text{agent} (r,i), \\forall c \\in C,  \\sum_{\\text{taches faisables par l'agent}} \\quad \\sum_{\\text{trains t}} \\quad  \\text{tache}_{t,r,i,c} \\leq 1$$"
   ]
  },
  {
   "cell_type": "code",
   "execution_count": 467,
   "metadata": {},
   "outputs": [],
   "source": [
    "#On definit comme auparavant le nombre de taches effectués par un agent mais cette fois pendant un seul créneau\n",
    "nb_taches_rec_c={(r,i,c): quicksum([taches_hum_rec[(tache,t,r,i,c)] for tache in taches_rec for t in trains_arrivee])   for r in roulements_rec for i in range(1,Roulements[r]['Nb agents']+1) for c in range(1, nombre_creneaux+1)}\n",
    "nb_taches_for_c={(r,i,c): quicksum([taches_hum_for[(tache,t,r,i,c)] for tache in taches_for for t in trains_depart])   for r in roulements_for for i in range(1,Roulements[r]['Nb agents']+1) for c in range(1, nombre_creneaux+1)}\n",
    "nb_taches_dep_c={(r,i,c): quicksum([taches_hum_dep[(tache,t,r,i,c)] for tache in taches_dep for t in trains_depart])   for r in roulements_dep for i in range(1,Roulements[r]['Nb agents']+1) for c in range(1, nombre_creneaux)}\n",
    "\n",
    "nb_taches_c=fusion_dictionnaires(nb_taches_rec_c,nb_taches_for_c,nb_taches_dep_c)\n",
    "\n",
    "une_tache_au_plus_par_c={(r,i,c): m.addConstr(nb_taches_c[(r,i,c)]<=1 ,name = f'une_tache_au_plus_par_c_{r}_{i}_{c}') for r,i,c in nb_taches_c.keys()}"
   ]
  },
  {
   "cell_type": "code",
   "execution_count": 468,
   "metadata": {},
   "outputs": [
    {
     "name": "stdout",
     "output_type": "stream",
     "text": [
      "1536\n"
     ]
    }
   ],
   "source": [
    "print(len(nb_taches_rec_c.keys()))"
   ]
  },
  {
   "cell_type": "markdown",
   "metadata": {},
   "source": [
    "#### Respect de l'ordre des taches humaines\n",
    "On définit des contraintes sur l'ordre d'exécution des taches humaines et on assure que certaines taches humaines se font en parallèle aux taches machines. \\\n",
    "$\\textbf{Ordre séquentiel entre les tâches:}$\\\n",
    "Un exemple d'ordre séquentiel d'excution des tâches humaines est la contrainte que la tâche $\\text{arrivee-reception}$ vient avant $\\text{preparation-tri}$, pour les trains d'arrivée. $t \\in A$, on écrit cette contrainte comme suit :\n",
    "$$\\forall t \\in A : \\sum_{c \\in C} c \\times \\text{arrivee-reception}_{t,c} < \\sum_{c \\in C} c \\times \\text{preparation-tri}_{t,c} $$\n",
    "Cela est fait pour toutes les tâches ordonnées séquentiellement décrites dans la feuille des tâches humaines.\n",
    "Il faut aussi garantir que la tâche humaine de réception se fait après l'arrivée d'un train d'arrivée et que son essai de frein départ a lieu avant son départ."
   ]
  },
  {
   "cell_type": "code",
   "execution_count": 469,
   "metadata": {},
   "outputs": [],
   "source": [
    "#REC\n",
    "arrivee_avant_rec={t: m.addConstr(quicksum([c*taches_hum_arr_tc[('arrivée Reception',t,c)] for c in range(1,nombre_creneaux+1)])>=creneau_arrivee[t],name = f'arrivee_avant_rec_{t}') for t in trains_arrivee}\n",
    "rec_avant_tri={t: m.addConstr(quicksum([c*taches_hum_arr_tc[('arrivée Reception',t,c)] for c in range(1,nombre_creneaux+1)])<=quicksum([c*taches_hum_arr_tc[('préparation tri',t,c)] for c in range(1,nombre_creneaux+1)])-1,name = f'rec_avant_tri_{t}') for t in trains_arrivee}\n",
    "tri_avant_deb={t: m.addConstr(quicksum([c*taches_hum_arr_tc[('préparation tri',t,c)] for c in range(1,nombre_creneaux+1)])<=quicksum([c*taches_hum_arr_tc[('débranchement',t,c)] for c in range(1,nombre_creneaux+1)])-1,name = f'tri_avant_deb_{t}') for t in trains_arrivee}\n",
    "\n",
    "#FOR\n",
    "appui_avant_attelage={t: m.addConstr(quicksum([c*taches_hum_for_tc[('appui voie + mise en place câle',t,c)] for c in range(1,nombre_creneaux+1)])<=quicksum([c*taches_hum_for_tc[('attelage véhicules',t,c)] for c in range(1,nombre_creneaux+1)])-1,name = f'appui_avant_atelage_{t}') for t in trains_depart}\n",
    "attelage_avant_deg={t: m.addConstr(quicksum([c*taches_hum_for_tc[('attelage véhicules',t,c)] for c in range(1,nombre_creneaux+1)])<=quicksum([c*taches_hum_for_tc[('dégarage / bouger de rame',t,c)] for c in range(1,nombre_creneaux+1)])-1,name = f'attelage_avant_deg_{t}') for t in trains_depart}\n",
    "#DEP\n",
    "deg_avant_essai_frein={t: m.addConstr(quicksum([c*taches_hum_for_tc[('dégarage / bouger de rame',t,c)] for c in range(1,nombre_creneaux+1)])<=quicksum([c*taches_hum_dep_tc[('essai de frein départ',t,c)] for c in range(1,nombre_creneaux+1)])-1,name = f'deg_avant_essai_frein_{t}') for t in trains_depart}\n",
    "\n"
   ]
  },
  {
   "cell_type": "markdown",
   "metadata": {},
   "source": [
    "$\\textbf{Parallélisation de tâches/ Couplage tâches humaines et tâches machines }$\\\n",
    "On couple les variables des tâches machines définies au jalon 1 avec les variables des tâches humaines qui vont parallèlement avec ces tâches machines:\n",
    "$$\\forall t \\in A, \\forall c \\in C , \\text{debranchement}_{t,c} = deb_{t,c}$$\n",
    "$$\\forall t \\in D, \\forall c \\in C , \\text{appui voie + mise en place câle}_{t,c} = for_{t,c}$$\n",
    "$$\\forall t \\in D, \\forall c \\in C , \\text{dégarage / bouger de rame}_{t,c} = deg_{t,c}$$"
   ]
  },
  {
   "cell_type": "code",
   "execution_count": 470,
   "metadata": {},
   "outputs": [],
   "source": [
    "debranchement_deb={(t,c): m.addConstr(taches_hum_arr_tc[('débranchement',t,c)]==deb[(t,c)],name = f'debranchement_deb_{t}') for t in trains_arrivee for c in range(1,nombre_creneaux+1)}\n",
    "appui_for={(t,c): m.addConstr(taches_hum_for_tc[('appui voie + mise en place câle',t,c)]==form[(t,c)],name = f'appui_for_{t}') for t in trains_depart for c in range(1,nombre_creneaux+1)}\n",
    "bouger_deg={(t,c): m.addConstr(taches_hum_for_tc[('appui voie + mise en place câle',t,c)]==deg[(t,c)],name = f'bouger_deg_{t}') for t in trains_depart for c in range(1,nombre_creneaux+1)}"
   ]
  },
  {
   "cell_type": "markdown",
   "metadata": {},
   "source": [
    "#### Indisponibilités des chantiers\n",
    "Dans chaque créneau d'indisponibilité du chantier de réception, le nombre de tâches dans ce chantier effectuées par chaque agent est nul:\n",
    "$$\\forall \\text{agent} (r,i), \\sum_{c \\in C_rec} \\text{nb-taches-rec}_{r,i,c}=0 $$\n",
    "$$\\forall \\text{agent} (r,i), \\sum_{c \\in C_formation} \\text{nb-taches-for}_{r,i,c}=0 $$\n",
    "$$\\forall \\text{agent} (r,i), \\sum_{c \\in C_dep} \\text{nb-taches-dep}_{r,i,c}=0 $$"
   ]
  },
  {
   "cell_type": "code",
   "execution_count": 471,
   "metadata": {},
   "outputs": [],
   "source": [
    "indispo_rec_hum={(r,i): m.addConstr(quicksum([nb_taches_rec_c[(r,i,c)] for c in REC_INDIS])==0,name = f'indispo_rec_hum={r}_{i}') for r in roulements_rec for i in range(1,Roulements[r]['Nb agents']+1)}\n",
    "indispo_for_hum={(r,i): m.addConstr(quicksum([nb_taches_for_c[(r,i,c)] for c in OFORM_INDIS])==0,name = f'indispo_for_hum={r}_{i}') for r in roulements_for for i in range(1,Roulements[r]['Nb agents']+1)}\n",
    "indispo_dep_hum={(r,i): m.addConstr(quicksum([nb_taches_dep_c[(r,i,c)] for c in DEP_INDIS])==0,name = f'indispo_dep_hum={r}_{i}') for r in roulements_dep for i in range(1,Roulements[r]['Nb agents']+1)}"
   ]
  },
  {
   "cell_type": "markdown",
   "metadata": {},
   "source": [
    "#### Un agent ne travaille que pendant ses blocs horaires\n",
    "Cela s'exprime comme suit:\n",
    "$$\\forall \\text{agent} (r,i): \\quad \\sum_{j \\in jours}\\sum_{bloc \\in \\text{dispo}_{(r,i),j}} \\text{nb-taches}_{(r,i),bloc} >= \\sum_{c \\in C} \\text{nb-taches-c}_{(r,i),c} $$"
   ]
  },
  {
   "cell_type": "code",
   "execution_count": 472,
   "metadata": {},
   "outputs": [],
   "source": [
    "def indispo(L : list, j : int) -> list :\n",
    "    U = list(range((j-1)*96+1, j*96+1))\n",
    "    return [a for a in U if a not in L and a<nombre_creneaux+1]\n",
    "\n",
    "def val_fusion_jour(d : dict, j : int):\n",
    "    L = list()\n",
    "    for key, val in d.items():\n",
    "        if j == int(key[0]) :\n",
    "            L += val\n",
    "    return L\n",
    "indispo_agent = {(r,i): m.addConstr(quicksum([nb_taches_c[(r,i,c)] for c in range(1, nombre_creneaux+1)]) >= quicksum([nb_taches[(r,i,b)] for b in Roulements[r]['Creneaux']]),name = f'indispo_agent_{r}_{i}') for r in Roulements for i in range(1,Roulements[r]['Nb agents']+1)}"
   ]
  },
  {
   "cell_type": "code",
   "execution_count": 473,
   "metadata": {},
   "outputs": [
    {
     "name": "stdout",
     "output_type": "stream",
     "text": [
      "12\n"
     ]
    }
   ],
   "source": [
    "print(len(nb_taches_c.keys())//len(nb_taches.keys()))"
   ]
  },
  {
   "cell_type": "code",
   "execution_count": 474,
   "metadata": {},
   "outputs": [
    {
     "name": "stdout",
     "output_type": "stream",
     "text": [
      "[97, 98, 99, 100, 101, 102, 103, 104, 105, 106, 107, 108, 109, 110, 111, 112, 113, 114, 115, 116]\n",
      "{('1', '05:00-13:00'): [21, 22, 23, 24, 25, 26, 27, 28, 29, 30, 31, 32, 33, 34, 35, 36, 37, 38, 39, 40, 41, 42, 43, 44, 45, 46, 47, 48, 49, 50, 51, 52], ('1', '13:00-21:00'): [53, 54, 55, 56, 57, 58, 59, 60, 61, 62, 63, 64, 65, 66, 67, 68, 69, 70, 71, 72, 73, 74, 75, 76, 77, 78, 79, 80, 81, 82, 83, 84], ('1', '21:00-05:00'): [85, 86, 87, 88, 89, 90, 91, 92, 93, 94, 95, 96, 97, 98, 99, 100, 101, 102, 103, 104, 105, 106, 107, 108, 109, 110, 111, 112, 113, 114, 115, 116], (' 2', '05:00-13:00'): [117, 118, 119, 120, 121, 122, 123, 124, 125, 126, 127, 128, 129, 130, 131, 132, 133, 134, 135, 136, 137, 138, 139, 140, 141, 142, 143, 144, 145, 146, 147, 148], (' 2', '13:00-21:00'): [149, 150, 151, 152, 153, 154, 155, 156, 157, 158, 159, 160, 161, 162, 163, 164, 165, 166, 167, 168, 169, 170, 171, 172, 173, 174, 175, 176, 177, 178, 179, 180], (' 2', '21:00-05:00'): [181, 182, 183, 184, 185, 186, 187, 188, 189, 190, 191, 192], (' 3', '05:00-13:00'): [], (' 3', '13:00-21:00'): [], (' 3', '21:00-05:00'): [], (' 4', '05:00-13:00'): [], (' 4', '13:00-21:00'): [], (' 4', '21:00-05:00'): [], (' 5', '05:00-13:00'): [], (' 5', '13:00-21:00'): [], (' 5', '21:00-05:00'): [], (' 6', '05:00-13:00'): [], (' 6', '13:00-21:00'): [], (' 6', '21:00-05:00'): [], (' 7', '05:00-13:00'): [], (' 7', '13:00-21:00'): [], (' 7', '21:00-05:00'): []}\n"
     ]
    }
   ],
   "source": [
    "print(indispo(val_fusion_jour(Roulements['roulement1']['Creneaux'],2),2))\n",
    "print(Roulements['roulement1']['Creneaux'])\n"
   ]
  },
  {
   "cell_type": "code",
   "execution_count": null,
   "metadata": {},
   "outputs": [],
   "source": []
  },
  {
   "cell_type": "markdown",
   "metadata": {},
   "source": [
    "## Résolution"
   ]
  },
  {
   "cell_type": "markdown",
   "metadata": {},
   "source": [
    "#### Objectif Jalon 3\n",
    "Pour un agent $(r,i)$ , dans un jour $j$, le nombre de tâches effectuées par l'agent dans ce jour est:\n",
    "$$ \\text{nb-taches}_{(r,i),j}= \\sum_{\\text{blocs du jour j}} \\text{nb-tache}_{(r,i),bloc}$$\n",
    "\n",
    "On définit ainsi des variables binaires:\n",
    "$$\\text{travaille}_{(r,i),j}=\\begin{cases} \n",
    "1 & \\text{si au créneau c, on affecte la tache humaine à l'agent i du roulement r sur le train t.} \\\\\n",
    "0 & \\text{sinon.}\n",
    "\\end{cases}$$\n",
    "\n",
    "Ces variables doivent alors vérifier la contrainte:\n",
    "$$\\forall \\text{agent} (r,i), \\forall \\text{jour} j: \\text{nb-taches}_{(r,i),j} \\gt 0 \\Rightarrow \\text{travaille}_{(r,i),j}=1$$\n",
    "\n",
    "Qu'on linéarise par:\n",
    "$$\\text{nb-taches}_{(r,i),j} \\leq M \\times \\text{travaille}_{(r,i),j}$$"
   ]
  },
  {
   "cell_type": "code",
   "execution_count": 475,
   "metadata": {},
   "outputs": [],
   "source": [
    "nb_taches_jour={(r,i,j): quicksum([nb_taches[(r,i,b)] for b in Roulements[r]['Creneaux']]) for r,i,_ in nb_taches.keys() for j in Roulements[r]['Jours']}\n",
    " "
   ]
  },
  {
   "cell_type": "code",
   "execution_count": 476,
   "metadata": {},
   "outputs": [],
   "source": [
    "travaille_jour={(r,i,j): m.addVar(vtype = GRB.BINARY, name=f'travaille_{r},{i}_{j}') for r,i,_ in nb_taches.keys() for j in Roulements[r]['Jours'] }"
   ]
  },
  {
   "cell_type": "code",
   "execution_count": 477,
   "metadata": {},
   "outputs": [],
   "source": [
    "contrainte_travaille={(r,i,j): m.addConstr(nb_taches_jour[(r,i,j)]<=travaille_jour[(r,i,j)]*M,name = f'contrainte_travaille_{r}_{i}_{j}') for r,i,_ in nb_taches.keys() for j in Roulements[r]['Jours'] }"
   ]
  },
  {
   "cell_type": "markdown",
   "metadata": {},
   "source": [
    "#### Fonction objectif jalon 3: \n",
    "Pour chaque agent $(r,i)$ on veut minimiser le nombre de jours dans lesquels celui-ci travaille. Ainsi, on prend comme fonction objectif:\n",
    "$$\\sum_{\\text{agents (r,i)}} \\quad \\sum_{\\text{jours $j$}} \\text{travaille}_{r,i,j} $$"
   ]
  },
  {
   "cell_type": "code",
   "execution_count": 478,
   "metadata": {},
   "outputs": [],
   "source": [
    "objfunction_jalon3=quicksum([travaille_jour[(r,i,j)] for r,i,_ in nb_taches.keys() for j in Roulements[r]['Jours']])"
   ]
  },
  {
   "cell_type": "code",
   "execution_count": 479,
   "metadata": {},
   "outputs": [],
   "source": [
    "objfunction_for = quicksum([oform[(t,c)] for t in trains_depart for c in range(1,nombre_creneaux+1)])\n",
    "objfunction_dep = quicksum([odep[(t,c)] for t in trains_depart for c in range(1,nombre_creneaux+1)])\n",
    "objfunction_rec = quicksum([orec[(t,c)] for t in trains_arrivee for c in range(1,nombre_creneaux+1)])\n",
    "m.setObjective(objfunction_for+objfunction_dep+objfunction_rec+objfunction_jalon3, GRB.MINIMIZE)\n",
    "m.params.outputflag = 0\n",
    "m.update()"
   ]
  },
  {
   "cell_type": "code",
   "execution_count": 480,
   "metadata": {},
   "outputs": [
    {
     "name": "stdout",
     "output_type": "stream",
     "text": [
      "\n",
      "\tN'A PAS DE SOLUTION!!!\n",
      "UniqueFor_train('sillon4', '02/05/2023')\n",
      "UniqueDeg_train('sillon4', '02/05/2023')\n",
      "deb_apres_arrivee('sillon2', '02/05/2023')\n",
      "deb_apres_arrivee('sillon3', '02/05/2023')\n",
      "for_apres_deb('sillon4', '02/05/2023')3('sillon2', '02/05/2023')\n",
      "for_apres_deb('sillon4', '02/05/2023')4('sillon2', '02/05/2023')\n",
      "for_apres_deb('sillon4', '02/05/2023')5('sillon2', '02/05/2023')\n",
      "for_apres_deb('sillon4', '02/05/2023')8('sillon3', '02/05/2023')\n",
      "for_apres_deb('sillon4', '02/05/2023')9('sillon2', '02/05/2023')\n",
      "for_apres_deb('sillon4', '02/05/2023')10('sillon3', '02/05/2023')\n",
      "for_apres_deb('sillon4', '02/05/2023')11('sillon3', '02/05/2023')\n",
      "for_apres_deb('sillon4', '02/05/2023')12('sillon3', '02/05/2023')\n",
      "for_apres_deb('sillon4', '02/05/2023')13('sillon2', '02/05/2023')\n",
      "for_apres_deb('sillon4', '02/05/2023')16('sillon3', '02/05/2023')\n",
      "for_apres_deb('sillon4', '02/05/2023')18('sillon2', '02/05/2023')\n",
      "for_apres_deb('sillon4', '02/05/2023')19('sillon2', '02/05/2023')\n",
      "for_apres_deb('sillon4', '02/05/2023')21('sillon3', '02/05/2023')\n",
      "for_apres_deb('sillon4', '02/05/2023')22('sillon3', '02/05/2023')\n",
      "for_apres_deb('sillon4', '02/05/2023')25('sillon3', '02/05/2023')\n",
      "for_apres_deb('sillon4', '02/05/2023')26('sillon3', '02/05/2023')\n",
      "for_apres_deb('sillon4', '02/05/2023')27('sillon3', '02/05/2023')\n",
      "for_apres_deb('sillon4', '02/05/2023')28('sillon2', '02/05/2023')\n",
      "for_apres_deb('sillon4', '02/05/2023')29('sillon3', '02/05/2023')\n",
      "for_apres_deb('sillon4', '02/05/2023')30('sillon2', '02/05/2023')\n",
      "for_apres_deb('sillon4', '02/05/2023')31('sillon2', '02/05/2023')\n",
      "for_apres_deb('sillon4', '02/05/2023')32('sillon3', '02/05/2023')\n",
      "for_apres_deb('sillon4', '02/05/2023')33('sillon2', '02/05/2023')\n",
      "for_apres_deb('sillon4', '02/05/2023')34('sillon3', '02/05/2023')\n",
      "for_apres_deb('sillon4', '02/05/2023')35('sillon2', '02/05/2023')\n",
      "for_apres_deb('sillon4', '02/05/2023')36('sillon3', '02/05/2023')\n",
      "for_apres_deb('sillon4', '02/05/2023')37('sillon2', '02/05/2023')\n",
      "for_apres_deb('sillon4', '02/05/2023')38('sillon3', '02/05/2023')\n",
      "for_apres_deb('sillon4', '02/05/2023')39('sillon3', '02/05/2023')\n",
      "for_apres_deb('sillon4', '02/05/2023')40('sillon3', '02/05/2023')\n",
      "for_apres_deb('sillon4', '02/05/2023')41('sillon2', '02/05/2023')\n",
      "for_apres_deb('sillon4', '02/05/2023')42('sillon2', '02/05/2023')\n",
      "for_apres_deb('sillon4', '02/05/2023')44('sillon3', '02/05/2023')\n",
      "for_apres_deb('sillon4', '02/05/2023')45('sillon2', '02/05/2023')\n",
      "for_apres_deb('sillon4', '02/05/2023')46('sillon3', '02/05/2023')\n",
      "for_apres_deb('sillon4', '02/05/2023')47('sillon3', '02/05/2023')\n",
      "for_apres_deb('sillon4', '02/05/2023')48('sillon3', '02/05/2023')\n",
      "for_apres_deb('sillon4', '02/05/2023')49('sillon2', '02/05/2023')\n",
      "for_apres_deb('sillon4', '02/05/2023')50('sillon3', '02/05/2023')\n",
      "for_apres_deb('sillon4', '02/05/2023')51('sillon3', '02/05/2023')\n",
      "for_apres_deb('sillon4', '02/05/2023')52('sillon3', '02/05/2023')\n",
      "for_apres_deb('sillon4', '02/05/2023')53('sillon3', '02/05/2023')\n",
      "for_apres_deb('sillon4', '02/05/2023')54('sillon3', '02/05/2023')\n",
      "for_apres_deb('sillon4', '02/05/2023')55('sillon3', '02/05/2023')\n",
      "for_apres_deb('sillon4', '02/05/2023')56('sillon3', '02/05/2023')\n",
      "for_apres_deb('sillon4', '02/05/2023')57('sillon2', '02/05/2023')\n",
      "for_apres_deb('sillon4', '02/05/2023')58('sillon3', '02/05/2023')\n",
      "for_apres_deb('sillon4', '02/05/2023')59('sillon3', '02/05/2023')\n",
      "for_apres_deb('sillon4', '02/05/2023')60('sillon3', '02/05/2023')\n",
      "for_apres_deb('sillon4', '02/05/2023')61('sillon3', '02/05/2023')\n",
      "for_apres_deb('sillon4', '02/05/2023')62('sillon3', '02/05/2023')\n",
      "for_apres_deb('sillon4', '02/05/2023')63('sillon3', '02/05/2023')\n",
      "for_apres_deb('sillon4', '02/05/2023')64('sillon2', '02/05/2023')\n",
      "for_apres_deb('sillon4', '02/05/2023')65('sillon2', '02/05/2023')\n",
      "for_apres_deb('sillon4', '02/05/2023')66('sillon3', '02/05/2023')\n",
      "for_apres_deb('sillon4', '02/05/2023')67('sillon2', '02/05/2023')\n",
      "for_apres_deb('sillon4', '02/05/2023')68('sillon2', '02/05/2023')\n",
      "for_apres_deb('sillon4', '02/05/2023')69('sillon3', '02/05/2023')\n",
      "for_apres_deb('sillon4', '02/05/2023')70('sillon3', '02/05/2023')\n",
      "for_apres_deb('sillon4', '02/05/2023')71('sillon3', '02/05/2023')\n",
      "for_apres_deb('sillon4', '02/05/2023')72('sillon3', '02/05/2023')\n",
      "for_apres_deb('sillon4', '02/05/2023')73('sillon2', '02/05/2023')\n",
      "for_apres_deb('sillon4', '02/05/2023')74('sillon3', '02/05/2023')\n",
      "for_apres_deb('sillon4', '02/05/2023')75('sillon3', '02/05/2023')\n",
      "for_apres_deb('sillon4', '02/05/2023')76('sillon2', '02/05/2023')\n",
      "for_apres_deb('sillon4', '02/05/2023')78('sillon3', '02/05/2023')\n",
      "for_apres_deb('sillon4', '02/05/2023')79('sillon3', '02/05/2023')\n",
      "for_apres_deb('sillon4', '02/05/2023')80('sillon2', '02/05/2023')\n",
      "for_apres_deb('sillon4', '02/05/2023')81('sillon3', '02/05/2023')\n",
      "for_apres_deb('sillon4', '02/05/2023')82('sillon2', '02/05/2023')\n",
      "for_apres_deb('sillon4', '02/05/2023')83('sillon2', '02/05/2023')\n",
      "for_apres_deb('sillon4', '02/05/2023')84('sillon2', '02/05/2023')\n",
      "for_apres_deb('sillon4', '02/05/2023')85('sillon3', '02/05/2023')\n",
      "for_apres_deb('sillon4', '02/05/2023')86('sillon3', '02/05/2023')\n",
      "for_apres_deb('sillon4', '02/05/2023')87('sillon3', '02/05/2023')\n",
      "for_apres_deb('sillon4', '02/05/2023')88('sillon3', '02/05/2023')\n",
      "for_apres_deb('sillon4', '02/05/2023')89('sillon3', '02/05/2023')\n",
      "for_apres_deb('sillon4', '02/05/2023')90('sillon3', '02/05/2023')\n",
      "for_apres_deb('sillon4', '02/05/2023')91('sillon2', '02/05/2023')\n",
      "for_apres_deb('sillon4', '02/05/2023')93('sillon3', '02/05/2023')\n",
      "for_apres_deb('sillon4', '02/05/2023')94('sillon2', '02/05/2023')\n",
      "for_apres_deb('sillon4', '02/05/2023')95('sillon2', '02/05/2023')\n",
      "for_apres_deb('sillon4', '02/05/2023')96('sillon2', '02/05/2023')\n",
      "for_apres_deb('sillon4', '02/05/2023')97('sillon3', '02/05/2023')\n",
      "for_apres_deb('sillon4', '02/05/2023')98('sillon3', '02/05/2023')\n",
      "for_apres_deb('sillon4', '02/05/2023')99('sillon3', '02/05/2023')\n",
      "for_apres_deb('sillon4', '02/05/2023')100('sillon2', '02/05/2023')\n",
      "for_apres_deb('sillon4', '02/05/2023')101('sillon2', '02/05/2023')\n",
      "for_apres_deb('sillon4', '02/05/2023')102('sillon3', '02/05/2023')\n",
      "for_apres_deb('sillon4', '02/05/2023')103('sillon2', '02/05/2023')\n",
      "for_apres_deb('sillon4', '02/05/2023')104('sillon3', '02/05/2023')\n",
      "for_apres_deb('sillon4', '02/05/2023')105('sillon3', '02/05/2023')\n",
      "for_apres_deb('sillon4', '02/05/2023')106('sillon3', '02/05/2023')\n",
      "for_apres_deb('sillon4', '02/05/2023')107('sillon2', '02/05/2023')\n",
      "for_apres_deb('sillon4', '02/05/2023')108('sillon3', '02/05/2023')\n",
      "for_apres_deb('sillon4', '02/05/2023')109('sillon2', '02/05/2023')\n",
      "for_apres_deb('sillon4', '02/05/2023')110('sillon3', '02/05/2023')\n",
      "for_apres_deb('sillon4', '02/05/2023')111('sillon2', '02/05/2023')\n",
      "for_apres_deb('sillon4', '02/05/2023')112('sillon3', '02/05/2023')\n",
      "for_apres_deb('sillon4', '02/05/2023')113('sillon3', '02/05/2023')\n",
      "for_apres_deb('sillon4', '02/05/2023')114('sillon2', '02/05/2023')\n",
      "for_apres_deb('sillon4', '02/05/2023')115('sillon3', '02/05/2023')\n",
      "for_apres_deb('sillon4', '02/05/2023')116('sillon3', '02/05/2023')\n",
      "for_apres_deb('sillon4', '02/05/2023')117('sillon2', '02/05/2023')\n",
      "for_apres_deb('sillon4', '02/05/2023')118('sillon2', '02/05/2023')\n",
      "for_apres_deb('sillon4', '02/05/2023')119('sillon2', '02/05/2023')\n",
      "for_apres_deb('sillon4', '02/05/2023')120('sillon3', '02/05/2023')\n",
      "for_apres_deb('sillon4', '02/05/2023')121('sillon2', '02/05/2023')\n",
      "for_apres_deb('sillon4', '02/05/2023')122('sillon2', '02/05/2023')\n",
      "for_apres_deb('sillon4', '02/05/2023')123('sillon2', '02/05/2023')\n",
      "for_apres_deb('sillon4', '02/05/2023')124('sillon3', '02/05/2023')\n",
      "for_apres_deb('sillon4', '02/05/2023')125('sillon2', '02/05/2023')\n",
      "for_apres_deb('sillon4', '02/05/2023')126('sillon2', '02/05/2023')\n",
      "for_apres_deb('sillon4', '02/05/2023')127('sillon2', '02/05/2023')\n",
      "for_apres_deb('sillon4', '02/05/2023')128('sillon2', '02/05/2023')\n",
      "for_apres_deb('sillon4', '02/05/2023')129('sillon3', '02/05/2023')\n",
      "for_apres_deb('sillon4', '02/05/2023')130('sillon2', '02/05/2023')\n",
      "for_apres_deb('sillon4', '02/05/2023')131('sillon2', '02/05/2023')\n",
      "for_apres_deb('sillon4', '02/05/2023')132('sillon2', '02/05/2023')\n",
      "for_apres_deb('sillon4', '02/05/2023')133('sillon3', '02/05/2023')\n",
      "for_apres_deb('sillon4', '02/05/2023')134('sillon2', '02/05/2023')\n",
      "for_apres_deb('sillon4', '02/05/2023')135('sillon2', '02/05/2023')\n",
      "for_apres_deb('sillon4', '02/05/2023')136('sillon3', '02/05/2023')\n",
      "for_apres_deb('sillon4', '02/05/2023')137('sillon3', '02/05/2023')\n",
      "for_apres_deb('sillon4', '02/05/2023')138('sillon2', '02/05/2023')\n",
      "for_apres_deb('sillon4', '02/05/2023')139('sillon2', '02/05/2023')\n",
      "for_apres_deb('sillon4', '02/05/2023')140('sillon2', '02/05/2023')\n",
      "for_apres_deb('sillon4', '02/05/2023')141('sillon2', '02/05/2023')\n",
      "for_apres_deb('sillon4', '02/05/2023')142('sillon2', '02/05/2023')\n",
      "for_apres_deb('sillon4', '02/05/2023')143('sillon2', '02/05/2023')\n",
      "for_apres_deb('sillon4', '02/05/2023')144('sillon3', '02/05/2023')\n",
      "for_apres_deb('sillon4', '02/05/2023')145('sillon3', '02/05/2023')\n",
      "for_apres_deb('sillon4', '02/05/2023')146('sillon2', '02/05/2023')\n",
      "for_apres_deb('sillon4', '02/05/2023')147('sillon2', '02/05/2023')\n",
      "for_apres_deb('sillon4', '02/05/2023')148('sillon2', '02/05/2023')\n",
      "for_apres_deb('sillon4', '02/05/2023')149('sillon2', '02/05/2023')\n",
      "for_apres_deb('sillon4', '02/05/2023')150('sillon2', '02/05/2023')\n",
      "for_apres_deb('sillon4', '02/05/2023')151('sillon3', '02/05/2023')\n",
      "for_apres_deb('sillon4', '02/05/2023')152('sillon2', '02/05/2023')\n",
      "for_apres_deb('sillon4', '02/05/2023')153('sillon2', '02/05/2023')\n",
      "for_apres_deb('sillon4', '02/05/2023')154('sillon2', '02/05/2023')\n",
      "for_apres_deb('sillon4', '02/05/2023')155('sillon3', '02/05/2023')\n",
      "for_apres_deb('sillon4', '02/05/2023')156('sillon3', '02/05/2023')\n",
      "for_apres_deb('sillon4', '02/05/2023')157('sillon3', '02/05/2023')\n",
      "for_apres_deb('sillon4', '02/05/2023')158('sillon3', '02/05/2023')\n",
      "for_apres_deb('sillon4', '02/05/2023')159('sillon3', '02/05/2023')\n",
      "for_apres_deb('sillon4', '02/05/2023')160('sillon3', '02/05/2023')\n",
      "for_apres_deb('sillon4', '02/05/2023')161('sillon3', '02/05/2023')\n",
      "for_apres_deb('sillon4', '02/05/2023')162('sillon3', '02/05/2023')\n",
      "for_apres_deb('sillon4', '02/05/2023')163('sillon3', '02/05/2023')\n",
      "for_apres_deb('sillon4', '02/05/2023')164('sillon3', '02/05/2023')\n",
      "for_apres_deb('sillon4', '02/05/2023')165('sillon3', '02/05/2023')\n",
      "for_apres_deb('sillon4', '02/05/2023')166('sillon3', '02/05/2023')\n",
      "deg_apres_for('sillon4', '02/05/2023'),1\n",
      "deg_apres_for('sillon4', '02/05/2023'),2\n",
      "deg_apres_for('sillon4', '02/05/2023'),3\n",
      "deg_apres_for('sillon4', '02/05/2023'),4\n",
      "deg_apres_for('sillon4', '02/05/2023'),5\n",
      "deg_apres_for('sillon4', '02/05/2023'),6\n",
      "deg_apres_for('sillon4', '02/05/2023'),7\n",
      "deg_apres_for('sillon4', '02/05/2023'),8\n",
      "deg_apres_for('sillon4', '02/05/2023'),14\n",
      "deg_apres_for('sillon4', '02/05/2023'),15\n",
      "deg_apres_for('sillon4', '02/05/2023'),17\n",
      "deg_apres_for('sillon4', '02/05/2023'),20\n",
      "deg_apres_for('sillon4', '02/05/2023'),23\n",
      "deg_apres_for('sillon4', '02/05/2023'),24\n",
      "deg_apres_for('sillon4', '02/05/2023'),43\n",
      "deg_apres_for('sillon4', '02/05/2023'),77\n",
      "deg_apres_for('sillon4', '02/05/2023'),92\n",
      "deg_apres_for('sillon4', '02/05/2023'),167\n",
      "deg_apres_for('sillon4', '02/05/2023'),168\n",
      "deg_apres_for('sillon4', '02/05/2023'),169\n",
      "deg_apres_for('sillon4', '02/05/2023'),170\n",
      "deg_apres_for('sillon4', '02/05/2023'),171\n",
      "deg_apres_for('sillon4', '02/05/2023'),172\n",
      "deg_apres_for('sillon4', '02/05/2023'),173\n",
      "deg_apres_for('sillon4', '02/05/2023'),174\n",
      "deg_apres_for('sillon4', '02/05/2023'),175\n",
      "deg_apres_for('sillon4', '02/05/2023'),176\n",
      "deg_apres_for('sillon4', '02/05/2023'),177\n",
      "deg_apres_for('sillon4', '02/05/2023'),178\n",
      "depart_apres_deg('sillon4', '02/05/2023')\n",
      "tache_realisee_1_agent_for_('sillon4', '02/05/2023')_appui voie + mise en place câle\n",
      "appui_for_('sillon4', '02/05/2023')\n",
      "appui_for_('sillon4', '02/05/2023')\n",
      "appui_for_('sillon4', '02/05/2023')\n",
      "appui_for_('sillon4', '02/05/2023')\n",
      "appui_for_('sillon4', '02/05/2023')\n",
      "appui_for_('sillon4', '02/05/2023')\n",
      "appui_for_('sillon4', '02/05/2023')\n",
      "appui_for_('sillon4', '02/05/2023')\n",
      "appui_for_('sillon4', '02/05/2023')\n",
      "appui_for_('sillon4', '02/05/2023')\n",
      "appui_for_('sillon4', '02/05/2023')\n",
      "appui_for_('sillon4', '02/05/2023')\n",
      "appui_for_('sillon4', '02/05/2023')\n",
      "appui_for_('sillon4', '02/05/2023')\n",
      "appui_for_('sillon4', '02/05/2023')\n",
      "appui_for_('sillon4', '02/05/2023')\n",
      "appui_for_('sillon4', '02/05/2023')\n",
      "appui_for_('sillon4', '02/05/2023')\n",
      "appui_for_('sillon4', '02/05/2023')\n",
      "appui_for_('sillon4', '02/05/2023')\n",
      "appui_for_('sillon4', '02/05/2023')\n",
      "appui_for_('sillon4', '02/05/2023')\n",
      "appui_for_('sillon4', '02/05/2023')\n",
      "appui_for_('sillon4', '02/05/2023')\n",
      "appui_for_('sillon4', '02/05/2023')\n",
      "appui_for_('sillon4', '02/05/2023')\n",
      "appui_for_('sillon4', '02/05/2023')\n",
      "appui_for_('sillon4', '02/05/2023')\n",
      "appui_for_('sillon4', '02/05/2023')\n",
      "appui_for_('sillon4', '02/05/2023')\n",
      "appui_for_('sillon4', '02/05/2023')\n",
      "appui_for_('sillon4', '02/05/2023')\n",
      "appui_for_('sillon4', '02/05/2023')\n",
      "appui_for_('sillon4', '02/05/2023')\n",
      "appui_for_('sillon4', '02/05/2023')\n",
      "appui_for_('sillon4', '02/05/2023')\n",
      "appui_for_('sillon4', '02/05/2023')\n",
      "appui_for_('sillon4', '02/05/2023')\n",
      "appui_for_('sillon4', '02/05/2023')\n",
      "bouger_deg_('sillon4', '02/05/2023')\n",
      "bouger_deg_('sillon4', '02/05/2023')\n",
      "bouger_deg_('sillon4', '02/05/2023')\n",
      "bouger_deg_('sillon4', '02/05/2023')\n",
      "bouger_deg_('sillon4', '02/05/2023')\n",
      "bouger_deg_('sillon4', '02/05/2023')\n",
      "bouger_deg_('sillon4', '02/05/2023')\n",
      "bouger_deg_('sillon4', '02/05/2023')\n",
      "bouger_deg_('sillon4', '02/05/2023')\n",
      "bouger_deg_('sillon4', '02/05/2023')\n",
      "bouger_deg_('sillon4', '02/05/2023')\n",
      "bouger_deg_('sillon4', '02/05/2023')\n",
      "bouger_deg_('sillon4', '02/05/2023')\n",
      "bouger_deg_('sillon4', '02/05/2023')\n",
      "bouger_deg_('sillon4', '02/05/2023')\n",
      "bouger_deg_('sillon4', '02/05/2023')\n",
      "bouger_deg_('sillon4', '02/05/2023')\n",
      "bouger_deg_('sillon4', '02/05/2023')\n",
      "bouger_deg_('sillon4', '02/05/2023')\n",
      "bouger_deg_('sillon4', '02/05/2023')\n",
      "bouger_deg_('sillon4', '02/05/2023')\n",
      "bouger_deg_('sillon4', '02/05/2023')\n",
      "bouger_deg_('sillon4', '02/05/2023')\n",
      "bouger_deg_('sillon4', '02/05/2023')\n",
      "bouger_deg_('sillon4', '02/05/2023')\n",
      "bouger_deg_('sillon4', '02/05/2023')\n",
      "bouger_deg_('sillon4', '02/05/2023')\n",
      "bouger_deg_('sillon4', '02/05/2023')\n",
      "bouger_deg_('sillon4', '02/05/2023')\n",
      "bouger_deg_('sillon4', '02/05/2023')\n",
      "bouger_deg_('sillon4', '02/05/2023')\n",
      "bouger_deg_('sillon4', '02/05/2023')\n",
      "bouger_deg_('sillon4', '02/05/2023')\n",
      "bouger_deg_('sillon4', '02/05/2023')\n",
      "bouger_deg_('sillon4', '02/05/2023')\n",
      "bouger_deg_('sillon4', '02/05/2023')\n",
      "bouger_deg_('sillon4', '02/05/2023')\n",
      "bouger_deg_('sillon4', '02/05/2023')\n",
      "bouger_deg_('sillon4', '02/05/2023')\n",
      "bouger_deg_('sillon4', '02/05/2023')\n",
      "bouger_deg_('sillon4', '02/05/2023')\n",
      "bouger_deg_('sillon4', '02/05/2023')\n",
      "bouger_deg_('sillon4', '02/05/2023')\n",
      "bouger_deg_('sillon4', '02/05/2023')\n",
      "bouger_deg_('sillon4', '02/05/2023')\n",
      "bouger_deg_('sillon4', '02/05/2023')\n",
      "bouger_deg_('sillon4', '02/05/2023')\n",
      "bouger_deg_('sillon4', '02/05/2023')\n",
      "bouger_deg_('sillon4', '02/05/2023')\n",
      "bouger_deg_('sillon4', '02/05/2023')\n",
      "bouger_deg_('sillon4', '02/05/2023')\n",
      "bouger_deg_('sillon4', '02/05/2023')\n",
      "bouger_deg_('sillon4', '02/05/2023')\n",
      "bouger_deg_('sillon4', '02/05/2023')\n",
      "bouger_deg_('sillon4', '02/05/2023')\n",
      "bouger_deg_('sillon4', '02/05/2023')\n",
      "bouger_deg_('sillon4', '02/05/2023')\n",
      "bouger_deg_('sillon4', '02/05/2023')\n",
      "bouger_deg_('sillon4', '02/05/2023')\n",
      "bouger_deg_('sillon4', '02/05/2023')\n",
      "bouger_deg_('sillon4', '02/05/2023')\n",
      "bouger_deg_('sillon4', '02/05/2023')\n",
      "bouger_deg_('sillon4', '02/05/2023')\n",
      "bouger_deg_('sillon4', '02/05/2023')\n",
      "bouger_deg_('sillon4', '02/05/2023')\n",
      "bouger_deg_('sillon4', '02/05/2023')\n",
      "bouger_deg_('sillon4', '02/05/2023')\n",
      "bouger_deg_('sillon4', '02/05/2023')\n",
      "bouger_deg_('sillon4', '02/05/2023')\n",
      "bouger_deg_('sillon4', '02/05/2023')\n",
      "bouger_deg_('sillon4', '02/05/2023')\n",
      "bouger_deg_('sillon4', '02/05/2023')\n",
      "bouger_deg_('sillon4', '02/05/2023')\n",
      "bouger_deg_('sillon4', '02/05/2023')\n",
      "bouger_deg_('sillon4', '02/05/2023')\n",
      "bouger_deg_('sillon4', '02/05/2023')\n",
      "bouger_deg_('sillon4', '02/05/2023')\n",
      "bouger_deg_('sillon4', '02/05/2023')\n",
      "bouger_deg_('sillon4', '02/05/2023')\n",
      "bouger_deg_('sillon4', '02/05/2023')\n",
      "bouger_deg_('sillon4', '02/05/2023')\n",
      "bouger_deg_('sillon4', '02/05/2023')\n",
      "bouger_deg_('sillon4', '02/05/2023')\n",
      "bouger_deg_('sillon4', '02/05/2023')\n",
      "bouger_deg_('sillon4', '02/05/2023')\n",
      "bouger_deg_('sillon4', '02/05/2023')\n",
      "bouger_deg_('sillon4', '02/05/2023')\n",
      "bouger_deg_('sillon4', '02/05/2023')\n",
      "bouger_deg_('sillon4', '02/05/2023')\n",
      "bouger_deg_('sillon4', '02/05/2023')\n",
      "bouger_deg_('sillon4', '02/05/2023')\n",
      "bouger_deg_('sillon4', '02/05/2023')\n",
      "bouger_deg_('sillon4', '02/05/2023')\n",
      "bouger_deg_('sillon4', '02/05/2023')\n",
      "bouger_deg_('sillon4', '02/05/2023')\n",
      "bouger_deg_('sillon4', '02/05/2023')\n",
      "bouger_deg_('sillon4', '02/05/2023')\n",
      "bouger_deg_('sillon4', '02/05/2023')\n",
      "bouger_deg_('sillon4', '02/05/2023')\n",
      "bouger_deg_('sillon4', '02/05/2023')\n",
      "bouger_deg_('sillon4', '02/05/2023')\n",
      "bouger_deg_('sillon4', '02/05/2023')\n",
      "bouger_deg_('sillon4', '02/05/2023')\n",
      "bouger_deg_('sillon4', '02/05/2023')\n",
      "bouger_deg_('sillon4', '02/05/2023')\n",
      "bouger_deg_('sillon4', '02/05/2023')\n",
      "bouger_deg_('sillon4', '02/05/2023')\n",
      "bouger_deg_('sillon4', '02/05/2023')\n",
      "bouger_deg_('sillon4', '02/05/2023')\n",
      "bouger_deg_('sillon4', '02/05/2023')\n",
      "bouger_deg_('sillon4', '02/05/2023')\n",
      "bouger_deg_('sillon4', '02/05/2023')\n",
      "bouger_deg_('sillon4', '02/05/2023')\n",
      "bouger_deg_('sillon4', '02/05/2023')\n",
      "bouger_deg_('sillon4', '02/05/2023')\n",
      "bouger_deg_('sillon4', '02/05/2023')\n",
      "bouger_deg_('sillon4', '02/05/2023')\n",
      "bouger_deg_('sillon4', '02/05/2023')\n",
      "bouger_deg_('sillon4', '02/05/2023')\n",
      "bouger_deg_('sillon4', '02/05/2023')\n",
      "bouger_deg_('sillon4', '02/05/2023')\n",
      "bouger_deg_('sillon4', '02/05/2023')\n",
      "bouger_deg_('sillon4', '02/05/2023')\n",
      "bouger_deg_('sillon4', '02/05/2023')\n",
      "bouger_deg_('sillon4', '02/05/2023')\n",
      "bouger_deg_('sillon4', '02/05/2023')\n",
      "bouger_deg_('sillon4', '02/05/2023')\n",
      "bouger_deg_('sillon4', '02/05/2023')\n",
      "bouger_deg_('sillon4', '02/05/2023')\n",
      "bouger_deg_('sillon4', '02/05/2023')\n",
      "bouger_deg_('sillon4', '02/05/2023')\n",
      "bouger_deg_('sillon4', '02/05/2023')\n",
      "bouger_deg_('sillon4', '02/05/2023')\n",
      "bouger_deg_('sillon4', '02/05/2023')\n",
      "bouger_deg_('sillon4', '02/05/2023')\n",
      "bouger_deg_('sillon4', '02/05/2023')\n",
      "bouger_deg_('sillon4', '02/05/2023')\n",
      "bouger_deg_('sillon4', '02/05/2023')\n",
      "bouger_deg_('sillon4', '02/05/2023')\n",
      "bouger_deg_('sillon4', '02/05/2023')\n",
      "bouger_deg_('sillon4', '02/05/2023')\n",
      "bouger_deg_('sillon4', '02/05/2023')\n",
      "bouger_deg_('sillon4', '02/05/2023')\n",
      "bouger_deg_('sillon4', '02/05/2023')\n",
      "bouger_deg_('sillon4', '02/05/2023')\n",
      "bouger_deg_('sillon4', '02/05/2023')\n",
      "bouger_deg_('sillon4', '02/05/2023')\n",
      "bouger_deg_('sillon4', '02/05/2023')\n",
      "bouger_deg_('sillon4', '02/05/2023')\n",
      "bouger_deg_('sillon4', '02/05/2023')\n",
      "bouger_deg_('sillon4', '02/05/2023')\n",
      "bouger_deg_('sillon4', '02/05/2023')\n",
      "bouger_deg_('sillon4', '02/05/2023')\n",
      "bouger_deg_('sillon4', '02/05/2023')\n",
      "bouger_deg_('sillon4', '02/05/2023')\n",
      "bouger_deg_('sillon4', '02/05/2023')\n",
      "bouger_deg_('sillon4', '02/05/2023')\n",
      "bouger_deg_('sillon4', '02/05/2023')\n",
      "bouger_deg_('sillon4', '02/05/2023')\n",
      "bouger_deg_('sillon4', '02/05/2023')\n",
      "bouger_deg_('sillon4', '02/05/2023')\n",
      "bouger_deg_('sillon4', '02/05/2023')\n",
      "bouger_deg_('sillon4', '02/05/2023')\n",
      "bouger_deg_('sillon4', '02/05/2023')\n"
     ]
    }
   ],
   "source": [
    "m.optimize()\n",
    "if m.status == GRB.INF_OR_UNBD:\n",
    "    m.setParam(GRB.Param.Presolve, 0)\n",
    "    m.optimize()\n",
    "\n",
    "if m.status == GRB.INFEASIBLE:\n",
    "    print(\"\\n\\tN'A PAS DE SOLUTION!!!\")\n",
    "    m.computeIIS()\n",
    "    for c in m.getConstrs():\n",
    "        if c.IISConstr:\n",
    "            print(c.ConstrName)\n",
    "elif m.status == GRB.UNBOUNDED:\n",
    "    print(\"\\n\\tEST NON BORNÉ!!!\")"
   ]
  },
  {
   "cell_type": "code",
   "execution_count": 481,
   "metadata": {},
   "outputs": [
    {
     "name": "stdout",
     "output_type": "stream",
     "text": [
      "Aucune solution optimale trouvée\n"
     ]
    }
   ],
   "source": [
    "try:\n",
    "    m.optimize()\n",
    "except GRB.GurobiError as e:\n",
    "    if e.errno == 10009:  # Gurobi out of memory error\n",
    "        print(\"Out of memory error occurred. Retrieving the last solution found.\")\n",
    "    else:\n",
    "        raise e\n",
    "\n",
    "# Accéder à la dernière solution trouvée\n",
    "if m.Status == GRB.Status.OPTIMAL or m.Status == GRB.Status.SUBOPTIMAL:\n",
    "    for v in m.getVars():\n",
    "        print('%s %g' % (v.VarName, v.X))\n",
    "    print('Objective: %g' % m.ObjVal)\n",
    "else:\n",
    "    print('Aucune solution optimale trouvée')\n"
   ]
  },
  {
   "cell_type": "code",
   "execution_count": 482,
   "metadata": {},
   "outputs": [
    {
     "ename": "AttributeError",
     "evalue": "Unable to retrieve attribute 'x'",
     "output_type": "error",
     "traceback": [
      "\u001b[1;31m---------------------------------------------------------------------------\u001b[0m",
      "\u001b[1;31mAttributeError\u001b[0m                            Traceback (most recent call last)",
      "Cell \u001b[1;32mIn[482], line 9\u001b[0m\n\u001b[0;32m      4\u001b[0m nb_voie_occ\u001b[38;5;241m=\u001b[39m{\u001b[38;5;124m\"\u001b[39m\u001b[38;5;124mWPY_REC\u001b[39m\u001b[38;5;124m\"\u001b[39m: [],\n\u001b[0;32m      5\u001b[0m              \u001b[38;5;124m\"\u001b[39m\u001b[38;5;124mWPY_FOR\u001b[39m\u001b[38;5;124m\"\u001b[39m: [],\n\u001b[0;32m      6\u001b[0m              \u001b[38;5;124m\"\u001b[39m\u001b[38;5;124mWPY_DEP\u001b[39m\u001b[38;5;124m\"\u001b[39m: []}\n\u001b[0;32m      7\u001b[0m \u001b[38;5;28;01mfor\u001b[39;00m c \u001b[38;5;129;01min\u001b[39;00m \u001b[38;5;28mrange\u001b[39m(\u001b[38;5;241m1\u001b[39m,\u001b[38;5;241m1\u001b[39m\u001b[38;5;241m+\u001b[39mnombre_creneaux):\n\u001b[0;32m      8\u001b[0m     \u001b[38;5;66;03m# Occupation des voies\u001b[39;00m\n\u001b[1;32m----> 9\u001b[0m     nb_voie_occ[\u001b[38;5;124m\"\u001b[39m\u001b[38;5;124mWPY_REC\u001b[39m\u001b[38;5;124m\"\u001b[39m]\u001b[38;5;241m.\u001b[39mappend(\u001b[38;5;28msum\u001b[39m(\u001b[43m[\u001b[49m\u001b[43morec\u001b[49m\u001b[43m[\u001b[49m\u001b[43m(\u001b[49m\u001b[43mt\u001b[49m\u001b[43m,\u001b[49m\u001b[43mc\u001b[49m\u001b[43m)\u001b[49m\u001b[43m]\u001b[49m\u001b[38;5;241;43m.\u001b[39;49m\u001b[43mx\u001b[49m\u001b[43m \u001b[49m\u001b[38;5;28;43;01mfor\u001b[39;49;00m\u001b[43m \u001b[49m\u001b[43mt\u001b[49m\u001b[43m \u001b[49m\u001b[38;5;129;43;01min\u001b[39;49;00m\u001b[43m \u001b[49m\u001b[43mtrains_arrivee\u001b[49m\u001b[43m]\u001b[49m))\n\u001b[0;32m     10\u001b[0m     nb_voie_occ[\u001b[38;5;124m\"\u001b[39m\u001b[38;5;124mWPY_FOR\u001b[39m\u001b[38;5;124m\"\u001b[39m]\u001b[38;5;241m.\u001b[39mappend(\u001b[38;5;28msum\u001b[39m([oform[(t,c)]\u001b[38;5;241m.\u001b[39mx \u001b[38;5;28;01mfor\u001b[39;00m t \u001b[38;5;129;01min\u001b[39;00m trains_depart]))\n\u001b[0;32m     11\u001b[0m     nb_voie_occ[\u001b[38;5;124m\"\u001b[39m\u001b[38;5;124mWPY_DEP\u001b[39m\u001b[38;5;124m\"\u001b[39m]\u001b[38;5;241m.\u001b[39mappend(\u001b[38;5;28msum\u001b[39m([odep[(t,c)]\u001b[38;5;241m.\u001b[39mx \u001b[38;5;28;01mfor\u001b[39;00m t \u001b[38;5;129;01min\u001b[39;00m trains_depart]))\n",
      "Cell \u001b[1;32mIn[482], line 9\u001b[0m, in \u001b[0;36m<listcomp>\u001b[1;34m(.0)\u001b[0m\n\u001b[0;32m      4\u001b[0m nb_voie_occ\u001b[38;5;241m=\u001b[39m{\u001b[38;5;124m\"\u001b[39m\u001b[38;5;124mWPY_REC\u001b[39m\u001b[38;5;124m\"\u001b[39m: [],\n\u001b[0;32m      5\u001b[0m              \u001b[38;5;124m\"\u001b[39m\u001b[38;5;124mWPY_FOR\u001b[39m\u001b[38;5;124m\"\u001b[39m: [],\n\u001b[0;32m      6\u001b[0m              \u001b[38;5;124m\"\u001b[39m\u001b[38;5;124mWPY_DEP\u001b[39m\u001b[38;5;124m\"\u001b[39m: []}\n\u001b[0;32m      7\u001b[0m \u001b[38;5;28;01mfor\u001b[39;00m c \u001b[38;5;129;01min\u001b[39;00m \u001b[38;5;28mrange\u001b[39m(\u001b[38;5;241m1\u001b[39m,\u001b[38;5;241m1\u001b[39m\u001b[38;5;241m+\u001b[39mnombre_creneaux):\n\u001b[0;32m      8\u001b[0m     \u001b[38;5;66;03m# Occupation des voies\u001b[39;00m\n\u001b[1;32m----> 9\u001b[0m     nb_voie_occ[\u001b[38;5;124m\"\u001b[39m\u001b[38;5;124mWPY_REC\u001b[39m\u001b[38;5;124m\"\u001b[39m]\u001b[38;5;241m.\u001b[39mappend(\u001b[38;5;28msum\u001b[39m([\u001b[43morec\u001b[49m\u001b[43m[\u001b[49m\u001b[43m(\u001b[49m\u001b[43mt\u001b[49m\u001b[43m,\u001b[49m\u001b[43mc\u001b[49m\u001b[43m)\u001b[49m\u001b[43m]\u001b[49m\u001b[38;5;241;43m.\u001b[39;49m\u001b[43mx\u001b[49m \u001b[38;5;28;01mfor\u001b[39;00m t \u001b[38;5;129;01min\u001b[39;00m trains_arrivee]))\n\u001b[0;32m     10\u001b[0m     nb_voie_occ[\u001b[38;5;124m\"\u001b[39m\u001b[38;5;124mWPY_FOR\u001b[39m\u001b[38;5;124m\"\u001b[39m]\u001b[38;5;241m.\u001b[39mappend(\u001b[38;5;28msum\u001b[39m([oform[(t,c)]\u001b[38;5;241m.\u001b[39mx \u001b[38;5;28;01mfor\u001b[39;00m t \u001b[38;5;129;01min\u001b[39;00m trains_depart]))\n\u001b[0;32m     11\u001b[0m     nb_voie_occ[\u001b[38;5;124m\"\u001b[39m\u001b[38;5;124mWPY_DEP\u001b[39m\u001b[38;5;124m\"\u001b[39m]\u001b[38;5;241m.\u001b[39mappend(\u001b[38;5;28msum\u001b[39m([odep[(t,c)]\u001b[38;5;241m.\u001b[39mx \u001b[38;5;28;01mfor\u001b[39;00m t \u001b[38;5;129;01min\u001b[39;00m trains_depart]))\n",
      "File \u001b[1;32msrc\\\\gurobipy\\\\var.pxi:125\u001b[0m, in \u001b[0;36mgurobipy.Var.__getattr__\u001b[1;34m()\u001b[0m\n",
      "File \u001b[1;32msrc\\\\gurobipy\\\\var.pxi:153\u001b[0m, in \u001b[0;36mgurobipy.Var.getAttr\u001b[1;34m()\u001b[0m\n",
      "File \u001b[1;32msrc\\\\gurobipy\\\\attrutil.pxi:103\u001b[0m, in \u001b[0;36mgurobipy._getattr\u001b[1;34m()\u001b[0m\n",
      "\u001b[1;31mAttributeError\u001b[0m: Unable to retrieve attribute 'x'"
     ]
    }
   ],
   "source": [
    "outputxlsx = \"output.xlsx\"\n",
    "output = {'Id tâche': [], 'Type de tâche' : [], 'Jour' : [], 'Arr/Dep' : [],'Heure début' : [], 'Durée' : [], 'Sillon' : [],\n",
    "          'Occupation des voies par chantier (optim)': [], 'WPY_REC' : [], 'WPY_FOR' : [], 'WPY_DEP' : []}\n",
    "nb_voie_occ={\"WPY_REC\": [],\n",
    "             \"WPY_FOR\": [],\n",
    "             \"WPY_DEP\": []}\n",
    "for c in range(1,1+nombre_creneaux):\n",
    "    # Occupation des voies\n",
    "    nb_voie_occ[\"WPY_REC\"].append(sum([orec[(t,c)].x for t in trains_arrivee]))\n",
    "    nb_voie_occ[\"WPY_FOR\"].append(sum([oform[(t,c)].x for t in trains_depart]))\n",
    "    nb_voie_occ[\"WPY_DEP\"].append(sum([odep[(t,c)].x for t in trains_depart]))\n",
    "    \n",
    "    # Tâches machines sur les trains d'arrivee \n",
    "    for train in trains_arrivee:\n",
    "        if deb[(train,c)].x==1:\n",
    "            output['Id tâche'].append(f'DEB_{train[0]}_'+ creneau_to_date(date0, c).strftime('%d/%m/%Y'))\n",
    "            output['Type de tâche'].append('DEB')\n",
    "            output['Jour'].append(creneau_to_date(date0, c).strftime('%d/%m/%Y'))\n",
    "            output['Arr/Dep'].append(creneau_to_date(date0, creneau_arrivee[train]))\n",
    "            output['Heure début'].append(creneau_to_date(date0, c).strftime('%H:%M'))\n",
    "            output['Durée'].append(15)\n",
    "            output['Sillon'].append(train[0])\n",
    "    \n",
    "    # Tâches machines ur les trains du départ\n",
    "    for train in trains_depart:\n",
    "        if form[(train,c)].x==1:\n",
    "            output['Id tâche'].append(f'FOR_{train[0]}_'+ creneau_to_date(date0, c).strftime('%d/%m/%Y'))\n",
    "            output['Type de tâche'].append('FOR')\n",
    "            output['Jour'].append(creneau_to_date(date0, c).strftime('%d/%m/%Y'))\n",
    "            output['Arr/Dep'].append(creneau_to_date(date0, creneau_depart[train]))\n",
    "            output['Heure début'].append(creneau_to_date(date0, c).strftime('%H:%M'))\n",
    "            output['Durée'].append(15)\n",
    "            output['Sillon'].append(train[0])\n",
    "        if deg[(train,c)].x==1:\n",
    "            output['Id tâche'].append(f'DEG_{train[0]}_' + creneau_to_date(date0, c).strftime('%d/%m/%Y'))\n",
    "            output['Type de tâche'].append('DEG')\n",
    "            output['Jour'].append(creneau_to_date(date0, c).strftime('%d/%m/%Y'))\n",
    "            output['Arr/Dep'].append(creneau_to_date(date0, creneau_depart[train]))\n",
    "            output['Heure début'].append(creneau_to_date(date0, c).strftime('%H:%M'))\n",
    "            output['Durée'].append(15)\n",
    "            output['Sillon'].append(train[0])\n",
    "\n",
    "output[\"Occupation des voies par chantier (optim)\"].append(\"Taux max d'occupation des voies (en %)\")\n",
    "output[\"Occupation des voies par chantier (optim)\"].append(\"Nombre max de voies occupées\")\n",
    "output[\"Occupation des voies par chantier (optim)\"].append(\"Nombre total de voies à disposition\")\n",
    "while len(output[\"Occupation des voies par chantier (optim)\"])!=len(output[\"Id tâche\"]):\n",
    "    output[\"Occupation des voies par chantier (optim)\"].append(None)\n",
    "\n",
    "nb_voies={\"WPY_REC\": NVREC,\n",
    "             \"WPY_FOR\": NVFOR,\n",
    "             \"WPY_DEP\": NVDEP}\n",
    "for key in nb_voies:    \n",
    "    output[key].append(100*max(nb_voie_occ[key])/nb_voies[key])\n",
    "    output[key].append(max(nb_voie_occ[key]))\n",
    "    output[key].append(nb_voies[key])\n",
    "    while len(output[key])!=len(output[\"Id tâche\"]):\n",
    "        output[key].append(None)\n",
    "\n",
    "# Piping output into an excel sheet\n",
    "outputdf=pd.DataFrame(output)\n",
    "outputdf.to_excel(outputxlsx, index=False)"
   ]
  },
  {
   "cell_type": "code",
   "execution_count": null,
   "metadata": {},
   "outputs": [],
   "source": [
    "for train in trains_arrivee:\n",
    "    print('-----------------------------------------------------------------')\n",
    "    print('Pour le train d arrivee: ',train)\n",
    "    print('Arrivee a ', creneau_arrivee[train])\n",
    "    creneaux_occup_rec=[]\n",
    "    for c in range(1,nombre_creneaux+1):\n",
    "        if deb[(train,c)].x==1:\n",
    "            print('deb de {} se fait au créneau {}:'.format(train,c))\n",
    "        if orec[(train,c)].x==1:\n",
    "            creneaux_occup_rec.append(c)\n",
    "    print('Il occupe le chantier reception dans les horaires: ',creneaux_occup_rec)\n",
    "    print('Ce train est lié aux trains de départ: ', Dt[train])\n",
    "    print('-------------------------------------------------------')\n",
    "\n",
    "\n",
    "for train in trains_depart:\n",
    "    creneaux_occup_for=[]\n",
    "    creneaux_occup_dep=[]\n",
    "    print('--------------------------------------------')\n",
    "    print('Pour le train de depart : ',train)\n",
    "    for c in range(1,nombre_creneaux+1):\n",
    "        if form[(train,c)].x==1:\n",
    "            print('For de {} se fait au créneau {} :'.format(train,c))\n",
    "        if deg[(train,c)].x==1:\n",
    "            print('deg de {} se fait au créneau {} :'.format(train,c))\n",
    "        if oform[(train,c)].x==1:\n",
    "            creneaux_occup_for.append(c)\n",
    "        if odep[(train,c)].x==1:\n",
    "            creneaux_occup_dep.append(c)\n",
    "    print('Il occupe le chantier formation dans les horaires: ',creneaux_occup_for)\n",
    "    print('Il occupe le chantier dep dans les horaires: ',creneaux_occup_dep)\n",
    "    print('Ce train est lié aux trains d arrivee: ', At[train])\n",
    "\n",
    "    print('Depart a ',creneau_depart[train])\n",
    "    print('-------------------------------------------------------')"
   ]
  }
 ],
 "metadata": {
  "kernelspec": {
   "display_name": "base",
   "language": "python",
   "name": "python3"
  },
  "language_info": {
   "codemirror_mode": {
    "name": "ipython",
    "version": 3
   },
   "file_extension": ".py",
   "mimetype": "text/x-python",
   "name": "python",
   "nbconvert_exporter": "python",
   "pygments_lexer": "ipython3",
   "version": "3.11.7"
  }
 },
 "nbformat": 4,
 "nbformat_minor": 2
}
